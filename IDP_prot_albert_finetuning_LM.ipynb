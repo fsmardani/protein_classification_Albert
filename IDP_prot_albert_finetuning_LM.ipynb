{
  "nbformat": 4,
  "nbformat_minor": 0,
  "metadata": {
    "colab": {
      "name": "IDP_prot_albert_finetuning_LM.ipynb",
      "provenance": [],
      "collapsed_sections": []
    },
    "kernelspec": {
      "name": "python3",
      "display_name": "Python 3"
    },
    "language_info": {
      "name": "python"
    },
    "accelerator": "GPU",
    "widgets": {
      "application/vnd.jupyter.widget-state+json": {
        "58e4a0bc0a864066b31ce43159451102": {
          "model_module": "@jupyter-widgets/controls",
          "model_name": "HBoxModel",
          "model_module_version": "1.5.0",
          "state": {
            "_view_name": "HBoxView",
            "_dom_classes": [],
            "_model_name": "HBoxModel",
            "_view_module": "@jupyter-widgets/controls",
            "_model_module_version": "1.5.0",
            "_view_count": null,
            "_view_module_version": "1.5.0",
            "box_style": "",
            "layout": "IPY_MODEL_4299fa13e15440c2b79581cca9e6e5ed",
            "_model_module": "@jupyter-widgets/controls",
            "children": [
              "IPY_MODEL_eee299f5f2944ca7a931bcec3b30dc5f",
              "IPY_MODEL_0a9a411c213146cfa51a4197a5d9fe54"
            ]
          }
        },
        "4299fa13e15440c2b79581cca9e6e5ed": {
          "model_module": "@jupyter-widgets/base",
          "model_name": "LayoutModel",
          "model_module_version": "1.2.0",
          "state": {
            "_view_name": "LayoutView",
            "grid_template_rows": null,
            "right": null,
            "justify_content": null,
            "_view_module": "@jupyter-widgets/base",
            "overflow": null,
            "_model_module_version": "1.2.0",
            "_view_count": null,
            "flex_flow": null,
            "width": null,
            "min_width": null,
            "border": null,
            "align_items": null,
            "bottom": null,
            "_model_module": "@jupyter-widgets/base",
            "top": null,
            "grid_column": null,
            "overflow_y": null,
            "overflow_x": null,
            "grid_auto_flow": null,
            "grid_area": null,
            "grid_template_columns": null,
            "flex": null,
            "_model_name": "LayoutModel",
            "justify_items": null,
            "grid_row": null,
            "max_height": null,
            "align_content": null,
            "visibility": null,
            "align_self": null,
            "height": null,
            "min_height": null,
            "padding": null,
            "grid_auto_rows": null,
            "grid_gap": null,
            "max_width": null,
            "order": null,
            "_view_module_version": "1.2.0",
            "grid_template_areas": null,
            "object_position": null,
            "object_fit": null,
            "grid_auto_columns": null,
            "margin": null,
            "display": null,
            "left": null
          }
        },
        "eee299f5f2944ca7a931bcec3b30dc5f": {
          "model_module": "@jupyter-widgets/controls",
          "model_name": "FloatProgressModel",
          "model_module_version": "1.5.0",
          "state": {
            "_view_name": "ProgressView",
            "style": "IPY_MODEL_615ecf3180af4c9b903ff1c7003c1f6e",
            "_dom_classes": [],
            "description": "Downloading: 100%",
            "_model_name": "FloatProgressModel",
            "bar_style": "success",
            "max": 86,
            "_view_module": "@jupyter-widgets/controls",
            "_model_module_version": "1.5.0",
            "value": 86,
            "_view_count": null,
            "_view_module_version": "1.5.0",
            "orientation": "horizontal",
            "min": 0,
            "description_tooltip": null,
            "_model_module": "@jupyter-widgets/controls",
            "layout": "IPY_MODEL_3331dd5193184668aed879ec53c0422c"
          }
        },
        "0a9a411c213146cfa51a4197a5d9fe54": {
          "model_module": "@jupyter-widgets/controls",
          "model_name": "HTMLModel",
          "model_module_version": "1.5.0",
          "state": {
            "_view_name": "HTMLView",
            "style": "IPY_MODEL_7f27ac4c0bc940e9ba200b7f2436b92d",
            "_dom_classes": [],
            "description": "",
            "_model_name": "HTMLModel",
            "placeholder": "​",
            "_view_module": "@jupyter-widgets/controls",
            "_model_module_version": "1.5.0",
            "value": " 86.0/86.0 [00:01&lt;00:00, 53.8B/s]",
            "_view_count": null,
            "_view_module_version": "1.5.0",
            "description_tooltip": null,
            "_model_module": "@jupyter-widgets/controls",
            "layout": "IPY_MODEL_c9a2c2caed804ef99724edb5734c1438"
          }
        },
        "615ecf3180af4c9b903ff1c7003c1f6e": {
          "model_module": "@jupyter-widgets/controls",
          "model_name": "ProgressStyleModel",
          "model_module_version": "1.5.0",
          "state": {
            "_view_name": "StyleView",
            "_model_name": "ProgressStyleModel",
            "description_width": "initial",
            "_view_module": "@jupyter-widgets/base",
            "_model_module_version": "1.5.0",
            "_view_count": null,
            "_view_module_version": "1.2.0",
            "bar_color": null,
            "_model_module": "@jupyter-widgets/controls"
          }
        },
        "3331dd5193184668aed879ec53c0422c": {
          "model_module": "@jupyter-widgets/base",
          "model_name": "LayoutModel",
          "model_module_version": "1.2.0",
          "state": {
            "_view_name": "LayoutView",
            "grid_template_rows": null,
            "right": null,
            "justify_content": null,
            "_view_module": "@jupyter-widgets/base",
            "overflow": null,
            "_model_module_version": "1.2.0",
            "_view_count": null,
            "flex_flow": null,
            "width": null,
            "min_width": null,
            "border": null,
            "align_items": null,
            "bottom": null,
            "_model_module": "@jupyter-widgets/base",
            "top": null,
            "grid_column": null,
            "overflow_y": null,
            "overflow_x": null,
            "grid_auto_flow": null,
            "grid_area": null,
            "grid_template_columns": null,
            "flex": null,
            "_model_name": "LayoutModel",
            "justify_items": null,
            "grid_row": null,
            "max_height": null,
            "align_content": null,
            "visibility": null,
            "align_self": null,
            "height": null,
            "min_height": null,
            "padding": null,
            "grid_auto_rows": null,
            "grid_gap": null,
            "max_width": null,
            "order": null,
            "_view_module_version": "1.2.0",
            "grid_template_areas": null,
            "object_position": null,
            "object_fit": null,
            "grid_auto_columns": null,
            "margin": null,
            "display": null,
            "left": null
          }
        },
        "7f27ac4c0bc940e9ba200b7f2436b92d": {
          "model_module": "@jupyter-widgets/controls",
          "model_name": "DescriptionStyleModel",
          "model_module_version": "1.5.0",
          "state": {
            "_view_name": "StyleView",
            "_model_name": "DescriptionStyleModel",
            "description_width": "",
            "_view_module": "@jupyter-widgets/base",
            "_model_module_version": "1.5.0",
            "_view_count": null,
            "_view_module_version": "1.2.0",
            "_model_module": "@jupyter-widgets/controls"
          }
        },
        "c9a2c2caed804ef99724edb5734c1438": {
          "model_module": "@jupyter-widgets/base",
          "model_name": "LayoutModel",
          "model_module_version": "1.2.0",
          "state": {
            "_view_name": "LayoutView",
            "grid_template_rows": null,
            "right": null,
            "justify_content": null,
            "_view_module": "@jupyter-widgets/base",
            "overflow": null,
            "_model_module_version": "1.2.0",
            "_view_count": null,
            "flex_flow": null,
            "width": null,
            "min_width": null,
            "border": null,
            "align_items": null,
            "bottom": null,
            "_model_module": "@jupyter-widgets/base",
            "top": null,
            "grid_column": null,
            "overflow_y": null,
            "overflow_x": null,
            "grid_auto_flow": null,
            "grid_area": null,
            "grid_template_columns": null,
            "flex": null,
            "_model_name": "LayoutModel",
            "justify_items": null,
            "grid_row": null,
            "max_height": null,
            "align_content": null,
            "visibility": null,
            "align_self": null,
            "height": null,
            "min_height": null,
            "padding": null,
            "grid_auto_rows": null,
            "grid_gap": null,
            "max_width": null,
            "order": null,
            "_view_module_version": "1.2.0",
            "grid_template_areas": null,
            "object_position": null,
            "object_fit": null,
            "grid_auto_columns": null,
            "margin": null,
            "display": null,
            "left": null
          }
        },
        "58f3a5ea90d4477ab05274c5f295dbf4": {
          "model_module": "@jupyter-widgets/controls",
          "model_name": "HBoxModel",
          "model_module_version": "1.5.0",
          "state": {
            "_view_name": "HBoxView",
            "_dom_classes": [],
            "_model_name": "HBoxModel",
            "_view_module": "@jupyter-widgets/controls",
            "_model_module_version": "1.5.0",
            "_view_count": null,
            "_view_module_version": "1.5.0",
            "box_style": "",
            "layout": "IPY_MODEL_76c7eb4e73e845578a803d8b8753ad5a",
            "_model_module": "@jupyter-widgets/controls",
            "children": [
              "IPY_MODEL_1c78d1d72f294874bdadbadd3203200b",
              "IPY_MODEL_e17eef4a423e43328098486761545952"
            ]
          }
        },
        "76c7eb4e73e845578a803d8b8753ad5a": {
          "model_module": "@jupyter-widgets/base",
          "model_name": "LayoutModel",
          "model_module_version": "1.2.0",
          "state": {
            "_view_name": "LayoutView",
            "grid_template_rows": null,
            "right": null,
            "justify_content": null,
            "_view_module": "@jupyter-widgets/base",
            "overflow": null,
            "_model_module_version": "1.2.0",
            "_view_count": null,
            "flex_flow": null,
            "width": null,
            "min_width": null,
            "border": null,
            "align_items": null,
            "bottom": null,
            "_model_module": "@jupyter-widgets/base",
            "top": null,
            "grid_column": null,
            "overflow_y": null,
            "overflow_x": null,
            "grid_auto_flow": null,
            "grid_area": null,
            "grid_template_columns": null,
            "flex": null,
            "_model_name": "LayoutModel",
            "justify_items": null,
            "grid_row": null,
            "max_height": null,
            "align_content": null,
            "visibility": null,
            "align_self": null,
            "height": null,
            "min_height": null,
            "padding": null,
            "grid_auto_rows": null,
            "grid_gap": null,
            "max_width": null,
            "order": null,
            "_view_module_version": "1.2.0",
            "grid_template_areas": null,
            "object_position": null,
            "object_fit": null,
            "grid_auto_columns": null,
            "margin": null,
            "display": null,
            "left": null
          }
        },
        "1c78d1d72f294874bdadbadd3203200b": {
          "model_module": "@jupyter-widgets/controls",
          "model_name": "FloatProgressModel",
          "model_module_version": "1.5.0",
          "state": {
            "_view_name": "ProgressView",
            "style": "IPY_MODEL_66e8ee841f0f4997a68e81a7ef675cd5",
            "_dom_classes": [],
            "description": "Downloading: 100%",
            "_model_name": "FloatProgressModel",
            "bar_style": "success",
            "max": 361,
            "_view_module": "@jupyter-widgets/controls",
            "_model_module_version": "1.5.0",
            "value": 361,
            "_view_count": null,
            "_view_module_version": "1.5.0",
            "orientation": "horizontal",
            "min": 0,
            "description_tooltip": null,
            "_model_module": "@jupyter-widgets/controls",
            "layout": "IPY_MODEL_b3668b07a01f43c4a7ae0d5ca6726df6"
          }
        },
        "e17eef4a423e43328098486761545952": {
          "model_module": "@jupyter-widgets/controls",
          "model_name": "HTMLModel",
          "model_module_version": "1.5.0",
          "state": {
            "_view_name": "HTMLView",
            "style": "IPY_MODEL_8e3ce31d4d784cfcbec09778be213556",
            "_dom_classes": [],
            "description": "",
            "_model_name": "HTMLModel",
            "placeholder": "​",
            "_view_module": "@jupyter-widgets/controls",
            "_model_module_version": "1.5.0",
            "value": " 361/361 [00:00&lt;00:00, 379B/s]",
            "_view_count": null,
            "_view_module_version": "1.5.0",
            "description_tooltip": null,
            "_model_module": "@jupyter-widgets/controls",
            "layout": "IPY_MODEL_506c1c52fe5949a799e01115d1ad3b90"
          }
        },
        "66e8ee841f0f4997a68e81a7ef675cd5": {
          "model_module": "@jupyter-widgets/controls",
          "model_name": "ProgressStyleModel",
          "model_module_version": "1.5.0",
          "state": {
            "_view_name": "StyleView",
            "_model_name": "ProgressStyleModel",
            "description_width": "initial",
            "_view_module": "@jupyter-widgets/base",
            "_model_module_version": "1.5.0",
            "_view_count": null,
            "_view_module_version": "1.2.0",
            "bar_color": null,
            "_model_module": "@jupyter-widgets/controls"
          }
        },
        "b3668b07a01f43c4a7ae0d5ca6726df6": {
          "model_module": "@jupyter-widgets/base",
          "model_name": "LayoutModel",
          "model_module_version": "1.2.0",
          "state": {
            "_view_name": "LayoutView",
            "grid_template_rows": null,
            "right": null,
            "justify_content": null,
            "_view_module": "@jupyter-widgets/base",
            "overflow": null,
            "_model_module_version": "1.2.0",
            "_view_count": null,
            "flex_flow": null,
            "width": null,
            "min_width": null,
            "border": null,
            "align_items": null,
            "bottom": null,
            "_model_module": "@jupyter-widgets/base",
            "top": null,
            "grid_column": null,
            "overflow_y": null,
            "overflow_x": null,
            "grid_auto_flow": null,
            "grid_area": null,
            "grid_template_columns": null,
            "flex": null,
            "_model_name": "LayoutModel",
            "justify_items": null,
            "grid_row": null,
            "max_height": null,
            "align_content": null,
            "visibility": null,
            "align_self": null,
            "height": null,
            "min_height": null,
            "padding": null,
            "grid_auto_rows": null,
            "grid_gap": null,
            "max_width": null,
            "order": null,
            "_view_module_version": "1.2.0",
            "grid_template_areas": null,
            "object_position": null,
            "object_fit": null,
            "grid_auto_columns": null,
            "margin": null,
            "display": null,
            "left": null
          }
        },
        "8e3ce31d4d784cfcbec09778be213556": {
          "model_module": "@jupyter-widgets/controls",
          "model_name": "DescriptionStyleModel",
          "model_module_version": "1.5.0",
          "state": {
            "_view_name": "StyleView",
            "_model_name": "DescriptionStyleModel",
            "description_width": "",
            "_view_module": "@jupyter-widgets/base",
            "_model_module_version": "1.5.0",
            "_view_count": null,
            "_view_module_version": "1.2.0",
            "_model_module": "@jupyter-widgets/controls"
          }
        },
        "506c1c52fe5949a799e01115d1ad3b90": {
          "model_module": "@jupyter-widgets/base",
          "model_name": "LayoutModel",
          "model_module_version": "1.2.0",
          "state": {
            "_view_name": "LayoutView",
            "grid_template_rows": null,
            "right": null,
            "justify_content": null,
            "_view_module": "@jupyter-widgets/base",
            "overflow": null,
            "_model_module_version": "1.2.0",
            "_view_count": null,
            "flex_flow": null,
            "width": null,
            "min_width": null,
            "border": null,
            "align_items": null,
            "bottom": null,
            "_model_module": "@jupyter-widgets/base",
            "top": null,
            "grid_column": null,
            "overflow_y": null,
            "overflow_x": null,
            "grid_auto_flow": null,
            "grid_area": null,
            "grid_template_columns": null,
            "flex": null,
            "_model_name": "LayoutModel",
            "justify_items": null,
            "grid_row": null,
            "max_height": null,
            "align_content": null,
            "visibility": null,
            "align_self": null,
            "height": null,
            "min_height": null,
            "padding": null,
            "grid_auto_rows": null,
            "grid_gap": null,
            "max_width": null,
            "order": null,
            "_view_module_version": "1.2.0",
            "grid_template_areas": null,
            "object_position": null,
            "object_fit": null,
            "grid_auto_columns": null,
            "margin": null,
            "display": null,
            "left": null
          }
        },
        "515fca7d84654ccba26f572dc0523c8e": {
          "model_module": "@jupyter-widgets/controls",
          "model_name": "HBoxModel",
          "model_module_version": "1.5.0",
          "state": {
            "_view_name": "HBoxView",
            "_dom_classes": [],
            "_model_name": "HBoxModel",
            "_view_module": "@jupyter-widgets/controls",
            "_model_module_version": "1.5.0",
            "_view_count": null,
            "_view_module_version": "1.5.0",
            "box_style": "",
            "layout": "IPY_MODEL_ef96230c910e44768d15e7e6526e1727",
            "_model_module": "@jupyter-widgets/controls",
            "children": [
              "IPY_MODEL_ae82f8317b79410e899b413eb85f5cac",
              "IPY_MODEL_2f21f193b68d4207b14835f23af79ab6"
            ]
          }
        },
        "ef96230c910e44768d15e7e6526e1727": {
          "model_module": "@jupyter-widgets/base",
          "model_name": "LayoutModel",
          "model_module_version": "1.2.0",
          "state": {
            "_view_name": "LayoutView",
            "grid_template_rows": null,
            "right": null,
            "justify_content": null,
            "_view_module": "@jupyter-widgets/base",
            "overflow": null,
            "_model_module_version": "1.2.0",
            "_view_count": null,
            "flex_flow": null,
            "width": null,
            "min_width": null,
            "border": null,
            "align_items": null,
            "bottom": null,
            "_model_module": "@jupyter-widgets/base",
            "top": null,
            "grid_column": null,
            "overflow_y": null,
            "overflow_x": null,
            "grid_auto_flow": null,
            "grid_area": null,
            "grid_template_columns": null,
            "flex": null,
            "_model_name": "LayoutModel",
            "justify_items": null,
            "grid_row": null,
            "max_height": null,
            "align_content": null,
            "visibility": null,
            "align_self": null,
            "height": null,
            "min_height": null,
            "padding": null,
            "grid_auto_rows": null,
            "grid_gap": null,
            "max_width": null,
            "order": null,
            "_view_module_version": "1.2.0",
            "grid_template_areas": null,
            "object_position": null,
            "object_fit": null,
            "grid_auto_columns": null,
            "margin": null,
            "display": null,
            "left": null
          }
        },
        "ae82f8317b79410e899b413eb85f5cac": {
          "model_module": "@jupyter-widgets/controls",
          "model_name": "FloatProgressModel",
          "model_module_version": "1.5.0",
          "state": {
            "_view_name": "ProgressView",
            "style": "IPY_MODEL_c517f77d6ca04731b81cb09a6c956058",
            "_dom_classes": [],
            "description": "Downloading: 100%",
            "_model_name": "FloatProgressModel",
            "bar_style": "success",
            "max": 81,
            "_view_module": "@jupyter-widgets/controls",
            "_model_module_version": "1.5.0",
            "value": 81,
            "_view_count": null,
            "_view_module_version": "1.5.0",
            "orientation": "horizontal",
            "min": 0,
            "description_tooltip": null,
            "_model_module": "@jupyter-widgets/controls",
            "layout": "IPY_MODEL_c2214819c7d14552a11daaff76ae7103"
          }
        },
        "2f21f193b68d4207b14835f23af79ab6": {
          "model_module": "@jupyter-widgets/controls",
          "model_name": "HTMLModel",
          "model_module_version": "1.5.0",
          "state": {
            "_view_name": "HTMLView",
            "style": "IPY_MODEL_6b656a025f2b498086c966ce9a2e0669",
            "_dom_classes": [],
            "description": "",
            "_model_name": "HTMLModel",
            "placeholder": "​",
            "_view_module": "@jupyter-widgets/controls",
            "_model_module_version": "1.5.0",
            "value": " 81.0/81.0 [00:38&lt;00:00, 2.09B/s]",
            "_view_count": null,
            "_view_module_version": "1.5.0",
            "description_tooltip": null,
            "_model_module": "@jupyter-widgets/controls",
            "layout": "IPY_MODEL_cebcf8e3c55c4911a0b3a917f01ed569"
          }
        },
        "c517f77d6ca04731b81cb09a6c956058": {
          "model_module": "@jupyter-widgets/controls",
          "model_name": "ProgressStyleModel",
          "model_module_version": "1.5.0",
          "state": {
            "_view_name": "StyleView",
            "_model_name": "ProgressStyleModel",
            "description_width": "initial",
            "_view_module": "@jupyter-widgets/base",
            "_model_module_version": "1.5.0",
            "_view_count": null,
            "_view_module_version": "1.2.0",
            "bar_color": null,
            "_model_module": "@jupyter-widgets/controls"
          }
        },
        "c2214819c7d14552a11daaff76ae7103": {
          "model_module": "@jupyter-widgets/base",
          "model_name": "LayoutModel",
          "model_module_version": "1.2.0",
          "state": {
            "_view_name": "LayoutView",
            "grid_template_rows": null,
            "right": null,
            "justify_content": null,
            "_view_module": "@jupyter-widgets/base",
            "overflow": null,
            "_model_module_version": "1.2.0",
            "_view_count": null,
            "flex_flow": null,
            "width": null,
            "min_width": null,
            "border": null,
            "align_items": null,
            "bottom": null,
            "_model_module": "@jupyter-widgets/base",
            "top": null,
            "grid_column": null,
            "overflow_y": null,
            "overflow_x": null,
            "grid_auto_flow": null,
            "grid_area": null,
            "grid_template_columns": null,
            "flex": null,
            "_model_name": "LayoutModel",
            "justify_items": null,
            "grid_row": null,
            "max_height": null,
            "align_content": null,
            "visibility": null,
            "align_self": null,
            "height": null,
            "min_height": null,
            "padding": null,
            "grid_auto_rows": null,
            "grid_gap": null,
            "max_width": null,
            "order": null,
            "_view_module_version": "1.2.0",
            "grid_template_areas": null,
            "object_position": null,
            "object_fit": null,
            "grid_auto_columns": null,
            "margin": null,
            "display": null,
            "left": null
          }
        },
        "6b656a025f2b498086c966ce9a2e0669": {
          "model_module": "@jupyter-widgets/controls",
          "model_name": "DescriptionStyleModel",
          "model_module_version": "1.5.0",
          "state": {
            "_view_name": "StyleView",
            "_model_name": "DescriptionStyleModel",
            "description_width": "",
            "_view_module": "@jupyter-widgets/base",
            "_model_module_version": "1.5.0",
            "_view_count": null,
            "_view_module_version": "1.2.0",
            "_model_module": "@jupyter-widgets/controls"
          }
        },
        "cebcf8e3c55c4911a0b3a917f01ed569": {
          "model_module": "@jupyter-widgets/base",
          "model_name": "LayoutModel",
          "model_module_version": "1.2.0",
          "state": {
            "_view_name": "LayoutView",
            "grid_template_rows": null,
            "right": null,
            "justify_content": null,
            "_view_module": "@jupyter-widgets/base",
            "overflow": null,
            "_model_module_version": "1.2.0",
            "_view_count": null,
            "flex_flow": null,
            "width": null,
            "min_width": null,
            "border": null,
            "align_items": null,
            "bottom": null,
            "_model_module": "@jupyter-widgets/base",
            "top": null,
            "grid_column": null,
            "overflow_y": null,
            "overflow_x": null,
            "grid_auto_flow": null,
            "grid_area": null,
            "grid_template_columns": null,
            "flex": null,
            "_model_name": "LayoutModel",
            "justify_items": null,
            "grid_row": null,
            "max_height": null,
            "align_content": null,
            "visibility": null,
            "align_self": null,
            "height": null,
            "min_height": null,
            "padding": null,
            "grid_auto_rows": null,
            "grid_gap": null,
            "max_width": null,
            "order": null,
            "_view_module_version": "1.2.0",
            "grid_template_areas": null,
            "object_position": null,
            "object_fit": null,
            "grid_auto_columns": null,
            "margin": null,
            "display": null,
            "left": null
          }
        },
        "d8854233623d4cefb67351cec2d201fa": {
          "model_module": "@jupyter-widgets/controls",
          "model_name": "HBoxModel",
          "model_module_version": "1.5.0",
          "state": {
            "_view_name": "HBoxView",
            "_dom_classes": [],
            "_model_name": "HBoxModel",
            "_view_module": "@jupyter-widgets/controls",
            "_model_module_version": "1.5.0",
            "_view_count": null,
            "_view_module_version": "1.5.0",
            "box_style": "",
            "layout": "IPY_MODEL_4a4f81fdba94405ab04cec12d9ba296c",
            "_model_module": "@jupyter-widgets/controls",
            "children": [
              "IPY_MODEL_d73ad156b5af4195819fd1ebf71f5aab",
              "IPY_MODEL_e9f0e698bd12459caa7db74981b2984f"
            ]
          }
        },
        "4a4f81fdba94405ab04cec12d9ba296c": {
          "model_module": "@jupyter-widgets/base",
          "model_name": "LayoutModel",
          "model_module_version": "1.2.0",
          "state": {
            "_view_name": "LayoutView",
            "grid_template_rows": null,
            "right": null,
            "justify_content": null,
            "_view_module": "@jupyter-widgets/base",
            "overflow": null,
            "_model_module_version": "1.2.0",
            "_view_count": null,
            "flex_flow": null,
            "width": null,
            "min_width": null,
            "border": null,
            "align_items": null,
            "bottom": null,
            "_model_module": "@jupyter-widgets/base",
            "top": null,
            "grid_column": null,
            "overflow_y": null,
            "overflow_x": null,
            "grid_auto_flow": null,
            "grid_area": null,
            "grid_template_columns": null,
            "flex": null,
            "_model_name": "LayoutModel",
            "justify_items": null,
            "grid_row": null,
            "max_height": null,
            "align_content": null,
            "visibility": null,
            "align_self": null,
            "height": null,
            "min_height": null,
            "padding": null,
            "grid_auto_rows": null,
            "grid_gap": null,
            "max_width": null,
            "order": null,
            "_view_module_version": "1.2.0",
            "grid_template_areas": null,
            "object_position": null,
            "object_fit": null,
            "grid_auto_columns": null,
            "margin": null,
            "display": null,
            "left": null
          }
        },
        "d73ad156b5af4195819fd1ebf71f5aab": {
          "model_module": "@jupyter-widgets/controls",
          "model_name": "FloatProgressModel",
          "model_module_version": "1.5.0",
          "state": {
            "_view_name": "ProgressView",
            "style": "IPY_MODEL_5fffa805eef74b5592ce91941f469578",
            "_dom_classes": [],
            "description": "Downloading: 100%",
            "_model_name": "FloatProgressModel",
            "bar_style": "success",
            "max": 112,
            "_view_module": "@jupyter-widgets/controls",
            "_model_module_version": "1.5.0",
            "value": 112,
            "_view_count": null,
            "_view_module_version": "1.5.0",
            "orientation": "horizontal",
            "min": 0,
            "description_tooltip": null,
            "_model_module": "@jupyter-widgets/controls",
            "layout": "IPY_MODEL_443cabf07783412f9eb3d9d028a361ed"
          }
        },
        "e9f0e698bd12459caa7db74981b2984f": {
          "model_module": "@jupyter-widgets/controls",
          "model_name": "HTMLModel",
          "model_module_version": "1.5.0",
          "state": {
            "_view_name": "HTMLView",
            "style": "IPY_MODEL_f4c287369edb41cc90ea188ead069d51",
            "_dom_classes": [],
            "description": "",
            "_model_name": "HTMLModel",
            "placeholder": "​",
            "_view_module": "@jupyter-widgets/controls",
            "_model_module_version": "1.5.0",
            "value": " 112/112 [00:01&lt;00:00, 64.0B/s]",
            "_view_count": null,
            "_view_module_version": "1.5.0",
            "description_tooltip": null,
            "_model_module": "@jupyter-widgets/controls",
            "layout": "IPY_MODEL_77f06201b19e4c57bd5529a57d1b55f7"
          }
        },
        "5fffa805eef74b5592ce91941f469578": {
          "model_module": "@jupyter-widgets/controls",
          "model_name": "ProgressStyleModel",
          "model_module_version": "1.5.0",
          "state": {
            "_view_name": "StyleView",
            "_model_name": "ProgressStyleModel",
            "description_width": "initial",
            "_view_module": "@jupyter-widgets/base",
            "_model_module_version": "1.5.0",
            "_view_count": null,
            "_view_module_version": "1.2.0",
            "bar_color": null,
            "_model_module": "@jupyter-widgets/controls"
          }
        },
        "443cabf07783412f9eb3d9d028a361ed": {
          "model_module": "@jupyter-widgets/base",
          "model_name": "LayoutModel",
          "model_module_version": "1.2.0",
          "state": {
            "_view_name": "LayoutView",
            "grid_template_rows": null,
            "right": null,
            "justify_content": null,
            "_view_module": "@jupyter-widgets/base",
            "overflow": null,
            "_model_module_version": "1.2.0",
            "_view_count": null,
            "flex_flow": null,
            "width": null,
            "min_width": null,
            "border": null,
            "align_items": null,
            "bottom": null,
            "_model_module": "@jupyter-widgets/base",
            "top": null,
            "grid_column": null,
            "overflow_y": null,
            "overflow_x": null,
            "grid_auto_flow": null,
            "grid_area": null,
            "grid_template_columns": null,
            "flex": null,
            "_model_name": "LayoutModel",
            "justify_items": null,
            "grid_row": null,
            "max_height": null,
            "align_content": null,
            "visibility": null,
            "align_self": null,
            "height": null,
            "min_height": null,
            "padding": null,
            "grid_auto_rows": null,
            "grid_gap": null,
            "max_width": null,
            "order": null,
            "_view_module_version": "1.2.0",
            "grid_template_areas": null,
            "object_position": null,
            "object_fit": null,
            "grid_auto_columns": null,
            "margin": null,
            "display": null,
            "left": null
          }
        },
        "f4c287369edb41cc90ea188ead069d51": {
          "model_module": "@jupyter-widgets/controls",
          "model_name": "DescriptionStyleModel",
          "model_module_version": "1.5.0",
          "state": {
            "_view_name": "StyleView",
            "_model_name": "DescriptionStyleModel",
            "description_width": "",
            "_view_module": "@jupyter-widgets/base",
            "_model_module_version": "1.5.0",
            "_view_count": null,
            "_view_module_version": "1.2.0",
            "_model_module": "@jupyter-widgets/controls"
          }
        },
        "77f06201b19e4c57bd5529a57d1b55f7": {
          "model_module": "@jupyter-widgets/base",
          "model_name": "LayoutModel",
          "model_module_version": "1.2.0",
          "state": {
            "_view_name": "LayoutView",
            "grid_template_rows": null,
            "right": null,
            "justify_content": null,
            "_view_module": "@jupyter-widgets/base",
            "overflow": null,
            "_model_module_version": "1.2.0",
            "_view_count": null,
            "flex_flow": null,
            "width": null,
            "min_width": null,
            "border": null,
            "align_items": null,
            "bottom": null,
            "_model_module": "@jupyter-widgets/base",
            "top": null,
            "grid_column": null,
            "overflow_y": null,
            "overflow_x": null,
            "grid_auto_flow": null,
            "grid_area": null,
            "grid_template_columns": null,
            "flex": null,
            "_model_name": "LayoutModel",
            "justify_items": null,
            "grid_row": null,
            "max_height": null,
            "align_content": null,
            "visibility": null,
            "align_self": null,
            "height": null,
            "min_height": null,
            "padding": null,
            "grid_auto_rows": null,
            "grid_gap": null,
            "max_width": null,
            "order": null,
            "_view_module_version": "1.2.0",
            "grid_template_areas": null,
            "object_position": null,
            "object_fit": null,
            "grid_auto_columns": null,
            "margin": null,
            "display": null,
            "left": null
          }
        },
        "166e7f4aa40544d2b5ac22859cd2d29d": {
          "model_module": "@jupyter-widgets/controls",
          "model_name": "HBoxModel",
          "model_module_version": "1.5.0",
          "state": {
            "_view_name": "HBoxView",
            "_dom_classes": [],
            "_model_name": "HBoxModel",
            "_view_module": "@jupyter-widgets/controls",
            "_model_module_version": "1.5.0",
            "_view_count": null,
            "_view_module_version": "1.5.0",
            "box_style": "",
            "layout": "IPY_MODEL_db9dfbf6f09441bcbc530d102f22974f",
            "_model_module": "@jupyter-widgets/controls",
            "children": [
              "IPY_MODEL_4a34fe2174534270958b1fa80a81414a",
              "IPY_MODEL_8bafd40d0a35445998174ba41a644c5d"
            ]
          }
        },
        "db9dfbf6f09441bcbc530d102f22974f": {
          "model_module": "@jupyter-widgets/base",
          "model_name": "LayoutModel",
          "model_module_version": "1.2.0",
          "state": {
            "_view_name": "LayoutView",
            "grid_template_rows": null,
            "right": null,
            "justify_content": null,
            "_view_module": "@jupyter-widgets/base",
            "overflow": null,
            "_model_module_version": "1.2.0",
            "_view_count": null,
            "flex_flow": null,
            "width": null,
            "min_width": null,
            "border": null,
            "align_items": null,
            "bottom": null,
            "_model_module": "@jupyter-widgets/base",
            "top": null,
            "grid_column": null,
            "overflow_y": null,
            "overflow_x": null,
            "grid_auto_flow": null,
            "grid_area": null,
            "grid_template_columns": null,
            "flex": null,
            "_model_name": "LayoutModel",
            "justify_items": null,
            "grid_row": null,
            "max_height": null,
            "align_content": null,
            "visibility": null,
            "align_self": null,
            "height": null,
            "min_height": null,
            "padding": null,
            "grid_auto_rows": null,
            "grid_gap": null,
            "max_width": null,
            "order": null,
            "_view_module_version": "1.2.0",
            "grid_template_areas": null,
            "object_position": null,
            "object_fit": null,
            "grid_auto_columns": null,
            "margin": null,
            "display": null,
            "left": null
          }
        },
        "4a34fe2174534270958b1fa80a81414a": {
          "model_module": "@jupyter-widgets/controls",
          "model_name": "FloatProgressModel",
          "model_module_version": "1.5.0",
          "state": {
            "_view_name": "ProgressView",
            "style": "IPY_MODEL_ede6162a196244c99bdcbd4b78aa15ba",
            "_dom_classes": [],
            "description": "Downloading: 100%",
            "_model_name": "FloatProgressModel",
            "bar_style": "success",
            "max": 1684058277,
            "_view_module": "@jupyter-widgets/controls",
            "_model_module_version": "1.5.0",
            "value": 1684058277,
            "_view_count": null,
            "_view_module_version": "1.5.0",
            "orientation": "horizontal",
            "min": 0,
            "description_tooltip": null,
            "_model_module": "@jupyter-widgets/controls",
            "layout": "IPY_MODEL_5dbec6e7eff34915a2440ad7fcb92fad"
          }
        },
        "8bafd40d0a35445998174ba41a644c5d": {
          "model_module": "@jupyter-widgets/controls",
          "model_name": "HTMLModel",
          "model_module_version": "1.5.0",
          "state": {
            "_view_name": "HTMLView",
            "style": "IPY_MODEL_fe93f2d234554aff94ec2f20cdc45249",
            "_dom_classes": [],
            "description": "",
            "_model_name": "HTMLModel",
            "placeholder": "​",
            "_view_module": "@jupyter-widgets/controls",
            "_model_module_version": "1.5.0",
            "value": " 1.68G/1.68G [00:35&lt;00:00, 47.8MB/s]",
            "_view_count": null,
            "_view_module_version": "1.5.0",
            "description_tooltip": null,
            "_model_module": "@jupyter-widgets/controls",
            "layout": "IPY_MODEL_7440e9a457984eb8a64bdaa1bbe54244"
          }
        },
        "ede6162a196244c99bdcbd4b78aa15ba": {
          "model_module": "@jupyter-widgets/controls",
          "model_name": "ProgressStyleModel",
          "model_module_version": "1.5.0",
          "state": {
            "_view_name": "StyleView",
            "_model_name": "ProgressStyleModel",
            "description_width": "initial",
            "_view_module": "@jupyter-widgets/base",
            "_model_module_version": "1.5.0",
            "_view_count": null,
            "_view_module_version": "1.2.0",
            "bar_color": null,
            "_model_module": "@jupyter-widgets/controls"
          }
        },
        "5dbec6e7eff34915a2440ad7fcb92fad": {
          "model_module": "@jupyter-widgets/base",
          "model_name": "LayoutModel",
          "model_module_version": "1.2.0",
          "state": {
            "_view_name": "LayoutView",
            "grid_template_rows": null,
            "right": null,
            "justify_content": null,
            "_view_module": "@jupyter-widgets/base",
            "overflow": null,
            "_model_module_version": "1.2.0",
            "_view_count": null,
            "flex_flow": null,
            "width": null,
            "min_width": null,
            "border": null,
            "align_items": null,
            "bottom": null,
            "_model_module": "@jupyter-widgets/base",
            "top": null,
            "grid_column": null,
            "overflow_y": null,
            "overflow_x": null,
            "grid_auto_flow": null,
            "grid_area": null,
            "grid_template_columns": null,
            "flex": null,
            "_model_name": "LayoutModel",
            "justify_items": null,
            "grid_row": null,
            "max_height": null,
            "align_content": null,
            "visibility": null,
            "align_self": null,
            "height": null,
            "min_height": null,
            "padding": null,
            "grid_auto_rows": null,
            "grid_gap": null,
            "max_width": null,
            "order": null,
            "_view_module_version": "1.2.0",
            "grid_template_areas": null,
            "object_position": null,
            "object_fit": null,
            "grid_auto_columns": null,
            "margin": null,
            "display": null,
            "left": null
          }
        },
        "fe93f2d234554aff94ec2f20cdc45249": {
          "model_module": "@jupyter-widgets/controls",
          "model_name": "DescriptionStyleModel",
          "model_module_version": "1.5.0",
          "state": {
            "_view_name": "StyleView",
            "_model_name": "DescriptionStyleModel",
            "description_width": "",
            "_view_module": "@jupyter-widgets/base",
            "_model_module_version": "1.5.0",
            "_view_count": null,
            "_view_module_version": "1.2.0",
            "_model_module": "@jupyter-widgets/controls"
          }
        },
        "7440e9a457984eb8a64bdaa1bbe54244": {
          "model_module": "@jupyter-widgets/base",
          "model_name": "LayoutModel",
          "model_module_version": "1.2.0",
          "state": {
            "_view_name": "LayoutView",
            "grid_template_rows": null,
            "right": null,
            "justify_content": null,
            "_view_module": "@jupyter-widgets/base",
            "overflow": null,
            "_model_module_version": "1.2.0",
            "_view_count": null,
            "flex_flow": null,
            "width": null,
            "min_width": null,
            "border": null,
            "align_items": null,
            "bottom": null,
            "_model_module": "@jupyter-widgets/base",
            "top": null,
            "grid_column": null,
            "overflow_y": null,
            "overflow_x": null,
            "grid_auto_flow": null,
            "grid_area": null,
            "grid_template_columns": null,
            "flex": null,
            "_model_name": "LayoutModel",
            "justify_items": null,
            "grid_row": null,
            "max_height": null,
            "align_content": null,
            "visibility": null,
            "align_self": null,
            "height": null,
            "min_height": null,
            "padding": null,
            "grid_auto_rows": null,
            "grid_gap": null,
            "max_width": null,
            "order": null,
            "_view_module_version": "1.2.0",
            "grid_template_areas": null,
            "object_position": null,
            "object_fit": null,
            "grid_auto_columns": null,
            "margin": null,
            "display": null,
            "left": null
          }
        },
        "66c3e16383c7405a837df2f85f4829a2": {
          "model_module": "@jupyter-widgets/controls",
          "model_name": "HBoxModel",
          "model_module_version": "1.5.0",
          "state": {
            "_view_name": "HBoxView",
            "_dom_classes": [],
            "_model_name": "HBoxModel",
            "_view_module": "@jupyter-widgets/controls",
            "_model_module_version": "1.5.0",
            "_view_count": null,
            "_view_module_version": "1.5.0",
            "box_style": "",
            "layout": "IPY_MODEL_fc5b284324d04cd0885061ca5d22eecb",
            "_model_module": "@jupyter-widgets/controls",
            "children": [
              "IPY_MODEL_e57083c242454dd9a132adc186c4172a",
              "IPY_MODEL_614e3c5dc1d14e2492475e8eab647d13"
            ]
          }
        },
        "fc5b284324d04cd0885061ca5d22eecb": {
          "model_module": "@jupyter-widgets/base",
          "model_name": "LayoutModel",
          "model_module_version": "1.2.0",
          "state": {
            "_view_name": "LayoutView",
            "grid_template_rows": null,
            "right": null,
            "justify_content": null,
            "_view_module": "@jupyter-widgets/base",
            "overflow": null,
            "_model_module_version": "1.2.0",
            "_view_count": null,
            "flex_flow": null,
            "width": null,
            "min_width": null,
            "border": null,
            "align_items": null,
            "bottom": null,
            "_model_module": "@jupyter-widgets/base",
            "top": null,
            "grid_column": null,
            "overflow_y": null,
            "overflow_x": null,
            "grid_auto_flow": null,
            "grid_area": null,
            "grid_template_columns": null,
            "flex": null,
            "_model_name": "LayoutModel",
            "justify_items": null,
            "grid_row": null,
            "max_height": null,
            "align_content": null,
            "visibility": null,
            "align_self": null,
            "height": null,
            "min_height": null,
            "padding": null,
            "grid_auto_rows": null,
            "grid_gap": null,
            "max_width": null,
            "order": null,
            "_view_module_version": "1.2.0",
            "grid_template_areas": null,
            "object_position": null,
            "object_fit": null,
            "grid_auto_columns": null,
            "margin": null,
            "display": null,
            "left": null
          }
        },
        "e57083c242454dd9a132adc186c4172a": {
          "model_module": "@jupyter-widgets/controls",
          "model_name": "FloatProgressModel",
          "model_module_version": "1.5.0",
          "state": {
            "_view_name": "ProgressView",
            "style": "IPY_MODEL_368da2644efa4f62b6726950f3baf50b",
            "_dom_classes": [],
            "description": "",
            "_model_name": "FloatProgressModel",
            "bar_style": "info",
            "max": 1,
            "_view_module": "@jupyter-widgets/controls",
            "_model_module_version": "1.5.0",
            "value": 1,
            "_view_count": null,
            "_view_module_version": "1.5.0",
            "orientation": "horizontal",
            "min": 0,
            "description_tooltip": null,
            "_model_module": "@jupyter-widgets/controls",
            "layout": "IPY_MODEL_c7e8d1f15a7d4fa3ae24acf996ddb511"
          }
        },
        "614e3c5dc1d14e2492475e8eab647d13": {
          "model_module": "@jupyter-widgets/controls",
          "model_name": "HTMLModel",
          "model_module_version": "1.5.0",
          "state": {
            "_view_name": "HTMLView",
            "style": "IPY_MODEL_6b552448223846fcb4744e3399f669d7",
            "_dom_classes": [],
            "description": "",
            "_model_name": "HTMLModel",
            "placeholder": "​",
            "_view_module": "@jupyter-widgets/controls",
            "_model_module_version": "1.5.0",
            "value": " 1/? [00:00&lt;00:00, 19.47 tables/s]",
            "_view_count": null,
            "_view_module_version": "1.5.0",
            "description_tooltip": null,
            "_model_module": "@jupyter-widgets/controls",
            "layout": "IPY_MODEL_08cdbcbb959c4d0a960167a5e44dfae2"
          }
        },
        "368da2644efa4f62b6726950f3baf50b": {
          "model_module": "@jupyter-widgets/controls",
          "model_name": "ProgressStyleModel",
          "model_module_version": "1.5.0",
          "state": {
            "_view_name": "StyleView",
            "_model_name": "ProgressStyleModel",
            "description_width": "initial",
            "_view_module": "@jupyter-widgets/base",
            "_model_module_version": "1.5.0",
            "_view_count": null,
            "_view_module_version": "1.2.0",
            "bar_color": null,
            "_model_module": "@jupyter-widgets/controls"
          }
        },
        "c7e8d1f15a7d4fa3ae24acf996ddb511": {
          "model_module": "@jupyter-widgets/base",
          "model_name": "LayoutModel",
          "model_module_version": "1.2.0",
          "state": {
            "_view_name": "LayoutView",
            "grid_template_rows": null,
            "right": null,
            "justify_content": null,
            "_view_module": "@jupyter-widgets/base",
            "overflow": null,
            "_model_module_version": "1.2.0",
            "_view_count": null,
            "flex_flow": null,
            "width": null,
            "min_width": null,
            "border": null,
            "align_items": null,
            "bottom": null,
            "_model_module": "@jupyter-widgets/base",
            "top": null,
            "grid_column": null,
            "overflow_y": null,
            "overflow_x": null,
            "grid_auto_flow": null,
            "grid_area": null,
            "grid_template_columns": null,
            "flex": null,
            "_model_name": "LayoutModel",
            "justify_items": null,
            "grid_row": null,
            "max_height": null,
            "align_content": null,
            "visibility": null,
            "align_self": null,
            "height": null,
            "min_height": null,
            "padding": null,
            "grid_auto_rows": null,
            "grid_gap": null,
            "max_width": null,
            "order": null,
            "_view_module_version": "1.2.0",
            "grid_template_areas": null,
            "object_position": null,
            "object_fit": null,
            "grid_auto_columns": null,
            "margin": null,
            "display": null,
            "left": null
          }
        },
        "6b552448223846fcb4744e3399f669d7": {
          "model_module": "@jupyter-widgets/controls",
          "model_name": "DescriptionStyleModel",
          "model_module_version": "1.5.0",
          "state": {
            "_view_name": "StyleView",
            "_model_name": "DescriptionStyleModel",
            "description_width": "",
            "_view_module": "@jupyter-widgets/base",
            "_model_module_version": "1.5.0",
            "_view_count": null,
            "_view_module_version": "1.2.0",
            "_model_module": "@jupyter-widgets/controls"
          }
        },
        "08cdbcbb959c4d0a960167a5e44dfae2": {
          "model_module": "@jupyter-widgets/base",
          "model_name": "LayoutModel",
          "model_module_version": "1.2.0",
          "state": {
            "_view_name": "LayoutView",
            "grid_template_rows": null,
            "right": null,
            "justify_content": null,
            "_view_module": "@jupyter-widgets/base",
            "overflow": null,
            "_model_module_version": "1.2.0",
            "_view_count": null,
            "flex_flow": null,
            "width": null,
            "min_width": null,
            "border": null,
            "align_items": null,
            "bottom": null,
            "_model_module": "@jupyter-widgets/base",
            "top": null,
            "grid_column": null,
            "overflow_y": null,
            "overflow_x": null,
            "grid_auto_flow": null,
            "grid_area": null,
            "grid_template_columns": null,
            "flex": null,
            "_model_name": "LayoutModel",
            "justify_items": null,
            "grid_row": null,
            "max_height": null,
            "align_content": null,
            "visibility": null,
            "align_self": null,
            "height": null,
            "min_height": null,
            "padding": null,
            "grid_auto_rows": null,
            "grid_gap": null,
            "max_width": null,
            "order": null,
            "_view_module_version": "1.2.0",
            "grid_template_areas": null,
            "object_position": null,
            "object_fit": null,
            "grid_auto_columns": null,
            "margin": null,
            "display": null,
            "left": null
          }
        },
        "b94303c408f94a088955b37c10f46627": {
          "model_module": "@jupyter-widgets/controls",
          "model_name": "HBoxModel",
          "model_module_version": "1.5.0",
          "state": {
            "_view_name": "HBoxView",
            "_dom_classes": [],
            "_model_name": "HBoxModel",
            "_view_module": "@jupyter-widgets/controls",
            "_model_module_version": "1.5.0",
            "_view_count": null,
            "_view_module_version": "1.5.0",
            "box_style": "",
            "layout": "IPY_MODEL_63d1bd253cc44380b6a33a69d8589edd",
            "_model_module": "@jupyter-widgets/controls",
            "children": [
              "IPY_MODEL_3e88e15d952c453cbf401eb7bc9dc976",
              "IPY_MODEL_e342c3ef4f8245e58d8506dff6476ea4"
            ]
          }
        },
        "63d1bd253cc44380b6a33a69d8589edd": {
          "model_module": "@jupyter-widgets/base",
          "model_name": "LayoutModel",
          "model_module_version": "1.2.0",
          "state": {
            "_view_name": "LayoutView",
            "grid_template_rows": null,
            "right": null,
            "justify_content": null,
            "_view_module": "@jupyter-widgets/base",
            "overflow": null,
            "_model_module_version": "1.2.0",
            "_view_count": null,
            "flex_flow": null,
            "width": null,
            "min_width": null,
            "border": null,
            "align_items": null,
            "bottom": null,
            "_model_module": "@jupyter-widgets/base",
            "top": null,
            "grid_column": null,
            "overflow_y": null,
            "overflow_x": null,
            "grid_auto_flow": null,
            "grid_area": null,
            "grid_template_columns": null,
            "flex": null,
            "_model_name": "LayoutModel",
            "justify_items": null,
            "grid_row": null,
            "max_height": null,
            "align_content": null,
            "visibility": null,
            "align_self": null,
            "height": null,
            "min_height": null,
            "padding": null,
            "grid_auto_rows": null,
            "grid_gap": null,
            "max_width": null,
            "order": null,
            "_view_module_version": "1.2.0",
            "grid_template_areas": null,
            "object_position": null,
            "object_fit": null,
            "grid_auto_columns": null,
            "margin": null,
            "display": null,
            "left": null
          }
        },
        "3e88e15d952c453cbf401eb7bc9dc976": {
          "model_module": "@jupyter-widgets/controls",
          "model_name": "FloatProgressModel",
          "model_module_version": "1.5.0",
          "state": {
            "_view_name": "ProgressView",
            "style": "IPY_MODEL_1df20c489cb74030ab85f773254e46ad",
            "_dom_classes": [],
            "description": "",
            "_model_name": "FloatProgressModel",
            "bar_style": "info",
            "max": 1,
            "_view_module": "@jupyter-widgets/controls",
            "_model_module_version": "1.5.0",
            "value": 1,
            "_view_count": null,
            "_view_module_version": "1.5.0",
            "orientation": "horizontal",
            "min": 0,
            "description_tooltip": null,
            "_model_module": "@jupyter-widgets/controls",
            "layout": "IPY_MODEL_084f58ee47e648e296acf188e5717988"
          }
        },
        "e342c3ef4f8245e58d8506dff6476ea4": {
          "model_module": "@jupyter-widgets/controls",
          "model_name": "HTMLModel",
          "model_module_version": "1.5.0",
          "state": {
            "_view_name": "HTMLView",
            "style": "IPY_MODEL_7af4e90ed8404a749877b47d05704320",
            "_dom_classes": [],
            "description": "",
            "_model_name": "HTMLModel",
            "placeholder": "​",
            "_view_module": "@jupyter-widgets/controls",
            "_model_module_version": "1.5.0",
            "value": " 1/? [00:00&lt;00:00, 21.22 tables/s]",
            "_view_count": null,
            "_view_module_version": "1.5.0",
            "description_tooltip": null,
            "_model_module": "@jupyter-widgets/controls",
            "layout": "IPY_MODEL_62dd358e20d8426ab7649f58c003255a"
          }
        },
        "1df20c489cb74030ab85f773254e46ad": {
          "model_module": "@jupyter-widgets/controls",
          "model_name": "ProgressStyleModel",
          "model_module_version": "1.5.0",
          "state": {
            "_view_name": "StyleView",
            "_model_name": "ProgressStyleModel",
            "description_width": "initial",
            "_view_module": "@jupyter-widgets/base",
            "_model_module_version": "1.5.0",
            "_view_count": null,
            "_view_module_version": "1.2.0",
            "bar_color": null,
            "_model_module": "@jupyter-widgets/controls"
          }
        },
        "084f58ee47e648e296acf188e5717988": {
          "model_module": "@jupyter-widgets/base",
          "model_name": "LayoutModel",
          "model_module_version": "1.2.0",
          "state": {
            "_view_name": "LayoutView",
            "grid_template_rows": null,
            "right": null,
            "justify_content": null,
            "_view_module": "@jupyter-widgets/base",
            "overflow": null,
            "_model_module_version": "1.2.0",
            "_view_count": null,
            "flex_flow": null,
            "width": null,
            "min_width": null,
            "border": null,
            "align_items": null,
            "bottom": null,
            "_model_module": "@jupyter-widgets/base",
            "top": null,
            "grid_column": null,
            "overflow_y": null,
            "overflow_x": null,
            "grid_auto_flow": null,
            "grid_area": null,
            "grid_template_columns": null,
            "flex": null,
            "_model_name": "LayoutModel",
            "justify_items": null,
            "grid_row": null,
            "max_height": null,
            "align_content": null,
            "visibility": null,
            "align_self": null,
            "height": null,
            "min_height": null,
            "padding": null,
            "grid_auto_rows": null,
            "grid_gap": null,
            "max_width": null,
            "order": null,
            "_view_module_version": "1.2.0",
            "grid_template_areas": null,
            "object_position": null,
            "object_fit": null,
            "grid_auto_columns": null,
            "margin": null,
            "display": null,
            "left": null
          }
        },
        "7af4e90ed8404a749877b47d05704320": {
          "model_module": "@jupyter-widgets/controls",
          "model_name": "DescriptionStyleModel",
          "model_module_version": "1.5.0",
          "state": {
            "_view_name": "StyleView",
            "_model_name": "DescriptionStyleModel",
            "description_width": "",
            "_view_module": "@jupyter-widgets/base",
            "_model_module_version": "1.5.0",
            "_view_count": null,
            "_view_module_version": "1.2.0",
            "_model_module": "@jupyter-widgets/controls"
          }
        },
        "62dd358e20d8426ab7649f58c003255a": {
          "model_module": "@jupyter-widgets/base",
          "model_name": "LayoutModel",
          "model_module_version": "1.2.0",
          "state": {
            "_view_name": "LayoutView",
            "grid_template_rows": null,
            "right": null,
            "justify_content": null,
            "_view_module": "@jupyter-widgets/base",
            "overflow": null,
            "_model_module_version": "1.2.0",
            "_view_count": null,
            "flex_flow": null,
            "width": null,
            "min_width": null,
            "border": null,
            "align_items": null,
            "bottom": null,
            "_model_module": "@jupyter-widgets/base",
            "top": null,
            "grid_column": null,
            "overflow_y": null,
            "overflow_x": null,
            "grid_auto_flow": null,
            "grid_area": null,
            "grid_template_columns": null,
            "flex": null,
            "_model_name": "LayoutModel",
            "justify_items": null,
            "grid_row": null,
            "max_height": null,
            "align_content": null,
            "visibility": null,
            "align_self": null,
            "height": null,
            "min_height": null,
            "padding": null,
            "grid_auto_rows": null,
            "grid_gap": null,
            "max_width": null,
            "order": null,
            "_view_module_version": "1.2.0",
            "grid_template_areas": null,
            "object_position": null,
            "object_fit": null,
            "grid_auto_columns": null,
            "margin": null,
            "display": null,
            "left": null
          }
        },
        "59de12381df04d5f83218d05df339bb8": {
          "model_module": "@jupyter-widgets/controls",
          "model_name": "HBoxModel",
          "model_module_version": "1.5.0",
          "state": {
            "_view_name": "HBoxView",
            "_dom_classes": [],
            "_model_name": "HBoxModel",
            "_view_module": "@jupyter-widgets/controls",
            "_model_module_version": "1.5.0",
            "_view_count": null,
            "_view_module_version": "1.5.0",
            "box_style": "",
            "layout": "IPY_MODEL_8befa5fef9474e4d94ca4a7afaee14ac",
            "_model_module": "@jupyter-widgets/controls",
            "children": [
              "IPY_MODEL_94d6d131cdf94bada5b3ac83fd5fa333",
              "IPY_MODEL_42a0afdd29624071a1997997e6213bf5"
            ]
          }
        },
        "8befa5fef9474e4d94ca4a7afaee14ac": {
          "model_module": "@jupyter-widgets/base",
          "model_name": "LayoutModel",
          "model_module_version": "1.2.0",
          "state": {
            "_view_name": "LayoutView",
            "grid_template_rows": null,
            "right": null,
            "justify_content": null,
            "_view_module": "@jupyter-widgets/base",
            "overflow": null,
            "_model_module_version": "1.2.0",
            "_view_count": null,
            "flex_flow": null,
            "width": null,
            "min_width": null,
            "border": null,
            "align_items": null,
            "bottom": null,
            "_model_module": "@jupyter-widgets/base",
            "top": null,
            "grid_column": null,
            "overflow_y": null,
            "overflow_x": null,
            "grid_auto_flow": null,
            "grid_area": null,
            "grid_template_columns": null,
            "flex": null,
            "_model_name": "LayoutModel",
            "justify_items": null,
            "grid_row": null,
            "max_height": null,
            "align_content": null,
            "visibility": null,
            "align_self": null,
            "height": null,
            "min_height": null,
            "padding": null,
            "grid_auto_rows": null,
            "grid_gap": null,
            "max_width": null,
            "order": null,
            "_view_module_version": "1.2.0",
            "grid_template_areas": null,
            "object_position": null,
            "object_fit": null,
            "grid_auto_columns": null,
            "margin": null,
            "display": null,
            "left": null
          }
        },
        "94d6d131cdf94bada5b3ac83fd5fa333": {
          "model_module": "@jupyter-widgets/controls",
          "model_name": "FloatProgressModel",
          "model_module_version": "1.5.0",
          "state": {
            "_view_name": "ProgressView",
            "style": "IPY_MODEL_052327e84e3947b2bcc178e5fa1f7c6d",
            "_dom_classes": [],
            "description": " #0: 100%",
            "_model_name": "FloatProgressModel",
            "bar_style": "success",
            "max": 1,
            "_view_module": "@jupyter-widgets/controls",
            "_model_module_version": "1.5.0",
            "value": 1,
            "_view_count": null,
            "_view_module_version": "1.5.0",
            "orientation": "horizontal",
            "min": 0,
            "description_tooltip": null,
            "_model_module": "@jupyter-widgets/controls",
            "layout": "IPY_MODEL_af53007f96b047eda238511e54b810b0"
          }
        },
        "42a0afdd29624071a1997997e6213bf5": {
          "model_module": "@jupyter-widgets/controls",
          "model_name": "HTMLModel",
          "model_module_version": "1.5.0",
          "state": {
            "_view_name": "HTMLView",
            "style": "IPY_MODEL_6596dbb064e44fc2a3cbb82e0f633bd1",
            "_dom_classes": [],
            "description": "",
            "_model_name": "HTMLModel",
            "placeholder": "​",
            "_view_module": "@jupyter-widgets/controls",
            "_model_module_version": "1.5.0",
            "value": " 1/1 [00:00&lt;00:00,  2.55ba/s]",
            "_view_count": null,
            "_view_module_version": "1.5.0",
            "description_tooltip": null,
            "_model_module": "@jupyter-widgets/controls",
            "layout": "IPY_MODEL_b681ed6c45034a5f81be7d926cb6a044"
          }
        },
        "052327e84e3947b2bcc178e5fa1f7c6d": {
          "model_module": "@jupyter-widgets/controls",
          "model_name": "ProgressStyleModel",
          "model_module_version": "1.5.0",
          "state": {
            "_view_name": "StyleView",
            "_model_name": "ProgressStyleModel",
            "description_width": "initial",
            "_view_module": "@jupyter-widgets/base",
            "_model_module_version": "1.5.0",
            "_view_count": null,
            "_view_module_version": "1.2.0",
            "bar_color": null,
            "_model_module": "@jupyter-widgets/controls"
          }
        },
        "af53007f96b047eda238511e54b810b0": {
          "model_module": "@jupyter-widgets/base",
          "model_name": "LayoutModel",
          "model_module_version": "1.2.0",
          "state": {
            "_view_name": "LayoutView",
            "grid_template_rows": null,
            "right": null,
            "justify_content": null,
            "_view_module": "@jupyter-widgets/base",
            "overflow": null,
            "_model_module_version": "1.2.0",
            "_view_count": null,
            "flex_flow": null,
            "width": null,
            "min_width": null,
            "border": null,
            "align_items": null,
            "bottom": null,
            "_model_module": "@jupyter-widgets/base",
            "top": null,
            "grid_column": null,
            "overflow_y": null,
            "overflow_x": null,
            "grid_auto_flow": null,
            "grid_area": null,
            "grid_template_columns": null,
            "flex": null,
            "_model_name": "LayoutModel",
            "justify_items": null,
            "grid_row": null,
            "max_height": null,
            "align_content": null,
            "visibility": null,
            "align_self": null,
            "height": null,
            "min_height": null,
            "padding": null,
            "grid_auto_rows": null,
            "grid_gap": null,
            "max_width": null,
            "order": null,
            "_view_module_version": "1.2.0",
            "grid_template_areas": null,
            "object_position": null,
            "object_fit": null,
            "grid_auto_columns": null,
            "margin": null,
            "display": null,
            "left": null
          }
        },
        "6596dbb064e44fc2a3cbb82e0f633bd1": {
          "model_module": "@jupyter-widgets/controls",
          "model_name": "DescriptionStyleModel",
          "model_module_version": "1.5.0",
          "state": {
            "_view_name": "StyleView",
            "_model_name": "DescriptionStyleModel",
            "description_width": "",
            "_view_module": "@jupyter-widgets/base",
            "_model_module_version": "1.5.0",
            "_view_count": null,
            "_view_module_version": "1.2.0",
            "_model_module": "@jupyter-widgets/controls"
          }
        },
        "b681ed6c45034a5f81be7d926cb6a044": {
          "model_module": "@jupyter-widgets/base",
          "model_name": "LayoutModel",
          "model_module_version": "1.2.0",
          "state": {
            "_view_name": "LayoutView",
            "grid_template_rows": null,
            "right": null,
            "justify_content": null,
            "_view_module": "@jupyter-widgets/base",
            "overflow": null,
            "_model_module_version": "1.2.0",
            "_view_count": null,
            "flex_flow": null,
            "width": null,
            "min_width": null,
            "border": null,
            "align_items": null,
            "bottom": null,
            "_model_module": "@jupyter-widgets/base",
            "top": null,
            "grid_column": null,
            "overflow_y": null,
            "overflow_x": null,
            "grid_auto_flow": null,
            "grid_area": null,
            "grid_template_columns": null,
            "flex": null,
            "_model_name": "LayoutModel",
            "justify_items": null,
            "grid_row": null,
            "max_height": null,
            "align_content": null,
            "visibility": null,
            "align_self": null,
            "height": null,
            "min_height": null,
            "padding": null,
            "grid_auto_rows": null,
            "grid_gap": null,
            "max_width": null,
            "order": null,
            "_view_module_version": "1.2.0",
            "grid_template_areas": null,
            "object_position": null,
            "object_fit": null,
            "grid_auto_columns": null,
            "margin": null,
            "display": null,
            "left": null
          }
        },
        "72fc4c31d3514af39c71ef3f8ae4072a": {
          "model_module": "@jupyter-widgets/controls",
          "model_name": "HBoxModel",
          "model_module_version": "1.5.0",
          "state": {
            "_view_name": "HBoxView",
            "_dom_classes": [],
            "_model_name": "HBoxModel",
            "_view_module": "@jupyter-widgets/controls",
            "_model_module_version": "1.5.0",
            "_view_count": null,
            "_view_module_version": "1.5.0",
            "box_style": "",
            "layout": "IPY_MODEL_0cfaf39749024ecd84da9228b432b327",
            "_model_module": "@jupyter-widgets/controls",
            "children": [
              "IPY_MODEL_1ff9a370f84546e1b9e82a30ec5b5e9f",
              "IPY_MODEL_add78aacdb674540b5fc1bdce3c0378a"
            ]
          }
        },
        "0cfaf39749024ecd84da9228b432b327": {
          "model_module": "@jupyter-widgets/base",
          "model_name": "LayoutModel",
          "model_module_version": "1.2.0",
          "state": {
            "_view_name": "LayoutView",
            "grid_template_rows": null,
            "right": null,
            "justify_content": null,
            "_view_module": "@jupyter-widgets/base",
            "overflow": null,
            "_model_module_version": "1.2.0",
            "_view_count": null,
            "flex_flow": null,
            "width": null,
            "min_width": null,
            "border": null,
            "align_items": null,
            "bottom": null,
            "_model_module": "@jupyter-widgets/base",
            "top": null,
            "grid_column": null,
            "overflow_y": null,
            "overflow_x": null,
            "grid_auto_flow": null,
            "grid_area": null,
            "grid_template_columns": null,
            "flex": null,
            "_model_name": "LayoutModel",
            "justify_items": null,
            "grid_row": null,
            "max_height": null,
            "align_content": null,
            "visibility": null,
            "align_self": null,
            "height": null,
            "min_height": null,
            "padding": null,
            "grid_auto_rows": null,
            "grid_gap": null,
            "max_width": null,
            "order": null,
            "_view_module_version": "1.2.0",
            "grid_template_areas": null,
            "object_position": null,
            "object_fit": null,
            "grid_auto_columns": null,
            "margin": null,
            "display": null,
            "left": null
          }
        },
        "1ff9a370f84546e1b9e82a30ec5b5e9f": {
          "model_module": "@jupyter-widgets/controls",
          "model_name": "FloatProgressModel",
          "model_module_version": "1.5.0",
          "state": {
            "_view_name": "ProgressView",
            "style": "IPY_MODEL_5af0cdf98be741fa8c1ba7d0d10b11d9",
            "_dom_classes": [],
            "description": " #2: 100%",
            "_model_name": "FloatProgressModel",
            "bar_style": "success",
            "max": 1,
            "_view_module": "@jupyter-widgets/controls",
            "_model_module_version": "1.5.0",
            "value": 1,
            "_view_count": null,
            "_view_module_version": "1.5.0",
            "orientation": "horizontal",
            "min": 0,
            "description_tooltip": null,
            "_model_module": "@jupyter-widgets/controls",
            "layout": "IPY_MODEL_dcc9c729e0b24cd4a54b923ac08c9ee5"
          }
        },
        "add78aacdb674540b5fc1bdce3c0378a": {
          "model_module": "@jupyter-widgets/controls",
          "model_name": "HTMLModel",
          "model_module_version": "1.5.0",
          "state": {
            "_view_name": "HTMLView",
            "style": "IPY_MODEL_38134334a2784feaa2eecc7d943ba4aa",
            "_dom_classes": [],
            "description": "",
            "_model_name": "HTMLModel",
            "placeholder": "​",
            "_view_module": "@jupyter-widgets/controls",
            "_model_module_version": "1.5.0",
            "value": " 1/1 [00:00&lt;00:00,  2.53ba/s]",
            "_view_count": null,
            "_view_module_version": "1.5.0",
            "description_tooltip": null,
            "_model_module": "@jupyter-widgets/controls",
            "layout": "IPY_MODEL_1b6b6751242b4ce2ac818027796f509d"
          }
        },
        "5af0cdf98be741fa8c1ba7d0d10b11d9": {
          "model_module": "@jupyter-widgets/controls",
          "model_name": "ProgressStyleModel",
          "model_module_version": "1.5.0",
          "state": {
            "_view_name": "StyleView",
            "_model_name": "ProgressStyleModel",
            "description_width": "initial",
            "_view_module": "@jupyter-widgets/base",
            "_model_module_version": "1.5.0",
            "_view_count": null,
            "_view_module_version": "1.2.0",
            "bar_color": null,
            "_model_module": "@jupyter-widgets/controls"
          }
        },
        "dcc9c729e0b24cd4a54b923ac08c9ee5": {
          "model_module": "@jupyter-widgets/base",
          "model_name": "LayoutModel",
          "model_module_version": "1.2.0",
          "state": {
            "_view_name": "LayoutView",
            "grid_template_rows": null,
            "right": null,
            "justify_content": null,
            "_view_module": "@jupyter-widgets/base",
            "overflow": null,
            "_model_module_version": "1.2.0",
            "_view_count": null,
            "flex_flow": null,
            "width": null,
            "min_width": null,
            "border": null,
            "align_items": null,
            "bottom": null,
            "_model_module": "@jupyter-widgets/base",
            "top": null,
            "grid_column": null,
            "overflow_y": null,
            "overflow_x": null,
            "grid_auto_flow": null,
            "grid_area": null,
            "grid_template_columns": null,
            "flex": null,
            "_model_name": "LayoutModel",
            "justify_items": null,
            "grid_row": null,
            "max_height": null,
            "align_content": null,
            "visibility": null,
            "align_self": null,
            "height": null,
            "min_height": null,
            "padding": null,
            "grid_auto_rows": null,
            "grid_gap": null,
            "max_width": null,
            "order": null,
            "_view_module_version": "1.2.0",
            "grid_template_areas": null,
            "object_position": null,
            "object_fit": null,
            "grid_auto_columns": null,
            "margin": null,
            "display": null,
            "left": null
          }
        },
        "38134334a2784feaa2eecc7d943ba4aa": {
          "model_module": "@jupyter-widgets/controls",
          "model_name": "DescriptionStyleModel",
          "model_module_version": "1.5.0",
          "state": {
            "_view_name": "StyleView",
            "_model_name": "DescriptionStyleModel",
            "description_width": "",
            "_view_module": "@jupyter-widgets/base",
            "_model_module_version": "1.5.0",
            "_view_count": null,
            "_view_module_version": "1.2.0",
            "_model_module": "@jupyter-widgets/controls"
          }
        },
        "1b6b6751242b4ce2ac818027796f509d": {
          "model_module": "@jupyter-widgets/base",
          "model_name": "LayoutModel",
          "model_module_version": "1.2.0",
          "state": {
            "_view_name": "LayoutView",
            "grid_template_rows": null,
            "right": null,
            "justify_content": null,
            "_view_module": "@jupyter-widgets/base",
            "overflow": null,
            "_model_module_version": "1.2.0",
            "_view_count": null,
            "flex_flow": null,
            "width": null,
            "min_width": null,
            "border": null,
            "align_items": null,
            "bottom": null,
            "_model_module": "@jupyter-widgets/base",
            "top": null,
            "grid_column": null,
            "overflow_y": null,
            "overflow_x": null,
            "grid_auto_flow": null,
            "grid_area": null,
            "grid_template_columns": null,
            "flex": null,
            "_model_name": "LayoutModel",
            "justify_items": null,
            "grid_row": null,
            "max_height": null,
            "align_content": null,
            "visibility": null,
            "align_self": null,
            "height": null,
            "min_height": null,
            "padding": null,
            "grid_auto_rows": null,
            "grid_gap": null,
            "max_width": null,
            "order": null,
            "_view_module_version": "1.2.0",
            "grid_template_areas": null,
            "object_position": null,
            "object_fit": null,
            "grid_auto_columns": null,
            "margin": null,
            "display": null,
            "left": null
          }
        },
        "d6eaf5de97eb4a51b7feeaa1872c5517": {
          "model_module": "@jupyter-widgets/controls",
          "model_name": "HBoxModel",
          "model_module_version": "1.5.0",
          "state": {
            "_view_name": "HBoxView",
            "_dom_classes": [],
            "_model_name": "HBoxModel",
            "_view_module": "@jupyter-widgets/controls",
            "_model_module_version": "1.5.0",
            "_view_count": null,
            "_view_module_version": "1.5.0",
            "box_style": "",
            "layout": "IPY_MODEL_506742063f0a4993bc35c97de55534ef",
            "_model_module": "@jupyter-widgets/controls",
            "children": [
              "IPY_MODEL_d12fad3d1cb445538f24ea749eebb98a",
              "IPY_MODEL_f647e340ea1b481fb0cf233bee59c322"
            ]
          }
        },
        "506742063f0a4993bc35c97de55534ef": {
          "model_module": "@jupyter-widgets/base",
          "model_name": "LayoutModel",
          "model_module_version": "1.2.0",
          "state": {
            "_view_name": "LayoutView",
            "grid_template_rows": null,
            "right": null,
            "justify_content": null,
            "_view_module": "@jupyter-widgets/base",
            "overflow": null,
            "_model_module_version": "1.2.0",
            "_view_count": null,
            "flex_flow": null,
            "width": null,
            "min_width": null,
            "border": null,
            "align_items": null,
            "bottom": null,
            "_model_module": "@jupyter-widgets/base",
            "top": null,
            "grid_column": null,
            "overflow_y": null,
            "overflow_x": null,
            "grid_auto_flow": null,
            "grid_area": null,
            "grid_template_columns": null,
            "flex": null,
            "_model_name": "LayoutModel",
            "justify_items": null,
            "grid_row": null,
            "max_height": null,
            "align_content": null,
            "visibility": null,
            "align_self": null,
            "height": null,
            "min_height": null,
            "padding": null,
            "grid_auto_rows": null,
            "grid_gap": null,
            "max_width": null,
            "order": null,
            "_view_module_version": "1.2.0",
            "grid_template_areas": null,
            "object_position": null,
            "object_fit": null,
            "grid_auto_columns": null,
            "margin": null,
            "display": null,
            "left": null
          }
        },
        "d12fad3d1cb445538f24ea749eebb98a": {
          "model_module": "@jupyter-widgets/controls",
          "model_name": "FloatProgressModel",
          "model_module_version": "1.5.0",
          "state": {
            "_view_name": "ProgressView",
            "style": "IPY_MODEL_0437326d95cb4f738eda2b7551aa8cc9",
            "_dom_classes": [],
            "description": " #1: 100%",
            "_model_name": "FloatProgressModel",
            "bar_style": "success",
            "max": 1,
            "_view_module": "@jupyter-widgets/controls",
            "_model_module_version": "1.5.0",
            "value": 1,
            "_view_count": null,
            "_view_module_version": "1.5.0",
            "orientation": "horizontal",
            "min": 0,
            "description_tooltip": null,
            "_model_module": "@jupyter-widgets/controls",
            "layout": "IPY_MODEL_f1449c36ef624be48942e70e80629e5f"
          }
        },
        "f647e340ea1b481fb0cf233bee59c322": {
          "model_module": "@jupyter-widgets/controls",
          "model_name": "HTMLModel",
          "model_module_version": "1.5.0",
          "state": {
            "_view_name": "HTMLView",
            "style": "IPY_MODEL_04fea7076b4b4dd1af29b66e96739c62",
            "_dom_classes": [],
            "description": "",
            "_model_name": "HTMLModel",
            "placeholder": "​",
            "_view_module": "@jupyter-widgets/controls",
            "_model_module_version": "1.5.0",
            "value": " 1/1 [00:00&lt;00:00,  2.52ba/s]",
            "_view_count": null,
            "_view_module_version": "1.5.0",
            "description_tooltip": null,
            "_model_module": "@jupyter-widgets/controls",
            "layout": "IPY_MODEL_03ee24afd25b4d4dab145d06ad2dbbf8"
          }
        },
        "0437326d95cb4f738eda2b7551aa8cc9": {
          "model_module": "@jupyter-widgets/controls",
          "model_name": "ProgressStyleModel",
          "model_module_version": "1.5.0",
          "state": {
            "_view_name": "StyleView",
            "_model_name": "ProgressStyleModel",
            "description_width": "initial",
            "_view_module": "@jupyter-widgets/base",
            "_model_module_version": "1.5.0",
            "_view_count": null,
            "_view_module_version": "1.2.0",
            "bar_color": null,
            "_model_module": "@jupyter-widgets/controls"
          }
        },
        "f1449c36ef624be48942e70e80629e5f": {
          "model_module": "@jupyter-widgets/base",
          "model_name": "LayoutModel",
          "model_module_version": "1.2.0",
          "state": {
            "_view_name": "LayoutView",
            "grid_template_rows": null,
            "right": null,
            "justify_content": null,
            "_view_module": "@jupyter-widgets/base",
            "overflow": null,
            "_model_module_version": "1.2.0",
            "_view_count": null,
            "flex_flow": null,
            "width": null,
            "min_width": null,
            "border": null,
            "align_items": null,
            "bottom": null,
            "_model_module": "@jupyter-widgets/base",
            "top": null,
            "grid_column": null,
            "overflow_y": null,
            "overflow_x": null,
            "grid_auto_flow": null,
            "grid_area": null,
            "grid_template_columns": null,
            "flex": null,
            "_model_name": "LayoutModel",
            "justify_items": null,
            "grid_row": null,
            "max_height": null,
            "align_content": null,
            "visibility": null,
            "align_self": null,
            "height": null,
            "min_height": null,
            "padding": null,
            "grid_auto_rows": null,
            "grid_gap": null,
            "max_width": null,
            "order": null,
            "_view_module_version": "1.2.0",
            "grid_template_areas": null,
            "object_position": null,
            "object_fit": null,
            "grid_auto_columns": null,
            "margin": null,
            "display": null,
            "left": null
          }
        },
        "04fea7076b4b4dd1af29b66e96739c62": {
          "model_module": "@jupyter-widgets/controls",
          "model_name": "DescriptionStyleModel",
          "model_module_version": "1.5.0",
          "state": {
            "_view_name": "StyleView",
            "_model_name": "DescriptionStyleModel",
            "description_width": "",
            "_view_module": "@jupyter-widgets/base",
            "_model_module_version": "1.5.0",
            "_view_count": null,
            "_view_module_version": "1.2.0",
            "_model_module": "@jupyter-widgets/controls"
          }
        },
        "03ee24afd25b4d4dab145d06ad2dbbf8": {
          "model_module": "@jupyter-widgets/base",
          "model_name": "LayoutModel",
          "model_module_version": "1.2.0",
          "state": {
            "_view_name": "LayoutView",
            "grid_template_rows": null,
            "right": null,
            "justify_content": null,
            "_view_module": "@jupyter-widgets/base",
            "overflow": null,
            "_model_module_version": "1.2.0",
            "_view_count": null,
            "flex_flow": null,
            "width": null,
            "min_width": null,
            "border": null,
            "align_items": null,
            "bottom": null,
            "_model_module": "@jupyter-widgets/base",
            "top": null,
            "grid_column": null,
            "overflow_y": null,
            "overflow_x": null,
            "grid_auto_flow": null,
            "grid_area": null,
            "grid_template_columns": null,
            "flex": null,
            "_model_name": "LayoutModel",
            "justify_items": null,
            "grid_row": null,
            "max_height": null,
            "align_content": null,
            "visibility": null,
            "align_self": null,
            "height": null,
            "min_height": null,
            "padding": null,
            "grid_auto_rows": null,
            "grid_gap": null,
            "max_width": null,
            "order": null,
            "_view_module_version": "1.2.0",
            "grid_template_areas": null,
            "object_position": null,
            "object_fit": null,
            "grid_auto_columns": null,
            "margin": null,
            "display": null,
            "left": null
          }
        },
        "2fe6e270c43f401aa74ec8e57ff4b269": {
          "model_module": "@jupyter-widgets/controls",
          "model_name": "HBoxModel",
          "model_module_version": "1.5.0",
          "state": {
            "_view_name": "HBoxView",
            "_dom_classes": [],
            "_model_name": "HBoxModel",
            "_view_module": "@jupyter-widgets/controls",
            "_model_module_version": "1.5.0",
            "_view_count": null,
            "_view_module_version": "1.5.0",
            "box_style": "",
            "layout": "IPY_MODEL_a006ef01e04c4a699b6f60903c7148fa",
            "_model_module": "@jupyter-widgets/controls",
            "children": [
              "IPY_MODEL_e5617550d0d74428906bbe8234bd2269",
              "IPY_MODEL_3ca47c42be384f94886de44a79bb4037"
            ]
          }
        },
        "a006ef01e04c4a699b6f60903c7148fa": {
          "model_module": "@jupyter-widgets/base",
          "model_name": "LayoutModel",
          "model_module_version": "1.2.0",
          "state": {
            "_view_name": "LayoutView",
            "grid_template_rows": null,
            "right": null,
            "justify_content": null,
            "_view_module": "@jupyter-widgets/base",
            "overflow": null,
            "_model_module_version": "1.2.0",
            "_view_count": null,
            "flex_flow": null,
            "width": null,
            "min_width": null,
            "border": null,
            "align_items": null,
            "bottom": null,
            "_model_module": "@jupyter-widgets/base",
            "top": null,
            "grid_column": null,
            "overflow_y": null,
            "overflow_x": null,
            "grid_auto_flow": null,
            "grid_area": null,
            "grid_template_columns": null,
            "flex": null,
            "_model_name": "LayoutModel",
            "justify_items": null,
            "grid_row": null,
            "max_height": null,
            "align_content": null,
            "visibility": null,
            "align_self": null,
            "height": null,
            "min_height": null,
            "padding": null,
            "grid_auto_rows": null,
            "grid_gap": null,
            "max_width": null,
            "order": null,
            "_view_module_version": "1.2.0",
            "grid_template_areas": null,
            "object_position": null,
            "object_fit": null,
            "grid_auto_columns": null,
            "margin": null,
            "display": null,
            "left": null
          }
        },
        "e5617550d0d74428906bbe8234bd2269": {
          "model_module": "@jupyter-widgets/controls",
          "model_name": "FloatProgressModel",
          "model_module_version": "1.5.0",
          "state": {
            "_view_name": "ProgressView",
            "style": "IPY_MODEL_a3dfc203dbd74bb9b216f4a69e2f5009",
            "_dom_classes": [],
            "description": " #3: 100%",
            "_model_name": "FloatProgressModel",
            "bar_style": "success",
            "max": 1,
            "_view_module": "@jupyter-widgets/controls",
            "_model_module_version": "1.5.0",
            "value": 1,
            "_view_count": null,
            "_view_module_version": "1.5.0",
            "orientation": "horizontal",
            "min": 0,
            "description_tooltip": null,
            "_model_module": "@jupyter-widgets/controls",
            "layout": "IPY_MODEL_aca0c5ceac0c4443a7199f959bf40537"
          }
        },
        "3ca47c42be384f94886de44a79bb4037": {
          "model_module": "@jupyter-widgets/controls",
          "model_name": "HTMLModel",
          "model_module_version": "1.5.0",
          "state": {
            "_view_name": "HTMLView",
            "style": "IPY_MODEL_4bbe98e1629a427ab4f214f83dffcddb",
            "_dom_classes": [],
            "description": "",
            "_model_name": "HTMLModel",
            "placeholder": "​",
            "_view_module": "@jupyter-widgets/controls",
            "_model_module_version": "1.5.0",
            "value": " 1/1 [00:00&lt;00:00,  2.61ba/s]",
            "_view_count": null,
            "_view_module_version": "1.5.0",
            "description_tooltip": null,
            "_model_module": "@jupyter-widgets/controls",
            "layout": "IPY_MODEL_f38be6135ae3433ba317585b522389e4"
          }
        },
        "a3dfc203dbd74bb9b216f4a69e2f5009": {
          "model_module": "@jupyter-widgets/controls",
          "model_name": "ProgressStyleModel",
          "model_module_version": "1.5.0",
          "state": {
            "_view_name": "StyleView",
            "_model_name": "ProgressStyleModel",
            "description_width": "initial",
            "_view_module": "@jupyter-widgets/base",
            "_model_module_version": "1.5.0",
            "_view_count": null,
            "_view_module_version": "1.2.0",
            "bar_color": null,
            "_model_module": "@jupyter-widgets/controls"
          }
        },
        "aca0c5ceac0c4443a7199f959bf40537": {
          "model_module": "@jupyter-widgets/base",
          "model_name": "LayoutModel",
          "model_module_version": "1.2.0",
          "state": {
            "_view_name": "LayoutView",
            "grid_template_rows": null,
            "right": null,
            "justify_content": null,
            "_view_module": "@jupyter-widgets/base",
            "overflow": null,
            "_model_module_version": "1.2.0",
            "_view_count": null,
            "flex_flow": null,
            "width": null,
            "min_width": null,
            "border": null,
            "align_items": null,
            "bottom": null,
            "_model_module": "@jupyter-widgets/base",
            "top": null,
            "grid_column": null,
            "overflow_y": null,
            "overflow_x": null,
            "grid_auto_flow": null,
            "grid_area": null,
            "grid_template_columns": null,
            "flex": null,
            "_model_name": "LayoutModel",
            "justify_items": null,
            "grid_row": null,
            "max_height": null,
            "align_content": null,
            "visibility": null,
            "align_self": null,
            "height": null,
            "min_height": null,
            "padding": null,
            "grid_auto_rows": null,
            "grid_gap": null,
            "max_width": null,
            "order": null,
            "_view_module_version": "1.2.0",
            "grid_template_areas": null,
            "object_position": null,
            "object_fit": null,
            "grid_auto_columns": null,
            "margin": null,
            "display": null,
            "left": null
          }
        },
        "4bbe98e1629a427ab4f214f83dffcddb": {
          "model_module": "@jupyter-widgets/controls",
          "model_name": "DescriptionStyleModel",
          "model_module_version": "1.5.0",
          "state": {
            "_view_name": "StyleView",
            "_model_name": "DescriptionStyleModel",
            "description_width": "",
            "_view_module": "@jupyter-widgets/base",
            "_model_module_version": "1.5.0",
            "_view_count": null,
            "_view_module_version": "1.2.0",
            "_model_module": "@jupyter-widgets/controls"
          }
        },
        "f38be6135ae3433ba317585b522389e4": {
          "model_module": "@jupyter-widgets/base",
          "model_name": "LayoutModel",
          "model_module_version": "1.2.0",
          "state": {
            "_view_name": "LayoutView",
            "grid_template_rows": null,
            "right": null,
            "justify_content": null,
            "_view_module": "@jupyter-widgets/base",
            "overflow": null,
            "_model_module_version": "1.2.0",
            "_view_count": null,
            "flex_flow": null,
            "width": null,
            "min_width": null,
            "border": null,
            "align_items": null,
            "bottom": null,
            "_model_module": "@jupyter-widgets/base",
            "top": null,
            "grid_column": null,
            "overflow_y": null,
            "overflow_x": null,
            "grid_auto_flow": null,
            "grid_area": null,
            "grid_template_columns": null,
            "flex": null,
            "_model_name": "LayoutModel",
            "justify_items": null,
            "grid_row": null,
            "max_height": null,
            "align_content": null,
            "visibility": null,
            "align_self": null,
            "height": null,
            "min_height": null,
            "padding": null,
            "grid_auto_rows": null,
            "grid_gap": null,
            "max_width": null,
            "order": null,
            "_view_module_version": "1.2.0",
            "grid_template_areas": null,
            "object_position": null,
            "object_fit": null,
            "grid_auto_columns": null,
            "margin": null,
            "display": null,
            "left": null
          }
        },
        "14234af1b63146db8ec7b088861694cd": {
          "model_module": "@jupyter-widgets/controls",
          "model_name": "HBoxModel",
          "model_module_version": "1.5.0",
          "state": {
            "_view_name": "HBoxView",
            "_dom_classes": [],
            "_model_name": "HBoxModel",
            "_view_module": "@jupyter-widgets/controls",
            "_model_module_version": "1.5.0",
            "_view_count": null,
            "_view_module_version": "1.5.0",
            "box_style": "",
            "layout": "IPY_MODEL_8779023127ef40e28acd2cad75d93cc7",
            "_model_module": "@jupyter-widgets/controls",
            "children": [
              "IPY_MODEL_f4b5d5e5c6f84d828558fc3c1d1b2e9d",
              "IPY_MODEL_805b70d39b61450baccd2c9f3809fc89"
            ]
          }
        },
        "8779023127ef40e28acd2cad75d93cc7": {
          "model_module": "@jupyter-widgets/base",
          "model_name": "LayoutModel",
          "model_module_version": "1.2.0",
          "state": {
            "_view_name": "LayoutView",
            "grid_template_rows": null,
            "right": null,
            "justify_content": null,
            "_view_module": "@jupyter-widgets/base",
            "overflow": null,
            "_model_module_version": "1.2.0",
            "_view_count": null,
            "flex_flow": null,
            "width": null,
            "min_width": null,
            "border": null,
            "align_items": null,
            "bottom": null,
            "_model_module": "@jupyter-widgets/base",
            "top": null,
            "grid_column": null,
            "overflow_y": null,
            "overflow_x": null,
            "grid_auto_flow": null,
            "grid_area": null,
            "grid_template_columns": null,
            "flex": null,
            "_model_name": "LayoutModel",
            "justify_items": null,
            "grid_row": null,
            "max_height": null,
            "align_content": null,
            "visibility": null,
            "align_self": null,
            "height": null,
            "min_height": null,
            "padding": null,
            "grid_auto_rows": null,
            "grid_gap": null,
            "max_width": null,
            "order": null,
            "_view_module_version": "1.2.0",
            "grid_template_areas": null,
            "object_position": null,
            "object_fit": null,
            "grid_auto_columns": null,
            "margin": null,
            "display": null,
            "left": null
          }
        },
        "f4b5d5e5c6f84d828558fc3c1d1b2e9d": {
          "model_module": "@jupyter-widgets/controls",
          "model_name": "FloatProgressModel",
          "model_module_version": "1.5.0",
          "state": {
            "_view_name": "ProgressView",
            "style": "IPY_MODEL_903556347cc440388d8453951cad3792",
            "_dom_classes": [],
            "description": " #0: 100%",
            "_model_name": "FloatProgressModel",
            "bar_style": "success",
            "max": 1,
            "_view_module": "@jupyter-widgets/controls",
            "_model_module_version": "1.5.0",
            "value": 1,
            "_view_count": null,
            "_view_module_version": "1.5.0",
            "orientation": "horizontal",
            "min": 0,
            "description_tooltip": null,
            "_model_module": "@jupyter-widgets/controls",
            "layout": "IPY_MODEL_de6314f6229c4022b779325ba7288747"
          }
        },
        "805b70d39b61450baccd2c9f3809fc89": {
          "model_module": "@jupyter-widgets/controls",
          "model_name": "HTMLModel",
          "model_module_version": "1.5.0",
          "state": {
            "_view_name": "HTMLView",
            "style": "IPY_MODEL_6536d5b6fe0f4f618222786b686ceebb",
            "_dom_classes": [],
            "description": "",
            "_model_name": "HTMLModel",
            "placeholder": "​",
            "_view_module": "@jupyter-widgets/controls",
            "_model_module_version": "1.5.0",
            "value": " 1/1 [00:00&lt;00:00,  3.34ba/s]",
            "_view_count": null,
            "_view_module_version": "1.5.0",
            "description_tooltip": null,
            "_model_module": "@jupyter-widgets/controls",
            "layout": "IPY_MODEL_ec52e9996d8c4df99dca5551646e8215"
          }
        },
        "903556347cc440388d8453951cad3792": {
          "model_module": "@jupyter-widgets/controls",
          "model_name": "ProgressStyleModel",
          "model_module_version": "1.5.0",
          "state": {
            "_view_name": "StyleView",
            "_model_name": "ProgressStyleModel",
            "description_width": "initial",
            "_view_module": "@jupyter-widgets/base",
            "_model_module_version": "1.5.0",
            "_view_count": null,
            "_view_module_version": "1.2.0",
            "bar_color": null,
            "_model_module": "@jupyter-widgets/controls"
          }
        },
        "de6314f6229c4022b779325ba7288747": {
          "model_module": "@jupyter-widgets/base",
          "model_name": "LayoutModel",
          "model_module_version": "1.2.0",
          "state": {
            "_view_name": "LayoutView",
            "grid_template_rows": null,
            "right": null,
            "justify_content": null,
            "_view_module": "@jupyter-widgets/base",
            "overflow": null,
            "_model_module_version": "1.2.0",
            "_view_count": null,
            "flex_flow": null,
            "width": null,
            "min_width": null,
            "border": null,
            "align_items": null,
            "bottom": null,
            "_model_module": "@jupyter-widgets/base",
            "top": null,
            "grid_column": null,
            "overflow_y": null,
            "overflow_x": null,
            "grid_auto_flow": null,
            "grid_area": null,
            "grid_template_columns": null,
            "flex": null,
            "_model_name": "LayoutModel",
            "justify_items": null,
            "grid_row": null,
            "max_height": null,
            "align_content": null,
            "visibility": null,
            "align_self": null,
            "height": null,
            "min_height": null,
            "padding": null,
            "grid_auto_rows": null,
            "grid_gap": null,
            "max_width": null,
            "order": null,
            "_view_module_version": "1.2.0",
            "grid_template_areas": null,
            "object_position": null,
            "object_fit": null,
            "grid_auto_columns": null,
            "margin": null,
            "display": null,
            "left": null
          }
        },
        "6536d5b6fe0f4f618222786b686ceebb": {
          "model_module": "@jupyter-widgets/controls",
          "model_name": "DescriptionStyleModel",
          "model_module_version": "1.5.0",
          "state": {
            "_view_name": "StyleView",
            "_model_name": "DescriptionStyleModel",
            "description_width": "",
            "_view_module": "@jupyter-widgets/base",
            "_model_module_version": "1.5.0",
            "_view_count": null,
            "_view_module_version": "1.2.0",
            "_model_module": "@jupyter-widgets/controls"
          }
        },
        "ec52e9996d8c4df99dca5551646e8215": {
          "model_module": "@jupyter-widgets/base",
          "model_name": "LayoutModel",
          "model_module_version": "1.2.0",
          "state": {
            "_view_name": "LayoutView",
            "grid_template_rows": null,
            "right": null,
            "justify_content": null,
            "_view_module": "@jupyter-widgets/base",
            "overflow": null,
            "_model_module_version": "1.2.0",
            "_view_count": null,
            "flex_flow": null,
            "width": null,
            "min_width": null,
            "border": null,
            "align_items": null,
            "bottom": null,
            "_model_module": "@jupyter-widgets/base",
            "top": null,
            "grid_column": null,
            "overflow_y": null,
            "overflow_x": null,
            "grid_auto_flow": null,
            "grid_area": null,
            "grid_template_columns": null,
            "flex": null,
            "_model_name": "LayoutModel",
            "justify_items": null,
            "grid_row": null,
            "max_height": null,
            "align_content": null,
            "visibility": null,
            "align_self": null,
            "height": null,
            "min_height": null,
            "padding": null,
            "grid_auto_rows": null,
            "grid_gap": null,
            "max_width": null,
            "order": null,
            "_view_module_version": "1.2.0",
            "grid_template_areas": null,
            "object_position": null,
            "object_fit": null,
            "grid_auto_columns": null,
            "margin": null,
            "display": null,
            "left": null
          }
        },
        "6d17a1a8a0e14e918aca9ed18766f14d": {
          "model_module": "@jupyter-widgets/controls",
          "model_name": "HBoxModel",
          "model_module_version": "1.5.0",
          "state": {
            "_view_name": "HBoxView",
            "_dom_classes": [],
            "_model_name": "HBoxModel",
            "_view_module": "@jupyter-widgets/controls",
            "_model_module_version": "1.5.0",
            "_view_count": null,
            "_view_module_version": "1.5.0",
            "box_style": "",
            "layout": "IPY_MODEL_4e9346c11caf4495b15e41e6d8b7c533",
            "_model_module": "@jupyter-widgets/controls",
            "children": [
              "IPY_MODEL_b205f1848d7a46f599d30204335e008f",
              "IPY_MODEL_834c90d1ad3041729559c965321341ed"
            ]
          }
        },
        "4e9346c11caf4495b15e41e6d8b7c533": {
          "model_module": "@jupyter-widgets/base",
          "model_name": "LayoutModel",
          "model_module_version": "1.2.0",
          "state": {
            "_view_name": "LayoutView",
            "grid_template_rows": null,
            "right": null,
            "justify_content": null,
            "_view_module": "@jupyter-widgets/base",
            "overflow": null,
            "_model_module_version": "1.2.0",
            "_view_count": null,
            "flex_flow": null,
            "width": null,
            "min_width": null,
            "border": null,
            "align_items": null,
            "bottom": null,
            "_model_module": "@jupyter-widgets/base",
            "top": null,
            "grid_column": null,
            "overflow_y": null,
            "overflow_x": null,
            "grid_auto_flow": null,
            "grid_area": null,
            "grid_template_columns": null,
            "flex": null,
            "_model_name": "LayoutModel",
            "justify_items": null,
            "grid_row": null,
            "max_height": null,
            "align_content": null,
            "visibility": null,
            "align_self": null,
            "height": null,
            "min_height": null,
            "padding": null,
            "grid_auto_rows": null,
            "grid_gap": null,
            "max_width": null,
            "order": null,
            "_view_module_version": "1.2.0",
            "grid_template_areas": null,
            "object_position": null,
            "object_fit": null,
            "grid_auto_columns": null,
            "margin": null,
            "display": null,
            "left": null
          }
        },
        "b205f1848d7a46f599d30204335e008f": {
          "model_module": "@jupyter-widgets/controls",
          "model_name": "FloatProgressModel",
          "model_module_version": "1.5.0",
          "state": {
            "_view_name": "ProgressView",
            "style": "IPY_MODEL_87a9de939a9a4112aac7292168b4be14",
            "_dom_classes": [],
            "description": " #1: 100%",
            "_model_name": "FloatProgressModel",
            "bar_style": "success",
            "max": 1,
            "_view_module": "@jupyter-widgets/controls",
            "_model_module_version": "1.5.0",
            "value": 1,
            "_view_count": null,
            "_view_module_version": "1.5.0",
            "orientation": "horizontal",
            "min": 0,
            "description_tooltip": null,
            "_model_module": "@jupyter-widgets/controls",
            "layout": "IPY_MODEL_72c70cd793164cdca338ecea785bfadf"
          }
        },
        "834c90d1ad3041729559c965321341ed": {
          "model_module": "@jupyter-widgets/controls",
          "model_name": "HTMLModel",
          "model_module_version": "1.5.0",
          "state": {
            "_view_name": "HTMLView",
            "style": "IPY_MODEL_101b6b53bc61476b9a949eabaab60c1b",
            "_dom_classes": [],
            "description": "",
            "_model_name": "HTMLModel",
            "placeholder": "​",
            "_view_module": "@jupyter-widgets/controls",
            "_model_module_version": "1.5.0",
            "value": " 1/1 [00:00&lt;00:00,  2.97ba/s]",
            "_view_count": null,
            "_view_module_version": "1.5.0",
            "description_tooltip": null,
            "_model_module": "@jupyter-widgets/controls",
            "layout": "IPY_MODEL_84948139154f4a3cb6134d6c1e053578"
          }
        },
        "87a9de939a9a4112aac7292168b4be14": {
          "model_module": "@jupyter-widgets/controls",
          "model_name": "ProgressStyleModel",
          "model_module_version": "1.5.0",
          "state": {
            "_view_name": "StyleView",
            "_model_name": "ProgressStyleModel",
            "description_width": "initial",
            "_view_module": "@jupyter-widgets/base",
            "_model_module_version": "1.5.0",
            "_view_count": null,
            "_view_module_version": "1.2.0",
            "bar_color": null,
            "_model_module": "@jupyter-widgets/controls"
          }
        },
        "72c70cd793164cdca338ecea785bfadf": {
          "model_module": "@jupyter-widgets/base",
          "model_name": "LayoutModel",
          "model_module_version": "1.2.0",
          "state": {
            "_view_name": "LayoutView",
            "grid_template_rows": null,
            "right": null,
            "justify_content": null,
            "_view_module": "@jupyter-widgets/base",
            "overflow": null,
            "_model_module_version": "1.2.0",
            "_view_count": null,
            "flex_flow": null,
            "width": null,
            "min_width": null,
            "border": null,
            "align_items": null,
            "bottom": null,
            "_model_module": "@jupyter-widgets/base",
            "top": null,
            "grid_column": null,
            "overflow_y": null,
            "overflow_x": null,
            "grid_auto_flow": null,
            "grid_area": null,
            "grid_template_columns": null,
            "flex": null,
            "_model_name": "LayoutModel",
            "justify_items": null,
            "grid_row": null,
            "max_height": null,
            "align_content": null,
            "visibility": null,
            "align_self": null,
            "height": null,
            "min_height": null,
            "padding": null,
            "grid_auto_rows": null,
            "grid_gap": null,
            "max_width": null,
            "order": null,
            "_view_module_version": "1.2.0",
            "grid_template_areas": null,
            "object_position": null,
            "object_fit": null,
            "grid_auto_columns": null,
            "margin": null,
            "display": null,
            "left": null
          }
        },
        "101b6b53bc61476b9a949eabaab60c1b": {
          "model_module": "@jupyter-widgets/controls",
          "model_name": "DescriptionStyleModel",
          "model_module_version": "1.5.0",
          "state": {
            "_view_name": "StyleView",
            "_model_name": "DescriptionStyleModel",
            "description_width": "",
            "_view_module": "@jupyter-widgets/base",
            "_model_module_version": "1.5.0",
            "_view_count": null,
            "_view_module_version": "1.2.0",
            "_model_module": "@jupyter-widgets/controls"
          }
        },
        "84948139154f4a3cb6134d6c1e053578": {
          "model_module": "@jupyter-widgets/base",
          "model_name": "LayoutModel",
          "model_module_version": "1.2.0",
          "state": {
            "_view_name": "LayoutView",
            "grid_template_rows": null,
            "right": null,
            "justify_content": null,
            "_view_module": "@jupyter-widgets/base",
            "overflow": null,
            "_model_module_version": "1.2.0",
            "_view_count": null,
            "flex_flow": null,
            "width": null,
            "min_width": null,
            "border": null,
            "align_items": null,
            "bottom": null,
            "_model_module": "@jupyter-widgets/base",
            "top": null,
            "grid_column": null,
            "overflow_y": null,
            "overflow_x": null,
            "grid_auto_flow": null,
            "grid_area": null,
            "grid_template_columns": null,
            "flex": null,
            "_model_name": "LayoutModel",
            "justify_items": null,
            "grid_row": null,
            "max_height": null,
            "align_content": null,
            "visibility": null,
            "align_self": null,
            "height": null,
            "min_height": null,
            "padding": null,
            "grid_auto_rows": null,
            "grid_gap": null,
            "max_width": null,
            "order": null,
            "_view_module_version": "1.2.0",
            "grid_template_areas": null,
            "object_position": null,
            "object_fit": null,
            "grid_auto_columns": null,
            "margin": null,
            "display": null,
            "left": null
          }
        },
        "6d79712ac8b64e8f920727935a7cc50c": {
          "model_module": "@jupyter-widgets/controls",
          "model_name": "HBoxModel",
          "model_module_version": "1.5.0",
          "state": {
            "_view_name": "HBoxView",
            "_dom_classes": [],
            "_model_name": "HBoxModel",
            "_view_module": "@jupyter-widgets/controls",
            "_model_module_version": "1.5.0",
            "_view_count": null,
            "_view_module_version": "1.5.0",
            "box_style": "",
            "layout": "IPY_MODEL_0430de105f454b32a891e8c0d3db6fa0",
            "_model_module": "@jupyter-widgets/controls",
            "children": [
              "IPY_MODEL_61898c90fddd4221a74ab1ecf6037ebf",
              "IPY_MODEL_f4868d8dddad4190a0f6857cccc9e831"
            ]
          }
        },
        "0430de105f454b32a891e8c0d3db6fa0": {
          "model_module": "@jupyter-widgets/base",
          "model_name": "LayoutModel",
          "model_module_version": "1.2.0",
          "state": {
            "_view_name": "LayoutView",
            "grid_template_rows": null,
            "right": null,
            "justify_content": null,
            "_view_module": "@jupyter-widgets/base",
            "overflow": null,
            "_model_module_version": "1.2.0",
            "_view_count": null,
            "flex_flow": null,
            "width": null,
            "min_width": null,
            "border": null,
            "align_items": null,
            "bottom": null,
            "_model_module": "@jupyter-widgets/base",
            "top": null,
            "grid_column": null,
            "overflow_y": null,
            "overflow_x": null,
            "grid_auto_flow": null,
            "grid_area": null,
            "grid_template_columns": null,
            "flex": null,
            "_model_name": "LayoutModel",
            "justify_items": null,
            "grid_row": null,
            "max_height": null,
            "align_content": null,
            "visibility": null,
            "align_self": null,
            "height": null,
            "min_height": null,
            "padding": null,
            "grid_auto_rows": null,
            "grid_gap": null,
            "max_width": null,
            "order": null,
            "_view_module_version": "1.2.0",
            "grid_template_areas": null,
            "object_position": null,
            "object_fit": null,
            "grid_auto_columns": null,
            "margin": null,
            "display": null,
            "left": null
          }
        },
        "61898c90fddd4221a74ab1ecf6037ebf": {
          "model_module": "@jupyter-widgets/controls",
          "model_name": "FloatProgressModel",
          "model_module_version": "1.5.0",
          "state": {
            "_view_name": "ProgressView",
            "style": "IPY_MODEL_b91e2a386fc54000ac3284245fcd5bf7",
            "_dom_classes": [],
            "description": " #2: 100%",
            "_model_name": "FloatProgressModel",
            "bar_style": "success",
            "max": 1,
            "_view_module": "@jupyter-widgets/controls",
            "_model_module_version": "1.5.0",
            "value": 1,
            "_view_count": null,
            "_view_module_version": "1.5.0",
            "orientation": "horizontal",
            "min": 0,
            "description_tooltip": null,
            "_model_module": "@jupyter-widgets/controls",
            "layout": "IPY_MODEL_792c1d2a7fc0448ab7bd925ece350bfd"
          }
        },
        "f4868d8dddad4190a0f6857cccc9e831": {
          "model_module": "@jupyter-widgets/controls",
          "model_name": "HTMLModel",
          "model_module_version": "1.5.0",
          "state": {
            "_view_name": "HTMLView",
            "style": "IPY_MODEL_750fc1b23e8943ffb4c1258ab5043ed3",
            "_dom_classes": [],
            "description": "",
            "_model_name": "HTMLModel",
            "placeholder": "​",
            "_view_module": "@jupyter-widgets/controls",
            "_model_module_version": "1.5.0",
            "value": " 1/1 [00:00&lt;00:00,  3.34ba/s]",
            "_view_count": null,
            "_view_module_version": "1.5.0",
            "description_tooltip": null,
            "_model_module": "@jupyter-widgets/controls",
            "layout": "IPY_MODEL_2034a629901a4871ae4e44ec7929005c"
          }
        },
        "b91e2a386fc54000ac3284245fcd5bf7": {
          "model_module": "@jupyter-widgets/controls",
          "model_name": "ProgressStyleModel",
          "model_module_version": "1.5.0",
          "state": {
            "_view_name": "StyleView",
            "_model_name": "ProgressStyleModel",
            "description_width": "initial",
            "_view_module": "@jupyter-widgets/base",
            "_model_module_version": "1.5.0",
            "_view_count": null,
            "_view_module_version": "1.2.0",
            "bar_color": null,
            "_model_module": "@jupyter-widgets/controls"
          }
        },
        "792c1d2a7fc0448ab7bd925ece350bfd": {
          "model_module": "@jupyter-widgets/base",
          "model_name": "LayoutModel",
          "model_module_version": "1.2.0",
          "state": {
            "_view_name": "LayoutView",
            "grid_template_rows": null,
            "right": null,
            "justify_content": null,
            "_view_module": "@jupyter-widgets/base",
            "overflow": null,
            "_model_module_version": "1.2.0",
            "_view_count": null,
            "flex_flow": null,
            "width": null,
            "min_width": null,
            "border": null,
            "align_items": null,
            "bottom": null,
            "_model_module": "@jupyter-widgets/base",
            "top": null,
            "grid_column": null,
            "overflow_y": null,
            "overflow_x": null,
            "grid_auto_flow": null,
            "grid_area": null,
            "grid_template_columns": null,
            "flex": null,
            "_model_name": "LayoutModel",
            "justify_items": null,
            "grid_row": null,
            "max_height": null,
            "align_content": null,
            "visibility": null,
            "align_self": null,
            "height": null,
            "min_height": null,
            "padding": null,
            "grid_auto_rows": null,
            "grid_gap": null,
            "max_width": null,
            "order": null,
            "_view_module_version": "1.2.0",
            "grid_template_areas": null,
            "object_position": null,
            "object_fit": null,
            "grid_auto_columns": null,
            "margin": null,
            "display": null,
            "left": null
          }
        },
        "750fc1b23e8943ffb4c1258ab5043ed3": {
          "model_module": "@jupyter-widgets/controls",
          "model_name": "DescriptionStyleModel",
          "model_module_version": "1.5.0",
          "state": {
            "_view_name": "StyleView",
            "_model_name": "DescriptionStyleModel",
            "description_width": "",
            "_view_module": "@jupyter-widgets/base",
            "_model_module_version": "1.5.0",
            "_view_count": null,
            "_view_module_version": "1.2.0",
            "_model_module": "@jupyter-widgets/controls"
          }
        },
        "2034a629901a4871ae4e44ec7929005c": {
          "model_module": "@jupyter-widgets/base",
          "model_name": "LayoutModel",
          "model_module_version": "1.2.0",
          "state": {
            "_view_name": "LayoutView",
            "grid_template_rows": null,
            "right": null,
            "justify_content": null,
            "_view_module": "@jupyter-widgets/base",
            "overflow": null,
            "_model_module_version": "1.2.0",
            "_view_count": null,
            "flex_flow": null,
            "width": null,
            "min_width": null,
            "border": null,
            "align_items": null,
            "bottom": null,
            "_model_module": "@jupyter-widgets/base",
            "top": null,
            "grid_column": null,
            "overflow_y": null,
            "overflow_x": null,
            "grid_auto_flow": null,
            "grid_area": null,
            "grid_template_columns": null,
            "flex": null,
            "_model_name": "LayoutModel",
            "justify_items": null,
            "grid_row": null,
            "max_height": null,
            "align_content": null,
            "visibility": null,
            "align_self": null,
            "height": null,
            "min_height": null,
            "padding": null,
            "grid_auto_rows": null,
            "grid_gap": null,
            "max_width": null,
            "order": null,
            "_view_module_version": "1.2.0",
            "grid_template_areas": null,
            "object_position": null,
            "object_fit": null,
            "grid_auto_columns": null,
            "margin": null,
            "display": null,
            "left": null
          }
        },
        "2b791712054a4e45803d1f73bf24b08a": {
          "model_module": "@jupyter-widgets/controls",
          "model_name": "HBoxModel",
          "model_module_version": "1.5.0",
          "state": {
            "_view_name": "HBoxView",
            "_dom_classes": [],
            "_model_name": "HBoxModel",
            "_view_module": "@jupyter-widgets/controls",
            "_model_module_version": "1.5.0",
            "_view_count": null,
            "_view_module_version": "1.5.0",
            "box_style": "",
            "layout": "IPY_MODEL_02c46dcc524840c7aa8c38ae70d265de",
            "_model_module": "@jupyter-widgets/controls",
            "children": [
              "IPY_MODEL_ecd7b786577d48078e1e4794a9525d39",
              "IPY_MODEL_b856176f1dfb48f8a484ea55dcb0ffee"
            ]
          }
        },
        "02c46dcc524840c7aa8c38ae70d265de": {
          "model_module": "@jupyter-widgets/base",
          "model_name": "LayoutModel",
          "model_module_version": "1.2.0",
          "state": {
            "_view_name": "LayoutView",
            "grid_template_rows": null,
            "right": null,
            "justify_content": null,
            "_view_module": "@jupyter-widgets/base",
            "overflow": null,
            "_model_module_version": "1.2.0",
            "_view_count": null,
            "flex_flow": null,
            "width": null,
            "min_width": null,
            "border": null,
            "align_items": null,
            "bottom": null,
            "_model_module": "@jupyter-widgets/base",
            "top": null,
            "grid_column": null,
            "overflow_y": null,
            "overflow_x": null,
            "grid_auto_flow": null,
            "grid_area": null,
            "grid_template_columns": null,
            "flex": null,
            "_model_name": "LayoutModel",
            "justify_items": null,
            "grid_row": null,
            "max_height": null,
            "align_content": null,
            "visibility": null,
            "align_self": null,
            "height": null,
            "min_height": null,
            "padding": null,
            "grid_auto_rows": null,
            "grid_gap": null,
            "max_width": null,
            "order": null,
            "_view_module_version": "1.2.0",
            "grid_template_areas": null,
            "object_position": null,
            "object_fit": null,
            "grid_auto_columns": null,
            "margin": null,
            "display": null,
            "left": null
          }
        },
        "ecd7b786577d48078e1e4794a9525d39": {
          "model_module": "@jupyter-widgets/controls",
          "model_name": "FloatProgressModel",
          "model_module_version": "1.5.0",
          "state": {
            "_view_name": "ProgressView",
            "style": "IPY_MODEL_d52e8e60a03949eaae99420f351e3bd7",
            "_dom_classes": [],
            "description": " #3: 100%",
            "_model_name": "FloatProgressModel",
            "bar_style": "success",
            "max": 1,
            "_view_module": "@jupyter-widgets/controls",
            "_model_module_version": "1.5.0",
            "value": 1,
            "_view_count": null,
            "_view_module_version": "1.5.0",
            "orientation": "horizontal",
            "min": 0,
            "description_tooltip": null,
            "_model_module": "@jupyter-widgets/controls",
            "layout": "IPY_MODEL_2044d17d17204b91a6c7fa9bce5d1543"
          }
        },
        "b856176f1dfb48f8a484ea55dcb0ffee": {
          "model_module": "@jupyter-widgets/controls",
          "model_name": "HTMLModel",
          "model_module_version": "1.5.0",
          "state": {
            "_view_name": "HTMLView",
            "style": "IPY_MODEL_86f88b58a90b4608b46c1a4fe3e1aa24",
            "_dom_classes": [],
            "description": "",
            "_model_name": "HTMLModel",
            "placeholder": "​",
            "_view_module": "@jupyter-widgets/controls",
            "_model_module_version": "1.5.0",
            "value": " 1/1 [00:00&lt;00:00,  3.32ba/s]",
            "_view_count": null,
            "_view_module_version": "1.5.0",
            "description_tooltip": null,
            "_model_module": "@jupyter-widgets/controls",
            "layout": "IPY_MODEL_8e8203425fa647d08a2c6547872a44d5"
          }
        },
        "d52e8e60a03949eaae99420f351e3bd7": {
          "model_module": "@jupyter-widgets/controls",
          "model_name": "ProgressStyleModel",
          "model_module_version": "1.5.0",
          "state": {
            "_view_name": "StyleView",
            "_model_name": "ProgressStyleModel",
            "description_width": "initial",
            "_view_module": "@jupyter-widgets/base",
            "_model_module_version": "1.5.0",
            "_view_count": null,
            "_view_module_version": "1.2.0",
            "bar_color": null,
            "_model_module": "@jupyter-widgets/controls"
          }
        },
        "2044d17d17204b91a6c7fa9bce5d1543": {
          "model_module": "@jupyter-widgets/base",
          "model_name": "LayoutModel",
          "model_module_version": "1.2.0",
          "state": {
            "_view_name": "LayoutView",
            "grid_template_rows": null,
            "right": null,
            "justify_content": null,
            "_view_module": "@jupyter-widgets/base",
            "overflow": null,
            "_model_module_version": "1.2.0",
            "_view_count": null,
            "flex_flow": null,
            "width": null,
            "min_width": null,
            "border": null,
            "align_items": null,
            "bottom": null,
            "_model_module": "@jupyter-widgets/base",
            "top": null,
            "grid_column": null,
            "overflow_y": null,
            "overflow_x": null,
            "grid_auto_flow": null,
            "grid_area": null,
            "grid_template_columns": null,
            "flex": null,
            "_model_name": "LayoutModel",
            "justify_items": null,
            "grid_row": null,
            "max_height": null,
            "align_content": null,
            "visibility": null,
            "align_self": null,
            "height": null,
            "min_height": null,
            "padding": null,
            "grid_auto_rows": null,
            "grid_gap": null,
            "max_width": null,
            "order": null,
            "_view_module_version": "1.2.0",
            "grid_template_areas": null,
            "object_position": null,
            "object_fit": null,
            "grid_auto_columns": null,
            "margin": null,
            "display": null,
            "left": null
          }
        },
        "86f88b58a90b4608b46c1a4fe3e1aa24": {
          "model_module": "@jupyter-widgets/controls",
          "model_name": "DescriptionStyleModel",
          "model_module_version": "1.5.0",
          "state": {
            "_view_name": "StyleView",
            "_model_name": "DescriptionStyleModel",
            "description_width": "",
            "_view_module": "@jupyter-widgets/base",
            "_model_module_version": "1.5.0",
            "_view_count": null,
            "_view_module_version": "1.2.0",
            "_model_module": "@jupyter-widgets/controls"
          }
        },
        "8e8203425fa647d08a2c6547872a44d5": {
          "model_module": "@jupyter-widgets/base",
          "model_name": "LayoutModel",
          "model_module_version": "1.2.0",
          "state": {
            "_view_name": "LayoutView",
            "grid_template_rows": null,
            "right": null,
            "justify_content": null,
            "_view_module": "@jupyter-widgets/base",
            "overflow": null,
            "_model_module_version": "1.2.0",
            "_view_count": null,
            "flex_flow": null,
            "width": null,
            "min_width": null,
            "border": null,
            "align_items": null,
            "bottom": null,
            "_model_module": "@jupyter-widgets/base",
            "top": null,
            "grid_column": null,
            "overflow_y": null,
            "overflow_x": null,
            "grid_auto_flow": null,
            "grid_area": null,
            "grid_template_columns": null,
            "flex": null,
            "_model_name": "LayoutModel",
            "justify_items": null,
            "grid_row": null,
            "max_height": null,
            "align_content": null,
            "visibility": null,
            "align_self": null,
            "height": null,
            "min_height": null,
            "padding": null,
            "grid_auto_rows": null,
            "grid_gap": null,
            "max_width": null,
            "order": null,
            "_view_module_version": "1.2.0",
            "grid_template_areas": null,
            "object_position": null,
            "object_fit": null,
            "grid_auto_columns": null,
            "margin": null,
            "display": null,
            "left": null
          }
        }
      }
    }
  },
  "cells": [
    {
      "cell_type": "code",
      "metadata": {
        "colab": {
          "base_uri": "https://localhost:8080/"
        },
        "id": "3uh7D6AFq8i4",
        "outputId": "d44a2718-537a-42a5-9f83-29ff3004e7d7"
      },
      "source": [
        "! pip install transformers\n",
        "! pip install optuna"
      ],
      "execution_count": null,
      "outputs": [
        {
          "output_type": "stream",
          "text": [
            "Collecting transformers\n",
            "  Downloading transformers-4.9.2-py3-none-any.whl (2.6 MB)\n",
            "\u001b[K     |████████████████████████████████| 2.6 MB 9.4 MB/s \n",
            "\u001b[?25hRequirement already satisfied: packaging in /usr/local/lib/python3.7/dist-packages (from transformers) (21.0)\n",
            "Requirement already satisfied: importlib-metadata in /usr/local/lib/python3.7/dist-packages (from transformers) (4.6.1)\n",
            "Requirement already satisfied: filelock in /usr/local/lib/python3.7/dist-packages (from transformers) (3.0.12)\n",
            "Requirement already satisfied: regex!=2019.12.17 in /usr/local/lib/python3.7/dist-packages (from transformers) (2019.12.20)\n",
            "Collecting tokenizers<0.11,>=0.10.1\n",
            "  Downloading tokenizers-0.10.3-cp37-cp37m-manylinux_2_5_x86_64.manylinux1_x86_64.manylinux_2_12_x86_64.manylinux2010_x86_64.whl (3.3 MB)\n",
            "\u001b[K     |████████████████████████████████| 3.3 MB 58.9 MB/s \n",
            "\u001b[?25hCollecting sacremoses\n",
            "  Downloading sacremoses-0.0.45-py3-none-any.whl (895 kB)\n",
            "\u001b[K     |████████████████████████████████| 895 kB 74.0 MB/s \n",
            "\u001b[?25hRequirement already satisfied: tqdm>=4.27 in /usr/local/lib/python3.7/dist-packages (from transformers) (4.41.1)\n",
            "Collecting huggingface-hub==0.0.12\n",
            "  Downloading huggingface_hub-0.0.12-py3-none-any.whl (37 kB)\n",
            "Requirement already satisfied: numpy>=1.17 in /usr/local/lib/python3.7/dist-packages (from transformers) (1.19.5)\n",
            "Collecting pyyaml>=5.1\n",
            "  Downloading PyYAML-5.4.1-cp37-cp37m-manylinux1_x86_64.whl (636 kB)\n",
            "\u001b[K     |████████████████████████████████| 636 kB 57.2 MB/s \n",
            "\u001b[?25hRequirement already satisfied: requests in /usr/local/lib/python3.7/dist-packages (from transformers) (2.23.0)\n",
            "Requirement already satisfied: typing-extensions in /usr/local/lib/python3.7/dist-packages (from huggingface-hub==0.0.12->transformers) (3.7.4.3)\n",
            "Requirement already satisfied: pyparsing>=2.0.2 in /usr/local/lib/python3.7/dist-packages (from packaging->transformers) (2.4.7)\n",
            "Requirement already satisfied: zipp>=0.5 in /usr/local/lib/python3.7/dist-packages (from importlib-metadata->transformers) (3.5.0)\n",
            "Requirement already satisfied: idna<3,>=2.5 in /usr/local/lib/python3.7/dist-packages (from requests->transformers) (2.10)\n",
            "Requirement already satisfied: chardet<4,>=3.0.2 in /usr/local/lib/python3.7/dist-packages (from requests->transformers) (3.0.4)\n",
            "Requirement already satisfied: urllib3!=1.25.0,!=1.25.1,<1.26,>=1.21.1 in /usr/local/lib/python3.7/dist-packages (from requests->transformers) (1.24.3)\n",
            "Requirement already satisfied: certifi>=2017.4.17 in /usr/local/lib/python3.7/dist-packages (from requests->transformers) (2021.5.30)\n",
            "Requirement already satisfied: click in /usr/local/lib/python3.7/dist-packages (from sacremoses->transformers) (7.1.2)\n",
            "Requirement already satisfied: joblib in /usr/local/lib/python3.7/dist-packages (from sacremoses->transformers) (1.0.1)\n",
            "Requirement already satisfied: six in /usr/local/lib/python3.7/dist-packages (from sacremoses->transformers) (1.15.0)\n",
            "Installing collected packages: tokenizers, sacremoses, pyyaml, huggingface-hub, transformers\n",
            "  Attempting uninstall: pyyaml\n",
            "    Found existing installation: PyYAML 3.13\n",
            "    Uninstalling PyYAML-3.13:\n",
            "      Successfully uninstalled PyYAML-3.13\n",
            "Successfully installed huggingface-hub-0.0.12 pyyaml-5.4.1 sacremoses-0.0.45 tokenizers-0.10.3 transformers-4.9.2\n",
            "Collecting optuna\n",
            "  Downloading optuna-2.9.1-py3-none-any.whl (302 kB)\n",
            "\u001b[K     |████████████████████████████████| 302 kB 8.4 MB/s \n",
            "\u001b[?25hCollecting cmaes>=0.8.2\n",
            "  Downloading cmaes-0.8.2-py3-none-any.whl (15 kB)\n",
            "Requirement already satisfied: tqdm in /usr/local/lib/python3.7/dist-packages (from optuna) (4.41.1)\n",
            "Requirement already satisfied: scipy!=1.4.0 in /usr/local/lib/python3.7/dist-packages (from optuna) (1.4.1)\n",
            "Collecting cliff\n",
            "  Downloading cliff-3.8.0-py3-none-any.whl (80 kB)\n",
            "\u001b[K     |████████████████████████████████| 80 kB 11.7 MB/s \n",
            "\u001b[?25hRequirement already satisfied: sqlalchemy>=1.1.0 in /usr/local/lib/python3.7/dist-packages (from optuna) (1.4.20)\n",
            "Requirement already satisfied: numpy in /usr/local/lib/python3.7/dist-packages (from optuna) (1.19.5)\n",
            "Collecting colorlog\n",
            "  Downloading colorlog-5.0.1-py2.py3-none-any.whl (10 kB)\n",
            "Collecting alembic\n",
            "  Downloading alembic-1.6.5-py2.py3-none-any.whl (164 kB)\n",
            "\u001b[K     |████████████████████████████████| 164 kB 62.0 MB/s \n",
            "\u001b[?25hRequirement already satisfied: packaging>=20.0 in /usr/local/lib/python3.7/dist-packages (from optuna) (21.0)\n",
            "Requirement already satisfied: PyYAML in /usr/local/lib/python3.7/dist-packages (from optuna) (5.4.1)\n",
            "Requirement already satisfied: pyparsing>=2.0.2 in /usr/local/lib/python3.7/dist-packages (from packaging>=20.0->optuna) (2.4.7)\n",
            "Requirement already satisfied: importlib-metadata in /usr/local/lib/python3.7/dist-packages (from sqlalchemy>=1.1.0->optuna) (4.6.1)\n",
            "Requirement already satisfied: greenlet!=0.4.17 in /usr/local/lib/python3.7/dist-packages (from sqlalchemy>=1.1.0->optuna) (1.1.0)\n",
            "Requirement already satisfied: python-dateutil in /usr/local/lib/python3.7/dist-packages (from alembic->optuna) (2.8.1)\n",
            "Collecting Mako\n",
            "  Downloading Mako-1.1.4-py2.py3-none-any.whl (75 kB)\n",
            "\u001b[K     |████████████████████████████████| 75 kB 5.6 MB/s \n",
            "\u001b[?25hCollecting python-editor>=0.3\n",
            "  Downloading python_editor-1.0.4-py3-none-any.whl (4.9 kB)\n",
            "Collecting pbr!=2.1.0,>=2.0.0\n",
            "  Downloading pbr-5.6.0-py2.py3-none-any.whl (111 kB)\n",
            "\u001b[K     |████████████████████████████████| 111 kB 73.6 MB/s \n",
            "\u001b[?25hRequirement already satisfied: PrettyTable>=0.7.2 in /usr/local/lib/python3.7/dist-packages (from cliff->optuna) (2.1.0)\n",
            "Collecting cmd2>=1.0.0\n",
            "  Downloading cmd2-2.1.2-py3-none-any.whl (141 kB)\n",
            "\u001b[K     |████████████████████████████████| 141 kB 61.8 MB/s \n",
            "\u001b[?25hCollecting stevedore>=2.0.1\n",
            "  Downloading stevedore-3.3.0-py3-none-any.whl (49 kB)\n",
            "\u001b[K     |████████████████████████████████| 49 kB 7.8 MB/s \n",
            "\u001b[?25hRequirement already satisfied: attrs>=16.3.0 in /usr/local/lib/python3.7/dist-packages (from cmd2>=1.0.0->cliff->optuna) (21.2.0)\n",
            "Requirement already satisfied: typing-extensions in /usr/local/lib/python3.7/dist-packages (from cmd2>=1.0.0->cliff->optuna) (3.7.4.3)\n",
            "Requirement already satisfied: wcwidth>=0.1.7 in /usr/local/lib/python3.7/dist-packages (from cmd2>=1.0.0->cliff->optuna) (0.2.5)\n",
            "Collecting colorama>=0.3.7\n",
            "  Downloading colorama-0.4.4-py2.py3-none-any.whl (16 kB)\n",
            "Collecting pyperclip>=1.6\n",
            "  Downloading pyperclip-1.8.2.tar.gz (20 kB)\n",
            "Requirement already satisfied: zipp>=0.5 in /usr/local/lib/python3.7/dist-packages (from importlib-metadata->sqlalchemy>=1.1.0->optuna) (3.5.0)\n",
            "Requirement already satisfied: MarkupSafe>=0.9.2 in /usr/local/lib/python3.7/dist-packages (from Mako->alembic->optuna) (2.0.1)\n",
            "Requirement already satisfied: six>=1.5 in /usr/local/lib/python3.7/dist-packages (from python-dateutil->alembic->optuna) (1.15.0)\n",
            "Building wheels for collected packages: pyperclip\n",
            "  Building wheel for pyperclip (setup.py) ... \u001b[?25l\u001b[?25hdone\n",
            "  Created wheel for pyperclip: filename=pyperclip-1.8.2-py3-none-any.whl size=11137 sha256=e4b4280c469cbb38fcfddb1c34bb5ef9c27da6d14d747f0dfd3d7f1639033b3e\n",
            "  Stored in directory: /root/.cache/pip/wheels/9f/18/84/8f69f8b08169c7bae2dde6bd7daf0c19fca8c8e500ee620a28\n",
            "Successfully built pyperclip\n",
            "Installing collected packages: pyperclip, pbr, colorama, stevedore, python-editor, Mako, cmd2, colorlog, cmaes, cliff, alembic, optuna\n",
            "Successfully installed Mako-1.1.4 alembic-1.6.5 cliff-3.8.0 cmaes-0.8.2 cmd2-2.1.2 colorama-0.4.4 colorlog-5.0.1 optuna-2.9.1 pbr-5.6.0 pyperclip-1.8.2 python-editor-1.0.4 stevedore-3.3.0\n"
          ],
          "name": "stdout"
        }
      ]
    },
    {
      "cell_type": "code",
      "metadata": {
        "colab": {
          "base_uri": "https://localhost:8080/"
        },
        "id": "5gftVVt2rT9K",
        "outputId": "f5648c38-6d11-4de1-a5a8-84d20a5a4379"
      },
      "source": [
        "import transformers\n",
        "import os\n",
        "print(transformers.__version__)"
      ],
      "execution_count": null,
      "outputs": [
        {
          "output_type": "stream",
          "text": [
            "4.9.2\n"
          ],
          "name": "stdout"
        }
      ]
    },
    {
      "cell_type": "code",
      "metadata": {
        "colab": {
          "base_uri": "https://localhost:8080/"
        },
        "id": "G-5au0craeCF",
        "outputId": "96c0b5c2-8578-4827-b152-67af66aa4cdd"
      },
      "source": [
        "!pip install sentencepiece"
      ],
      "execution_count": null,
      "outputs": [
        {
          "output_type": "stream",
          "text": [
            "Collecting sentencepiece\n",
            "  Downloading sentencepiece-0.1.96-cp37-cp37m-manylinux_2_17_x86_64.manylinux2014_x86_64.whl (1.2 MB)\n",
            "\u001b[?25l\r\u001b[K     |▎                               | 10 kB 39.4 MB/s eta 0:00:01\r\u001b[K     |▌                               | 20 kB 29.4 MB/s eta 0:00:01\r\u001b[K     |▉                               | 30 kB 18.7 MB/s eta 0:00:01\r\u001b[K     |█                               | 40 kB 15.8 MB/s eta 0:00:01\r\u001b[K     |█▍                              | 51 kB 8.8 MB/s eta 0:00:01\r\u001b[K     |█▋                              | 61 kB 8.7 MB/s eta 0:00:01\r\u001b[K     |██                              | 71 kB 8.9 MB/s eta 0:00:01\r\u001b[K     |██▏                             | 81 kB 9.1 MB/s eta 0:00:01\r\u001b[K     |██▍                             | 92 kB 7.1 MB/s eta 0:00:01\r\u001b[K     |██▊                             | 102 kB 7.7 MB/s eta 0:00:01\r\u001b[K     |███                             | 112 kB 7.7 MB/s eta 0:00:01\r\u001b[K     |███▎                            | 122 kB 7.7 MB/s eta 0:00:01\r\u001b[K     |███▌                            | 133 kB 7.7 MB/s eta 0:00:01\r\u001b[K     |███▉                            | 143 kB 7.7 MB/s eta 0:00:01\r\u001b[K     |████                            | 153 kB 7.7 MB/s eta 0:00:01\r\u001b[K     |████▎                           | 163 kB 7.7 MB/s eta 0:00:01\r\u001b[K     |████▋                           | 174 kB 7.7 MB/s eta 0:00:01\r\u001b[K     |████▉                           | 184 kB 7.7 MB/s eta 0:00:01\r\u001b[K     |█████▏                          | 194 kB 7.7 MB/s eta 0:00:01\r\u001b[K     |█████▍                          | 204 kB 7.7 MB/s eta 0:00:01\r\u001b[K     |█████▊                          | 215 kB 7.7 MB/s eta 0:00:01\r\u001b[K     |██████                          | 225 kB 7.7 MB/s eta 0:00:01\r\u001b[K     |██████▏                         | 235 kB 7.7 MB/s eta 0:00:01\r\u001b[K     |██████▌                         | 245 kB 7.7 MB/s eta 0:00:01\r\u001b[K     |██████▊                         | 256 kB 7.7 MB/s eta 0:00:01\r\u001b[K     |███████                         | 266 kB 7.7 MB/s eta 0:00:01\r\u001b[K     |███████▎                        | 276 kB 7.7 MB/s eta 0:00:01\r\u001b[K     |███████▋                        | 286 kB 7.7 MB/s eta 0:00:01\r\u001b[K     |███████▉                        | 296 kB 7.7 MB/s eta 0:00:01\r\u001b[K     |████████                        | 307 kB 7.7 MB/s eta 0:00:01\r\u001b[K     |████████▍                       | 317 kB 7.7 MB/s eta 0:00:01\r\u001b[K     |████████▋                       | 327 kB 7.7 MB/s eta 0:00:01\r\u001b[K     |█████████                       | 337 kB 7.7 MB/s eta 0:00:01\r\u001b[K     |█████████▏                      | 348 kB 7.7 MB/s eta 0:00:01\r\u001b[K     |█████████▌                      | 358 kB 7.7 MB/s eta 0:00:01\r\u001b[K     |█████████▊                      | 368 kB 7.7 MB/s eta 0:00:01\r\u001b[K     |██████████                      | 378 kB 7.7 MB/s eta 0:00:01\r\u001b[K     |██████████▎                     | 389 kB 7.7 MB/s eta 0:00:01\r\u001b[K     |██████████▌                     | 399 kB 7.7 MB/s eta 0:00:01\r\u001b[K     |██████████▉                     | 409 kB 7.7 MB/s eta 0:00:01\r\u001b[K     |███████████                     | 419 kB 7.7 MB/s eta 0:00:01\r\u001b[K     |███████████▍                    | 430 kB 7.7 MB/s eta 0:00:01\r\u001b[K     |███████████▋                    | 440 kB 7.7 MB/s eta 0:00:01\r\u001b[K     |███████████▉                    | 450 kB 7.7 MB/s eta 0:00:01\r\u001b[K     |████████████▏                   | 460 kB 7.7 MB/s eta 0:00:01\r\u001b[K     |████████████▍                   | 471 kB 7.7 MB/s eta 0:00:01\r\u001b[K     |████████████▊                   | 481 kB 7.7 MB/s eta 0:00:01\r\u001b[K     |█████████████                   | 491 kB 7.7 MB/s eta 0:00:01\r\u001b[K     |█████████████▎                  | 501 kB 7.7 MB/s eta 0:00:01\r\u001b[K     |█████████████▌                  | 512 kB 7.7 MB/s eta 0:00:01\r\u001b[K     |█████████████▊                  | 522 kB 7.7 MB/s eta 0:00:01\r\u001b[K     |██████████████                  | 532 kB 7.7 MB/s eta 0:00:01\r\u001b[K     |██████████████▎                 | 542 kB 7.7 MB/s eta 0:00:01\r\u001b[K     |██████████████▋                 | 552 kB 7.7 MB/s eta 0:00:01\r\u001b[K     |██████████████▉                 | 563 kB 7.7 MB/s eta 0:00:01\r\u001b[K     |███████████████▏                | 573 kB 7.7 MB/s eta 0:00:01\r\u001b[K     |███████████████▍                | 583 kB 7.7 MB/s eta 0:00:01\r\u001b[K     |███████████████▋                | 593 kB 7.7 MB/s eta 0:00:01\r\u001b[K     |████████████████                | 604 kB 7.7 MB/s eta 0:00:01\r\u001b[K     |████████████████▏               | 614 kB 7.7 MB/s eta 0:00:01\r\u001b[K     |████████████████▌               | 624 kB 7.7 MB/s eta 0:00:01\r\u001b[K     |████████████████▊               | 634 kB 7.7 MB/s eta 0:00:01\r\u001b[K     |█████████████████               | 645 kB 7.7 MB/s eta 0:00:01\r\u001b[K     |█████████████████▎              | 655 kB 7.7 MB/s eta 0:00:01\r\u001b[K     |█████████████████▌              | 665 kB 7.7 MB/s eta 0:00:01\r\u001b[K     |█████████████████▉              | 675 kB 7.7 MB/s eta 0:00:01\r\u001b[K     |██████████████████              | 686 kB 7.7 MB/s eta 0:00:01\r\u001b[K     |██████████████████▍             | 696 kB 7.7 MB/s eta 0:00:01\r\u001b[K     |██████████████████▋             | 706 kB 7.7 MB/s eta 0:00:01\r\u001b[K     |███████████████████             | 716 kB 7.7 MB/s eta 0:00:01\r\u001b[K     |███████████████████▏            | 727 kB 7.7 MB/s eta 0:00:01\r\u001b[K     |███████████████████▍            | 737 kB 7.7 MB/s eta 0:00:01\r\u001b[K     |███████████████████▊            | 747 kB 7.7 MB/s eta 0:00:01\r\u001b[K     |████████████████████            | 757 kB 7.7 MB/s eta 0:00:01\r\u001b[K     |████████████████████▎           | 768 kB 7.7 MB/s eta 0:00:01\r\u001b[K     |████████████████████▌           | 778 kB 7.7 MB/s eta 0:00:01\r\u001b[K     |████████████████████▉           | 788 kB 7.7 MB/s eta 0:00:01\r\u001b[K     |█████████████████████           | 798 kB 7.7 MB/s eta 0:00:01\r\u001b[K     |█████████████████████▎          | 808 kB 7.7 MB/s eta 0:00:01\r\u001b[K     |█████████████████████▋          | 819 kB 7.7 MB/s eta 0:00:01\r\u001b[K     |█████████████████████▉          | 829 kB 7.7 MB/s eta 0:00:01\r\u001b[K     |██████████████████████▏         | 839 kB 7.7 MB/s eta 0:00:01\r\u001b[K     |██████████████████████▍         | 849 kB 7.7 MB/s eta 0:00:01\r\u001b[K     |██████████████████████▊         | 860 kB 7.7 MB/s eta 0:00:01\r\u001b[K     |███████████████████████         | 870 kB 7.7 MB/s eta 0:00:01\r\u001b[K     |███████████████████████▏        | 880 kB 7.7 MB/s eta 0:00:01\r\u001b[K     |███████████████████████▌        | 890 kB 7.7 MB/s eta 0:00:01\r\u001b[K     |███████████████████████▊        | 901 kB 7.7 MB/s eta 0:00:01\r\u001b[K     |████████████████████████        | 911 kB 7.7 MB/s eta 0:00:01\r\u001b[K     |████████████████████████▎       | 921 kB 7.7 MB/s eta 0:00:01\r\u001b[K     |████████████████████████▋       | 931 kB 7.7 MB/s eta 0:00:01\r\u001b[K     |████████████████████████▉       | 942 kB 7.7 MB/s eta 0:00:01\r\u001b[K     |█████████████████████████       | 952 kB 7.7 MB/s eta 0:00:01\r\u001b[K     |█████████████████████████▍      | 962 kB 7.7 MB/s eta 0:00:01\r\u001b[K     |█████████████████████████▋      | 972 kB 7.7 MB/s eta 0:00:01\r\u001b[K     |██████████████████████████      | 983 kB 7.7 MB/s eta 0:00:01\r\u001b[K     |██████████████████████████▏     | 993 kB 7.7 MB/s eta 0:00:01\r\u001b[K     |██████████████████████████▌     | 1.0 MB 7.7 MB/s eta 0:00:01\r\u001b[K     |██████████████████████████▊     | 1.0 MB 7.7 MB/s eta 0:00:01\r\u001b[K     |███████████████████████████     | 1.0 MB 7.7 MB/s eta 0:00:01\r\u001b[K     |███████████████████████████▎    | 1.0 MB 7.7 MB/s eta 0:00:01\r\u001b[K     |███████████████████████████▌    | 1.0 MB 7.7 MB/s eta 0:00:01\r\u001b[K     |███████████████████████████▉    | 1.1 MB 7.7 MB/s eta 0:00:01\r\u001b[K     |████████████████████████████    | 1.1 MB 7.7 MB/s eta 0:00:01\r\u001b[K     |████████████████████████████▍   | 1.1 MB 7.7 MB/s eta 0:00:01\r\u001b[K     |████████████████████████████▋   | 1.1 MB 7.7 MB/s eta 0:00:01\r\u001b[K     |████████████████████████████▉   | 1.1 MB 7.7 MB/s eta 0:00:01\r\u001b[K     |█████████████████████████████▏  | 1.1 MB 7.7 MB/s eta 0:00:01\r\u001b[K     |█████████████████████████████▍  | 1.1 MB 7.7 MB/s eta 0:00:01\r\u001b[K     |█████████████████████████████▊  | 1.1 MB 7.7 MB/s eta 0:00:01\r\u001b[K     |██████████████████████████████  | 1.1 MB 7.7 MB/s eta 0:00:01\r\u001b[K     |██████████████████████████████▎ | 1.1 MB 7.7 MB/s eta 0:00:01\r\u001b[K     |██████████████████████████████▌ | 1.2 MB 7.7 MB/s eta 0:00:01\r\u001b[K     |██████████████████████████████▊ | 1.2 MB 7.7 MB/s eta 0:00:01\r\u001b[K     |███████████████████████████████ | 1.2 MB 7.7 MB/s eta 0:00:01\r\u001b[K     |███████████████████████████████▎| 1.2 MB 7.7 MB/s eta 0:00:01\r\u001b[K     |███████████████████████████████▋| 1.2 MB 7.7 MB/s eta 0:00:01\r\u001b[K     |███████████████████████████████▉| 1.2 MB 7.7 MB/s eta 0:00:01\r\u001b[K     |████████████████████████████████| 1.2 MB 7.7 MB/s \n",
            "\u001b[?25hInstalling collected packages: sentencepiece\n",
            "Successfully installed sentencepiece-0.1.96\n"
          ],
          "name": "stdout"
        }
      ]
    },
    {
      "cell_type": "code",
      "metadata": {
        "colab": {
          "base_uri": "https://localhost:8080/",
          "height": 781
        },
        "id": "HRQnoxGllyDz",
        "outputId": "60dbcc67-01c7-43a5-915b-b0fe9d29f713"
      },
      "source": [
        "!pip install datasets"
      ],
      "execution_count": null,
      "outputs": [
        {
          "output_type": "stream",
          "text": [
            "Collecting datasets\n",
            "  Downloading datasets-1.11.0-py3-none-any.whl (264 kB)\n",
            "\u001b[?25l\r\u001b[K     |█▎                              | 10 kB 35.9 MB/s eta 0:00:01\r\u001b[K     |██▌                             | 20 kB 24.0 MB/s eta 0:00:01\r\u001b[K     |███▊                            | 30 kB 18.3 MB/s eta 0:00:01\r\u001b[K     |█████                           | 40 kB 16.2 MB/s eta 0:00:01\r\u001b[K     |██████▏                         | 51 kB 7.9 MB/s eta 0:00:01\r\u001b[K     |███████▍                        | 61 kB 9.2 MB/s eta 0:00:01\r\u001b[K     |████████▋                       | 71 kB 8.6 MB/s eta 0:00:01\r\u001b[K     |██████████                      | 81 kB 9.6 MB/s eta 0:00:01\r\u001b[K     |███████████▏                    | 92 kB 10.3 MB/s eta 0:00:01\r\u001b[K     |████████████▍                   | 102 kB 7.9 MB/s eta 0:00:01\r\u001b[K     |█████████████▋                  | 112 kB 7.9 MB/s eta 0:00:01\r\u001b[K     |██████████████▉                 | 122 kB 7.9 MB/s eta 0:00:01\r\u001b[K     |████████████████                | 133 kB 7.9 MB/s eta 0:00:01\r\u001b[K     |█████████████████▎              | 143 kB 7.9 MB/s eta 0:00:01\r\u001b[K     |██████████████████▋             | 153 kB 7.9 MB/s eta 0:00:01\r\u001b[K     |███████████████████▉            | 163 kB 7.9 MB/s eta 0:00:01\r\u001b[K     |█████████████████████           | 174 kB 7.9 MB/s eta 0:00:01\r\u001b[K     |██████████████████████▎         | 184 kB 7.9 MB/s eta 0:00:01\r\u001b[K     |███████████████████████▌        | 194 kB 7.9 MB/s eta 0:00:01\r\u001b[K     |████████████████████████▊       | 204 kB 7.9 MB/s eta 0:00:01\r\u001b[K     |██████████████████████████      | 215 kB 7.9 MB/s eta 0:00:01\r\u001b[K     |███████████████████████████▏    | 225 kB 7.9 MB/s eta 0:00:01\r\u001b[K     |████████████████████████████▌   | 235 kB 7.9 MB/s eta 0:00:01\r\u001b[K     |█████████████████████████████▊  | 245 kB 7.9 MB/s eta 0:00:01\r\u001b[K     |███████████████████████████████ | 256 kB 7.9 MB/s eta 0:00:01\r\u001b[K     |████████████████████████████████| 264 kB 7.9 MB/s \n",
            "\u001b[?25hRequirement already satisfied: multiprocess in /usr/local/lib/python3.7/dist-packages (from datasets) (0.70.12.2)\n",
            "Requirement already satisfied: pandas in /usr/local/lib/python3.7/dist-packages (from datasets) (1.1.5)\n",
            "Requirement already satisfied: pyarrow!=4.0.0,>=1.0.0 in /usr/local/lib/python3.7/dist-packages (from datasets) (3.0.0)\n",
            "Requirement already satisfied: huggingface-hub<0.1.0 in /usr/local/lib/python3.7/dist-packages (from datasets) (0.0.12)\n",
            "Requirement already satisfied: importlib-metadata in /usr/local/lib/python3.7/dist-packages (from datasets) (4.6.1)\n",
            "Collecting xxhash\n",
            "  Downloading xxhash-2.0.2-cp37-cp37m-manylinux2010_x86_64.whl (243 kB)\n",
            "\u001b[K     |████████████████████████████████| 243 kB 56.4 MB/s \n",
            "\u001b[?25hRequirement already satisfied: numpy>=1.17 in /usr/local/lib/python3.7/dist-packages (from datasets) (1.19.5)\n",
            "Collecting tqdm>=4.42\n",
            "  Downloading tqdm-4.62.0-py2.py3-none-any.whl (76 kB)\n",
            "\u001b[K     |████████████████████████████████| 76 kB 5.6 MB/s \n",
            "\u001b[?25hRequirement already satisfied: dill in /usr/local/lib/python3.7/dist-packages (from datasets) (0.3.4)\n",
            "Requirement already satisfied: packaging in /usr/local/lib/python3.7/dist-packages (from datasets) (21.0)\n",
            "Requirement already satisfied: requests>=2.19.0 in /usr/local/lib/python3.7/dist-packages (from datasets) (2.23.0)\n",
            "Collecting fsspec>=2021.05.0\n",
            "  Downloading fsspec-2021.7.0-py3-none-any.whl (118 kB)\n",
            "\u001b[K     |████████████████████████████████| 118 kB 59.1 MB/s \n",
            "\u001b[?25hRequirement already satisfied: filelock in /usr/local/lib/python3.7/dist-packages (from huggingface-hub<0.1.0->datasets) (3.0.12)\n",
            "Requirement already satisfied: typing-extensions in /usr/local/lib/python3.7/dist-packages (from huggingface-hub<0.1.0->datasets) (3.7.4.3)\n",
            "Requirement already satisfied: pyparsing>=2.0.2 in /usr/local/lib/python3.7/dist-packages (from packaging->datasets) (2.4.7)\n",
            "Requirement already satisfied: chardet<4,>=3.0.2 in /usr/local/lib/python3.7/dist-packages (from requests>=2.19.0->datasets) (3.0.4)\n",
            "Requirement already satisfied: certifi>=2017.4.17 in /usr/local/lib/python3.7/dist-packages (from requests>=2.19.0->datasets) (2021.5.30)\n",
            "Requirement already satisfied: urllib3!=1.25.0,!=1.25.1,<1.26,>=1.21.1 in /usr/local/lib/python3.7/dist-packages (from requests>=2.19.0->datasets) (1.24.3)\n",
            "Requirement already satisfied: idna<3,>=2.5 in /usr/local/lib/python3.7/dist-packages (from requests>=2.19.0->datasets) (2.10)\n",
            "Requirement already satisfied: zipp>=0.5 in /usr/local/lib/python3.7/dist-packages (from importlib-metadata->datasets) (3.5.0)\n",
            "Requirement already satisfied: python-dateutil>=2.7.3 in /usr/local/lib/python3.7/dist-packages (from pandas->datasets) (2.8.1)\n",
            "Requirement already satisfied: pytz>=2017.2 in /usr/local/lib/python3.7/dist-packages (from pandas->datasets) (2018.9)\n",
            "Requirement already satisfied: six>=1.5 in /usr/local/lib/python3.7/dist-packages (from python-dateutil>=2.7.3->pandas->datasets) (1.15.0)\n",
            "Installing collected packages: tqdm, xxhash, fsspec, datasets\n",
            "  Attempting uninstall: tqdm\n",
            "    Found existing installation: tqdm 4.41.1\n",
            "    Uninstalling tqdm-4.41.1:\n",
            "      Successfully uninstalled tqdm-4.41.1\n",
            "Successfully installed datasets-1.11.0 fsspec-2021.7.0 tqdm-4.62.0 xxhash-2.0.2\n"
          ],
          "name": "stdout"
        },
        {
          "output_type": "display_data",
          "data": {
            "application/vnd.colab-display-data+json": {
              "pip_warning": {
                "packages": [
                  "tqdm"
                ]
              }
            }
          },
          "metadata": {
            "tags": []
          }
        }
      ]
    },
    {
      "cell_type": "code",
      "metadata": {
        "colab": {
          "base_uri": "https://localhost:8080/",
          "height": 375,
          "referenced_widgets": [
            "58e4a0bc0a864066b31ce43159451102",
            "4299fa13e15440c2b79581cca9e6e5ed",
            "eee299f5f2944ca7a931bcec3b30dc5f",
            "0a9a411c213146cfa51a4197a5d9fe54",
            "615ecf3180af4c9b903ff1c7003c1f6e",
            "3331dd5193184668aed879ec53c0422c",
            "7f27ac4c0bc940e9ba200b7f2436b92d",
            "c9a2c2caed804ef99724edb5734c1438",
            "58f3a5ea90d4477ab05274c5f295dbf4",
            "76c7eb4e73e845578a803d8b8753ad5a",
            "1c78d1d72f294874bdadbadd3203200b",
            "e17eef4a423e43328098486761545952",
            "66e8ee841f0f4997a68e81a7ef675cd5",
            "b3668b07a01f43c4a7ae0d5ca6726df6",
            "8e3ce31d4d784cfcbec09778be213556",
            "506c1c52fe5949a799e01115d1ad3b90",
            "515fca7d84654ccba26f572dc0523c8e",
            "ef96230c910e44768d15e7e6526e1727",
            "ae82f8317b79410e899b413eb85f5cac",
            "2f21f193b68d4207b14835f23af79ab6",
            "c517f77d6ca04731b81cb09a6c956058",
            "c2214819c7d14552a11daaff76ae7103",
            "6b656a025f2b498086c966ce9a2e0669",
            "cebcf8e3c55c4911a0b3a917f01ed569",
            "d8854233623d4cefb67351cec2d201fa",
            "4a4f81fdba94405ab04cec12d9ba296c",
            "d73ad156b5af4195819fd1ebf71f5aab",
            "e9f0e698bd12459caa7db74981b2984f",
            "5fffa805eef74b5592ce91941f469578",
            "443cabf07783412f9eb3d9d028a361ed",
            "f4c287369edb41cc90ea188ead069d51",
            "77f06201b19e4c57bd5529a57d1b55f7",
            "166e7f4aa40544d2b5ac22859cd2d29d",
            "db9dfbf6f09441bcbc530d102f22974f",
            "4a34fe2174534270958b1fa80a81414a",
            "8bafd40d0a35445998174ba41a644c5d",
            "ede6162a196244c99bdcbd4b78aa15ba",
            "5dbec6e7eff34915a2440ad7fcb92fad",
            "fe93f2d234554aff94ec2f20cdc45249",
            "7440e9a457984eb8a64bdaa1bbe54244"
          ]
        },
        "id": "nbR0H8tprill",
        "outputId": "84e7c6e1-5028-4edb-a010-b9b16ead789e"
      },
      "source": [
        "from transformers import AutoTokenizer,AlbertTokenizer, AutoModelForSequenceClassification\n",
        "  \n",
        "tokenizer = AutoTokenizer.from_pretrained(\"Rostlab/prot_bert\",do_lower_case=False )\n",
        "\n",
        "model = AutoModelForSequenceClassification.from_pretrained(\"Rostlab/prot_bert\",output_attentions=True)"
      ],
      "execution_count": null,
      "outputs": [
        {
          "output_type": "display_data",
          "data": {
            "application/vnd.jupyter.widget-view+json": {
              "model_id": "58e4a0bc0a864066b31ce43159451102",
              "version_minor": 0,
              "version_major": 2
            },
            "text/plain": [
              "HBox(children=(FloatProgress(value=0.0, description='Downloading', max=86.0, style=ProgressStyle(description_w…"
            ]
          },
          "metadata": {
            "tags": []
          }
        },
        {
          "output_type": "stream",
          "text": [
            "\n"
          ],
          "name": "stdout"
        },
        {
          "output_type": "display_data",
          "data": {
            "application/vnd.jupyter.widget-view+json": {
              "model_id": "58f3a5ea90d4477ab05274c5f295dbf4",
              "version_minor": 0,
              "version_major": 2
            },
            "text/plain": [
              "HBox(children=(FloatProgress(value=0.0, description='Downloading', max=361.0, style=ProgressStyle(description_…"
            ]
          },
          "metadata": {
            "tags": []
          }
        },
        {
          "output_type": "stream",
          "text": [
            "\n"
          ],
          "name": "stdout"
        },
        {
          "output_type": "display_data",
          "data": {
            "application/vnd.jupyter.widget-view+json": {
              "model_id": "515fca7d84654ccba26f572dc0523c8e",
              "version_minor": 0,
              "version_major": 2
            },
            "text/plain": [
              "HBox(children=(FloatProgress(value=0.0, description='Downloading', max=81.0, style=ProgressStyle(description_w…"
            ]
          },
          "metadata": {
            "tags": []
          }
        },
        {
          "output_type": "stream",
          "text": [
            "\n"
          ],
          "name": "stdout"
        },
        {
          "output_type": "display_data",
          "data": {
            "application/vnd.jupyter.widget-view+json": {
              "model_id": "d8854233623d4cefb67351cec2d201fa",
              "version_minor": 0,
              "version_major": 2
            },
            "text/plain": [
              "HBox(children=(FloatProgress(value=0.0, description='Downloading', max=112.0, style=ProgressStyle(description_…"
            ]
          },
          "metadata": {
            "tags": []
          }
        },
        {
          "output_type": "stream",
          "text": [
            "\n"
          ],
          "name": "stdout"
        },
        {
          "output_type": "display_data",
          "data": {
            "application/vnd.jupyter.widget-view+json": {
              "model_id": "166e7f4aa40544d2b5ac22859cd2d29d",
              "version_minor": 0,
              "version_major": 2
            },
            "text/plain": [
              "HBox(children=(FloatProgress(value=0.0, description='Downloading', max=1684058277.0, style=ProgressStyle(descr…"
            ]
          },
          "metadata": {
            "tags": []
          }
        },
        {
          "output_type": "stream",
          "text": [
            "\n"
          ],
          "name": "stdout"
        },
        {
          "output_type": "stream",
          "text": [
            "Some weights of the model checkpoint at Rostlab/prot_bert were not used when initializing BertForSequenceClassification: ['cls.predictions.decoder.weight', 'cls.predictions.bias', 'cls.predictions.decoder.bias', 'cls.predictions.transform.LayerNorm.bias', 'cls.predictions.transform.LayerNorm.weight', 'cls.seq_relationship.bias', 'cls.predictions.transform.dense.bias', 'cls.seq_relationship.weight', 'cls.predictions.transform.dense.weight']\n",
            "- This IS expected if you are initializing BertForSequenceClassification from the checkpoint of a model trained on another task or with another architecture (e.g. initializing a BertForSequenceClassification model from a BertForPreTraining model).\n",
            "- This IS NOT expected if you are initializing BertForSequenceClassification from the checkpoint of a model that you expect to be exactly identical (initializing a BertForSequenceClassification model from a BertForSequenceClassification model).\n",
            "Some weights of BertForSequenceClassification were not initialized from the model checkpoint at Rostlab/prot_bert and are newly initialized: ['classifier.bias', 'classifier.weight']\n",
            "You should probably TRAIN this model on a down-stream task to be able to use it for predictions and inference.\n"
          ],
          "name": "stderr"
        }
      ]
    },
    {
      "cell_type": "code",
      "metadata": {
        "colab": {
          "base_uri": "https://localhost:8080/"
        },
        "id": "--Zo56P0VjS8",
        "outputId": "d42adb07-a956-431d-b1b3-ea1267dfb8de"
      },
      "source": [
        "from google.colab import drive\n",
        "drive.mount('/content/drive')"
      ],
      "execution_count": null,
      "outputs": [
        {
          "output_type": "stream",
          "text": [
            "Mounted at /content/drive\n"
          ],
          "name": "stdout"
        }
      ]
    },
    {
      "cell_type": "code",
      "metadata": {
        "id": "e78gEuaymhZ0",
        "colab": {
          "base_uri": "https://localhost:8080/",
          "height": 419
        },
        "outputId": "e8fcf790-399d-445f-d22f-a34772b88549"
      },
      "source": [
        "import pandas as pd\n",
        "pos_data=pd.read_csv('/content/drive/My Drive/idp_positive_data.csv')\n",
        "neg_data=pd.read_csv('/content/drive/My Drive/idp_negative_data.csv')"
      ],
      "execution_count": null,
      "outputs": [
        {
          "output_type": "execute_result",
          "data": {
            "text/html": [
              "<div>\n",
              "<style scoped>\n",
              "    .dataframe tbody tr th:only-of-type {\n",
              "        vertical-align: middle;\n",
              "    }\n",
              "\n",
              "    .dataframe tbody tr th {\n",
              "        vertical-align: top;\n",
              "    }\n",
              "\n",
              "    .dataframe thead th {\n",
              "        text-align: right;\n",
              "    }\n",
              "</style>\n",
              "<table border=\"1\" class=\"dataframe\">\n",
              "  <thead>\n",
              "    <tr style=\"text-align: right;\">\n",
              "      <th></th>\n",
              "      <th>Unnamed: 0</th>\n",
              "      <th>seq</th>\n",
              "      <th>dp</th>\n",
              "      <th>len</th>\n",
              "    </tr>\n",
              "  </thead>\n",
              "  <tbody>\n",
              "    <tr>\n",
              "      <th>0</th>\n",
              "      <td>2</td>\n",
              "      <td>MLLLGAVLLLLALPGHDQETTTQGPGVLLPLPKGACTGWMAGIPGH...</td>\n",
              "      <td>0.315333</td>\n",
              "      <td>244</td>\n",
              "    </tr>\n",
              "    <tr>\n",
              "      <th>1</th>\n",
              "      <td>3</td>\n",
              "      <td>MDYLLMIFSLLFVACQGAPETAVLGAELSAVGENGGEKPTPSPPWR...</td>\n",
              "      <td>0.382083</td>\n",
              "      <td>212</td>\n",
              "    </tr>\n",
              "    <tr>\n",
              "      <th>2</th>\n",
              "      <td>6</td>\n",
              "      <td>MKAFSPVRSVRKNSLSDHSLGISRSKTPVDDPMSLLYNMNDCYSKL...</td>\n",
              "      <td>0.367583</td>\n",
              "      <td>134</td>\n",
              "    </tr>\n",
              "    <tr>\n",
              "      <th>3</th>\n",
              "      <td>7</td>\n",
              "      <td>MSLKLQASNVTNKNDPKSINSRVFIGNLNTALVKKSDVETIFSKYG...</td>\n",
              "      <td>0.390154</td>\n",
              "      <td>307</td>\n",
              "    </tr>\n",
              "    <tr>\n",
              "      <th>4</th>\n",
              "      <td>10</td>\n",
              "      <td>MVSKLTSLQQELLSALLSSGVTKEVLVQALEELLPSPNFGVKLETL...</td>\n",
              "      <td>0.485750</td>\n",
              "      <td>557</td>\n",
              "    </tr>\n",
              "    <tr>\n",
              "      <th>...</th>\n",
              "      <td>...</td>\n",
              "      <td>...</td>\n",
              "      <td>...</td>\n",
              "      <td>...</td>\n",
              "    </tr>\n",
              "    <tr>\n",
              "      <th>194</th>\n",
              "      <td>680</td>\n",
              "      <td>MAGAQPGVHALQLEPPTVVETLRRGSKFIKWDEETSSRNLVTLRVD...</td>\n",
              "      <td>0.368720</td>\n",
              "      <td>1234</td>\n",
              "    </tr>\n",
              "    <tr>\n",
              "      <th>195</th>\n",
              "      <td>682</td>\n",
              "      <td>MTKLSAQVKGSLNITTPGLQIWRIEAMQMVPVPSSTFGSFFDGDCY...</td>\n",
              "      <td>0.307134</td>\n",
              "      <td>827</td>\n",
              "    </tr>\n",
              "    <tr>\n",
              "      <th>196</th>\n",
              "      <td>683</td>\n",
              "      <td>MESKGASSCRLLFCLLISATVFRPGLGWYTVNSAYGDTIIIPCRLD...</td>\n",
              "      <td>0.579760</td>\n",
              "      <td>583</td>\n",
              "    </tr>\n",
              "    <tr>\n",
              "      <th>197</th>\n",
              "      <td>684</td>\n",
              "      <td>MPAMVEKGPEVSGKRRGRNNAAASASAAAASAAASAACASPAATAA...</td>\n",
              "      <td>0.725773</td>\n",
              "      <td>485</td>\n",
              "    </tr>\n",
              "    <tr>\n",
              "      <th>198</th>\n",
              "      <td>686</td>\n",
              "      <td>MGIELLCLFFLFLGRNDHVQGGCALGGAETCEDCLLIGPQCAWCAQ...</td>\n",
              "      <td>0.376904</td>\n",
              "      <td>788</td>\n",
              "    </tr>\n",
              "  </tbody>\n",
              "</table>\n",
              "<p>199 rows × 4 columns</p>\n",
              "</div>"
            ],
            "text/plain": [
              "     Unnamed: 0  ...   len\n",
              "0             2  ...   244\n",
              "1             3  ...   212\n",
              "2             6  ...   134\n",
              "3             7  ...   307\n",
              "4            10  ...   557\n",
              "..          ...  ...   ...\n",
              "194         680  ...  1234\n",
              "195         682  ...   827\n",
              "196         683  ...   583\n",
              "197         684  ...   485\n",
              "198         686  ...   788\n",
              "\n",
              "[199 rows x 4 columns]"
            ]
          },
          "metadata": {
            "tags": []
          },
          "execution_count": 7
        }
      ]
    },
    {
      "cell_type": "code",
      "metadata": {
        "colab": {
          "base_uri": "https://localhost:8080/",
          "height": 419
        },
        "id": "gH9KjyX3WdQQ",
        "outputId": "1e98f8b7-4644-49f9-b442-f7caffa2f7c5"
      },
      "source": [
        "pos_data.columns=['00','seq','dp','len']\n",
        "pos_data_cls=pos_data.drop(columns=['00','len'],axis=0)\n",
        "pos_data_cls"
      ],
      "execution_count": null,
      "outputs": [
        {
          "output_type": "execute_result",
          "data": {
            "text/html": [
              "<div>\n",
              "<style scoped>\n",
              "    .dataframe tbody tr th:only-of-type {\n",
              "        vertical-align: middle;\n",
              "    }\n",
              "\n",
              "    .dataframe tbody tr th {\n",
              "        vertical-align: top;\n",
              "    }\n",
              "\n",
              "    .dataframe thead th {\n",
              "        text-align: right;\n",
              "    }\n",
              "</style>\n",
              "<table border=\"1\" class=\"dataframe\">\n",
              "  <thead>\n",
              "    <tr style=\"text-align: right;\">\n",
              "      <th></th>\n",
              "      <th>seq</th>\n",
              "      <th>dp</th>\n",
              "    </tr>\n",
              "  </thead>\n",
              "  <tbody>\n",
              "    <tr>\n",
              "      <th>0</th>\n",
              "      <td>MLLLGAVLLLLALPGHDQETTTQGPGVLLPLPKGACTGWMAGIPGH...</td>\n",
              "      <td>0.315333</td>\n",
              "    </tr>\n",
              "    <tr>\n",
              "      <th>1</th>\n",
              "      <td>MDYLLMIFSLLFVACQGAPETAVLGAELSAVGENGGEKPTPSPPWR...</td>\n",
              "      <td>0.382083</td>\n",
              "    </tr>\n",
              "    <tr>\n",
              "      <th>2</th>\n",
              "      <td>MKAFSPVRSVRKNSLSDHSLGISRSKTPVDDPMSLLYNMNDCYSKL...</td>\n",
              "      <td>0.367583</td>\n",
              "    </tr>\n",
              "    <tr>\n",
              "      <th>3</th>\n",
              "      <td>MSLKLQASNVTNKNDPKSINSRVFIGNLNTALVKKSDVETIFSKYG...</td>\n",
              "      <td>0.390154</td>\n",
              "    </tr>\n",
              "    <tr>\n",
              "      <th>4</th>\n",
              "      <td>MVSKLTSLQQELLSALLSSGVTKEVLVQALEELLPSPNFGVKLETL...</td>\n",
              "      <td>0.485750</td>\n",
              "    </tr>\n",
              "    <tr>\n",
              "      <th>...</th>\n",
              "      <td>...</td>\n",
              "      <td>...</td>\n",
              "    </tr>\n",
              "    <tr>\n",
              "      <th>194</th>\n",
              "      <td>MAGAQPGVHALQLEPPTVVETLRRGSKFIKWDEETSSRNLVTLRVD...</td>\n",
              "      <td>0.368720</td>\n",
              "    </tr>\n",
              "    <tr>\n",
              "      <th>195</th>\n",
              "      <td>MTKLSAQVKGSLNITTPGLQIWRIEAMQMVPVPSSTFGSFFDGDCY...</td>\n",
              "      <td>0.307134</td>\n",
              "    </tr>\n",
              "    <tr>\n",
              "      <th>196</th>\n",
              "      <td>MESKGASSCRLLFCLLISATVFRPGLGWYTVNSAYGDTIIIPCRLD...</td>\n",
              "      <td>0.579760</td>\n",
              "    </tr>\n",
              "    <tr>\n",
              "      <th>197</th>\n",
              "      <td>MPAMVEKGPEVSGKRRGRNNAAASASAAAASAAASAACASPAATAA...</td>\n",
              "      <td>0.725773</td>\n",
              "    </tr>\n",
              "    <tr>\n",
              "      <th>198</th>\n",
              "      <td>MGIELLCLFFLFLGRNDHVQGGCALGGAETCEDCLLIGPQCAWCAQ...</td>\n",
              "      <td>0.376904</td>\n",
              "    </tr>\n",
              "  </tbody>\n",
              "</table>\n",
              "<p>199 rows × 2 columns</p>\n",
              "</div>"
            ],
            "text/plain": [
              "                                                   seq        dp\n",
              "0    MLLLGAVLLLLALPGHDQETTTQGPGVLLPLPKGACTGWMAGIPGH...  0.315333\n",
              "1    MDYLLMIFSLLFVACQGAPETAVLGAELSAVGENGGEKPTPSPPWR...  0.382083\n",
              "2    MKAFSPVRSVRKNSLSDHSLGISRSKTPVDDPMSLLYNMNDCYSKL...  0.367583\n",
              "3    MSLKLQASNVTNKNDPKSINSRVFIGNLNTALVKKSDVETIFSKYG...  0.390154\n",
              "4    MVSKLTSLQQELLSALLSSGVTKEVLVQALEELLPSPNFGVKLETL...  0.485750\n",
              "..                                                 ...       ...\n",
              "194  MAGAQPGVHALQLEPPTVVETLRRGSKFIKWDEETSSRNLVTLRVD...  0.368720\n",
              "195  MTKLSAQVKGSLNITTPGLQIWRIEAMQMVPVPSSTFGSFFDGDCY...  0.307134\n",
              "196  MESKGASSCRLLFCLLISATVFRPGLGWYTVNSAYGDTIIIPCRLD...  0.579760\n",
              "197  MPAMVEKGPEVSGKRRGRNNAAASASAAAASAAASAACASPAATAA...  0.725773\n",
              "198  MGIELLCLFFLFLGRNDHVQGGCALGGAETCEDCLLIGPQCAWCAQ...  0.376904\n",
              "\n",
              "[199 rows x 2 columns]"
            ]
          },
          "metadata": {
            "tags": []
          },
          "execution_count": 11
        }
      ]
    },
    {
      "cell_type": "code",
      "metadata": {
        "colab": {
          "base_uri": "https://localhost:8080/",
          "height": 419
        },
        "id": "bS5EoX7aW-FQ",
        "outputId": "66583f29-7d3e-4cb8-d488-bc46a6d79467"
      },
      "source": [
        "neg_data_cls=neg_data.sample(200)\n",
        "neg_data_cls"
      ],
      "execution_count": null,
      "outputs": [
        {
          "output_type": "execute_result",
          "data": {
            "text/html": [
              "<div>\n",
              "<style scoped>\n",
              "    .dataframe tbody tr th:only-of-type {\n",
              "        vertical-align: middle;\n",
              "    }\n",
              "\n",
              "    .dataframe tbody tr th {\n",
              "        vertical-align: top;\n",
              "    }\n",
              "\n",
              "    .dataframe thead th {\n",
              "        text-align: right;\n",
              "    }\n",
              "</style>\n",
              "<table border=\"1\" class=\"dataframe\">\n",
              "  <thead>\n",
              "    <tr style=\"text-align: right;\">\n",
              "      <th></th>\n",
              "      <th>00</th>\n",
              "      <th>seq</th>\n",
              "      <th>len</th>\n",
              "    </tr>\n",
              "  </thead>\n",
              "  <tbody>\n",
              "    <tr>\n",
              "      <th>2293</th>\n",
              "      <td>2293</td>\n",
              "      <td>MKEKEPLESQYQVGPLLGSGGFGSVYSGIRVSDNLPVAIKHVEKDR...</td>\n",
              "      <td>299</td>\n",
              "    </tr>\n",
              "    <tr>\n",
              "      <th>1438</th>\n",
              "      <td>1438</td>\n",
              "      <td>GSQIPASEQETLVRPKPLLLKLLKSVGAQKDTYTMKEVLFYLGQYI...</td>\n",
              "      <td>96</td>\n",
              "    </tr>\n",
              "    <tr>\n",
              "      <th>3981</th>\n",
              "      <td>3981</td>\n",
              "      <td>GAMALKRIHKELNDLARDPPAQCSAGPVGDDMFHWQATAMGPNDSP...</td>\n",
              "      <td>149</td>\n",
              "    </tr>\n",
              "    <tr>\n",
              "      <th>191</th>\n",
              "      <td>191</td>\n",
              "      <td>SHMSICTSEEWQGLMQFTLPVRLCKEIELFHFDIGPFENMWPGIFV...</td>\n",
              "      <td>331</td>\n",
              "    </tr>\n",
              "    <tr>\n",
              "      <th>2569</th>\n",
              "      <td>2569</td>\n",
              "      <td>SMNPPPPETSNPNKPKRQTNQLQYLLRVVLKTLWKHQFAWPFQQPV...</td>\n",
              "      <td>127</td>\n",
              "    </tr>\n",
              "    <tr>\n",
              "      <th>...</th>\n",
              "      <td>...</td>\n",
              "      <td>...</td>\n",
              "      <td>...</td>\n",
              "    </tr>\n",
              "    <tr>\n",
              "      <th>2597</th>\n",
              "      <td>2597</td>\n",
              "      <td>MSKWTYFGPDGENSWSKKYPSCGGLLQSPIDLHSDILQYDASLTPL...</td>\n",
              "      <td>263</td>\n",
              "    </tr>\n",
              "    <tr>\n",
              "      <th>2255</th>\n",
              "      <td>2255</td>\n",
              "      <td>MGPVWRKHYITYRINNYTPDMNREDVDYAIRKAFQVWSNVTPLKFS...</td>\n",
              "      <td>159</td>\n",
              "    </tr>\n",
              "    <tr>\n",
              "      <th>1295</th>\n",
              "      <td>1295</td>\n",
              "      <td>HHWGYGKHNGPEHWHKDFPIAKGERQSPVDIDTHTAKYDPSLKPLS...</td>\n",
              "      <td>258</td>\n",
              "    </tr>\n",
              "    <tr>\n",
              "      <th>305</th>\n",
              "      <td>305</td>\n",
              "      <td>MAGVEEVAASGSHLNGDLDPDDREEGAASTAEEAAKKKRRKKKKSK...</td>\n",
              "      <td>478</td>\n",
              "    </tr>\n",
              "    <tr>\n",
              "      <th>2666</th>\n",
              "      <td>2666</td>\n",
              "      <td>LRLPRETDEEPEEPGRRGSFVEMVDNLRGKSGQGYYVEMTVGSPPQ...</td>\n",
              "      <td>414</td>\n",
              "    </tr>\n",
              "  </tbody>\n",
              "</table>\n",
              "<p>200 rows × 3 columns</p>\n",
              "</div>"
            ],
            "text/plain": [
              "        00                                                seq  len\n",
              "2293  2293  MKEKEPLESQYQVGPLLGSGGFGSVYSGIRVSDNLPVAIKHVEKDR...  299\n",
              "1438  1438  GSQIPASEQETLVRPKPLLLKLLKSVGAQKDTYTMKEVLFYLGQYI...   96\n",
              "3981  3981  GAMALKRIHKELNDLARDPPAQCSAGPVGDDMFHWQATAMGPNDSP...  149\n",
              "191    191  SHMSICTSEEWQGLMQFTLPVRLCKEIELFHFDIGPFENMWPGIFV...  331\n",
              "2569  2569  SMNPPPPETSNPNKPKRQTNQLQYLLRVVLKTLWKHQFAWPFQQPV...  127\n",
              "...    ...                                                ...  ...\n",
              "2597  2597  MSKWTYFGPDGENSWSKKYPSCGGLLQSPIDLHSDILQYDASLTPL...  263\n",
              "2255  2255  MGPVWRKHYITYRINNYTPDMNREDVDYAIRKAFQVWSNVTPLKFS...  159\n",
              "1295  1295  HHWGYGKHNGPEHWHKDFPIAKGERQSPVDIDTHTAKYDPSLKPLS...  258\n",
              "305    305  MAGVEEVAASGSHLNGDLDPDDREEGAASTAEEAAKKKRRKKKKSK...  478\n",
              "2666  2666  LRLPRETDEEPEEPGRRGSFVEMVDNLRGKSGQGYYVEMTVGSPPQ...  414\n",
              "\n",
              "[200 rows x 3 columns]"
            ]
          },
          "metadata": {
            "tags": []
          },
          "execution_count": 15
        }
      ]
    },
    {
      "cell_type": "code",
      "metadata": {
        "colab": {
          "base_uri": "https://localhost:8080/",
          "height": 419
        },
        "id": "T_BAjAb8Xer_",
        "outputId": "09817ec0-4c14-4f3f-d9de-cef614fc43f8"
      },
      "source": [
        "neg_data_cls.columns=['00','seq','len']\n",
        "neg_data_cls=neg_data_cls.drop(columns=['00','len'],axis=0)\n",
        "neg_data_cls"
      ],
      "execution_count": null,
      "outputs": [
        {
          "output_type": "execute_result",
          "data": {
            "text/html": [
              "<div>\n",
              "<style scoped>\n",
              "    .dataframe tbody tr th:only-of-type {\n",
              "        vertical-align: middle;\n",
              "    }\n",
              "\n",
              "    .dataframe tbody tr th {\n",
              "        vertical-align: top;\n",
              "    }\n",
              "\n",
              "    .dataframe thead th {\n",
              "        text-align: right;\n",
              "    }\n",
              "</style>\n",
              "<table border=\"1\" class=\"dataframe\">\n",
              "  <thead>\n",
              "    <tr style=\"text-align: right;\">\n",
              "      <th></th>\n",
              "      <th>seq</th>\n",
              "    </tr>\n",
              "  </thead>\n",
              "  <tbody>\n",
              "    <tr>\n",
              "      <th>2293</th>\n",
              "      <td>MKEKEPLESQYQVGPLLGSGGFGSVYSGIRVSDNLPVAIKHVEKDR...</td>\n",
              "    </tr>\n",
              "    <tr>\n",
              "      <th>1438</th>\n",
              "      <td>GSQIPASEQETLVRPKPLLLKLLKSVGAQKDTYTMKEVLFYLGQYI...</td>\n",
              "    </tr>\n",
              "    <tr>\n",
              "      <th>3981</th>\n",
              "      <td>GAMALKRIHKELNDLARDPPAQCSAGPVGDDMFHWQATAMGPNDSP...</td>\n",
              "    </tr>\n",
              "    <tr>\n",
              "      <th>191</th>\n",
              "      <td>SHMSICTSEEWQGLMQFTLPVRLCKEIELFHFDIGPFENMWPGIFV...</td>\n",
              "    </tr>\n",
              "    <tr>\n",
              "      <th>2569</th>\n",
              "      <td>SMNPPPPETSNPNKPKRQTNQLQYLLRVVLKTLWKHQFAWPFQQPV...</td>\n",
              "    </tr>\n",
              "    <tr>\n",
              "      <th>...</th>\n",
              "      <td>...</td>\n",
              "    </tr>\n",
              "    <tr>\n",
              "      <th>2597</th>\n",
              "      <td>MSKWTYFGPDGENSWSKKYPSCGGLLQSPIDLHSDILQYDASLTPL...</td>\n",
              "    </tr>\n",
              "    <tr>\n",
              "      <th>2255</th>\n",
              "      <td>MGPVWRKHYITYRINNYTPDMNREDVDYAIRKAFQVWSNVTPLKFS...</td>\n",
              "    </tr>\n",
              "    <tr>\n",
              "      <th>1295</th>\n",
              "      <td>HHWGYGKHNGPEHWHKDFPIAKGERQSPVDIDTHTAKYDPSLKPLS...</td>\n",
              "    </tr>\n",
              "    <tr>\n",
              "      <th>305</th>\n",
              "      <td>MAGVEEVAASGSHLNGDLDPDDREEGAASTAEEAAKKKRRKKKKSK...</td>\n",
              "    </tr>\n",
              "    <tr>\n",
              "      <th>2666</th>\n",
              "      <td>LRLPRETDEEPEEPGRRGSFVEMVDNLRGKSGQGYYVEMTVGSPPQ...</td>\n",
              "    </tr>\n",
              "  </tbody>\n",
              "</table>\n",
              "<p>200 rows × 1 columns</p>\n",
              "</div>"
            ],
            "text/plain": [
              "                                                    seq\n",
              "2293  MKEKEPLESQYQVGPLLGSGGFGSVYSGIRVSDNLPVAIKHVEKDR...\n",
              "1438  GSQIPASEQETLVRPKPLLLKLLKSVGAQKDTYTMKEVLFYLGQYI...\n",
              "3981  GAMALKRIHKELNDLARDPPAQCSAGPVGDDMFHWQATAMGPNDSP...\n",
              "191   SHMSICTSEEWQGLMQFTLPVRLCKEIELFHFDIGPFENMWPGIFV...\n",
              "2569  SMNPPPPETSNPNKPKRQTNQLQYLLRVVLKTLWKHQFAWPFQQPV...\n",
              "...                                                 ...\n",
              "2597  MSKWTYFGPDGENSWSKKYPSCGGLLQSPIDLHSDILQYDASLTPL...\n",
              "2255  MGPVWRKHYITYRINNYTPDMNREDVDYAIRKAFQVWSNVTPLKFS...\n",
              "1295  HHWGYGKHNGPEHWHKDFPIAKGERQSPVDIDTHTAKYDPSLKPLS...\n",
              "305   MAGVEEVAASGSHLNGDLDPDDREEGAASTAEEAAKKKRRKKKKSK...\n",
              "2666  LRLPRETDEEPEEPGRRGSFVEMVDNLRGKSGQGYYVEMTVGSPPQ...\n",
              "\n",
              "[200 rows x 1 columns]"
            ]
          },
          "metadata": {
            "tags": []
          },
          "execution_count": 16
        }
      ]
    },
    {
      "cell_type": "code",
      "metadata": {
        "colab": {
          "base_uri": "https://localhost:8080/",
          "height": 419
        },
        "id": "BeQgc-s3YOET",
        "outputId": "2fe62bf1-d24b-4222-a3d2-649c9c8c7be1"
      },
      "source": [
        "train_data=pd.concat([pos_data_cls,neg_data_cls])\n",
        "train_data"
      ],
      "execution_count": null,
      "outputs": [
        {
          "output_type": "execute_result",
          "data": {
            "text/html": [
              "<div>\n",
              "<style scoped>\n",
              "    .dataframe tbody tr th:only-of-type {\n",
              "        vertical-align: middle;\n",
              "    }\n",
              "\n",
              "    .dataframe tbody tr th {\n",
              "        vertical-align: top;\n",
              "    }\n",
              "\n",
              "    .dataframe thead th {\n",
              "        text-align: right;\n",
              "    }\n",
              "</style>\n",
              "<table border=\"1\" class=\"dataframe\">\n",
              "  <thead>\n",
              "    <tr style=\"text-align: right;\">\n",
              "      <th></th>\n",
              "      <th>seq</th>\n",
              "      <th>dp</th>\n",
              "    </tr>\n",
              "  </thead>\n",
              "  <tbody>\n",
              "    <tr>\n",
              "      <th>0</th>\n",
              "      <td>MLLLGAVLLLLALPGHDQETTTQGPGVLLPLPKGACTGWMAGIPGH...</td>\n",
              "      <td>0.315333</td>\n",
              "    </tr>\n",
              "    <tr>\n",
              "      <th>1</th>\n",
              "      <td>MDYLLMIFSLLFVACQGAPETAVLGAELSAVGENGGEKPTPSPPWR...</td>\n",
              "      <td>0.382083</td>\n",
              "    </tr>\n",
              "    <tr>\n",
              "      <th>2</th>\n",
              "      <td>MKAFSPVRSVRKNSLSDHSLGISRSKTPVDDPMSLLYNMNDCYSKL...</td>\n",
              "      <td>0.367583</td>\n",
              "    </tr>\n",
              "    <tr>\n",
              "      <th>3</th>\n",
              "      <td>MSLKLQASNVTNKNDPKSINSRVFIGNLNTALVKKSDVETIFSKYG...</td>\n",
              "      <td>0.390154</td>\n",
              "    </tr>\n",
              "    <tr>\n",
              "      <th>4</th>\n",
              "      <td>MVSKLTSLQQELLSALLSSGVTKEVLVQALEELLPSPNFGVKLETL...</td>\n",
              "      <td>0.485750</td>\n",
              "    </tr>\n",
              "    <tr>\n",
              "      <th>...</th>\n",
              "      <td>...</td>\n",
              "      <td>...</td>\n",
              "    </tr>\n",
              "    <tr>\n",
              "      <th>2597</th>\n",
              "      <td>MSKWTYFGPDGENSWSKKYPSCGGLLQSPIDLHSDILQYDASLTPL...</td>\n",
              "      <td>NaN</td>\n",
              "    </tr>\n",
              "    <tr>\n",
              "      <th>2255</th>\n",
              "      <td>MGPVWRKHYITYRINNYTPDMNREDVDYAIRKAFQVWSNVTPLKFS...</td>\n",
              "      <td>NaN</td>\n",
              "    </tr>\n",
              "    <tr>\n",
              "      <th>1295</th>\n",
              "      <td>HHWGYGKHNGPEHWHKDFPIAKGERQSPVDIDTHTAKYDPSLKPLS...</td>\n",
              "      <td>NaN</td>\n",
              "    </tr>\n",
              "    <tr>\n",
              "      <th>305</th>\n",
              "      <td>MAGVEEVAASGSHLNGDLDPDDREEGAASTAEEAAKKKRRKKKKSK...</td>\n",
              "      <td>NaN</td>\n",
              "    </tr>\n",
              "    <tr>\n",
              "      <th>2666</th>\n",
              "      <td>LRLPRETDEEPEEPGRRGSFVEMVDNLRGKSGQGYYVEMTVGSPPQ...</td>\n",
              "      <td>NaN</td>\n",
              "    </tr>\n",
              "  </tbody>\n",
              "</table>\n",
              "<p>399 rows × 2 columns</p>\n",
              "</div>"
            ],
            "text/plain": [
              "                                                    seq        dp\n",
              "0     MLLLGAVLLLLALPGHDQETTTQGPGVLLPLPKGACTGWMAGIPGH...  0.315333\n",
              "1     MDYLLMIFSLLFVACQGAPETAVLGAELSAVGENGGEKPTPSPPWR...  0.382083\n",
              "2     MKAFSPVRSVRKNSLSDHSLGISRSKTPVDDPMSLLYNMNDCYSKL...  0.367583\n",
              "3     MSLKLQASNVTNKNDPKSINSRVFIGNLNTALVKKSDVETIFSKYG...  0.390154\n",
              "4     MVSKLTSLQQELLSALLSSGVTKEVLVQALEELLPSPNFGVKLETL...  0.485750\n",
              "...                                                 ...       ...\n",
              "2597  MSKWTYFGPDGENSWSKKYPSCGGLLQSPIDLHSDILQYDASLTPL...       NaN\n",
              "2255  MGPVWRKHYITYRINNYTPDMNREDVDYAIRKAFQVWSNVTPLKFS...       NaN\n",
              "1295  HHWGYGKHNGPEHWHKDFPIAKGERQSPVDIDTHTAKYDPSLKPLS...       NaN\n",
              "305   MAGVEEVAASGSHLNGDLDPDDREEGAASTAEEAAKKKRRKKKKSK...       NaN\n",
              "2666  LRLPRETDEEPEEPGRRGSFVEMVDNLRGKSGQGYYVEMTVGSPPQ...       NaN\n",
              "\n",
              "[399 rows x 2 columns]"
            ]
          },
          "metadata": {
            "tags": []
          },
          "execution_count": 38
        }
      ]
    },
    {
      "cell_type": "code",
      "metadata": {
        "colab": {
          "base_uri": "https://localhost:8080/",
          "height": 508
        },
        "id": "BsF1uqtGYlU3",
        "outputId": "730a4e19-eafb-41f7-b7a6-c390734bc633"
      },
      "source": [
        "import numpy as np\n",
        "import numbers\n",
        "\n",
        "train_data['dp']=train_data['dp'].replace(to_replace = np.nan, value = 0)\n",
        "train_data['dp'].iloc[:199]=1\n",
        "\n",
        "train_data "
      ],
      "execution_count": null,
      "outputs": [
        {
          "output_type": "stream",
          "text": [
            "/usr/local/lib/python3.7/dist-packages/pandas/core/indexing.py:670: SettingWithCopyWarning: \n",
            "A value is trying to be set on a copy of a slice from a DataFrame\n",
            "\n",
            "See the caveats in the documentation: https://pandas.pydata.org/pandas-docs/stable/user_guide/indexing.html#returning-a-view-versus-a-copy\n",
            "  iloc._setitem_with_indexer(indexer, value)\n"
          ],
          "name": "stderr"
        },
        {
          "output_type": "execute_result",
          "data": {
            "text/html": [
              "<div>\n",
              "<style scoped>\n",
              "    .dataframe tbody tr th:only-of-type {\n",
              "        vertical-align: middle;\n",
              "    }\n",
              "\n",
              "    .dataframe tbody tr th {\n",
              "        vertical-align: top;\n",
              "    }\n",
              "\n",
              "    .dataframe thead th {\n",
              "        text-align: right;\n",
              "    }\n",
              "</style>\n",
              "<table border=\"1\" class=\"dataframe\">\n",
              "  <thead>\n",
              "    <tr style=\"text-align: right;\">\n",
              "      <th></th>\n",
              "      <th>seq</th>\n",
              "      <th>dp</th>\n",
              "    </tr>\n",
              "  </thead>\n",
              "  <tbody>\n",
              "    <tr>\n",
              "      <th>0</th>\n",
              "      <td>MLLLGAVLLLLALPGHDQETTTQGPGVLLPLPKGACTGWMAGIPGH...</td>\n",
              "      <td>1.0</td>\n",
              "    </tr>\n",
              "    <tr>\n",
              "      <th>1</th>\n",
              "      <td>MDYLLMIFSLLFVACQGAPETAVLGAELSAVGENGGEKPTPSPPWR...</td>\n",
              "      <td>1.0</td>\n",
              "    </tr>\n",
              "    <tr>\n",
              "      <th>2</th>\n",
              "      <td>MKAFSPVRSVRKNSLSDHSLGISRSKTPVDDPMSLLYNMNDCYSKL...</td>\n",
              "      <td>1.0</td>\n",
              "    </tr>\n",
              "    <tr>\n",
              "      <th>3</th>\n",
              "      <td>MSLKLQASNVTNKNDPKSINSRVFIGNLNTALVKKSDVETIFSKYG...</td>\n",
              "      <td>1.0</td>\n",
              "    </tr>\n",
              "    <tr>\n",
              "      <th>4</th>\n",
              "      <td>MVSKLTSLQQELLSALLSSGVTKEVLVQALEELLPSPNFGVKLETL...</td>\n",
              "      <td>1.0</td>\n",
              "    </tr>\n",
              "    <tr>\n",
              "      <th>...</th>\n",
              "      <td>...</td>\n",
              "      <td>...</td>\n",
              "    </tr>\n",
              "    <tr>\n",
              "      <th>2597</th>\n",
              "      <td>MSKWTYFGPDGENSWSKKYPSCGGLLQSPIDLHSDILQYDASLTPL...</td>\n",
              "      <td>0.0</td>\n",
              "    </tr>\n",
              "    <tr>\n",
              "      <th>2255</th>\n",
              "      <td>MGPVWRKHYITYRINNYTPDMNREDVDYAIRKAFQVWSNVTPLKFS...</td>\n",
              "      <td>0.0</td>\n",
              "    </tr>\n",
              "    <tr>\n",
              "      <th>1295</th>\n",
              "      <td>HHWGYGKHNGPEHWHKDFPIAKGERQSPVDIDTHTAKYDPSLKPLS...</td>\n",
              "      <td>0.0</td>\n",
              "    </tr>\n",
              "    <tr>\n",
              "      <th>305</th>\n",
              "      <td>MAGVEEVAASGSHLNGDLDPDDREEGAASTAEEAAKKKRRKKKKSK...</td>\n",
              "      <td>0.0</td>\n",
              "    </tr>\n",
              "    <tr>\n",
              "      <th>2666</th>\n",
              "      <td>LRLPRETDEEPEEPGRRGSFVEMVDNLRGKSGQGYYVEMTVGSPPQ...</td>\n",
              "      <td>0.0</td>\n",
              "    </tr>\n",
              "  </tbody>\n",
              "</table>\n",
              "<p>399 rows × 2 columns</p>\n",
              "</div>"
            ],
            "text/plain": [
              "                                                    seq   dp\n",
              "0     MLLLGAVLLLLALPGHDQETTTQGPGVLLPLPKGACTGWMAGIPGH...  1.0\n",
              "1     MDYLLMIFSLLFVACQGAPETAVLGAELSAVGENGGEKPTPSPPWR...  1.0\n",
              "2     MKAFSPVRSVRKNSLSDHSLGISRSKTPVDDPMSLLYNMNDCYSKL...  1.0\n",
              "3     MSLKLQASNVTNKNDPKSINSRVFIGNLNTALVKKSDVETIFSKYG...  1.0\n",
              "4     MVSKLTSLQQELLSALLSSGVTKEVLVQALEELLPSPNFGVKLETL...  1.0\n",
              "...                                                 ...  ...\n",
              "2597  MSKWTYFGPDGENSWSKKYPSCGGLLQSPIDLHSDILQYDASLTPL...  0.0\n",
              "2255  MGPVWRKHYITYRINNYTPDMNREDVDYAIRKAFQVWSNVTPLKFS...  0.0\n",
              "1295  HHWGYGKHNGPEHWHKDFPIAKGERQSPVDIDTHTAKYDPSLKPLS...  0.0\n",
              "305   MAGVEEVAASGSHLNGDLDPDDREEGAASTAEEAAKKKRRKKKKSK...  0.0\n",
              "2666  LRLPRETDEEPEEPGRRGSFVEMVDNLRGKSGQGYYVEMTVGSPPQ...  0.0\n",
              "\n",
              "[399 rows x 2 columns]"
            ]
          },
          "metadata": {
            "tags": []
          },
          "execution_count": 41
        }
      ]
    },
    {
      "cell_type": "code",
      "metadata": {
        "id": "kOAxq5BHqcbT"
      },
      "source": [
        ""
      ],
      "execution_count": null,
      "outputs": []
    },
    {
      "cell_type": "code",
      "metadata": {
        "id": "oxqCOdGMt8qn"
      },
      "source": [
        "'''from datasets import ClassLabel\n",
        "import random\n",
        "import pandas as pd\n",
        "from IPython.display import display, HTML\n",
        "\n",
        "def show_random_elements(dataset, num_examples=10):\n",
        "  assert num_examples <= len(dataset), \"Can't pick more elements than there are in the dataset.\"\n",
        "  picks = []\n",
        "  for _ in range(num_examples):\n",
        "      pick = random.randint(0, len(dataset)-1)\n",
        "      while pick in picks:\n",
        "          pick = random.randint(0, len(dataset)-1)\n",
        "      picks.append(pick)\n",
        "  \n",
        "  df = pd.DataFrame(dataset[picks])\n",
        "  for column, typ in dataset.features.items():\n",
        "      if isinstance(typ, ClassLabel):\n",
        "          df[column] = df[column].transform(lambda i: typ.names[i])\n",
        "  display(HTML(df.to_html()))'''"
      ],
      "execution_count": null,
      "outputs": []
    },
    {
      "cell_type": "code",
      "metadata": {
        "id": "HPZjEryoObMm"
      },
      "source": [
        "import pandas as pd"
      ],
      "execution_count": null,
      "outputs": []
    },
    {
      "cell_type": "code",
      "metadata": {
        "id": "vmaX0B4tCKnh",
        "colab": {
          "base_uri": "https://localhost:8080/",
          "height": 419
        },
        "outputId": "18ab9131-1f40-4168-f4e3-feea86005ff8"
      },
      "source": [
        "train_data=pd.read_csv('/content/drive/My Drive/idp_train_data.csv')\n",
        "train_data"
      ],
      "execution_count": null,
      "outputs": [
        {
          "output_type": "execute_result",
          "data": {
            "text/html": [
              "<div>\n",
              "<style scoped>\n",
              "    .dataframe tbody tr th:only-of-type {\n",
              "        vertical-align: middle;\n",
              "    }\n",
              "\n",
              "    .dataframe tbody tr th {\n",
              "        vertical-align: top;\n",
              "    }\n",
              "\n",
              "    .dataframe thead th {\n",
              "        text-align: right;\n",
              "    }\n",
              "</style>\n",
              "<table border=\"1\" class=\"dataframe\">\n",
              "  <thead>\n",
              "    <tr style=\"text-align: right;\">\n",
              "      <th></th>\n",
              "      <th>Unnamed: 0</th>\n",
              "      <th>seq</th>\n",
              "      <th>dp</th>\n",
              "    </tr>\n",
              "  </thead>\n",
              "  <tbody>\n",
              "    <tr>\n",
              "      <th>0</th>\n",
              "      <td>0</td>\n",
              "      <td>MLLLGAVLLLLALPGHDQETTTQGPGVLLPLPKGACTGWMAGIPGH...</td>\n",
              "      <td>1.0</td>\n",
              "    </tr>\n",
              "    <tr>\n",
              "      <th>1</th>\n",
              "      <td>1</td>\n",
              "      <td>MDYLLMIFSLLFVACQGAPETAVLGAELSAVGENGGEKPTPSPPWR...</td>\n",
              "      <td>1.0</td>\n",
              "    </tr>\n",
              "    <tr>\n",
              "      <th>2</th>\n",
              "      <td>2</td>\n",
              "      <td>MKAFSPVRSVRKNSLSDHSLGISRSKTPVDDPMSLLYNMNDCYSKL...</td>\n",
              "      <td>1.0</td>\n",
              "    </tr>\n",
              "    <tr>\n",
              "      <th>3</th>\n",
              "      <td>3</td>\n",
              "      <td>MSLKLQASNVTNKNDPKSINSRVFIGNLNTALVKKSDVETIFSKYG...</td>\n",
              "      <td>1.0</td>\n",
              "    </tr>\n",
              "    <tr>\n",
              "      <th>4</th>\n",
              "      <td>4</td>\n",
              "      <td>MVSKLTSLQQELLSALLSSGVTKEVLVQALEELLPSPNFGVKLETL...</td>\n",
              "      <td>1.0</td>\n",
              "    </tr>\n",
              "    <tr>\n",
              "      <th>...</th>\n",
              "      <td>...</td>\n",
              "      <td>...</td>\n",
              "      <td>...</td>\n",
              "    </tr>\n",
              "    <tr>\n",
              "      <th>394</th>\n",
              "      <td>2597</td>\n",
              "      <td>MSKWTYFGPDGENSWSKKYPSCGGLLQSPIDLHSDILQYDASLTPL...</td>\n",
              "      <td>0.0</td>\n",
              "    </tr>\n",
              "    <tr>\n",
              "      <th>395</th>\n",
              "      <td>2255</td>\n",
              "      <td>MGPVWRKHYITYRINNYTPDMNREDVDYAIRKAFQVWSNVTPLKFS...</td>\n",
              "      <td>0.0</td>\n",
              "    </tr>\n",
              "    <tr>\n",
              "      <th>396</th>\n",
              "      <td>1295</td>\n",
              "      <td>HHWGYGKHNGPEHWHKDFPIAKGERQSPVDIDTHTAKYDPSLKPLS...</td>\n",
              "      <td>0.0</td>\n",
              "    </tr>\n",
              "    <tr>\n",
              "      <th>397</th>\n",
              "      <td>305</td>\n",
              "      <td>MAGVEEVAASGSHLNGDLDPDDREEGAASTAEEAAKKKRRKKKKSK...</td>\n",
              "      <td>0.0</td>\n",
              "    </tr>\n",
              "    <tr>\n",
              "      <th>398</th>\n",
              "      <td>2666</td>\n",
              "      <td>LRLPRETDEEPEEPGRRGSFVEMVDNLRGKSGQGYYVEMTVGSPPQ...</td>\n",
              "      <td>0.0</td>\n",
              "    </tr>\n",
              "  </tbody>\n",
              "</table>\n",
              "<p>399 rows × 3 columns</p>\n",
              "</div>"
            ],
            "text/plain": [
              "     Unnamed: 0                                                seq   dp\n",
              "0             0  MLLLGAVLLLLALPGHDQETTTQGPGVLLPLPKGACTGWMAGIPGH...  1.0\n",
              "1             1  MDYLLMIFSLLFVACQGAPETAVLGAELSAVGENGGEKPTPSPPWR...  1.0\n",
              "2             2  MKAFSPVRSVRKNSLSDHSLGISRSKTPVDDPMSLLYNMNDCYSKL...  1.0\n",
              "3             3  MSLKLQASNVTNKNDPKSINSRVFIGNLNTALVKKSDVETIFSKYG...  1.0\n",
              "4             4  MVSKLTSLQQELLSALLSSGVTKEVLVQALEELLPSPNFGVKLETL...  1.0\n",
              "..          ...                                                ...  ...\n",
              "394        2597  MSKWTYFGPDGENSWSKKYPSCGGLLQSPIDLHSDILQYDASLTPL...  0.0\n",
              "395        2255  MGPVWRKHYITYRINNYTPDMNREDVDYAIRKAFQVWSNVTPLKFS...  0.0\n",
              "396        1295  HHWGYGKHNGPEHWHKDFPIAKGERQSPVDIDTHTAKYDPSLKPLS...  0.0\n",
              "397         305  MAGVEEVAASGSHLNGDLDPDDREEGAASTAEEAAKKKRRKKKKSK...  0.0\n",
              "398        2666  LRLPRETDEEPEEPGRRGSFVEMVDNLRGKSGQGYYVEMTVGSPPQ...  0.0\n",
              "\n",
              "[399 rows x 3 columns]"
            ]
          },
          "metadata": {
            "tags": []
          },
          "execution_count": 9
        }
      ]
    },
    {
      "cell_type": "code",
      "metadata": {
        "id": "yfB4Y0KlmTp8"
      },
      "source": [
        "from sklearn.model_selection import train_test_split\n",
        "train,validation=train_test_split(train_data,test_size=0.2,shuffle=True)"
      ],
      "execution_count": null,
      "outputs": []
    },
    {
      "cell_type": "code",
      "metadata": {
        "id": "qGKcv7NEhcWC"
      },
      "source": [
        ""
      ],
      "execution_count": null,
      "outputs": []
    },
    {
      "cell_type": "code",
      "metadata": {
        "colab": {
          "base_uri": "https://localhost:8080/"
        },
        "id": "KrkZwmkkJPSY",
        "outputId": "da12f871-1df2-416e-cbab-7215759203bc"
      },
      "source": [
        "import sys\n",
        "!test -d bertviz_repo && echo \"FYI: bertviz_repo directory already exists, to pull latest version uncomment this line: !rm -r bertviz_repo\"\n",
        "# !rm -r bertviz_repo # Uncomment if you need a clean pull from repo\n",
        "!test -d bertviz_repo || git clone https://github.com/jessevig/bertviz bertviz_repo\n",
        "if not 'bertviz_repo' in sys.path:\n",
        "  sys.path += ['bertviz_repo']"
      ],
      "execution_count": null,
      "outputs": [
        {
          "output_type": "stream",
          "text": [
            "FYI: bertviz_repo directory already exists, to pull latest version uncomment this line: !rm -r bertviz_repo\n"
          ],
          "name": "stdout"
        }
      ]
    },
    {
      "cell_type": "code",
      "metadata": {
        "id": "OHq_GfxgImjn"
      },
      "source": [
        "from bertviz import head_view\n",
        "def call_html():\n",
        "  import IPython\n",
        "  display(IPython.core.display.HTML('''\n",
        "        <script src=\"/static/components/requirejs/require.js\"></script>\n",
        "        <script>\n",
        "          requirejs.config({\n",
        "            paths: {\n",
        "              base: '/static/base',\n",
        "              \"d3\": \"https://cdnjs.cloudflare.com/ajax/libs/d3/5.7.0/d3.min\",\n",
        "              jquery: '//ajax.googleapis.com/ajax/libs/jquery/2.0.0/jquery.min',\n",
        "            },\n",
        "          });\n",
        "        </script>\n",
        "        '''))"
      ],
      "execution_count": null,
      "outputs": []
    },
    {
      "cell_type": "code",
      "metadata": {
        "id": "7vOh_bo8IkjH"
      },
      "source": [
        "def show_head_view(model, tokenizer, sentence_a, sentence_b=None):\n",
        "    inputs = tokenizer.encode_plus(sentence_a, sentence_b, return_tensors='pt', add_special_tokens=True)\n",
        "    input_ids = inputs['input_ids']\n",
        "    if sentence_b:\n",
        "        token_type_ids = inputs['token_type_ids']\n",
        "        attention = model(input_ids, token_type_ids=token_type_ids)[-1]\n",
        "        sentence_b_start = token_type_ids[0].tolist().index(1)\n",
        "    else:\n",
        "        attention = model(input_ids)[-1]\n",
        "        sentence_b_start = None\n",
        "    input_id_list = input_ids[0].tolist() # Batch index 0\n",
        "    tokens = tokenizer.convert_ids_to_tokens(input_id_list)  \n",
        "    call_html()  \n",
        "    head_view(attention, tokens, sentence_b_start)"
      ],
      "execution_count": null,
      "outputs": []
    },
    {
      "cell_type": "code",
      "metadata": {
        "colab": {
          "resources": {
            "http://localhost:8080/static/components/requirejs/require.js": {
              "data": "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",
              "ok": true,
              "headers": [
                [
                  "content-type",
                  "application/javascript"
                ]
              ],
              "status": 200,
              "status_text": ""
            }
          },
          "base_uri": "https://localhost:8080/",
          "height": 137
        },
        "id": "OjPvQxBtIudb",
        "outputId": "3186e323-b051-4f42-a305-e061e69de86a"
      },
      "source": [
        "show_head_view(model, tokenizer,'METPSQRRATRSGAQASSTPLSPTRITRLQEKEDLQELNDRLAVYIDRVRSLETENAGLRLRITESEEVVSREVSGIKAAYEAELGDARKTLDSVAKERARLQLELSKVREEFKELKARNTKKEGDLIAAQARLKDLEALLNSKEAALSTALSEKRTLEGELHDLRGQVAKLEAALGEAKKQLQDEMLRRVDAENRLQTMKEELDFQKNIYSEELRETKRRHETRLVEIDNGKQREFESRLADALQELRAQHEDQVEQYKKELEKTYSAKLDNARQSAERNSNLVGAAHEELQQSRIRIDSLSAQLSQLQKQLAAKEAKLRDLEDSLARERDTSRRLLAEKEREMAEMRARMQQQLDEYQELLDIKLALDMEIHAYRKLLEGEEERLRLSPSPTSQRSRGRASSHSSQTQGGGSVTKKRKLESTESRSSFSQHARTSGRVAVEEVDEEGKFVRLRNKSNEDQSMGNWQIKRQNGDDPLLTYRFPPKFTLKAGQVVTIWAAGAGATHSPPTDLVWKAQNTWGCGNSLRTALINSTGEEVAMRKLVRSVTVVEDDEDEDGDDLLHHHHGSHCSSSGDPAEYNLRSRTVLCGTCGQPADKASASGSGAQVGGPISSGSSASSVTVTRSYRSVGGSGGGSFGDNLVTRSYLLGNSSPRTQSPQNCSIM')"
      ],
      "execution_count": null,
      "outputs": [
        {
          "output_type": "display_data",
          "data": {
            "text/html": [
              "\n",
              "        <script src=\"/static/components/requirejs/require.js\"></script>\n",
              "        <script>\n",
              "          requirejs.config({\n",
              "            paths: {\n",
              "              base: '/static/base',\n",
              "              \"d3\": \"https://cdnjs.cloudflare.com/ajax/libs/d3/5.7.0/d3.min\",\n",
              "              jquery: '//ajax.googleapis.com/ajax/libs/jquery/2.0.0/jquery.min',\n",
              "            },\n",
              "          });\n",
              "        </script>\n",
              "        "
            ],
            "text/plain": [
              "<IPython.core.display.HTML object>"
            ]
          },
          "metadata": {
            "tags": []
          }
        },
        {
          "output_type": "display_data",
          "data": {
            "text/html": [
              "<script src=\"https://cdnjs.cloudflare.com/ajax/libs/require.js/2.3.6/require.min.js\"></script>"
            ],
            "text/plain": [
              "<IPython.core.display.HTML object>"
            ]
          },
          "metadata": {
            "tags": []
          }
        },
        {
          "output_type": "display_data",
          "data": {
            "text/html": [
              "      \n",
              "        <div id='bertviz-936e4147cb134406a91bf3c1dc40c8be'>\n",
              "            <span style=\"user-select:none\">\n",
              "                Layer: <select id=\"layer\"></select>\n",
              "                \n",
              "            </span>\n",
              "            <div id='vis'></div>\n",
              "        </div>\n",
              "    "
            ],
            "text/plain": [
              "<IPython.core.display.HTML object>"
            ]
          },
          "metadata": {
            "tags": []
          }
        },
        {
          "output_type": "display_data",
          "data": {
            "application/javascript": [
              "/**\n",
              " * @fileoverview Transformer Visualization D3 javascript code.\n",
              " *\n",
              " *\n",
              " *  Based on: https://github.com/tensorflow/tensor2tensor/blob/master/tensor2tensor/visualization/attention.js\n",
              " *\n",
              " * Change log:\n",
              " *\n",
              " * 12/19/18  Jesse Vig   Assorted cleanup. Changed orientation of attention matrices.\n",
              " * 12/29/20  Jesse Vig   Significant refactor.\n",
              " * 12/31/20  Jesse Vig   Support multiple visualizations in single notebook.\n",
              " * 02/06/21  Jesse Vig   Move require config from separate jupyter notebook step\n",
              " * 05/03/21  Jesse Vig   Adjust height of visualization dynamically\n",
              " * 07/25/21  Jesse Vig   Support layer filtering\n",
              " **/\n",
              "\n",
              "require.config({\n",
              "  paths: {\n",
              "      d3: '//cdnjs.cloudflare.com/ajax/libs/d3/5.7.0/d3.min',\n",
              "    jquery: '//ajax.googleapis.com/ajax/libs/jquery/2.0.0/jquery.min',\n",
              "  }\n",
              "});\n",
              "\n",
              "requirejs(['jquery', 'd3'], function ($, d3) {\n",
              "\n",
              "    const params = {\"attention\": [{\"name\": null, \"attn\": [[[[0.35182997584342957, 0.5096926093101501, 0.1384774148464203], [0.7189466953277588, 0.16999271512031555, 0.11106068640947342], [0.5230326056480408, 0.2582660913467407, 0.2187012881040573]], [[0.29125508666038513, 0.10429096966981888, 0.6044539213180542], [0.13170260190963745, 0.00223346333950758, 0.8660639524459839], [0.022217057645320892, 0.0023228079080581665, 0.9754601120948792]], [[0.1166437566280365, 0.0030076552648097277, 0.8803486227989197], [0.3253886103630066, 0.3242492973804474, 0.350362092256546], [0.25971609354019165, 0.10059883445501328, 0.6396850943565369]], [[0.041961733251810074, 0.9494951367378235, 0.008543084375560284], [0.4583303928375244, 0.5237346291542053, 0.017935071140527725], [0.39214232563972473, 0.3576638698577881, 0.25019383430480957]], [[0.9890158772468567, 0.010618876665830612, 0.0003652408195193857], [0.8390309810638428, 0.12352257966995239, 0.03744649514555931], [0.14441289007663727, 0.03368501737713814, 0.8219020962715149]], [[0.630422055721283, 0.15316282212734222, 0.2164151519536972], [0.48232361674308777, 0.4210716485977173, 0.09660474956035614], [0.47094500064849854, 0.17418992519378662, 0.35486501455307007]], [[0.5887292623519897, 0.23402872681617737, 0.1772419512271881], [0.9376465678215027, 0.015364846214652061, 0.0469885915517807], [0.033086203038692474, 0.0051726954989135265, 0.9617410898208618]], [[0.1463179737329483, 0.3139953315258026, 0.5396867394447327], [0.07896240055561066, 0.3687732517719269, 0.5522643327713013], [0.01168061513453722, 0.1976049244403839, 0.7907145023345947]], [[0.3739761412143707, 0.5279549956321716, 0.09806887060403824], [0.1240776926279068, 0.13059334456920624, 0.745328962802887], [0.004462692886590958, 0.4871100187301636, 0.5084273815155029]], [[0.7564510703086853, 0.20366916060447693, 0.03987981379032135], [0.8049218058586121, 0.12060095369815826, 0.07447723299264908], [0.6821573972702026, 0.2832520306110382, 0.034590598195791245]], [[0.3730776906013489, 0.15834608674049377, 0.4685761630535126], [0.6464645266532898, 0.16915541887283325, 0.18438008427619934], [0.02691899798810482, 0.2089264690876007, 0.7641545534133911]], [[0.022607943043112755, 0.9514152407646179, 0.025976840406656265], [0.3202132284641266, 0.11913412809371948, 0.5606526136398315], [0.13224837183952332, 0.4203996956348419, 0.44735187292099]], [[0.22450736165046692, 0.13670876622200012, 0.638783872127533], [0.12047616392374039, 0.324870228767395, 0.554653525352478], [0.04277002066373825, 0.12403878569602966, 0.8331911563873291]], [[0.5669527649879456, 0.24555325508117676, 0.1874939352273941], [0.9238255023956299, 0.03942596912384033, 0.03674856945872307], [0.2541225552558899, 0.7295534610748291, 0.01632390171289444]], [[0.21216051280498505, 0.17825661599636078, 0.6095829010009766], [0.0744355320930481, 0.03087334893643856, 0.8946911096572876], [0.08046738803386688, 0.1859418749809265, 0.7335906624794006]], [[0.26952454447746277, 0.29540663957595825, 0.43506887555122375], [0.37868574261665344, 0.2643423080444336, 0.3569719195365906], [0.5821107029914856, 0.13488326966762543, 0.2830060124397278]]], [[[8.098070338746766e-07, 1.2159014659118839e-05, 0.999987006187439], [1.0566044693405274e-05, 1.6338501154677942e-05, 0.9999730587005615], [7.875831215642393e-06, 6.938107981113717e-05, 0.9999227523803711]], [[0.9915859699249268, 0.007984953001141548, 0.00042903865687549114], [2.948495875898516e-06, 0.009891420602798462, 0.9901056885719299], [4.916730844684025e-08, 0.0008917921804822981, 0.9991081357002258]], [[0.9983489513397217, 0.0016509330598637462, 1.1549376921493604e-07], [1.1448300938354805e-05, 0.9765417575836182, 0.0234468262642622], [3.396908709873969e-08, 0.0537334606051445, 0.9462664723396301]], [[0.2744874060153961, 0.7254865765571594, 2.6050945962197147e-05], [0.020140543580055237, 0.9798349738121033, 2.456134643580299e-05], [0.10025866329669952, 0.8979560136795044, 0.001785271568223834]], [[1.0, 3.3717644232211796e-09, 2.1763599494621644e-13], [0.9999994039535522, 6.107541139499517e-07, 1.6544261793871584e-10], [1.0, 1.6414154480060006e-09, 2.6597066563049943e-12]], [[0.4406537115573883, 0.4718661904335022, 0.08748006075620651], [0.5620518326759338, 0.40019121766090393, 0.03775690868496895], [0.11940696090459824, 0.647706925868988, 0.2328861504793167]], [[0.9695045351982117, 0.027048463001847267, 0.003447028109803796], [0.5619204640388489, 0.42400452494621277, 0.014075039885938168], [0.25784599781036377, 0.6586896777153015, 0.08346433192491531]], [[0.9999741315841675, 2.588687857496552e-05, 1.786117742597071e-08], [0.8136134743690491, 0.18572494387626648, 0.0006615996244363487], [0.17556528747081757, 0.7112557888031006, 0.11317891627550125]], [[0.47880592942237854, 0.09323859214782715, 0.4279555082321167], [0.9999799728393555, 4.324601832195185e-06, 1.5776520740473643e-05], [0.5167863368988037, 0.0963335931301117, 0.38687998056411743]], [[0.8937288522720337, 0.1062677800655365, 3.350522320033633e-06], [1.031160376405377e-14, 1.1534956456671352e-06, 0.9999988079071045], [8.037841643561347e-21, 3.96431932420116e-12, 1.0]], [[1.0, 6.554928821955741e-10, 2.370466383879127e-15], [0.48617666959762573, 0.5138125419616699, 1.0804145858855918e-05], [0.0003642791707534343, 0.945875883102417, 0.0537598617374897]], [[0.43206074833869934, 0.5670531392097473, 0.0008861295063979924], [0.34921717643737793, 0.650048017501831, 0.0007348537910729647], [0.36524975299835205, 0.6057974100112915, 0.028952820226550102]], [[0.017397573217749596, 0.8353634476661682, 0.14723898470401764], [0.013812514953315258, 0.7910776734352112, 0.19510990381240845], [0.07985611259937286, 0.6510956287384033, 0.26904821395874023]], [[0.9999998807907104, 6.957650811045824e-08, 1.3126112176353733e-11], [9.128681267611682e-05, 0.9997157454490662, 0.0001928947604028508], [3.8503588939420297e-07, 0.9986187219619751, 0.0013809583615511656]], [[0.9999939203262329, 6.112795290391659e-06, 5.126521784859506e-08], [0.9999983310699463, 1.6272132370431791e-06, 2.7386898304726515e-10], [1.0, 2.713768942896877e-08, 1.0138040580642826e-12]], [[0.780600368976593, 0.2189701944589615, 0.0004294825193937868], [0.8748441934585571, 0.12485107779502869, 0.00030469492776319385], [0.7866371273994446, 0.20936208963394165, 0.004000772722065449]]], [[[0.41676801443099976, 0.4210297763347626, 0.16220228374004364], [0.40965452790260315, 0.4407917857170105, 0.14955365657806396], [0.42750632762908936, 0.38650423288345337, 0.18598943948745728]], [[0.5891258716583252, 0.3415229022502899, 0.06935124099254608], [0.56951504945755, 0.3552064895629883, 0.07527846843004227], [0.5698422193527222, 0.33606216311454773, 0.0940956175327301]], [[0.5487449765205383, 0.40465235710144043, 0.04660263657569885], [0.36120516061782837, 0.5904269218444824, 0.048367951065301895], [0.23062445223331451, 0.5708020925521851, 0.19857345521450043]], [[0.5153814554214478, 0.37258294224739075, 0.1120356023311615], [0.43935906887054443, 0.47994938492774963, 0.08069155365228653], [0.23291882872581482, 0.29167020320892334, 0.47541093826293945]], [[0.40850359201431274, 0.35390955209732056, 0.2375868558883667], [0.37241920828819275, 0.37653258442878723, 0.2510482668876648], [0.39870136976242065, 0.3379967510700226, 0.26330190896987915]], [[0.6286856532096863, 0.21944895386695862, 0.15186534821987152], [0.6485130190849304, 0.21367138624191284, 0.13781557977199554], [0.6613144874572754, 0.1586182564496994, 0.18006718158721924]], [[0.3716096878051758, 0.38212311267852783, 0.24626728892326355], [0.43439963459968567, 0.40087831020355225, 0.1647220253944397], [0.47243809700012207, 0.3608289659023285, 0.16673292219638824]], [[0.44974780082702637, 0.38241156935691833, 0.1678406447172165], [0.2058616578578949, 0.5151891708374023, 0.27894923090934753], [0.32704871892929077, 0.2853897511959076, 0.38756152987480164]], [[0.38195276260375977, 0.5012933015823364, 0.11675392836332321], [0.28995251655578613, 0.5669620037078857, 0.14308546483516693], [0.3566395938396454, 0.46838992834091187, 0.17497046291828156]], [[0.4393385052680969, 0.44397202134132385, 0.11668943613767624], [0.4633930027484894, 0.45261016488075256, 0.08399678021669388], [0.46659645438194275, 0.42657244205474854, 0.10683117061853409]], [[0.5029841065406799, 0.38946297764778137, 0.10755299031734467], [0.31017792224884033, 0.5940307378768921, 0.09579136967658997], [0.34850946068763733, 0.46884822845458984, 0.1826423853635788]], [[0.5726223587989807, 0.3730551302433014, 0.05432246997952461], [0.5878233909606934, 0.36305558681488037, 0.04912101849913597], [0.5975921154022217, 0.35377100110054016, 0.04863690584897995]], [[0.4562518298625946, 0.37406688928604126, 0.16968123614788055], [0.44831952452659607, 0.39499592781066895, 0.15668459236621857], [0.4588000178337097, 0.3775065839290619, 0.1636933535337448]], [[0.3238930106163025, 0.2880324423313141, 0.3880745470523834], [0.32564374804496765, 0.3009547293186188, 0.3734015226364136], [0.3638122081756592, 0.24394282698631287, 0.39224496483802795]], [[0.2960023581981659, 0.5112511515617371, 0.19274654984474182], [0.28622686862945557, 0.5320380926132202, 0.18173503875732422], [0.2567148804664612, 0.36994168162345886, 0.37334343791007996]], [[0.4256937503814697, 0.48417675495147705, 0.090129554271698], [0.3989165127277374, 0.5203531980514526, 0.08073030412197113], [0.43591436743736267, 0.4409914016723633, 0.12309420853853226]]], [[[0.414256751537323, 0.3344912528991699, 0.2512519955635071], [0.41414594650268555, 0.3368546664714813, 0.24899937212467194], [0.40066057443618774, 0.32648441195487976, 0.2728550136089325]], [[0.35695093870162964, 0.30896803736686707, 0.33408108353614807], [0.36545509099960327, 0.3156646490097046, 0.31888025999069214], [0.36070433259010315, 0.3017534911632538, 0.33754220604896545]], [[0.34913158416748047, 0.2897234559059143, 0.3611449897289276], [0.3426767885684967, 0.2966826856136322, 0.3606405556201935], [0.3236922323703766, 0.26841071248054504, 0.40789705514907837]], [[0.36987006664276123, 0.29412198066711426, 0.3360079824924469], [0.3826107084751129, 0.29909077286720276, 0.3182985782623291], [0.3630734086036682, 0.27849334478378296, 0.35843321681022644]], [[0.4116409718990326, 0.31267842650413513, 0.27568063139915466], [0.41431504487991333, 0.3092966079711914, 0.2763882875442505], [0.41279086470603943, 0.28700006008148193, 0.30020907521247864]], [[0.4051828384399414, 0.28964608907699585, 0.30517107248306274], [0.4123571217060089, 0.29223868250846863, 0.29540419578552246], [0.4150722324848175, 0.29519546031951904, 0.28973230719566345]], [[0.3766900300979614, 0.2808547914028168, 0.34245526790618896], [0.3873926103115082, 0.2856014668941498, 0.32700595259666443], [0.37108108401298523, 0.26424792408943176, 0.3646709620952606]], [[0.33560100197792053, 0.3086613416671753, 0.35573768615722656], [0.33959782123565674, 0.303059458732605, 0.35734274983406067], [0.32985374331474304, 0.29515334963798523, 0.3749929964542389]], [[0.36267468333244324, 0.3378053903579712, 0.29951995611190796], [0.35698720812797546, 0.3305939733982086, 0.3124188780784607], [0.3745464086532593, 0.30778539180755615, 0.31766822934150696]], [[0.3529431223869324, 0.2920442521572113, 0.3550126552581787], [0.3608805537223816, 0.2994048297405243, 0.3397146463394165], [0.35743027925491333, 0.2742447853088379, 0.368324875831604]], [[0.32589781284332275, 0.28704097867012024, 0.387061208486557], [0.32801660895347595, 0.28718435764312744, 0.3847990334033966], [0.34585508704185486, 0.2781459093093872, 0.37599900364875793]], [[0.3631409704685211, 0.3281855285167694, 0.3086735010147095], [0.3638248145580292, 0.33008289337158203, 0.3060922920703888], [0.35910001397132874, 0.30620864033699036, 0.3346913754940033]], [[0.3917248845100403, 0.2830657362937927, 0.3252094089984894], [0.40069541335105896, 0.2853687107563019, 0.3139358460903168], [0.37269675731658936, 0.25839608907699585, 0.3689071834087372]], [[0.1733493059873581, 0.17787307500839233, 0.6487776041030884], [0.1731235533952713, 0.17488501965999603, 0.6519914269447327], [0.12936970591545105, 0.14635048806667328, 0.7242798805236816]], [[0.33650800585746765, 0.3812618851661682, 0.2822301387786865], [0.33943259716033936, 0.37717700004577637, 0.2833903729915619], [0.3368135392665863, 0.35396304726600647, 0.3092234134674072]], [[0.4013480544090271, 0.4004320204257965, 0.1982199102640152], [0.40321528911590576, 0.3910680413246155, 0.20571666955947876], [0.4117736220359802, 0.3827635645866394, 0.20546284317970276]]], [[[0.3816044330596924, 0.30755236744880676, 0.31084319949150085], [0.3814123868942261, 0.3092401325702667, 0.3093475103378296], [0.3878474533557892, 0.3084762990474701, 0.3036763370037079]], [[0.43857333064079285, 0.32021600008010864, 0.24121062457561493], [0.43983030319213867, 0.3231349587440491, 0.23703470826148987], [0.44279640913009644, 0.3223469853401184, 0.23485659062862396]], [[0.4117368757724762, 0.3163635730743408, 0.271899551153183], [0.41128042340278625, 0.3176476061344147, 0.2710719406604767], [0.4143315553665161, 0.31561279296875, 0.2700555920600891]], [[0.41412797570228577, 0.31040650606155396, 0.2754654586315155], [0.41289573907852173, 0.31222257018089294, 0.27488166093826294], [0.4152785837650299, 0.3139955401420593, 0.27072590589523315]], [[0.4006601870059967, 0.33044829964637756, 0.2688915729522705], [0.4000907838344574, 0.33196091651916504, 0.26794832944869995], [0.39966362714767456, 0.32919564843177795, 0.2711406946182251]], [[0.42477551102638245, 0.3198208808898926, 0.255403608083725], [0.42462217807769775, 0.3215373158454895, 0.2538405656814575], [0.4359186887741089, 0.3126850128173828, 0.2513963580131531]], [[0.42766717076301575, 0.3169334828853607, 0.25539928674697876], [0.4283323884010315, 0.32003486156463623, 0.2516327202320099], [0.4323526918888092, 0.30804944038391113, 0.25959792733192444]], [[0.37314310669898987, 0.32247862219810486, 0.3043782711029053], [0.36932840943336487, 0.32106128334999084, 0.3096102476119995], [0.3634546995162964, 0.31287795305252075, 0.3236673176288605]], [[0.40620654821395874, 0.35455936193466187, 0.2392340749502182], [0.4093628227710724, 0.35823479294776917, 0.23240242898464203], [0.41054320335388184, 0.3470689356327057, 0.24238786101341248]], [[0.40468278527259827, 0.37170326709747314, 0.2236139178276062], [0.4015567898750305, 0.37421315908432007, 0.224230095744133], [0.3964201807975769, 0.36686599254608154, 0.23671381175518036]], [[0.4195988178253174, 0.3496417999267578, 0.2307593673467636], [0.4214908480644226, 0.3532254695892334, 0.2252836376428604], [0.4169001877307892, 0.3500845432281494, 0.2330152541399002]], [[0.44409579038619995, 0.32810455560684204, 0.22779962420463562], [0.44564664363861084, 0.33012306690216064, 0.22423028945922852], [0.4463290870189667, 0.32321828603744507, 0.23045262694358826]], [[0.38404208421707153, 0.3020152449607849, 0.31394270062446594], [0.3833646774291992, 0.3026716411113739, 0.31396374106407166], [0.3801072835922241, 0.2933878004550934, 0.32650497555732727]], [[0.36753541231155396, 0.33138158917427063, 0.30108290910720825], [0.3659375011920929, 0.33271658420562744, 0.30134591460227966], [0.35737255215644836, 0.3267006278038025, 0.31592679023742676]], [[0.4609973430633545, 0.3393564224243164, 0.19964632391929626], [0.45989957451820374, 0.34168413281440735, 0.19841624796390533], [0.4586856961250305, 0.3333252966403961, 0.20798903703689575]], [[0.41180598735809326, 0.27619701623916626, 0.3119969964027405], [0.4115067422389984, 0.2780701518058777, 0.3104231059551239], [0.41405537724494934, 0.27801352739334106, 0.3079310357570648]]], [[[0.36989015340805054, 0.31689637899398804, 0.31321343779563904], [0.368289053440094, 0.31957104802131653, 0.31213992834091187], [0.36440470814704895, 0.31121689081192017, 0.3243783712387085]], [[0.3846328556537628, 0.3306737244129181, 0.2846934199333191], [0.38325390219688416, 0.3325519859790802, 0.28419408202171326], [0.3789122998714447, 0.3275475800037384, 0.29354017972946167]], [[0.38368847966194153, 0.36895841360092163, 0.24735307693481445], [0.3821028470993042, 0.37221166491508484, 0.24568550288677216], [0.3836251199245453, 0.3737795948982239, 0.24259530007839203]], [[0.3959313631057739, 0.34626027941703796, 0.2578083276748657], [0.3941431939601898, 0.34905382990837097, 0.2568029463291168], [0.38969913125038147, 0.3472597897052765, 0.2630411684513092]], [[0.3984966576099396, 0.3064517378807068, 0.29505160450935364], [0.40246880054473877, 0.30657944083213806, 0.29095175862312317], [0.3958718180656433, 0.294630229473114, 0.3094979226589203]], [[0.33832547068595886, 0.28930041193962097, 0.37237414717674255], [0.3374318778514862, 0.29008227586746216, 0.37248584628105164], [0.3279970586299896, 0.28639644384384155, 0.3856064975261688]], [[0.32108643651008606, 0.3013989329338074, 0.3775146007537842], [0.3174092471599579, 0.3019406199455261, 0.380650132894516], [0.32050061225891113, 0.3057354986667633, 0.37376388907432556]], [[0.3223263919353485, 0.2816214859485626, 0.39605215191841125], [0.32170289754867554, 0.2849857211112976, 0.39331141114234924], [0.3156096637248993, 0.28117844462394714, 0.40321189165115356]], [[0.36755791306495667, 0.3002642095088959, 0.33217793703079224], [0.3682239055633545, 0.30056947469711304, 0.33120664954185486], [0.36951225996017456, 0.301433801651001, 0.32905399799346924]], [[0.35521963238716125, 0.3057268261909485, 0.33905351161956787], [0.3537404537200928, 0.30492737889289856, 0.3413321375846863], [0.351485013961792, 0.3015211820602417, 0.3469938337802887]], [[0.3161548674106598, 0.34116795659065247, 0.34267711639404297], [0.3153373897075653, 0.34433820843696594, 0.34032437205314636], [0.3078353703022003, 0.3312700688838959, 0.3608945310115814]], [[0.4015621244907379, 0.31444936990737915, 0.28398847579956055], [0.40400370955467224, 0.3148496150970459, 0.2811466455459595], [0.39354708790779114, 0.3113446831703186, 0.29510822892189026]], [[0.3910910189151764, 0.340029776096344, 0.2688792645931244], [0.3906656801700592, 0.3420475721359253, 0.2672867774963379], [0.38320425152778625, 0.3320269286632538, 0.2847687900066376]], [[0.32047465443611145, 0.35001376271247864, 0.3295115828514099], [0.31743183732032776, 0.3547866940498352, 0.32778146862983704], [0.3067934215068817, 0.34039345383644104, 0.352813184261322]], [[0.3728299140930176, 0.335054486989975, 0.29211556911468506], [0.36978304386138916, 0.3407041132450104, 0.28951287269592285], [0.3603413701057434, 0.32919105887413025, 0.31046760082244873]], [[0.31149837374687195, 0.3053681254386902, 0.3831334710121155], [0.30841490626335144, 0.30668047070503235, 0.3849046230316162], [0.30420660972595215, 0.29792284965515137, 0.3978705108165741]]], [[[0.34069693088531494, 0.35053113102912903, 0.3087720274925232], [0.34163424372673035, 0.3559055030345917, 0.302460253238678], [0.33485910296440125, 0.34268173575401306, 0.3224591016769409]], [[0.34479737281799316, 0.32550472021102905, 0.329697847366333], [0.3426463305950165, 0.32444414496421814, 0.332909494638443], [0.34086111187934875, 0.3190889358520508, 0.3400498926639557]], [[0.319519966840744, 0.3275994658470154, 0.3528805673122406], [0.32015568017959595, 0.3290981948375702, 0.3507460951805115], [0.3086170554161072, 0.3158743977546692, 0.37550851702690125]], [[0.3522576689720154, 0.3445861041545868, 0.3031562566757202], [0.3516322374343872, 0.34611260890960693, 0.302255243062973], [0.35176172852516174, 0.336062490940094, 0.31217578053474426]], [[0.3595471680164337, 0.36440032720565796, 0.2760525643825531], [0.3601895868778229, 0.36845898628234863, 0.2713513672351837], [0.35073012113571167, 0.3426249027252197, 0.3066449463367462]], [[0.34921225905418396, 0.2852921485900879, 0.3654955327510834], [0.35070836544036865, 0.2879237234592438, 0.3613679111003876], [0.3439675271511078, 0.27860307693481445, 0.37742942571640015]], [[0.34140872955322266, 0.3803865313529968, 0.2782047688961029], [0.34336474537849426, 0.3795224726200104, 0.277112752199173], [0.3429727852344513, 0.3756163418292999, 0.2814108729362488]], [[0.3465172052383423, 0.37737932801246643, 0.27610349655151367], [0.34624114632606506, 0.37435629963874817, 0.27940258383750916], [0.34621697664260864, 0.37058115005493164, 0.2832019031047821]], [[0.3550851047039032, 0.3493199050426483, 0.2955949902534485], [0.3532974421977997, 0.3454638421535492, 0.3012387752532959], [0.35064563155174255, 0.33537089824676514, 0.31398341059684753]], [[0.326072633266449, 0.3479924499988556, 0.32593491673469543], [0.32936257123947144, 0.3501259684562683, 0.3205114006996155], [0.3181677758693695, 0.33822980523109436, 0.34360235929489136]], [[0.345060259103775, 0.33981767296791077, 0.315122127532959], [0.3444490134716034, 0.3396207392215729, 0.31593018770217896], [0.33919641375541687, 0.3344549536705017, 0.3263486325740814]], [[0.34385916590690613, 0.39058345556259155, 0.26555734872817993], [0.34120917320251465, 0.40459105372428894, 0.254199743270874], [0.33523109555244446, 0.34608206152915955, 0.3186868131160736]], [[0.3402610421180725, 0.3546651303768158, 0.3050738275051117], [0.3402729332447052, 0.35473352670669556, 0.30499354004859924], [0.33505716919898987, 0.35092833638191223, 0.3140144348144531]], [[0.3226122260093689, 0.37220072746276855, 0.30518707633018494], [0.3220905363559723, 0.3707478940486908, 0.3071615397930145], [0.3242952227592468, 0.3725545406341553, 0.3031501770019531]], [[0.31545719504356384, 0.34924986958503723, 0.3352929949760437], [0.3166407346725464, 0.3501049876213074, 0.33325424790382385], [0.3122282922267914, 0.34523430466651917, 0.34253737330436707]], [[0.36319291591644287, 0.3381142318248749, 0.29869282245635986], [0.3619551658630371, 0.3416236937046051, 0.2964211106300354], [0.35579049587249756, 0.32159313559532166, 0.3226163387298584]]], [[[0.35928305983543396, 0.39762943983078003, 0.24308744072914124], [0.3622889518737793, 0.3952797055244446, 0.24243126809597015], [0.3652718663215637, 0.3978271782398224, 0.23690098524093628]], [[0.30989164113998413, 0.5116701126098633, 0.17843830585479736], [0.3115902245044708, 0.4988557696342468, 0.18955397605895996], [0.29518818855285645, 0.5045963525772095, 0.20021548867225647]], [[0.3325461745262146, 0.35360363125801086, 0.31385019421577454], [0.33668482303619385, 0.3498637080192566, 0.3134514391422272], [0.33679038286209106, 0.3541274964809418, 0.30908215045928955]], [[0.303017258644104, 0.3067881762981415, 0.3901945948600769], [0.3068517744541168, 0.30507132411003113, 0.3880768418312073], [0.29398688673973083, 0.2841557264328003, 0.42185738682746887]], [[0.32337623834609985, 0.3830711543560028, 0.29355254769325256], [0.33012866973876953, 0.3793877065181732, 0.29048362374305725], [0.3112671971321106, 0.3812539875507355, 0.30747878551483154]], [[0.3191061317920685, 0.4397505819797516, 0.2411433309316635], [0.32178109884262085, 0.4150424897670746, 0.26317641139030457], [0.3423343300819397, 0.41833940148353577, 0.23932622373104095]], [[0.4026099145412445, 0.3486995995044708, 0.2486904114484787], [0.4017598032951355, 0.3470190763473511, 0.2512211799621582], [0.3969746232032776, 0.3369264006614685, 0.2660990059375763]], [[0.346723735332489, 0.3102419674396515, 0.3430342376232147], [0.35121089220046997, 0.31015029549598694, 0.3386388123035431], [0.3392278552055359, 0.2927926778793335, 0.3679794371128082]], [[0.3633151948451996, 0.4719387888908386, 0.16474606096744537], [0.3646935522556305, 0.4680739939212799, 0.1672324538230896], [0.3599190413951874, 0.461965411901474, 0.1781155914068222]], [[0.39149439334869385, 0.3663482964038849, 0.24215736985206604], [0.3923864960670471, 0.36985743045806885, 0.23775602877140045], [0.3920685648918152, 0.3498798906803131, 0.2580515742301941]], [[0.3478982448577881, 0.3582358658313751, 0.2938658595085144], [0.3539329171180725, 0.3658515214920044, 0.2802155911922455], [0.33897218108177185, 0.32038411498069763, 0.3406437039375305]], [[0.3035072684288025, 0.43574613332748413, 0.26074662804603577], [0.30907243490219116, 0.4335594177246094, 0.25736820697784424], [0.3105185031890869, 0.4305807054042816, 0.25890079140663147]], [[0.3245769739151001, 0.38516753911972046, 0.29025542736053467], [0.3301813006401062, 0.38537395000457764, 0.28444474935531616], [0.3201868236064911, 0.37574338912963867, 0.3040696978569031]], [[0.39833739399909973, 0.3591490387916565, 0.24251359701156616], [0.4033992290496826, 0.35723310708999634, 0.23936767876148224], [0.39787784218788147, 0.34713801741600037, 0.2549842298030853]], [[0.338260293006897, 0.3841445744037628, 0.277595192193985], [0.3442971408367157, 0.3808669447898865, 0.2748359739780426], [0.3406722843647003, 0.3866520822048187, 0.27267560362815857]], [[0.4659157991409302, 0.30321449041366577, 0.23086974024772644], [0.46608421206474304, 0.3001404106616974, 0.2337753176689148], [0.4568122625350952, 0.28959622979164124, 0.25359153747558594]]], [[[0.32613641023635864, 0.40414249897003174, 0.2697211503982544], [0.3302285671234131, 0.40246498584747314, 0.26730653643608093], [0.3125302493572235, 0.4005439579486847, 0.286925733089447]], [[0.3794459104537964, 0.3195020258426666, 0.3010520040988922], [0.3807156980037689, 0.3189002275466919, 0.3003840744495392], [0.3728601336479187, 0.3136594891548157, 0.31348034739494324]], [[0.3397482633590698, 0.3838059902191162, 0.2764456868171692], [0.3284781575202942, 0.3825158178806305, 0.28900599479675293], [0.33679404854774475, 0.35678884387016296, 0.3064171075820923]], [[0.3597916066646576, 0.3623020350933075, 0.2779063880443573], [0.3590567708015442, 0.3640308678150177, 0.2769123613834381], [0.354873389005661, 0.35841062664985657, 0.28671592473983765]], [[0.33174216747283936, 0.4611215889453888, 0.20713618397712708], [0.34751200675964355, 0.44295844435691833, 0.20952948927879333], [0.3226670026779175, 0.48770585656166077, 0.18962717056274414]], [[0.38856130838394165, 0.2861052453517914, 0.3253334164619446], [0.3891809284687042, 0.28808993101119995, 0.32272911071777344], [0.38552433252334595, 0.2886628806591034, 0.3258127272129059]], [[0.3369086682796478, 0.3325744867324829, 0.33051690459251404], [0.3381965458393097, 0.33357369899749756, 0.32822975516319275], [0.32929420471191406, 0.3312065601348877, 0.33949917554855347]], [[0.4133046567440033, 0.36718839406967163, 0.21950694918632507], [0.4152830243110657, 0.37123164534568787, 0.21348537504673004], [0.4064837396144867, 0.35107019543647766, 0.24244607985019684]], [[0.38286352157592773, 0.36351537704467773, 0.2536211311817169], [0.3852521777153015, 0.36155182123184204, 0.2531960606575012], [0.3809961974620819, 0.36072373390197754, 0.25828006863594055]], [[0.37699094414711, 0.33394259214401245, 0.28906649351119995], [0.37435102462768555, 0.33382442593574524, 0.2918245792388916], [0.3722047805786133, 0.33789828419685364, 0.2898968756198883]], [[0.3227498233318329, 0.3129735291004181, 0.36427661776542664], [0.32342788577079773, 0.31418609619140625, 0.362386018037796], [0.31800952553749084, 0.32150721549987793, 0.360483318567276]], [[0.38269734382629395, 0.26556873321533203, 0.35173386335372925], [0.38184043765068054, 0.2666659951210022, 0.35149359703063965], [0.3782682716846466, 0.26998087763786316, 0.3517508804798126]], [[0.3714900314807892, 0.35556864738464355, 0.27294132113456726], [0.37224557995796204, 0.35603028535842896, 0.271724134683609], [0.3707149922847748, 0.35336363315582275, 0.27592137455940247]], [[0.35830217599868774, 0.35536453127861023, 0.28633326292037964], [0.3580009937286377, 0.35561344027519226, 0.28638550639152527], [0.357472687959671, 0.35179537534713745, 0.29073190689086914]], [[0.363986074924469, 0.3206121325492859, 0.3154018521308899], [0.3637393116950989, 0.3224325478076935, 0.31382811069488525], [0.3666297495365143, 0.322282999753952, 0.3110872805118561]], [[0.29278162121772766, 0.2456580400466919, 0.4615603983402252], [0.3007065951824188, 0.2631177306175232, 0.43617570400238037], [0.2364572435617447, 0.18962113559246063, 0.5739216208457947]]], [[[0.3522157669067383, 0.38607487082481384, 0.2617093324661255], [0.35302257537841797, 0.38502076268196106, 0.26195669174194336], [0.3508422076702118, 0.3940827250480652, 0.2550751268863678]], [[0.3966042399406433, 0.43874138593673706, 0.16465437412261963], [0.4005272090435028, 0.4442807137966156, 0.1551920771598816], [0.38617753982543945, 0.4047837555408478, 0.20903874933719635]], [[0.39647823572158813, 0.29932400584220886, 0.304197758436203], [0.39662301540374756, 0.3026825189590454, 0.30069440603256226], [0.39092493057250977, 0.3007791340351105, 0.30829593539237976]], [[0.37629008293151855, 0.3183898627758026, 0.3053200840950012], [0.37829890847206116, 0.3228795528411865, 0.2988215684890747], [0.36081835627555847, 0.30432555079460144, 0.3348561227321625]], [[0.3017890155315399, 0.3281363546848297, 0.37007465958595276], [0.3069431781768799, 0.33980080485343933, 0.35325607657432556], [0.2617517411708832, 0.2794283926486969, 0.4588198661804199]], [[0.4181382358074188, 0.412860631942749, 0.16900113224983215], [0.41717323660850525, 0.41359493136405945, 0.16923180222511292], [0.4178922176361084, 0.40086138248443604, 0.18124638497829437]], [[0.3890640139579773, 0.4146845042705536, 0.19625143706798553], [0.3892058730125427, 0.4180864989757538, 0.1927076280117035], [0.3847435414791107, 0.4015745222568512, 0.21368199586868286]], [[0.3817938566207886, 0.43483006954193115, 0.1833759844303131], [0.38050782680511475, 0.43707725405693054, 0.1824149340391159], [0.3838479518890381, 0.4227553606033325, 0.1933967024087906]], [[0.40018385648727417, 0.4457247853279114, 0.15409140288829803], [0.4006531536579132, 0.45168039202690125, 0.1476665437221527], [0.38237443566322327, 0.3958766460418701, 0.22174891829490662]], [[0.38006216287612915, 0.32144707441329956, 0.2984907627105713], [0.38443446159362793, 0.325568288564682, 0.28999727964401245], [0.37000390887260437, 0.32018545269966125, 0.30981066823005676]], [[0.405587762594223, 0.41503140330314636, 0.179380863904953], [0.40546783804893494, 0.41606172919273376, 0.17847050726413727], [0.4022197127342224, 0.41678720712661743, 0.18099309504032135]], [[0.4222401976585388, 0.4907853901386261, 0.08697445690631866], [0.4217890799045563, 0.49412599205970764, 0.0840848907828331], [0.4142393469810486, 0.48672568798065186, 0.09903494268655777]], [[0.3999268710613251, 0.4220944941043854, 0.17797867953777313], [0.39991143345832825, 0.42204275727272034, 0.1780458241701126], [0.39745259284973145, 0.4180421531200409, 0.18450522422790527]], [[0.4310258626937866, 0.34521323442459106, 0.22376088798046112], [0.4312211573123932, 0.34596729278564453, 0.22281159460544586], [0.41856828331947327, 0.34200915694236755, 0.23942255973815918]], [[0.45014047622680664, 0.40958014130592346, 0.14027945697307587], [0.45180606842041016, 0.4123494029045105, 0.1358446329832077], [0.43307843804359436, 0.40037283301353455, 0.1665486842393875]], [[0.3964467942714691, 0.36926695704460144, 0.23428626358509064], [0.40205448865890503, 0.384359747171402, 0.2135857492685318], [0.33783066272735596, 0.2952425479888916, 0.3669268488883972]]], [[[0.3814028203487396, 0.442552775144577, 0.17604438960552216], [0.38059940934181213, 0.4409000873565674, 0.17850051820278168], [0.3787180781364441, 0.4403100907802582, 0.18097184598445892]], [[0.39361730217933655, 0.3621044158935547, 0.24427832663059235], [0.3940809369087219, 0.361783891916275, 0.24413520097732544], [0.38480740785598755, 0.35505643486976624, 0.2601361870765686]], [[0.34994322061538696, 0.3904501795768738, 0.25960657000541687], [0.3481379449367523, 0.384504109621048, 0.2673579454421997], [0.3592541515827179, 0.42014947533607483, 0.2205963134765625]], [[0.39985841512680054, 0.3832579255104065, 0.2168836146593094], [0.3956078886985779, 0.4094243049621582, 0.19496780633926392], [0.3606901466846466, 0.3148154616355896, 0.3244943916797638]], [[0.40329867601394653, 0.47521740198135376, 0.12148388475179672], [0.4015918970108032, 0.4902186691761017, 0.10818950086832047], [0.39505064487457275, 0.42420679330825806, 0.1807425320148468]], [[0.39712247252464294, 0.3938242793083191, 0.20905320346355438], [0.4005846679210663, 0.4100787937641144, 0.18933652341365814], [0.36885738372802734, 0.3238326609134674, 0.30730992555618286]], [[0.3471481502056122, 0.3951488435268402, 0.25770294666290283], [0.3503629267215729, 0.40227070450782776, 0.24736636877059937], [0.3278937041759491, 0.3554834723472595, 0.3166228234767914]], [[0.2683839201927185, 0.222311869263649, 0.5093041658401489], [0.2847568392753601, 0.23786243796348572, 0.47738075256347656], [0.235577791929245, 0.20547538995742798, 0.5589468479156494]], [[0.36432182788848877, 0.3183509111404419, 0.3173272907733917], [0.37801244854927063, 0.34144994616508484, 0.2805376350879669], [0.3178420066833496, 0.23581479489803314, 0.44634321331977844]], [[0.4901740252971649, 0.32299062609672546, 0.18683531880378723], [0.43812423944473267, 0.4465550482273102, 0.11532071232795715], [0.23935097455978394, 0.11646582186222076, 0.6441832184791565]], [[0.21302519738674164, 0.7514873743057251, 0.03548740968108177], [0.26566725969314575, 0.7013351321220398, 0.032997600734233856], [0.37610262632369995, 0.3147529661655426, 0.30914440751075745]], [[0.34918275475502014, 0.37644022703170776, 0.2743770480155945], [0.3481360375881195, 0.37143346667289734, 0.2804304361343384], [0.3567662537097931, 0.39835125207901, 0.2448825240135193]], [[0.3520248532295227, 0.39576199650764465, 0.25221312046051025], [0.35325291752815247, 0.39517518877983093, 0.25157198309898376], [0.35387417674064636, 0.4031192660331726, 0.24300654232501984]], [[0.3619880974292755, 0.5302952527999878, 0.10771669447422028], [0.35784122347831726, 0.5297598838806152, 0.11239884048700333], [0.3843673765659332, 0.4880344271659851, 0.12759818136692047]], [[0.29011932015419006, 0.6734497547149658, 0.036430902779102325], [0.301776260137558, 0.6614862680435181, 0.036737408488988876], [0.3496602177619934, 0.5241128206253052, 0.12622690200805664]], [[0.38880065083503723, 0.4894908368587494, 0.12170848995447159], [0.33285126090049744, 0.5549042224884033, 0.11224450916051865], [0.297566682100296, 0.37968364357948303, 0.32274970412254333]]], [[[0.5449239015579224, 0.30263766646385193, 0.15243837237358093], [0.23343364894390106, 0.7067563533782959, 0.059810008853673935], [0.008519265800714493, 0.01013049203902483, 0.9813501834869385]], [[0.4228980839252472, 0.4247962534427643, 0.15230561792850494], [0.3876385986804962, 0.46621352434158325, 0.14614790678024292], [0.31537917256355286, 0.25987303256988525, 0.4247478246688843]], [[0.35458990931510925, 0.5763872861862183, 0.06902278959751129], [0.3485172688961029, 0.5833160281181335, 0.06816674023866653], [0.38124069571495056, 0.4667140245437622, 0.15204530954360962]], [[0.3114032745361328, 0.32628685235977173, 0.36230987310409546], [0.329650342464447, 0.33272984623908997, 0.33761972188949585], [0.2744843661785126, 0.2488790899515152, 0.47663649916648865]], [[0.31675755977630615, 0.5080298185348511, 0.17521262168884277], [0.31734615564346313, 0.49858707189559937, 0.18406671285629272], [0.3187935948371887, 0.49789679050445557, 0.1833096295595169]], [[0.6240541338920593, 0.3246578574180603, 0.05128805339336395], [0.31836631894111633, 0.6387351155281067, 0.04289849475026131], [0.057047806680202484, 0.014146039262413979, 0.9288061857223511]], [[0.2875958979129791, 0.4136095941066742, 0.29879456758499146], [0.2836977541446686, 0.40513554215431213, 0.3111666142940521], [0.29265519976615906, 0.44190898537635803, 0.2654358148574829]], [[0.09875120222568512, 0.9012488722801208, 5.684167871632118e-13], [0.9785932302474976, 0.021406732499599457, 6.096123226443512e-15], [0.9996069073677063, 0.0003930656530428678, 2.667815968138143e-11]], [[0.2689809203147888, 0.26466959714889526, 0.46634945273399353], [0.27385857701301575, 0.2717120945453644, 0.45442935824394226], [0.2587764859199524, 0.2580851912498474, 0.4831382632255554]], [[0.38857975602149963, 0.3789037764072418, 0.23251646757125854], [0.36663368344306946, 0.4564836323261261, 0.17688274383544922], [0.278328537940979, 0.35397669672966003, 0.36769476532936096]], [[0.3732323944568634, 0.40967506170272827, 0.21709251403808594], [0.35372522473335266, 0.4440445899963379, 0.20223015546798706], [0.2888891100883484, 0.30553334951400757, 0.40557754039764404]], [[0.34407612681388855, 0.4646589457988739, 0.19126491248607635], [0.3420436382293701, 0.46042877435684204, 0.19752754271030426], [0.3472598195075989, 0.47800254821777344, 0.17473763227462769]], [[9.552298934067949e-07, 0.9999990463256836, 1.2530771559271514e-11], [0.04777104780077934, 0.9522290229797363, 2.0094993377628434e-12], [0.4584566354751587, 0.5415433049201965, 1.1334622129766103e-08]], [[0.2899401783943176, 0.5064102411270142, 0.2036495804786682], [0.36706414818763733, 0.484867662191391, 0.14806820452213287], [0.28151705861091614, 0.48653942346572876, 0.23194348812103271]], [[0.06197304278612137, 0.9380269646644592, 2.671944976384566e-08], [7.716422260273248e-06, 0.9999922513961792, 5.936721669819178e-10], [1.902096664707642e-05, 0.9999310970306396, 4.978413198841736e-05]], [[0.36201828718185425, 0.14545844495296478, 0.4925232529640198], [0.3030190169811249, 0.26470550894737244, 0.4322754740715027], [0.07515031844377518, 0.03821967914700508, 0.8866300582885742]]], [[[0.32154911756515503, 0.4038279056549072, 0.27462297677993774], [0.31615474820137024, 0.4157896637916565, 0.26805564761161804], [0.3307800590991974, 0.396141916513443, 0.2730780243873596]], [[0.41596102714538574, 0.4945145845413208, 0.08952439576387405], [0.31758108735084534, 0.6037312746047974, 0.07868761569261551], [0.20664045214653015, 0.2409665882587433, 0.5523928999900818]], [[0.21909989416599274, 0.7384544610977173, 0.04244562238454819], [0.3014868199825287, 0.6354865431785583, 0.06302666664123535], [0.3651942014694214, 0.6079055070877075, 0.02690025605261326]], [[0.35816454887390137, 0.545076310634613, 0.09675917029380798], [0.35733112692832947, 0.5362502932548523, 0.10641857236623764], [0.3618946373462677, 0.5136001110076904, 0.12450525164604187]], [[0.9944236874580383, 0.005576333496719599, 2.8737627388863984e-08], [0.0030527168419212103, 0.9969471096992493, 2.320466876426508e-07], [0.003932371735572815, 0.9717513918876648, 0.02431618608534336]], [[0.4455941915512085, 0.4586641788482666, 0.09574166685342789], [0.4437890350818634, 0.46068093180656433, 0.09553002566099167], [0.42313066124916077, 0.43327727913856506, 0.14359205961227417]], [[0.06658323109149933, 0.5211368799209595, 0.4122799336910248], [0.16795967519283295, 0.7107185125350952, 0.12132179737091064], [0.02686529979109764, 0.5276180505752563, 0.4455166757106781]], [[0.3124453127384186, 0.40196460485458374, 0.28559011220932007], [0.31220585107803345, 0.3992202877998352, 0.2885739207267761], [0.26771053671836853, 0.3609977662563324, 0.3712916970252991]], [[0.22228123247623444, 0.30897679924964905, 0.4687419533729553], [0.22367921471595764, 0.3067972660064697, 0.4695235788822174], [0.2112441211938858, 0.31655237078666687, 0.4722035229206085]], [[0.31134045124053955, 0.4985603094100952, 0.19009928405284882], [0.3098995089530945, 0.49610665440559387, 0.19399377703666687], [0.26584210991859436, 0.39457589387893677, 0.33958202600479126]], [[0.5394777655601501, 0.4605218470096588, 4.011646979051875e-07], [0.00033475199597887695, 0.9996647834777832, 4.40242502008914e-07], [0.001841037068516016, 0.987970769405365, 0.010188180953264236]], [[0.254192590713501, 0.4588545262813568, 0.2869528830051422], [0.24352875351905823, 0.4381365478038788, 0.3183346390724182], [0.2720123529434204, 0.439409464597702, 0.28857821226119995]], [[0.23595958948135376, 0.39001375436782837, 0.37402668595314026], [0.2452218383550644, 0.4965915381908417, 0.2581866383552551], [0.1396746039390564, 0.2656104862689972, 0.5947149395942688]], [[0.27934539318084717, 0.6483473181724548, 0.07230726629495621], [0.3005262017250061, 0.6441015601158142, 0.0553722009062767], [0.24339443445205688, 0.6788842678070068, 0.07772123068571091]], [[0.36954939365386963, 0.472439169883728, 0.15801145136356354], [0.17571386694908142, 0.6654558777809143, 0.15883025527000427], [0.0580858550965786, 0.12978029251098633, 0.8121339082717896]], [[0.1200203001499176, 0.5379131436347961, 0.3420664668083191], [0.07284430414438248, 0.5031230449676514, 0.42403265833854675], [0.029980093240737915, 0.05786910280585289, 0.9121508598327637]]], [[[0.3433211147785187, 0.5072196125984192, 0.14945930242538452], [0.27687835693359375, 0.5808987617492676, 0.14222292602062225], [0.24108418822288513, 0.3139958679676056, 0.4449199438095093]], [[0.3297569751739502, 0.3661729097366333, 0.3040701448917389], [0.323399156332016, 0.36549246311187744, 0.31110841035842896], [0.26413482427597046, 0.3082117438316345, 0.42765340209007263]], [[0.3855566084384918, 0.4640616774559021, 0.15038172900676727], [0.3771849572658539, 0.46984732151031494, 0.15296770632266998], [0.34400880336761475, 0.436265230178833, 0.21972598135471344]], [[0.36871224641799927, 0.36180180311203003, 0.2694859206676483], [0.3660586178302765, 0.3505750596523285, 0.283366322517395], [0.35216331481933594, 0.3964587152004242, 0.25137799978256226]], [[0.2615174353122711, 0.3540973663330078, 0.38438519835472107], [0.21999572217464447, 0.5477858185768127, 0.23221845924854279], [0.10130045562982559, 0.12179715186357498, 0.7769023776054382]], [[0.27700528502464294, 0.3688752055168152, 0.35411950945854187], [0.26837873458862305, 0.3706541657447815, 0.36096712946891785], [0.3336506485939026, 0.41683468222618103, 0.2495146244764328]], [[0.29206937551498413, 0.37669989466667175, 0.3312307894229889], [0.2870125472545624, 0.38601839542388916, 0.32696905732154846], [0.27878421545028687, 0.3594616651535034, 0.3617541193962097]], [[0.49868395924568176, 0.3396904468536377, 0.16162562370300293], [0.32138028740882874, 0.5696729421615601, 0.10894672572612762], [0.08348304778337479, 0.12409138679504395, 0.7924255132675171]], [[0.2068878412246704, 0.5611675977706909, 0.23194460570812225], [0.19059397280216217, 0.4422681927680969, 0.3671378195285797], [0.2921394109725952, 0.39899545907974243, 0.30886512994766235]], [[0.42445042729377747, 0.512531578540802, 0.0630180835723877], [0.35386213660240173, 0.60323566198349, 0.042902279645204544], [0.3215188682079315, 0.34596431255340576, 0.3325168192386627]], [[0.5010425448417664, 0.40771275758743286, 0.09124462306499481], [0.48885294795036316, 0.42297014594078064, 0.08817686885595322], [0.5128914713859558, 0.39535069465637207, 0.09175778180360794]], [[0.15589796006679535, 0.6170719265937805, 0.22703014314174652], [0.15690331161022186, 0.4746766984462738, 0.3684200048446655], [0.21866989135742188, 0.1918879598379135, 0.5894421339035034]], [[0.22770176827907562, 0.2083330750465393, 0.5639651417732239], [0.25653693079948425, 0.3896128833293915, 0.3538501560688019], [0.09026999771595001, 0.10241835564374924, 0.8073116540908813]], [[0.3514445722103119, 0.41366612911224365, 0.23488934338092804], [0.3480646014213562, 0.4345066547393799, 0.2174287885427475], [0.29583540558815, 0.36845341324806213, 0.3357112407684326]], [[0.8622604012489319, 0.13773751258850098, 2.035308853010065e-06], [0.07600182294845581, 0.9239969849586487, 1.2212040019221604e-06], [0.15616628527641296, 0.8394949436187744, 0.004338763188570738]], [[0.6726966500282288, 0.32622188329696655, 0.0010814281413331628], [0.08637486398220062, 0.9119181036949158, 0.0017071132315322757], [0.05950102582573891, 0.21026456356048584, 0.7302343249320984]]], [[[0.2253398448228836, 0.3262437880039215, 0.4484162926673889], [0.2342788279056549, 0.34288010001182556, 0.4228411316871643], [0.20215308666229248, 0.3086199164390564, 0.4892270565032959]], [[0.2179807424545288, 0.2561410665512085, 0.5258781909942627], [0.26696985960006714, 0.4591950476169586, 0.2738351821899414], [0.05793309211730957, 0.15521274507045746, 0.7868541479110718]], [[0.3224397599697113, 0.4144000709056854, 0.2631601393222809], [0.3256737291812897, 0.41536492109298706, 0.2589612901210785], [0.28301864862442017, 0.3593139350414276, 0.3576674461364746]], [[0.5895566344261169, 0.22269971668720245, 0.1877436637878418], [0.30660930275917053, 0.43669140338897705, 0.25669926404953003], [0.13616910576820374, 0.04102141410112381, 0.8228095173835754]], [[0.3832859694957733, 0.4218953251838684, 0.19481869041919708], [0.2768869400024414, 0.4709457457065582, 0.25216734409332275], [0.2396506518125534, 0.1668766885995865, 0.5934725999832153]], [[0.37259790301322937, 0.3646462559700012, 0.262755811214447], [0.37364649772644043, 0.3689076006412506, 0.25744593143463135], [0.38619133830070496, 0.35720741748809814, 0.2566012442111969]], [[0.45983579754829407, 0.38135433197021484, 0.1588098555803299], [0.256929486989975, 0.536157488822937, 0.206913024187088], [0.05659123882651329, 0.07991946488618851, 0.8634892106056213]], [[0.3282848298549652, 0.39747458696365356, 0.2742405831813812], [0.34128421545028687, 0.39578261971473694, 0.2629331946372986], [0.32089439034461975, 0.3756565451622009, 0.3034490942955017]], [[0.33441853523254395, 0.44066062569618225, 0.22492088377475739], [0.3098421096801758, 0.5186434984207153, 0.1715143620967865], [0.2558507025241852, 0.4195428788661957, 0.32460644841194153]], [[0.5034048557281494, 0.42121484875679016, 0.07538033276796341], [0.3599061965942383, 0.5072855949401855, 0.1328081637620926], [0.4242982864379883, 0.19854965806007385, 0.3771520256996155]], [[0.28322315216064453, 0.5273501873016357, 0.18942667543888092], [0.33494317531585693, 0.4459497332572937, 0.21910709142684937], [0.37766602635383606, 0.49697640538215637, 0.125357523560524]], [[0.5723404884338379, 0.3467459976673126, 0.0809134766459465], [0.3592786490917206, 0.5474804043769836, 0.09324094653129578], [0.31806179881095886, 0.19034931063652039, 0.49158892035484314]], [[0.3003138303756714, 0.31421157717704773, 0.3854745626449585], [0.27543091773986816, 0.46633103489875793, 0.2582380473613739], [0.09137348085641861, 0.18110592663288116, 0.7275205850601196]], [[0.3994690477848053, 0.37605172395706177, 0.22447924315929413], [0.15603673458099365, 0.6434462666511536, 0.20051702857017517], [0.0077108596451580524, 0.03650495037436485, 0.9557841420173645]], [[0.33436352014541626, 0.4030210077762604, 0.2626155614852905], [0.277534544467926, 0.4640069901943207, 0.2584584951400757], [0.18348480761051178, 0.22968007624149323, 0.5868350863456726]], [[0.20185096561908722, 0.17743633687496185, 0.6207126975059509], [0.2274196892976761, 0.22952359914779663, 0.5430567264556885], [0.17306220531463623, 0.14851833879947662, 0.6784194111824036]]], [[[0.31735849380493164, 0.12422604858875275, 0.558415412902832], [0.14240224659442902, 0.5308939218521118, 0.32670390605926514], [0.020963700488209724, 0.03645129129290581, 0.9425850510597229]], [[0.5747912526130676, 0.0008973685908131301, 0.42431142926216125], [3.0553659598808736e-05, 0.999725878238678, 0.00024364252749364823], [9.718761795340924e-09, 2.5244457901862916e-07, 0.9999997615814209]], [[0.3840460777282715, 0.31918951869010925, 0.29676440358161926], [0.3790552616119385, 0.3120894432067871, 0.308855265378952], [0.40062353014945984, 0.36625194549560547, 0.2331245094537735]], [[0.9999997615814209, 5.8319916007576467e-08, 2.463992530010728e-07], [1.451723619538825e-06, 0.9999899864196777, 8.541314855392557e-06], [2.5445851292715815e-07, 1.0921971771438166e-08, 0.9999997615814209]], [[0.3205699324607849, 0.49775055050849915, 0.18167948722839355], [0.31832951307296753, 0.5004230737686157, 0.18124736845493317], [0.31311407685279846, 0.4976964592933655, 0.18918947875499725]], [[0.29668277502059937, 0.29992103576660156, 0.40339621901512146], [0.29512250423431396, 0.29374295473098755, 0.4111345708370209], [0.2668116092681885, 0.31228309869766235, 0.4209052622318268]], [[0.37528789043426514, 0.1731632798910141, 0.4515487849712372], [0.3714979588985443, 0.1929774135351181, 0.4355246424674988], [0.33518186211586, 0.1428365856409073, 0.5219814777374268]], [[0.999976396560669, 1.2905663879791973e-06, 2.2257356249610893e-05], [0.0005552198272198439, 0.6429135203361511, 0.3565313220024109], [0.0008001358364708722, 3.801530468194869e-08, 0.9991998076438904]], [[0.31797802448272705, 0.4352802634239197, 0.24674172699451447], [0.28009894490242004, 0.46245911717414856, 0.2574419379234314], [0.27504652738571167, 0.28817319869995117, 0.43678033351898193]], [[0.9999208450317383, 5.446671025310934e-07, 7.85687007009983e-05], [8.946259185904637e-05, 0.9621672630310059, 0.03774329647421837], [0.00022682137205265462, 3.1369271624726025e-08, 0.9997732043266296]], [[0.30128732323646545, 0.451220840215683, 0.24749183654785156], [0.3001601994037628, 0.4638259708881378, 0.23601379990577698], [0.2853184938430786, 0.41445279121398926, 0.3002287447452545]], [[0.3837476670742035, 0.185055211186409, 0.43119707703590393], [0.09950606524944305, 0.8687499761581421, 0.031743962317705154], [0.010408224537968636, 0.1083085909485817, 0.8812832236289978]], [[0.5069061517715454, 0.24711160361766815, 0.24598228931427002], [0.2853076457977295, 0.5744863152503967, 0.14020603895187378], [0.16612613201141357, 0.15982350707054138, 0.6740503907203674]], [[0.8175063729286194, 0.1302172839641571, 0.052276384085416794], [0.196916863322258, 0.6968159079551697, 0.10626719146966934], [0.13527852296829224, 0.03552781045436859, 0.829193651676178]], [[0.3133009970188141, 0.35735899209976196, 0.32933998107910156], [0.3026679754257202, 0.4136154353618622, 0.28371661901474], [0.3040466606616974, 0.2731914520263672, 0.4227619469165802]], [[0.9996095299720764, 2.369244384681224e-06, 0.000388084416044876], [1.2147327197453706e-06, 0.9999889135360718, 9.87755811365787e-06], [5.65797075857688e-10, 4.5859707142881234e-09, 1.0]]], [[[0.25739485025405884, 0.4359573721885681, 0.30664774775505066], [0.2586795389652252, 0.4503666162490845, 0.2909538745880127], [0.22776426374912262, 0.40809935331344604, 0.36413636803627014]], [[0.36665159463882446, 0.31493058800697327, 0.31841781735420227], [0.3475903868675232, 0.3783542513847351, 0.2740553319454193], [0.2512652575969696, 0.26117604970932007, 0.4875587522983551]], [[0.3163203001022339, 0.3970908522605896, 0.2865888178348541], [0.306765615940094, 0.39504358172416687, 0.2981908321380615], [0.32482659816741943, 0.38798871636390686, 0.28718462586402893]], [[0.3117928206920624, 0.45373308658599854, 0.23447413742542267], [0.363988995552063, 0.3975752592086792, 0.238435760140419], [0.36958378553390503, 0.4358625113964081, 0.1945536881685257]], [[0.40120938420295715, 0.21151001751422882, 0.38728055357933044], [0.4278866946697235, 0.26721760630607605, 0.30489569902420044], [0.23274320363998413, 0.0835067480802536, 0.6837500333786011]], [[0.31994956731796265, 0.4180929660797119, 0.26195746660232544], [0.32012441754341125, 0.42333292961120605, 0.2565426230430603], [0.31370824575424194, 0.4542582929134369, 0.23203346133232117]], [[0.541875958442688, 0.22735661268234253, 0.23076742887496948], [0.36399292945861816, 0.4093124568462372, 0.22669470310211182], [0.22336114943027496, 0.1154724583029747, 0.6611663699150085]], [[0.22205336391925812, 0.12961532175540924, 0.6483312845230103], [0.23587654531002045, 0.18121962249279022, 0.5829038023948669], [0.11546602100133896, 0.07328370213508606, 0.8112502098083496]], [[0.5132110118865967, 0.2885519862174988, 0.19823698699474335], [0.31286314129829407, 0.4392513036727905, 0.2478855550289154], [0.2747862935066223, 0.14170750975608826, 0.583506166934967]], [[0.4618600904941559, 0.20010994374752045, 0.33802998065948486], [0.3213258683681488, 0.4157593548297882, 0.2629147469997406], [0.1193208321928978, 0.07629486173391342, 0.8043843507766724]], [[0.9373046159744263, 0.04500102251768112, 0.017694400623440742], [0.13145038485527039, 0.7131512761116028, 0.15539832413196564], [0.02648194320499897, 0.000690709741320461, 0.9728273749351501]], [[0.3643404245376587, 0.32984083890914917, 0.30581873655319214], [0.30934083461761475, 0.5216934084892273, 0.16896575689315796], [0.17126131057739258, 0.360249787569046, 0.4684889316558838]], [[0.7810376286506653, 0.031848497688770294, 0.18711388111114502], [0.26164233684539795, 0.7144821286201477, 0.023875555023550987], [0.004297445993870497, 0.005531794857233763, 0.9901707768440247]], [[0.3834720849990845, 0.332515150308609, 0.2840127646923065], [0.30260103940963745, 0.4140312671661377, 0.28336772322654724], [0.26197904348373413, 0.2581173777580261, 0.47990357875823975]], [[0.6802992224693298, 0.21598905324935913, 0.10371167212724686], [0.283952921628952, 0.44268882274627686, 0.2733582556247711], [0.24039073288440704, 0.037598200142383575, 0.7220110893249512]], [[0.522792398929596, 0.20148561894893646, 0.2757219672203064], [0.3260928988456726, 0.46749913692474365, 0.20640797913074493], [0.13773220777511597, 0.11572775989770889, 0.7465400099754333]]], [[[0.6461239457130432, 0.11816354840993881, 0.23571251332759857], [0.39986708760261536, 0.4239606261253357, 0.17617230117321014], [0.05039680004119873, 0.030680375173687935, 0.9189229011535645]], [[0.7423405647277832, 0.25112050771713257, 0.006538914050906897], [0.27995312213897705, 0.37583625316619873, 0.3442106544971466], [0.6787365674972534, 0.005435648374259472, 0.31582775712013245]], [[0.6219817996025085, 0.03720877319574356, 0.3408094644546509], [0.2944868206977844, 0.558271050453186, 0.14724208414554596], [0.002367881592363119, 0.0023658298887312412, 0.995266318321228]], [[0.5807023644447327, 0.21556304395198822, 0.20373453199863434], [0.31035321950912476, 0.47835177183151245, 0.211295023560524], [0.11872140318155289, 0.08327995240688324, 0.7979986667633057]], [[0.05726216360926628, 0.8689139485359192, 0.0738239511847496], [0.516867458820343, 0.4638908803462982, 0.019241608679294586], [0.023028604686260223, 0.974808931350708, 0.002162471879273653]], [[0.41558244824409485, 0.3417203724384308, 0.24269717931747437], [0.398366242647171, 0.35817471146583557, 0.2434590458869934], [0.39633840322494507, 0.3637844920158386, 0.23987704515457153]], [[0.11128046363592148, 0.15450234711170197, 0.7342172265052795], [0.37717124819755554, 0.603878378868103, 0.01895039901137352], [0.0036553307436406612, 0.8645383715629578, 0.13180623948574066]], [[0.941997766494751, 0.03819818049669266, 0.019803961738944054], [0.13892318308353424, 0.5586323142051697, 0.30244454741477966], [0.010992242954671383, 0.0002410438610240817, 0.9887667298316956]], [[0.6556257605552673, 0.0914006233215332, 0.25297364592552185], [0.3716084361076355, 0.4614903926849365, 0.1669011116027832], [0.03162746503949165, 0.02216627635061741, 0.946206271648407]], [[0.8954280614852905, 0.06136765703558922, 0.043204355984926224], [0.27198341488838196, 0.33104056119918823, 0.3969759941101074], [0.05376487225294113, 0.0013206714065745473, 0.9449145197868347]], [[0.4124520719051361, 0.33631443977355957, 0.25123342871665955], [0.37342047691345215, 0.38225892186164856, 0.2443205714225769], [0.3524300158023834, 0.3352113664150238, 0.31235867738723755]], [[0.3493190109729767, 0.3421696424484253, 0.30851131677627563], [0.35600078105926514, 0.33420222997665405, 0.3097970187664032], [0.32868286967277527, 0.3235282003879547, 0.34778892993927]], [[0.33464279770851135, 0.6338448524475098, 0.03151234611868858], [0.533180832862854, 0.3451869785785675, 0.12163224816322327], [0.7784702181816101, 0.19666588306427002, 0.02486395463347435]], [[0.58567214012146, 0.09180125594139099, 0.3225265145301819], [0.3678755760192871, 0.2843625247478485, 0.3477618992328644], [0.059726182371377945, 0.016895117238163948, 0.9233786463737488]], [[0.6295467019081116, 0.19150002300739288, 0.17895324528217316], [0.43799805641174316, 0.3468979299068451, 0.21510396897792816], [0.24623137712478638, 0.10527535527944565, 0.6484932899475098]], [[0.03540902957320213, 0.002190667437389493, 0.9624002575874329], [0.10872577130794525, 0.8671218752861023, 0.024152331054210663], [3.95646702600061e-06, 0.002137899398803711, 0.9978581070899963]]], [[[0.7541118264198303, 0.18748533725738525, 0.05840284749865532], [0.19648273289203644, 0.3231991231441498, 0.480318158864975], [0.33997076749801636, 0.014807886444032192, 0.6452213525772095]], [[0.46893811225891113, 0.2983485162258148, 0.23271331191062927], [0.4185466766357422, 0.43704351782798767, 0.14440974593162537], [0.2662602365016937, 0.35394757986068726, 0.3797922432422638]], [[0.5348363518714905, 0.27691590785980225, 0.18824775516986847], [0.36875638365745544, 0.4595887064933777, 0.1716548651456833], [0.32810676097869873, 0.22460025548934937, 0.44729289412498474]], [[0.3400937616825104, 0.48654478788375854, 0.17336149513721466], [0.37747079133987427, 0.4485163688659668, 0.17401278018951416], [0.3904619514942169, 0.44624271988868713, 0.16329535841941833]], [[0.2686919569969177, 0.5327016115188599, 0.1986064612865448], [0.3782426416873932, 0.40250590443611145, 0.21925145387649536], [0.38077178597450256, 0.4774700403213501, 0.14175823330879211]], [[0.5029515624046326, 0.3320099413394928, 0.16503851115703583], [0.36585599184036255, 0.43516844511032104, 0.19897563755512238], [0.34779930114746094, 0.21699893474578857, 0.4352017045021057]], [[0.3111909329891205, 0.11699233949184418, 0.5718166828155518], [0.36703574657440186, 0.5302318334579468, 0.10273240506649017], [0.03396092727780342, 0.23257948458194733, 0.7334595918655396]], [[0.5118850469589233, 0.1880083829164505, 0.30010661482810974], [0.3570534586906433, 0.35414040088653564, 0.2888062298297882], [0.2314860224723816, 0.09357377141714096, 0.6749402284622192]], [[0.39208829402923584, 0.4193015992641449, 0.18861016631126404], [0.3805043697357178, 0.43117350339889526, 0.18832211196422577], [0.3795612156391144, 0.38971400260925293, 0.2307247668504715]], [[0.6236265897750854, 0.28701284527778625, 0.08936058729887009], [0.3666781187057495, 0.42778390645980835, 0.20553797483444214], [0.5160266160964966, 0.11671531200408936, 0.3672580420970917]], [[0.33794644474983215, 0.5266925096511841, 0.13536106050014496], [0.3016437590122223, 0.28000208735466003, 0.4183541536331177], [0.6504011750221252, 0.1712356060743332, 0.17836320400238037]], [[0.371948778629303, 0.40948015451431274, 0.21857108175754547], [0.3701328635215759, 0.43066489696502686, 0.199202299118042], [0.3454553782939911, 0.3821476399898529, 0.27239692211151123]], [[0.30754444003105164, 0.48574429750442505, 0.20671121776103973], [0.39610791206359863, 0.4654845595359802, 0.13840755820274353], [0.266154944896698, 0.5821025371551514, 0.15174251794815063]], [[0.19005799293518066, 0.3117826581001282, 0.4981592893600464], [0.39544913172721863, 0.42781248688697815, 0.1767384260892868], [0.11999879032373428, 0.6539984941482544, 0.22600269317626953]], [[0.33194220066070557, 0.33025193214416504, 0.337805837392807], [0.3352786600589752, 0.34389665722846985, 0.32082462310791016], [0.3131408989429474, 0.29694923758506775, 0.3899097740650177]], [[0.35045117139816284, 0.5012829303741455, 0.14826588332653046], [0.34439074993133545, 0.5070357322692871, 0.14857347309589386], [0.34599143266677856, 0.49312520027160645, 0.16088330745697021]]], [[[0.3346306383609772, 0.42954888939857483, 0.2358204871416092], [0.33130931854248047, 0.44263193011283875, 0.2260587364435196], [0.3352110683917999, 0.40143775939941406, 0.263351172208786]], [[0.36544889211654663, 0.4447213411331177, 0.1898297518491745], [0.36592337489128113, 0.46005621552467346, 0.17402032017707825], [0.3665962815284729, 0.4097820818424225, 0.2236216515302658]], [[0.34267598390579224, 0.3769432306289673, 0.2803807258605957], [0.345351904630661, 0.4009251892566681, 0.2537229359149933], [0.3210052251815796, 0.33961021900177, 0.3393845558166504]], [[0.37163129448890686, 0.3727893829345703, 0.2555793821811676], [0.36795535683631897, 0.3817667067050934, 0.25027787685394287], [0.3649475574493408, 0.3540792465209961, 0.2809731364250183]], [[0.3532242774963379, 0.3842947781085968, 0.2624809741973877], [0.35557541251182556, 0.3935793340206146, 0.250845342874527], [0.3414008617401123, 0.3516966700553894, 0.3069024682044983]], [[0.3328667879104614, 0.4078023135662079, 0.2593308687210083], [0.3323579728603363, 0.42331311106681824, 0.24432890117168427], [0.32156699895858765, 0.3797236680984497, 0.29870927333831787]], [[0.3750351667404175, 0.3104744553565979, 0.31449034810066223], [0.38276705145835876, 0.32259032130241394, 0.2946425974369049], [0.35863620042800903, 0.2830333113670349, 0.35833054780960083]], [[0.34802889823913574, 0.4568266272544861, 0.1951444298028946], [0.3441636264324188, 0.46075886487960815, 0.19507747888565063], [0.34313681721687317, 0.43826258182525635, 0.21860060095787048]], [[0.32131287455558777, 0.4735877215862274, 0.20509937405586243], [0.31750330328941345, 0.47953546047210693, 0.20296116173267365], [0.3174212872982025, 0.4781636893749237, 0.20441506803035736]], [[0.33043262362480164, 0.4798513650894165, 0.18971604108810425], [0.32574695348739624, 0.49936363101005554, 0.17488935589790344], [0.3294754922389984, 0.458077073097229, 0.2124474197626114]], [[0.36102715134620667, 0.39849525690078735, 0.2404775619506836], [0.3662036657333374, 0.39667150378227234, 0.23712486028671265], [0.35447749495506287, 0.3812335431575775, 0.26428893208503723]], [[0.34296807646751404, 0.4385327696800232, 0.21849915385246277], [0.3433704674243927, 0.4528467655181885, 0.2037827968597412], [0.3302530348300934, 0.42571380734443665, 0.24403315782546997]], [[0.3747512698173523, 0.5464123487472534, 0.07883641868829727], [0.3631379306316376, 0.5656190514564514, 0.07124301046133041], [0.38704290986061096, 0.5043155550956726, 0.108641617000103]], [[0.3456275165081024, 0.3779936134815216, 0.276378870010376], [0.35064807534217834, 0.38824307918548584, 0.2611088752746582], [0.3248353600502014, 0.3449113368988037, 0.3302533030509949]], [[0.35554060339927673, 0.35571831464767456, 0.2887411415576935], [0.3611774146556854, 0.3732541799545288, 0.2655683755874634], [0.3521308898925781, 0.3425474762916565, 0.305321604013443]], [[0.38912633061408997, 0.41181617975234985, 0.19905754923820496], [0.3806181252002716, 0.42193612456321716, 0.19744578003883362], [0.3913067579269409, 0.3904576003551483, 0.21823568642139435]]], [[[0.32650917768478394, 0.43928778171539307, 0.234203040599823], [0.3246498107910156, 0.44196057319641113, 0.23338955640792847], [0.32717838883399963, 0.41598227620124817, 0.2568393051624298]], [[0.3187329173088074, 0.4051969647407532, 0.27607008814811707], [0.31813833117485046, 0.41449278593063354, 0.2673688530921936], [0.3134424388408661, 0.3889225423336029, 0.2976349890232086]], [[0.32727470993995667, 0.44629260897636414, 0.22643263638019562], [0.32601696252822876, 0.45071226358413696, 0.22327083349227905], [0.32833102345466614, 0.4291309416294098, 0.2425379604101181]], [[0.328628271818161, 0.4340055286884308, 0.2373661994934082], [0.32260391116142273, 0.44302913546562195, 0.23436696827411652], [0.3347981572151184, 0.41505545377731323, 0.25014638900756836]], [[0.3012637794017792, 0.35666197538375854, 0.34207433462142944], [0.299507200717926, 0.36584988236427307, 0.3346429169178009], [0.2955773174762726, 0.3367653787136078, 0.36765727400779724]], [[0.3438011705875397, 0.46951979398727417, 0.18667899072170258], [0.3447190225124359, 0.47444045543670654, 0.18084055185317993], [0.336835116147995, 0.4615054726600647, 0.2016593962907791]], [[0.29740068316459656, 0.41806021332740784, 0.284539133310318], [0.29817578196525574, 0.4236716032028198, 0.27815258502960205], [0.2900090217590332, 0.3922235369682312, 0.3177674412727356]], [[0.3436415493488312, 0.4333305060863495, 0.22302794456481934], [0.34211575984954834, 0.44333043694496155, 0.2145538330078125], [0.34770113229751587, 0.4116632342338562, 0.2406356930732727]], [[0.32967451214790344, 0.4335143268108368, 0.23681111633777618], [0.32971248030662537, 0.4372379779815674, 0.23304951190948486], [0.32651326060295105, 0.4102238416671753, 0.26326295733451843]], [[0.3123670816421509, 0.3870196044445038, 0.3006134033203125], [0.3137579560279846, 0.39020878076553345, 0.29603320360183716], [0.31046101450920105, 0.3775419592857361, 0.3119969964027405]], [[0.36615145206451416, 0.4138505756855011, 0.21999800205230713], [0.36465561389923096, 0.41910165548324585, 0.21624277532100677], [0.368883341550827, 0.4096761643886566, 0.22144043445587158]], [[0.3476114273071289, 0.4709165096282959, 0.18147209286689758], [0.3473949134349823, 0.47515058517456055, 0.17745447158813477], [0.3454587459564209, 0.46714699268341064, 0.18739426136016846]], [[0.36888715624809265, 0.4041089415550232, 0.22700388729572296], [0.36846694350242615, 0.4087945818901062, 0.22273847460746765], [0.3695334792137146, 0.3905348777770996, 0.23993167281150818]], [[0.3314164876937866, 0.48284271359443665, 0.1857408583164215], [0.33116716146469116, 0.4862988293170929, 0.18253397941589355], [0.3324563503265381, 0.4729878008365631, 0.19455590844154358]], [[0.35532906651496887, 0.4260048568248749, 0.2186661809682846], [0.35149940848350525, 0.43558764457702637, 0.2129129320383072], [0.36117860674858093, 0.4056375324726105, 0.2331838607788086]], [[0.34869131445884705, 0.3750930428504944, 0.27621567249298096], [0.35052868723869324, 0.3822031319141388, 0.26726824045181274], [0.34857165813446045, 0.3671956956386566, 0.28423258662223816]]], [[[0.3136599659919739, 0.3926953971385956, 0.2936446964740753], [0.3143194019794464, 0.3939041495323181, 0.2917764186859131], [0.30885249376296997, 0.38367947936058044, 0.3074679970741272]], [[0.33745670318603516, 0.4696270525455475, 0.19291622936725616], [0.3371710181236267, 0.47075921297073364, 0.19206973910331726], [0.3353315591812134, 0.47272732853889465, 0.19194114208221436]], [[0.33678150177001953, 0.38458701968193054, 0.2786315083503723], [0.33743900060653687, 0.3915180265903473, 0.27104300260543823], [0.33815011382102966, 0.3723832666873932, 0.28946664929389954]], [[0.36805593967437744, 0.4141365885734558, 0.21780747175216675], [0.3682499825954437, 0.41887593269348145, 0.2128741443157196], [0.36230725049972534, 0.3982044458389282, 0.23948830366134644]], [[0.33390116691589355, 0.35225194692611694, 0.3138469159603119], [0.3354474604129791, 0.3619310259819031, 0.3026215136051178], [0.32914960384368896, 0.33568376302719116, 0.33516666293144226]], [[0.3328826427459717, 0.42678335309028625, 0.24033400416374207], [0.33527061343193054, 0.43132197856903076, 0.2334073781967163], [0.330116868019104, 0.41085198521614075, 0.25903117656707764]], [[0.3341379463672638, 0.4212169349193573, 0.24464502930641174], [0.3343277871608734, 0.4305571913719177, 0.23511502146720886], [0.3313327133655548, 0.41108590364456177, 0.2575814127922058]], [[0.3303365409374237, 0.39655300974845886, 0.27311044931411743], [0.33261048793792725, 0.4040960967540741, 0.2632935047149658], [0.32609474658966064, 0.3961029350757599, 0.2778022885322571]], [[0.3491361737251282, 0.40952634811401367, 0.24133752286434174], [0.3473370671272278, 0.4175778925418854, 0.23508501052856445], [0.34589505195617676, 0.4054190516471863, 0.24868592619895935]], [[0.3299033045768738, 0.4028073847293854, 0.26728934049606323], [0.3291739225387573, 0.40574103593826294, 0.26508504152297974], [0.3302302062511444, 0.3956873416900635, 0.27408239245414734]], [[0.33022186160087585, 0.43139567971229553, 0.2383825033903122], [0.33012551069259644, 0.4377900958061218, 0.23208442330360413], [0.33003100752830505, 0.4140562415122986, 0.255912721157074]], [[0.3051542043685913, 0.3829093873500824, 0.3119364380836487], [0.3044479787349701, 0.3953602612018585, 0.3001917898654938], [0.29547202587127686, 0.38199126720428467, 0.3225366771221161]], [[0.35970667004585266, 0.3123469352722168, 0.32794639468193054], [0.358530730009079, 0.3174998164176941, 0.3239694833755493], [0.35777750611305237, 0.30471542477607727, 0.33750706911087036]], [[0.3093706965446472, 0.4174598753452301, 0.27316945791244507], [0.30891427397727966, 0.4215996265411377, 0.26948609948158264], [0.3071618974208832, 0.4078589379787445, 0.2849791944026947]], [[0.3456296920776367, 0.33739641308784485, 0.3169739544391632], [0.3441883623600006, 0.3363116383552551, 0.3194999694824219], [0.34539806842803955, 0.32825881242752075, 0.32634320855140686]], [[0.347947359085083, 0.3452099859714508, 0.3068426251411438], [0.3500838279724121, 0.35501232743263245, 0.29490387439727783], [0.3382062017917633, 0.334575355052948, 0.32721850275993347]]], [[[0.35048332810401917, 0.4320206940174103, 0.21749596297740936], [0.34991562366485596, 0.4367145001888275, 0.21336981654167175], [0.34959930181503296, 0.4210241734981537, 0.22937649488449097]], [[0.32254892587661743, 0.32428494095802307, 0.3531661927700043], [0.3217836618423462, 0.3298713266849518, 0.34834495186805725], [0.31979650259017944, 0.31674274802207947, 0.3634607493877411]], [[0.3226032853126526, 0.4660952389240265, 0.21130141615867615], [0.32047730684280396, 0.47447746992111206, 0.20504522323608398], [0.32279253005981445, 0.4512671232223511, 0.2259403020143509]], [[0.33366599678993225, 0.35156235098838806, 0.31477171182632446], [0.33676403760910034, 0.3553624451160431, 0.3078734874725342], [0.3334346413612366, 0.3567144274711609, 0.30985090136528015]], [[0.35066062211990356, 0.3585277795791626, 0.29081159830093384], [0.35003453493118286, 0.3580912947654724, 0.29187411069869995], [0.3511526882648468, 0.3521997630596161, 0.2966475486755371]], [[0.33618175983428955, 0.30272188782691956, 0.36109644174575806], [0.33514276146888733, 0.31219741702079773, 0.35265979170799255], [0.330728143453598, 0.28873786330223083, 0.38053399324417114]], [[0.330878347158432, 0.3651813566684723, 0.3039403259754181], [0.3312263786792755, 0.36653050780296326, 0.30224311351776123], [0.32786181569099426, 0.35612353682518005, 0.3160146176815033]], [[0.3248259425163269, 0.3905164897441864, 0.2846575975418091], [0.3266264796257019, 0.3896568715572357, 0.2837165892124176], [0.32458576560020447, 0.3881268799304962, 0.28728732466697693]], [[0.3361555337905884, 0.36063072085380554, 0.3032137155532837], [0.33736297488212585, 0.3676769435405731, 0.2949601113796234], [0.3350115716457367, 0.34990766644477844, 0.31508079171180725]], [[0.3295140564441681, 0.36220353841781616, 0.30828240513801575], [0.32920241355895996, 0.368567556142807, 0.30222997069358826], [0.32613834738731384, 0.3582482635974884, 0.31561344861984253]], [[0.3411118686199188, 0.4194413423538208, 0.2394467443227768], [0.34042710065841675, 0.42458271980285645, 0.2349901646375656], [0.34235015511512756, 0.4095275402069092, 0.24812228977680206]], [[0.33337143063545227, 0.3233373761177063, 0.34329116344451904], [0.33582037687301636, 0.33183643221855164, 0.3323431611061096], [0.3313896059989929, 0.31231769919395447, 0.3562926650047302]], [[0.36504927277565, 0.42210739850997925, 0.21284325420856476], [0.365070104598999, 0.422136127948761, 0.21279379725456238], [0.3631727397441864, 0.4079086482524872, 0.22891861200332642]], [[0.32003387808799744, 0.3364632725715637, 0.343502938747406], [0.3236062526702881, 0.3434491753578186, 0.3329445719718933], [0.31783556938171387, 0.3218787908554077, 0.36028558015823364]], [[0.31345808506011963, 0.39285528659820557, 0.2936866581439972], [0.3140559494495392, 0.3962215185165405, 0.2897225320339203], [0.3111562132835388, 0.3963935971260071, 0.2924501597881317]], [[0.3065253794193268, 0.439474880695343, 0.2539997398853302], [0.30661097168922424, 0.43995076417922974, 0.25343823432922363], [0.30480214953422546, 0.4285142123699188, 0.2666836380958557]]], [[[0.3777219355106354, 0.3995143175125122, 0.22276371717453003], [0.3761460781097412, 0.40819719433784485, 0.21565672755241394], [0.36874812841415405, 0.38352879881858826, 0.2477230578660965]], [[0.32737278938293457, 0.39123034477233887, 0.2813968062400818], [0.32624536752700806, 0.39430689811706543, 0.2794477641582489], [0.32761120796203613, 0.3879321813583374, 0.28445661067962646]], [[0.35010427236557007, 0.4395607113838196, 0.21033509075641632], [0.34935063123703003, 0.44676893949508667, 0.20388035476207733], [0.3466753661632538, 0.4236278831958771, 0.22969678044319153]], [[0.34874439239501953, 0.3016020655632019, 0.34965354204177856], [0.3481582999229431, 0.3024473786354065, 0.3493943214416504], [0.3438261151313782, 0.3066764771938324, 0.3494974672794342]], [[0.3557596206665039, 0.3909398019313812, 0.25330060720443726], [0.3534362316131592, 0.39239582419395447, 0.25416800379753113], [0.36199450492858887, 0.3851778507232666, 0.25282764434814453]], [[0.38140878081321716, 0.3180607855319977, 0.30053043365478516], [0.3818050026893616, 0.326794296503067, 0.2914007008075714], [0.3839401304721832, 0.3154348134994507, 0.3006250858306885]], [[0.32650044560432434, 0.3770500421524048, 0.2964495122432709], [0.32541966438293457, 0.378043532371521, 0.2965368330478668], [0.3204479515552521, 0.3619365096092224, 0.3176155388355255]], [[0.3255603611469269, 0.40492844581604004, 0.2695111334323883], [0.3275398015975952, 0.4142564535140991, 0.2582037150859833], [0.3178041875362396, 0.39739546179771423, 0.2848004400730133]], [[0.2965434789657593, 0.28445008397102356, 0.41900649666786194], [0.30138811469078064, 0.29252320528030396, 0.40608859062194824], [0.2960313856601715, 0.2816150486469269, 0.42235350608825684]], [[0.34981799125671387, 0.3882519006729126, 0.2619301378726959], [0.34766170382499695, 0.3895195424556732, 0.2628187835216522], [0.34604740142822266, 0.3834090530872345, 0.27054363489151]], [[0.3188698887825012, 0.39114126563072205, 0.2899888753890991], [0.3189550042152405, 0.3948303461074829, 0.2862147092819214], [0.3188718855381012, 0.3839523494243622, 0.297175794839859]], [[0.33534806966781616, 0.3395822048187256, 0.32506972551345825], [0.33582955598831177, 0.34091857075691223, 0.3232519030570984], [0.3284705877304077, 0.32715925574302673, 0.34437015652656555]], [[0.33109867572784424, 0.4554044306278229, 0.21349689364433289], [0.3292596638202667, 0.4634300768375397, 0.2073102444410324], [0.3318624198436737, 0.43963366746902466, 0.22850392758846283]], [[0.3211207985877991, 0.327565997838974, 0.3513132333755493], [0.3246801197528839, 0.33474496006965637, 0.3405749499797821], [0.31755995750427246, 0.3242064118385315, 0.35823360085487366]], [[0.32507023215293884, 0.39595258235931396, 0.2789772152900696], [0.3260895907878876, 0.4002338945865631, 0.2736765444278717], [0.3240605294704437, 0.39050522446632385, 0.28543421626091003]], [[0.312595009803772, 0.40308040380477905, 0.284324586391449], [0.3103433847427368, 0.4087212085723877, 0.2809354066848755], [0.3108559846878052, 0.39759427309036255, 0.2915496528148651]]], [[[0.35942769050598145, 0.39137887954711914, 0.2491934597492218], [0.3546545207500458, 0.39606472849845886, 0.24928073585033417], [0.3572407066822052, 0.38621753454208374, 0.2565416991710663]], [[0.31771308183670044, 0.3864085376262665, 0.2958783507347107], [0.32107624411582947, 0.39741864800453186, 0.28150513768196106], [0.3122212588787079, 0.36437514424324036, 0.32340365648269653]], [[0.35903897881507874, 0.3320387303829193, 0.30892235040664673], [0.35919955372810364, 0.3402276635169983, 0.3005727529525757], [0.36026835441589355, 0.32103005051612854, 0.3187016248703003]], [[0.34287071228027344, 0.33386170864105225, 0.32326754927635193], [0.34132540225982666, 0.34343764185905457, 0.3152369558811188], [0.33667895197868347, 0.3316657245159149, 0.33165526390075684]], [[0.3250907361507416, 0.3999645709991455, 0.2749447226524353], [0.32426249980926514, 0.40531614422798157, 0.2704213559627533], [0.3240501284599304, 0.386540025472641, 0.2894098460674286]], [[0.33923840522766113, 0.3172866702079773, 0.34347495436668396], [0.3387303948402405, 0.3213629424571991, 0.3399066627025604], [0.3339771032333374, 0.30937597155570984, 0.35664692521095276]], [[0.3424905836582184, 0.43514713644981384, 0.22236227989196777], [0.3406108617782593, 0.4384806156158447, 0.2209085375070572], [0.3373081684112549, 0.43592265248298645, 0.22676920890808105]], [[0.34955894947052, 0.3831513226032257, 0.2672896981239319], [0.3502718210220337, 0.38826245069503784, 0.26146578788757324], [0.3406010568141937, 0.3772246241569519, 0.28217437863349915]], [[0.23033247888088226, 0.2778133451938629, 0.49185416102409363], [0.2323436290025711, 0.29759347438812256, 0.47006285190582275], [0.22077389061450958, 0.24581754207611084, 0.5334086418151855]], [[0.37895268201828003, 0.3969496786594391, 0.2240976244211197], [0.37514448165893555, 0.40076228976249695, 0.22409319877624512], [0.38117870688438416, 0.3821578323841095, 0.23666344583034515]], [[0.3484833836555481, 0.43505871295928955, 0.21645791828632355], [0.3501753509044647, 0.4384511709213257, 0.2113734781742096], [0.34237393736839294, 0.4284100830554962, 0.22921594977378845]], [[0.3139674961566925, 0.2829262912273407, 0.40310612320899963], [0.31841883063316345, 0.2996672987937927, 0.3819138705730438], [0.3058739900588989, 0.2637123167514801, 0.43041375279426575]], [[0.33969926834106445, 0.3843483030796051, 0.27595239877700806], [0.3391452133655548, 0.4032755196094513, 0.25757932662963867], [0.33324387669563293, 0.3766685128211975, 0.2900876998901367]], [[0.3324469029903412, 0.36678239703178406, 0.30077072978019714], [0.3382132053375244, 0.3714102506637573, 0.29037660360336304], [0.32757997512817383, 0.3651403486728668, 0.30727967619895935]], [[0.3187388479709625, 0.3660295307636261, 0.315231591463089], [0.31663602590560913, 0.37109485268592834, 0.3122691810131073], [0.3127295672893524, 0.3570932149887085, 0.3301772475242615]], [[0.3307991027832031, 0.31630462408065796, 0.3528962731361389], [0.3336632549762726, 0.3407387137413025, 0.3255980908870697], [0.3173922896385193, 0.2845154106616974, 0.3980922996997833]]], [[[0.3528255224227905, 0.39682257175445557, 0.2503518760204315], [0.34950098395347595, 0.38636013865470886, 0.2641389071941376], [0.3527924418449402, 0.39564836025238037, 0.25155919790267944]], [[0.36642470955848694, 0.3665030002593994, 0.26707229018211365], [0.363584965467453, 0.3816509246826172, 0.2547641396522522], [0.3654493987560272, 0.3507544696331024, 0.28379619121551514]], [[0.40036913752555847, 0.37380164861679077, 0.22582919895648956], [0.4028068482875824, 0.37279951572418213, 0.22439363598823547], [0.38149556517601013, 0.3682839572429657, 0.25022047758102417]], [[0.3536784052848816, 0.30576133728027344, 0.3405602276325226], [0.35910236835479736, 0.31250184774398804, 0.3283957839012146], [0.3477410078048706, 0.3098830580711365, 0.34237590432167053]], [[0.36155396699905396, 0.3808249533176422, 0.25762107968330383], [0.3645704388618469, 0.38453322649002075, 0.25089630484580994], [0.35882577300071716, 0.3667847812175751, 0.2743894159793854]], [[0.3352246880531311, 0.5385991930961609, 0.126176118850708], [0.34457680583000183, 0.5325475335121155, 0.1228756457567215], [0.32820865511894226, 0.5227606296539307, 0.1490306854248047]], [[0.35833483934402466, 0.45674991607666016, 0.1849151998758316], [0.3635566234588623, 0.4588761329650879, 0.17756731808185577], [0.35279572010040283, 0.4451911151409149, 0.20201319456100464]], [[0.3520934283733368, 0.37149307131767273, 0.2764134705066681], [0.34728968143463135, 0.3614349067211151, 0.2912754416465759], [0.34803199768066406, 0.3576664924621582, 0.2943015992641449]], [[0.3822755813598633, 0.4631052017211914, 0.1546192318201065], [0.35961732268333435, 0.5042375326156616, 0.13614509999752045], [0.386003315448761, 0.4085126519203186, 0.20548398792743683]], [[0.15992970764636993, 0.2469157725572586, 0.5931544899940491], [0.15970972180366516, 0.265229195356369, 0.5750610828399658], [0.15449701249599457, 0.1829499453306198, 0.662553071975708]], [[0.3716108798980713, 0.45309674739837646, 0.17529229819774628], [0.35997307300567627, 0.46291112899780273, 0.1771157681941986], [0.376726895570755, 0.4226301312446594, 0.20064297318458557]], [[0.3756551444530487, 0.42176711559295654, 0.20257771015167236], [0.37756583094596863, 0.422152578830719, 0.20028156042099], [0.37347468733787537, 0.41333335638046265, 0.2131918966770172]], [[0.2943588197231293, 0.55634605884552, 0.14929504692554474], [0.27613869309425354, 0.5893537998199463, 0.13450753688812256], [0.3002334237098694, 0.5156385898590088, 0.18412788212299347]], [[0.4127751886844635, 0.4163944721221924, 0.17083042860031128], [0.41335394978523254, 0.42322736978530884, 0.16341863572597504], [0.3989216387271881, 0.4033677279949188, 0.19771061837673187]], [[0.3696049451828003, 0.3880895674228668, 0.24230548739433289], [0.36574918031692505, 0.3897399306297302, 0.24451085925102234], [0.36558082699775696, 0.3711661696434021, 0.26325294375419617]], [[0.3629741966724396, 0.5021234750747681, 0.13490235805511475], [0.35425031185150146, 0.5191740989685059, 0.12657567858695984], [0.3670054078102112, 0.47920700907707214, 0.15378756821155548]]], [[[0.36798620223999023, 0.3702320158481598, 0.26178178191185], [0.36240315437316895, 0.37561437487602234, 0.26198238134384155], [0.3714686930179596, 0.3496887981891632, 0.2788424789905548]], [[0.2830834686756134, 0.5620822906494141, 0.15483422577381134], [0.2880305349826813, 0.5631334781646729, 0.14883606135845184], [0.28301188349723816, 0.5411133766174316, 0.1758747696876526]], [[0.3499719500541687, 0.4164915382862091, 0.23353655636310577], [0.34979763627052307, 0.42764443159103394, 0.2225579023361206], [0.3539748787879944, 0.3978438675403595, 0.2481813281774521]], [[0.1863984316587448, 0.31683865189552307, 0.4967629909515381], [0.19587473571300507, 0.38757577538490295, 0.4165495038032532], [0.13675150275230408, 0.20817144215106964, 0.6550770998001099]], [[0.358310341835022, 0.3845505714416504, 0.25713908672332764], [0.35571521520614624, 0.38753074407577515, 0.2567541003227234], [0.3587104082107544, 0.37095221877098083, 0.27033740282058716]], [[0.2331303507089615, 0.6637675762176514, 0.10310211032629013], [0.22793565690517426, 0.6753652095794678, 0.09669911861419678], [0.24334703385829926, 0.6404154300689697, 0.1162375658750534]], [[0.2892671823501587, 0.4122104048728943, 0.29852235317230225], [0.29166001081466675, 0.43690839409828186, 0.27143165469169617], [0.2854679524898529, 0.3754173815250397, 0.3391147553920746]], [[0.314479798078537, 0.3740021586418152, 0.3115181028842926], [0.3085736334323883, 0.385042279958725, 0.30638405680656433], [0.31373757123947144, 0.344502329826355, 0.3417600989341736]], [[0.3841431438922882, 0.4710437059402466, 0.1448131948709488], [0.37832456827163696, 0.4828919768333435, 0.1387835144996643], [0.37772631645202637, 0.4634704291820526, 0.1588032841682434]], [[0.3561285734176636, 0.22982341051101685, 0.4140480160713196], [0.3589569628238678, 0.26561489701271057, 0.375428169965744], [0.32232898473739624, 0.17768912017345428, 0.4999818801879883]], [[0.3311132788658142, 0.39214545488357544, 0.27674126625061035], [0.33214572072029114, 0.42733851075172424, 0.24051573872566223], [0.3162883520126343, 0.35612910985946655, 0.32758253812789917]], [[0.3330729305744171, 0.5229748487472534, 0.1439521610736847], [0.32921817898750305, 0.5216069221496582, 0.14917491376399994], [0.3394193649291992, 0.5025621056556702, 0.15801846981048584]], [[0.40882807970046997, 0.14651291072368622, 0.444659024477005], [0.41179490089416504, 0.16029386222362518, 0.4279111623764038], [0.3877369165420532, 0.14203177392482758, 0.47023138403892517]], [[0.34113433957099915, 0.36685243248939514, 0.29201313853263855], [0.3396960198879242, 0.38087204098701477, 0.27943193912506104], [0.33844682574272156, 0.3624842166900635, 0.29906901717185974]], [[0.25409790873527527, 0.6639387011528015, 0.08196339756250381], [0.24488358199596405, 0.676716148853302, 0.07840023189783096], [0.2684241235256195, 0.6272636651992798, 0.10431219637393951]], [[0.3345051407814026, 0.49061712622642517, 0.17487770318984985], [0.3374589681625366, 0.4926997721195221, 0.1698412448167801], [0.3317704200744629, 0.4684351980686188, 0.19979439675807953]]], [[[0.2555921971797943, 0.5411655902862549, 0.20324213802814484], [0.25392693281173706, 0.5579681396484375, 0.18810488283634186], [0.26060211658477783, 0.5238745212554932, 0.21552340686321259]], [[0.29476431012153625, 0.6627215147018433, 0.04251418262720108], [0.2715160548686981, 0.6926136016845703, 0.03587036579847336], [0.31018945574760437, 0.6228797435760498, 0.06693083047866821]], [[0.32508009672164917, 0.43488577008247375, 0.24003414809703827], [0.32805755734443665, 0.44017213582992554, 0.23177021741867065], [0.3154270052909851, 0.4318346679210663, 0.25273823738098145]], [[0.3394636809825897, 0.4879548251628876, 0.17258146405220032], [0.3310815393924713, 0.5136412382125854, 0.15527723729610443], [0.3436230421066284, 0.45774757862091064, 0.19862940907478333]], [[0.2957213521003723, 0.46474894881248474, 0.23952971398830414], [0.28698137402534485, 0.4910011887550354, 0.22201742231845856], [0.30302131175994873, 0.44162142276763916, 0.25535720586776733]], [[0.3708668351173401, 0.4853423833847046, 0.14379087090492249], [0.3698580861091614, 0.4848399758338928, 0.14530198276042938], [0.36813977360725403, 0.49273446202278137, 0.1391257494688034]], [[0.37798282504081726, 0.5456808805465698, 0.0763363167643547], [0.3481637239456177, 0.5896652340888977, 0.062171004712581635], [0.4010917842388153, 0.4807596504688263, 0.11814849078655243]], [[0.3037753999233246, 0.5637247562408447, 0.1324998438358307], [0.3006599247455597, 0.5754095315933228, 0.12393059581518173], [0.31209975481033325, 0.5263954401016235, 0.1615048348903656]], [[0.3499120771884918, 0.5036096572875977, 0.14647828042507172], [0.3526851534843445, 0.5091696977615356, 0.1381451040506363], [0.32563233375549316, 0.5094390511512756, 0.16492867469787598]], [[0.3379673659801483, 0.5007028579711914, 0.16132986545562744], [0.3283054530620575, 0.510489821434021, 0.16120471060276031], [0.35337042808532715, 0.49008113145828247, 0.1565483957529068]], [[0.3420875072479248, 0.40209585428237915, 0.25581666827201843], [0.3327334523200989, 0.445212185382843, 0.22205428779125214], [0.32680416107177734, 0.3245431184768677, 0.34865278005599976]], [[0.40430960059165955, 0.5597801208496094, 0.03591025993227959], [0.3400985598564148, 0.6361456513404846, 0.023755785077810287], [0.48500534892082214, 0.42192521691322327, 0.09306944161653519]], [[0.40968140959739685, 0.23470894992351532, 0.35560962557792664], [0.4058450758457184, 0.3138599097728729, 0.2802950441837311], [0.34973371028900146, 0.166886106133461, 0.48338013887405396]], [[0.3024826645851135, 0.5124942660331726, 0.1850230097770691], [0.3036435544490814, 0.5317601561546326, 0.16459624469280243], [0.30284449458122253, 0.5015453696250916, 0.1956101804971695]], [[0.24768875539302826, 0.21294739842414856, 0.5393638014793396], [0.2586386799812317, 0.2533460855484009, 0.48801517486572266], [0.2124975025653839, 0.1652788668870926, 0.6222236752510071]], [[0.3176666796207428, 0.4114677608013153, 0.2708655893802643], [0.3203437328338623, 0.424358993768692, 0.25529730319976807], [0.3085275888442993, 0.38787922263145447, 0.30359312891960144]]], [[[0.31929972767829895, 0.468839168548584, 0.21186114847660065], [0.2977236807346344, 0.5620707273483276, 0.14020565152168274], [0.29272177815437317, 0.3641147315502167, 0.3431634306907654]], [[0.46520039439201355, 0.4530946612358093, 0.0817049890756607], [0.4334813058376312, 0.4883415400981903, 0.07817719876766205], [0.46686026453971863, 0.4235042333602905, 0.10963550209999084]], [[0.25136566162109375, 0.7100945115089417, 0.038539819419384], [0.23992690443992615, 0.7273147106170654, 0.032758310437202454], [0.27976542711257935, 0.6478303670883179, 0.0724041685461998]], [[0.39917051792144775, 0.43694716691970825, 0.16388222575187683], [0.3871585428714752, 0.4653755724430084, 0.14746585488319397], [0.37701159715652466, 0.42177173495292664, 0.2012166976928711]], [[0.42447343468666077, 0.3018265962600708, 0.27369993925094604], [0.3677673637866974, 0.45995521545410156, 0.17227739095687866], [0.3264400064945221, 0.15339967608451843, 0.5201603174209595]], [[0.4248952269554138, 0.38565054535865784, 0.18945418298244476], [0.3848114609718323, 0.47672584652900696, 0.13846264779567719], [0.3797606825828552, 0.2627347707748413, 0.3575045168399811]], [[0.3830537497997284, 0.3250060975551605, 0.2919401526451111], [0.376049280166626, 0.40529611706733704, 0.21865461766719818], [0.353598952293396, 0.2421017736196518, 0.4042993485927582]], [[0.3503827452659607, 0.4878845512866974, 0.1617327332496643], [0.32354193925857544, 0.5244937539100647, 0.15196433663368225], [0.36495256423950195, 0.4750179052352905, 0.1600296050310135]], [[0.09202022850513458, 0.844821035861969, 0.0631588026881218], [0.09341761469841003, 0.8418581485748291, 0.06472422182559967], [0.09130499511957169, 0.8348137736320496, 0.07388120144605637]], [[0.2235175520181656, 0.7246818542480469, 0.05180055648088455], [0.22982457280158997, 0.7181521654129028, 0.05202328786253929], [0.252455472946167, 0.6709591150283813, 0.07658538222312927]], [[0.24642731249332428, 0.46984022855758667, 0.28373241424560547], [0.2428896427154541, 0.5197780132293701, 0.23733234405517578], [0.2274504154920578, 0.39816969633102417, 0.37437984347343445]], [[0.1298067420721054, 0.06916848570108414, 0.8010247945785522], [0.16271308064460754, 0.12144763022661209, 0.7158392667770386], [0.09955316036939621, 0.04336262866854668, 0.8570842146873474]], [[0.18801355361938477, 0.7933880090713501, 0.01859845407307148], [0.18367727100849152, 0.7975389361381531, 0.018783777952194214], [0.1952487975358963, 0.7816509008407593, 0.02310023456811905]], [[0.6963401436805725, 0.20301096141338348, 0.10064888000488281], [0.636603832244873, 0.30490976572036743, 0.05848636478185654], [0.6912350058555603, 0.13746121525764465, 0.17130376398563385]], [[0.19497571885585785, 0.03624480217695236, 0.768779456615448], [0.27829912304878235, 0.09229782968759537, 0.6294030547142029], [0.11540388315916061, 0.014369937591254711, 0.8702262043952942]], [[0.3521045446395874, 0.560350239276886, 0.08754532784223557], [0.31705647706985474, 0.6111109256744385, 0.07183258980512619], [0.3722597360610962, 0.5073577761650085, 0.12038248777389526]]], [[[0.45347651839256287, 0.4596680998802185, 0.08685542643070221], [0.17946697771549225, 0.8031907081604004, 0.017342301085591316], [0.33101558685302734, 0.14960207045078278, 0.5193822979927063]], [[0.2938528060913086, 0.2865200638771057, 0.4196271300315857], [0.16872690618038177, 0.6972086429595947, 0.1340644359588623], [0.1924428790807724, 0.06458356976509094, 0.7429735064506531]], [[0.5865452289581299, 0.10735867917537689, 0.3060961365699768], [0.4115411937236786, 0.5044260621070862, 0.08403277397155762], [0.16426758468151093, 0.012342006899416447, 0.8233903646469116]], [[0.36223047971725464, 0.5050464868545532, 0.13272306323051453], [0.20997579395771027, 0.7378119230270386, 0.05221225321292877], [0.3866261839866638, 0.2807442843914032, 0.33262959122657776]], [[0.6981940269470215, 0.18143440783023834, 0.12037158012390137], [0.3727148473262787, 0.5925666689872742, 0.034718502312898636], [0.5194113850593567, 0.06733427196741104, 0.41325438022613525]], [[0.4342621862888336, 0.3113201856613159, 0.25441762804985046], [0.2469053715467453, 0.7099162340164185, 0.043178483843803406], [0.16262187063694, 0.05917908251285553, 0.7781990170478821]], [[0.16585184633731842, 0.5737007856369019, 0.26044735312461853], [0.097163625061512, 0.7870272397994995, 0.11580908298492432], [0.14529074728488922, 0.4414762258529663, 0.41323304176330566]], [[0.4059620499610901, 0.1181357204914093, 0.4759021997451782], [0.40929386019706726, 0.332645982503891, 0.25806012749671936], [0.24751056730747223, 0.04183207079768181, 0.7106573581695557]], [[0.21213875710964203, 0.191571906208992, 0.596289336681366], [0.22081343829631805, 0.5184513330459595, 0.26073524355888367], [0.08793552219867706, 0.045615170150995255, 0.8664493560791016]], [[0.23980139195919037, 0.680018424987793, 0.08018021285533905], [0.11414917558431625, 0.8592663407325745, 0.02658454142510891], [0.297411173582077, 0.47088101506233215, 0.23170779645442963]], [[0.1394248902797699, 0.7792182564735413, 0.08135684579610825], [0.08650286495685577, 0.8758569955825806, 0.03764009848237038], [0.13920244574546814, 0.6767465472221375, 0.18405099213123322]], [[0.3420895040035248, 0.4656638205051422, 0.1922466903924942], [0.13593290746212006, 0.8316940069198608, 0.032373011112213135], [0.1838565170764923, 0.10068324953317642, 0.7154602408409119]], [[0.23241692781448364, 0.22274838387966156, 0.5448347330093384], [0.15940597653388977, 0.6096754670143127, 0.23091863095760345], [0.16992658376693726, 0.09075750410556793, 0.739315927028656]], [[0.3225296437740326, 0.5479224324226379, 0.12954792380332947], [0.2249469757080078, 0.7162161469459534, 0.05883687734603882], [0.33819785714149475, 0.3591245412826538, 0.30267763137817383]], [[0.18492303788661957, 0.7185749411582947, 0.09650205075740814], [0.06438934803009033, 0.9158281087875366, 0.019782565534114838], [0.23832759261131287, 0.47133228182792664, 0.2903400659561157]], [[0.11977066099643707, 0.6656873822212219, 0.2145419865846634], [0.036960210651159286, 0.9333382248878479, 0.02970159240067005], [0.0761510506272316, 0.23134973645210266, 0.6924991607666016]]]], \"left_text\": [\"[CLS]\", \"[UNK]\", \"[SEP]\"], \"right_text\": [\"[CLS]\", \"[UNK]\", \"[SEP]\"]}], \"default_filter\": \"0\", \"root_div_id\": \"bertviz-936e4147cb134406a91bf3c1dc40c8be\", \"layer\": null, \"heads\": null, \"include_layers\": [0, 1, 2, 3, 4, 5, 6, 7, 8, 9, 10, 11, 12, 13, 14, 15, 16, 17, 18, 19, 20, 21, 22, 23, 24, 25, 26, 27, 28, 29]}; // HACK: {\"attention\": [{\"name\": null, \"attn\": [[[[0.35182997584342957, 0.5096926093101501, 0.1384774148464203], [0.7189466953277588, 0.16999271512031555, 0.11106068640947342], [0.5230326056480408, 0.2582660913467407, 0.2187012881040573]], [[0.29125508666038513, 0.10429096966981888, 0.6044539213180542], [0.13170260190963745, 0.00223346333950758, 0.8660639524459839], [0.022217057645320892, 0.0023228079080581665, 0.9754601120948792]], [[0.1166437566280365, 0.0030076552648097277, 0.8803486227989197], [0.3253886103630066, 0.3242492973804474, 0.350362092256546], [0.25971609354019165, 0.10059883445501328, 0.6396850943565369]], [[0.041961733251810074, 0.9494951367378235, 0.008543084375560284], [0.4583303928375244, 0.5237346291542053, 0.017935071140527725], [0.39214232563972473, 0.3576638698577881, 0.25019383430480957]], [[0.9890158772468567, 0.010618876665830612, 0.0003652408195193857], [0.8390309810638428, 0.12352257966995239, 0.03744649514555931], [0.14441289007663727, 0.03368501737713814, 0.8219020962715149]], [[0.630422055721283, 0.15316282212734222, 0.2164151519536972], [0.48232361674308777, 0.4210716485977173, 0.09660474956035614], [0.47094500064849854, 0.17418992519378662, 0.35486501455307007]], [[0.5887292623519897, 0.23402872681617737, 0.1772419512271881], [0.9376465678215027, 0.015364846214652061, 0.0469885915517807], [0.033086203038692474, 0.0051726954989135265, 0.9617410898208618]], [[0.1463179737329483, 0.3139953315258026, 0.5396867394447327], [0.07896240055561066, 0.3687732517719269, 0.5522643327713013], [0.01168061513453722, 0.1976049244403839, 0.7907145023345947]], [[0.3739761412143707, 0.5279549956321716, 0.09806887060403824], [0.1240776926279068, 0.13059334456920624, 0.745328962802887], [0.004462692886590958, 0.4871100187301636, 0.5084273815155029]], [[0.7564510703086853, 0.20366916060447693, 0.03987981379032135], [0.8049218058586121, 0.12060095369815826, 0.07447723299264908], [0.6821573972702026, 0.2832520306110382, 0.034590598195791245]], [[0.3730776906013489, 0.15834608674049377, 0.4685761630535126], [0.6464645266532898, 0.16915541887283325, 0.18438008427619934], [0.02691899798810482, 0.2089264690876007, 0.7641545534133911]], [[0.022607943043112755, 0.9514152407646179, 0.025976840406656265], [0.3202132284641266, 0.11913412809371948, 0.5606526136398315], [0.13224837183952332, 0.4203996956348419, 0.44735187292099]], [[0.22450736165046692, 0.13670876622200012, 0.638783872127533], [0.12047616392374039, 0.324870228767395, 0.554653525352478], [0.04277002066373825, 0.12403878569602966, 0.8331911563873291]], [[0.5669527649879456, 0.24555325508117676, 0.1874939352273941], [0.9238255023956299, 0.03942596912384033, 0.03674856945872307], [0.2541225552558899, 0.7295534610748291, 0.01632390171289444]], [[0.21216051280498505, 0.17825661599636078, 0.6095829010009766], [0.0744355320930481, 0.03087334893643856, 0.8946911096572876], [0.08046738803386688, 0.1859418749809265, 0.7335906624794006]], [[0.26952454447746277, 0.29540663957595825, 0.43506887555122375], [0.37868574261665344, 0.2643423080444336, 0.3569719195365906], [0.5821107029914856, 0.13488326966762543, 0.2830060124397278]]], [[[8.098070338746766e-07, 1.2159014659118839e-05, 0.999987006187439], [1.0566044693405274e-05, 1.6338501154677942e-05, 0.9999730587005615], [7.875831215642393e-06, 6.938107981113717e-05, 0.9999227523803711]], [[0.9915859699249268, 0.007984953001141548, 0.00042903865687549114], [2.948495875898516e-06, 0.009891420602798462, 0.9901056885719299], [4.916730844684025e-08, 0.0008917921804822981, 0.9991081357002258]], [[0.9983489513397217, 0.0016509330598637462, 1.1549376921493604e-07], [1.1448300938354805e-05, 0.9765417575836182, 0.0234468262642622], [3.396908709873969e-08, 0.0537334606051445, 0.9462664723396301]], [[0.2744874060153961, 0.7254865765571594, 2.6050945962197147e-05], [0.020140543580055237, 0.9798349738121033, 2.456134643580299e-05], [0.10025866329669952, 0.8979560136795044, 0.001785271568223834]], [[1.0, 3.3717644232211796e-09, 2.1763599494621644e-13], [0.9999994039535522, 6.107541139499517e-07, 1.6544261793871584e-10], [1.0, 1.6414154480060006e-09, 2.6597066563049943e-12]], [[0.4406537115573883, 0.4718661904335022, 0.08748006075620651], [0.5620518326759338, 0.40019121766090393, 0.03775690868496895], [0.11940696090459824, 0.647706925868988, 0.2328861504793167]], [[0.9695045351982117, 0.027048463001847267, 0.003447028109803796], [0.5619204640388489, 0.42400452494621277, 0.014075039885938168], [0.25784599781036377, 0.6586896777153015, 0.08346433192491531]], [[0.9999741315841675, 2.588687857496552e-05, 1.786117742597071e-08], [0.8136134743690491, 0.18572494387626648, 0.0006615996244363487], [0.17556528747081757, 0.7112557888031006, 0.11317891627550125]], [[0.47880592942237854, 0.09323859214782715, 0.4279555082321167], [0.9999799728393555, 4.324601832195185e-06, 1.5776520740473643e-05], [0.5167863368988037, 0.0963335931301117, 0.38687998056411743]], [[0.8937288522720337, 0.1062677800655365, 3.350522320033633e-06], [1.031160376405377e-14, 1.1534956456671352e-06, 0.9999988079071045], [8.037841643561347e-21, 3.96431932420116e-12, 1.0]], [[1.0, 6.554928821955741e-10, 2.370466383879127e-15], [0.48617666959762573, 0.5138125419616699, 1.0804145858855918e-05], [0.0003642791707534343, 0.945875883102417, 0.0537598617374897]], [[0.43206074833869934, 0.5670531392097473, 0.0008861295063979924], [0.34921717643737793, 0.650048017501831, 0.0007348537910729647], [0.36524975299835205, 0.6057974100112915, 0.028952820226550102]], [[0.017397573217749596, 0.8353634476661682, 0.14723898470401764], [0.013812514953315258, 0.7910776734352112, 0.19510990381240845], [0.07985611259937286, 0.6510956287384033, 0.26904821395874023]], [[0.9999998807907104, 6.957650811045824e-08, 1.3126112176353733e-11], [9.128681267611682e-05, 0.9997157454490662, 0.0001928947604028508], [3.8503588939420297e-07, 0.9986187219619751, 0.0013809583615511656]], [[0.9999939203262329, 6.112795290391659e-06, 5.126521784859506e-08], [0.9999983310699463, 1.6272132370431791e-06, 2.7386898304726515e-10], [1.0, 2.713768942896877e-08, 1.0138040580642826e-12]], [[0.780600368976593, 0.2189701944589615, 0.0004294825193937868], [0.8748441934585571, 0.12485107779502869, 0.00030469492776319385], [0.7866371273994446, 0.20936208963394165, 0.004000772722065449]]], [[[0.41676801443099976, 0.4210297763347626, 0.16220228374004364], [0.40965452790260315, 0.4407917857170105, 0.14955365657806396], [0.42750632762908936, 0.38650423288345337, 0.18598943948745728]], [[0.5891258716583252, 0.3415229022502899, 0.06935124099254608], [0.56951504945755, 0.3552064895629883, 0.07527846843004227], [0.5698422193527222, 0.33606216311454773, 0.0940956175327301]], [[0.5487449765205383, 0.40465235710144043, 0.04660263657569885], [0.36120516061782837, 0.5904269218444824, 0.048367951065301895], [0.23062445223331451, 0.5708020925521851, 0.19857345521450043]], [[0.5153814554214478, 0.37258294224739075, 0.1120356023311615], [0.43935906887054443, 0.47994938492774963, 0.08069155365228653], [0.23291882872581482, 0.29167020320892334, 0.47541093826293945]], [[0.40850359201431274, 0.35390955209732056, 0.2375868558883667], [0.37241920828819275, 0.37653258442878723, 0.2510482668876648], [0.39870136976242065, 0.3379967510700226, 0.26330190896987915]], [[0.6286856532096863, 0.21944895386695862, 0.15186534821987152], [0.6485130190849304, 0.21367138624191284, 0.13781557977199554], [0.6613144874572754, 0.1586182564496994, 0.18006718158721924]], [[0.3716096878051758, 0.38212311267852783, 0.24626728892326355], [0.43439963459968567, 0.40087831020355225, 0.1647220253944397], [0.47243809700012207, 0.3608289659023285, 0.16673292219638824]], [[0.44974780082702637, 0.38241156935691833, 0.1678406447172165], [0.2058616578578949, 0.5151891708374023, 0.27894923090934753], [0.32704871892929077, 0.2853897511959076, 0.38756152987480164]], [[0.38195276260375977, 0.5012933015823364, 0.11675392836332321], [0.28995251655578613, 0.5669620037078857, 0.14308546483516693], [0.3566395938396454, 0.46838992834091187, 0.17497046291828156]], [[0.4393385052680969, 0.44397202134132385, 0.11668943613767624], [0.4633930027484894, 0.45261016488075256, 0.08399678021669388], [0.46659645438194275, 0.42657244205474854, 0.10683117061853409]], [[0.5029841065406799, 0.38946297764778137, 0.10755299031734467], [0.31017792224884033, 0.5940307378768921, 0.09579136967658997], [0.34850946068763733, 0.46884822845458984, 0.1826423853635788]], [[0.5726223587989807, 0.3730551302433014, 0.05432246997952461], [0.5878233909606934, 0.36305558681488037, 0.04912101849913597], [0.5975921154022217, 0.35377100110054016, 0.04863690584897995]], [[0.4562518298625946, 0.37406688928604126, 0.16968123614788055], [0.44831952452659607, 0.39499592781066895, 0.15668459236621857], [0.4588000178337097, 0.3775065839290619, 0.1636933535337448]], [[0.3238930106163025, 0.2880324423313141, 0.3880745470523834], [0.32564374804496765, 0.3009547293186188, 0.3734015226364136], [0.3638122081756592, 0.24394282698631287, 0.39224496483802795]], [[0.2960023581981659, 0.5112511515617371, 0.19274654984474182], [0.28622686862945557, 0.5320380926132202, 0.18173503875732422], [0.2567148804664612, 0.36994168162345886, 0.37334343791007996]], [[0.4256937503814697, 0.48417675495147705, 0.090129554271698], [0.3989165127277374, 0.5203531980514526, 0.08073030412197113], [0.43591436743736267, 0.4409914016723633, 0.12309420853853226]]], [[[0.414256751537323, 0.3344912528991699, 0.2512519955635071], [0.41414594650268555, 0.3368546664714813, 0.24899937212467194], [0.40066057443618774, 0.32648441195487976, 0.2728550136089325]], [[0.35695093870162964, 0.30896803736686707, 0.33408108353614807], [0.36545509099960327, 0.3156646490097046, 0.31888025999069214], [0.36070433259010315, 0.3017534911632538, 0.33754220604896545]], [[0.34913158416748047, 0.2897234559059143, 0.3611449897289276], [0.3426767885684967, 0.2966826856136322, 0.3606405556201935], [0.3236922323703766, 0.26841071248054504, 0.40789705514907837]], [[0.36987006664276123, 0.29412198066711426, 0.3360079824924469], [0.3826107084751129, 0.29909077286720276, 0.3182985782623291], [0.3630734086036682, 0.27849334478378296, 0.35843321681022644]], [[0.4116409718990326, 0.31267842650413513, 0.27568063139915466], [0.41431504487991333, 0.3092966079711914, 0.2763882875442505], [0.41279086470603943, 0.28700006008148193, 0.30020907521247864]], [[0.4051828384399414, 0.28964608907699585, 0.30517107248306274], [0.4123571217060089, 0.29223868250846863, 0.29540419578552246], [0.4150722324848175, 0.29519546031951904, 0.28973230719566345]], [[0.3766900300979614, 0.2808547914028168, 0.34245526790618896], [0.3873926103115082, 0.2856014668941498, 0.32700595259666443], [0.37108108401298523, 0.26424792408943176, 0.3646709620952606]], [[0.33560100197792053, 0.3086613416671753, 0.35573768615722656], [0.33959782123565674, 0.303059458732605, 0.35734274983406067], [0.32985374331474304, 0.29515334963798523, 0.3749929964542389]], [[0.36267468333244324, 0.3378053903579712, 0.29951995611190796], [0.35698720812797546, 0.3305939733982086, 0.3124188780784607], [0.3745464086532593, 0.30778539180755615, 0.31766822934150696]], [[0.3529431223869324, 0.2920442521572113, 0.3550126552581787], [0.3608805537223816, 0.2994048297405243, 0.3397146463394165], [0.35743027925491333, 0.2742447853088379, 0.368324875831604]], [[0.32589781284332275, 0.28704097867012024, 0.387061208486557], [0.32801660895347595, 0.28718435764312744, 0.3847990334033966], [0.34585508704185486, 0.2781459093093872, 0.37599900364875793]], [[0.3631409704685211, 0.3281855285167694, 0.3086735010147095], [0.3638248145580292, 0.33008289337158203, 0.3060922920703888], [0.35910001397132874, 0.30620864033699036, 0.3346913754940033]], [[0.3917248845100403, 0.2830657362937927, 0.3252094089984894], [0.40069541335105896, 0.2853687107563019, 0.3139358460903168], [0.37269675731658936, 0.25839608907699585, 0.3689071834087372]], [[0.1733493059873581, 0.17787307500839233, 0.6487776041030884], [0.1731235533952713, 0.17488501965999603, 0.6519914269447327], [0.12936970591545105, 0.14635048806667328, 0.7242798805236816]], [[0.33650800585746765, 0.3812618851661682, 0.2822301387786865], [0.33943259716033936, 0.37717700004577637, 0.2833903729915619], [0.3368135392665863, 0.35396304726600647, 0.3092234134674072]], [[0.4013480544090271, 0.4004320204257965, 0.1982199102640152], [0.40321528911590576, 0.3910680413246155, 0.20571666955947876], [0.4117736220359802, 0.3827635645866394, 0.20546284317970276]]], [[[0.3816044330596924, 0.30755236744880676, 0.31084319949150085], [0.3814123868942261, 0.3092401325702667, 0.3093475103378296], [0.3878474533557892, 0.3084762990474701, 0.3036763370037079]], [[0.43857333064079285, 0.32021600008010864, 0.24121062457561493], [0.43983030319213867, 0.3231349587440491, 0.23703470826148987], [0.44279640913009644, 0.3223469853401184, 0.23485659062862396]], [[0.4117368757724762, 0.3163635730743408, 0.271899551153183], [0.41128042340278625, 0.3176476061344147, 0.2710719406604767], [0.4143315553665161, 0.31561279296875, 0.2700555920600891]], [[0.41412797570228577, 0.31040650606155396, 0.2754654586315155], [0.41289573907852173, 0.31222257018089294, 0.27488166093826294], [0.4152785837650299, 0.3139955401420593, 0.27072590589523315]], [[0.4006601870059967, 0.33044829964637756, 0.2688915729522705], [0.4000907838344574, 0.33196091651916504, 0.26794832944869995], [0.39966362714767456, 0.32919564843177795, 0.2711406946182251]], [[0.42477551102638245, 0.3198208808898926, 0.255403608083725], [0.42462217807769775, 0.3215373158454895, 0.2538405656814575], [0.4359186887741089, 0.3126850128173828, 0.2513963580131531]], [[0.42766717076301575, 0.3169334828853607, 0.25539928674697876], [0.4283323884010315, 0.32003486156463623, 0.2516327202320099], [0.4323526918888092, 0.30804944038391113, 0.25959792733192444]], [[0.37314310669898987, 0.32247862219810486, 0.3043782711029053], [0.36932840943336487, 0.32106128334999084, 0.3096102476119995], [0.3634546995162964, 0.31287795305252075, 0.3236673176288605]], [[0.40620654821395874, 0.35455936193466187, 0.2392340749502182], [0.4093628227710724, 0.35823479294776917, 0.23240242898464203], [0.41054320335388184, 0.3470689356327057, 0.24238786101341248]], [[0.40468278527259827, 0.37170326709747314, 0.2236139178276062], [0.4015567898750305, 0.37421315908432007, 0.224230095744133], [0.3964201807975769, 0.36686599254608154, 0.23671381175518036]], [[0.4195988178253174, 0.3496417999267578, 0.2307593673467636], [0.4214908480644226, 0.3532254695892334, 0.2252836376428604], [0.4169001877307892, 0.3500845432281494, 0.2330152541399002]], [[0.44409579038619995, 0.32810455560684204, 0.22779962420463562], [0.44564664363861084, 0.33012306690216064, 0.22423028945922852], [0.4463290870189667, 0.32321828603744507, 0.23045262694358826]], [[0.38404208421707153, 0.3020152449607849, 0.31394270062446594], [0.3833646774291992, 0.3026716411113739, 0.31396374106407166], [0.3801072835922241, 0.2933878004550934, 0.32650497555732727]], [[0.36753541231155396, 0.33138158917427063, 0.30108290910720825], [0.3659375011920929, 0.33271658420562744, 0.30134591460227966], [0.35737255215644836, 0.3267006278038025, 0.31592679023742676]], [[0.4609973430633545, 0.3393564224243164, 0.19964632391929626], [0.45989957451820374, 0.34168413281440735, 0.19841624796390533], [0.4586856961250305, 0.3333252966403961, 0.20798903703689575]], [[0.41180598735809326, 0.27619701623916626, 0.3119969964027405], [0.4115067422389984, 0.2780701518058777, 0.3104231059551239], [0.41405537724494934, 0.27801352739334106, 0.3079310357570648]]], [[[0.36989015340805054, 0.31689637899398804, 0.31321343779563904], [0.368289053440094, 0.31957104802131653, 0.31213992834091187], [0.36440470814704895, 0.31121689081192017, 0.3243783712387085]], [[0.3846328556537628, 0.3306737244129181, 0.2846934199333191], [0.38325390219688416, 0.3325519859790802, 0.28419408202171326], [0.3789122998714447, 0.3275475800037384, 0.29354017972946167]], [[0.38368847966194153, 0.36895841360092163, 0.24735307693481445], [0.3821028470993042, 0.37221166491508484, 0.24568550288677216], [0.3836251199245453, 0.3737795948982239, 0.24259530007839203]], [[0.3959313631057739, 0.34626027941703796, 0.2578083276748657], [0.3941431939601898, 0.34905382990837097, 0.2568029463291168], [0.38969913125038147, 0.3472597897052765, 0.2630411684513092]], [[0.3984966576099396, 0.3064517378807068, 0.29505160450935364], [0.40246880054473877, 0.30657944083213806, 0.29095175862312317], [0.3958718180656433, 0.294630229473114, 0.3094979226589203]], [[0.33832547068595886, 0.28930041193962097, 0.37237414717674255], [0.3374318778514862, 0.29008227586746216, 0.37248584628105164], [0.3279970586299896, 0.28639644384384155, 0.3856064975261688]], [[0.32108643651008606, 0.3013989329338074, 0.3775146007537842], [0.3174092471599579, 0.3019406199455261, 0.380650132894516], [0.32050061225891113, 0.3057354986667633, 0.37376388907432556]], [[0.3223263919353485, 0.2816214859485626, 0.39605215191841125], [0.32170289754867554, 0.2849857211112976, 0.39331141114234924], [0.3156096637248993, 0.28117844462394714, 0.40321189165115356]], [[0.36755791306495667, 0.3002642095088959, 0.33217793703079224], [0.3682239055633545, 0.30056947469711304, 0.33120664954185486], [0.36951225996017456, 0.301433801651001, 0.32905399799346924]], [[0.35521963238716125, 0.3057268261909485, 0.33905351161956787], [0.3537404537200928, 0.30492737889289856, 0.3413321375846863], [0.351485013961792, 0.3015211820602417, 0.3469938337802887]], [[0.3161548674106598, 0.34116795659065247, 0.34267711639404297], [0.3153373897075653, 0.34433820843696594, 0.34032437205314636], [0.3078353703022003, 0.3312700688838959, 0.3608945310115814]], [[0.4015621244907379, 0.31444936990737915, 0.28398847579956055], [0.40400370955467224, 0.3148496150970459, 0.2811466455459595], [0.39354708790779114, 0.3113446831703186, 0.29510822892189026]], [[0.3910910189151764, 0.340029776096344, 0.2688792645931244], [0.3906656801700592, 0.3420475721359253, 0.2672867774963379], [0.38320425152778625, 0.3320269286632538, 0.2847687900066376]], [[0.32047465443611145, 0.35001376271247864, 0.3295115828514099], [0.31743183732032776, 0.3547866940498352, 0.32778146862983704], [0.3067934215068817, 0.34039345383644104, 0.352813184261322]], [[0.3728299140930176, 0.335054486989975, 0.29211556911468506], [0.36978304386138916, 0.3407041132450104, 0.28951287269592285], [0.3603413701057434, 0.32919105887413025, 0.31046760082244873]], [[0.31149837374687195, 0.3053681254386902, 0.3831334710121155], [0.30841490626335144, 0.30668047070503235, 0.3849046230316162], [0.30420660972595215, 0.29792284965515137, 0.3978705108165741]]], [[[0.34069693088531494, 0.35053113102912903, 0.3087720274925232], [0.34163424372673035, 0.3559055030345917, 0.302460253238678], [0.33485910296440125, 0.34268173575401306, 0.3224591016769409]], [[0.34479737281799316, 0.32550472021102905, 0.329697847366333], [0.3426463305950165, 0.32444414496421814, 0.332909494638443], [0.34086111187934875, 0.3190889358520508, 0.3400498926639557]], [[0.319519966840744, 0.3275994658470154, 0.3528805673122406], [0.32015568017959595, 0.3290981948375702, 0.3507460951805115], [0.3086170554161072, 0.3158743977546692, 0.37550851702690125]], [[0.3522576689720154, 0.3445861041545868, 0.3031562566757202], [0.3516322374343872, 0.34611260890960693, 0.302255243062973], [0.35176172852516174, 0.336062490940094, 0.31217578053474426]], [[0.3595471680164337, 0.36440032720565796, 0.2760525643825531], [0.3601895868778229, 0.36845898628234863, 0.2713513672351837], [0.35073012113571167, 0.3426249027252197, 0.3066449463367462]], [[0.34921225905418396, 0.2852921485900879, 0.3654955327510834], [0.35070836544036865, 0.2879237234592438, 0.3613679111003876], [0.3439675271511078, 0.27860307693481445, 0.37742942571640015]], [[0.34140872955322266, 0.3803865313529968, 0.2782047688961029], [0.34336474537849426, 0.3795224726200104, 0.277112752199173], [0.3429727852344513, 0.3756163418292999, 0.2814108729362488]], [[0.3465172052383423, 0.37737932801246643, 0.27610349655151367], [0.34624114632606506, 0.37435629963874817, 0.27940258383750916], [0.34621697664260864, 0.37058115005493164, 0.2832019031047821]], [[0.3550851047039032, 0.3493199050426483, 0.2955949902534485], [0.3532974421977997, 0.3454638421535492, 0.3012387752532959], [0.35064563155174255, 0.33537089824676514, 0.31398341059684753]], [[0.326072633266449, 0.3479924499988556, 0.32593491673469543], [0.32936257123947144, 0.3501259684562683, 0.3205114006996155], [0.3181677758693695, 0.33822980523109436, 0.34360235929489136]], [[0.345060259103775, 0.33981767296791077, 0.315122127532959], [0.3444490134716034, 0.3396207392215729, 0.31593018770217896], [0.33919641375541687, 0.3344549536705017, 0.3263486325740814]], [[0.34385916590690613, 0.39058345556259155, 0.26555734872817993], [0.34120917320251465, 0.40459105372428894, 0.254199743270874], [0.33523109555244446, 0.34608206152915955, 0.3186868131160736]], [[0.3402610421180725, 0.3546651303768158, 0.3050738275051117], [0.3402729332447052, 0.35473352670669556, 0.30499354004859924], [0.33505716919898987, 0.35092833638191223, 0.3140144348144531]], [[0.3226122260093689, 0.37220072746276855, 0.30518707633018494], [0.3220905363559723, 0.3707478940486908, 0.3071615397930145], [0.3242952227592468, 0.3725545406341553, 0.3031501770019531]], [[0.31545719504356384, 0.34924986958503723, 0.3352929949760437], [0.3166407346725464, 0.3501049876213074, 0.33325424790382385], [0.3122282922267914, 0.34523430466651917, 0.34253737330436707]], [[0.36319291591644287, 0.3381142318248749, 0.29869282245635986], [0.3619551658630371, 0.3416236937046051, 0.2964211106300354], [0.35579049587249756, 0.32159313559532166, 0.3226163387298584]]], [[[0.35928305983543396, 0.39762943983078003, 0.24308744072914124], [0.3622889518737793, 0.3952797055244446, 0.24243126809597015], [0.3652718663215637, 0.3978271782398224, 0.23690098524093628]], [[0.30989164113998413, 0.5116701126098633, 0.17843830585479736], [0.3115902245044708, 0.4988557696342468, 0.18955397605895996], [0.29518818855285645, 0.5045963525772095, 0.20021548867225647]], [[0.3325461745262146, 0.35360363125801086, 0.31385019421577454], [0.33668482303619385, 0.3498637080192566, 0.3134514391422272], [0.33679038286209106, 0.3541274964809418, 0.30908215045928955]], [[0.303017258644104, 0.3067881762981415, 0.3901945948600769], [0.3068517744541168, 0.30507132411003113, 0.3880768418312073], [0.29398688673973083, 0.2841557264328003, 0.42185738682746887]], [[0.32337623834609985, 0.3830711543560028, 0.29355254769325256], [0.33012866973876953, 0.3793877065181732, 0.29048362374305725], [0.3112671971321106, 0.3812539875507355, 0.30747878551483154]], [[0.3191061317920685, 0.4397505819797516, 0.2411433309316635], [0.32178109884262085, 0.4150424897670746, 0.26317641139030457], [0.3423343300819397, 0.41833940148353577, 0.23932622373104095]], [[0.4026099145412445, 0.3486995995044708, 0.2486904114484787], [0.4017598032951355, 0.3470190763473511, 0.2512211799621582], [0.3969746232032776, 0.3369264006614685, 0.2660990059375763]], [[0.346723735332489, 0.3102419674396515, 0.3430342376232147], [0.35121089220046997, 0.31015029549598694, 0.3386388123035431], [0.3392278552055359, 0.2927926778793335, 0.3679794371128082]], [[0.3633151948451996, 0.4719387888908386, 0.16474606096744537], [0.3646935522556305, 0.4680739939212799, 0.1672324538230896], [0.3599190413951874, 0.461965411901474, 0.1781155914068222]], [[0.39149439334869385, 0.3663482964038849, 0.24215736985206604], [0.3923864960670471, 0.36985743045806885, 0.23775602877140045], [0.3920685648918152, 0.3498798906803131, 0.2580515742301941]], [[0.3478982448577881, 0.3582358658313751, 0.2938658595085144], [0.3539329171180725, 0.3658515214920044, 0.2802155911922455], [0.33897218108177185, 0.32038411498069763, 0.3406437039375305]], [[0.3035072684288025, 0.43574613332748413, 0.26074662804603577], [0.30907243490219116, 0.4335594177246094, 0.25736820697784424], [0.3105185031890869, 0.4305807054042816, 0.25890079140663147]], [[0.3245769739151001, 0.38516753911972046, 0.29025542736053467], [0.3301813006401062, 0.38537395000457764, 0.28444474935531616], [0.3201868236064911, 0.37574338912963867, 0.3040696978569031]], [[0.39833739399909973, 0.3591490387916565, 0.24251359701156616], [0.4033992290496826, 0.35723310708999634, 0.23936767876148224], [0.39787784218788147, 0.34713801741600037, 0.2549842298030853]], [[0.338260293006897, 0.3841445744037628, 0.277595192193985], [0.3442971408367157, 0.3808669447898865, 0.2748359739780426], [0.3406722843647003, 0.3866520822048187, 0.27267560362815857]], [[0.4659157991409302, 0.30321449041366577, 0.23086974024772644], [0.46608421206474304, 0.3001404106616974, 0.2337753176689148], [0.4568122625350952, 0.28959622979164124, 0.25359153747558594]]], [[[0.32613641023635864, 0.40414249897003174, 0.2697211503982544], [0.3302285671234131, 0.40246498584747314, 0.26730653643608093], [0.3125302493572235, 0.4005439579486847, 0.286925733089447]], [[0.3794459104537964, 0.3195020258426666, 0.3010520040988922], [0.3807156980037689, 0.3189002275466919, 0.3003840744495392], [0.3728601336479187, 0.3136594891548157, 0.31348034739494324]], [[0.3397482633590698, 0.3838059902191162, 0.2764456868171692], [0.3284781575202942, 0.3825158178806305, 0.28900599479675293], [0.33679404854774475, 0.35678884387016296, 0.3064171075820923]], [[0.3597916066646576, 0.3623020350933075, 0.2779063880443573], [0.3590567708015442, 0.3640308678150177, 0.2769123613834381], [0.354873389005661, 0.35841062664985657, 0.28671592473983765]], [[0.33174216747283936, 0.4611215889453888, 0.20713618397712708], [0.34751200675964355, 0.44295844435691833, 0.20952948927879333], [0.3226670026779175, 0.48770585656166077, 0.18962717056274414]], [[0.38856130838394165, 0.2861052453517914, 0.3253334164619446], [0.3891809284687042, 0.28808993101119995, 0.32272911071777344], [0.38552433252334595, 0.2886628806591034, 0.3258127272129059]], [[0.3369086682796478, 0.3325744867324829, 0.33051690459251404], [0.3381965458393097, 0.33357369899749756, 0.32822975516319275], [0.32929420471191406, 0.3312065601348877, 0.33949917554855347]], [[0.4133046567440033, 0.36718839406967163, 0.21950694918632507], [0.4152830243110657, 0.37123164534568787, 0.21348537504673004], [0.4064837396144867, 0.35107019543647766, 0.24244607985019684]], [[0.38286352157592773, 0.36351537704467773, 0.2536211311817169], [0.3852521777153015, 0.36155182123184204, 0.2531960606575012], [0.3809961974620819, 0.36072373390197754, 0.25828006863594055]], [[0.37699094414711, 0.33394259214401245, 0.28906649351119995], [0.37435102462768555, 0.33382442593574524, 0.2918245792388916], [0.3722047805786133, 0.33789828419685364, 0.2898968756198883]], [[0.3227498233318329, 0.3129735291004181, 0.36427661776542664], [0.32342788577079773, 0.31418609619140625, 0.362386018037796], [0.31800952553749084, 0.32150721549987793, 0.360483318567276]], [[0.38269734382629395, 0.26556873321533203, 0.35173386335372925], [0.38184043765068054, 0.2666659951210022, 0.35149359703063965], [0.3782682716846466, 0.26998087763786316, 0.3517508804798126]], [[0.3714900314807892, 0.35556864738464355, 0.27294132113456726], [0.37224557995796204, 0.35603028535842896, 0.271724134683609], [0.3707149922847748, 0.35336363315582275, 0.27592137455940247]], [[0.35830217599868774, 0.35536453127861023, 0.28633326292037964], [0.3580009937286377, 0.35561344027519226, 0.28638550639152527], [0.357472687959671, 0.35179537534713745, 0.29073190689086914]], [[0.363986074924469, 0.3206121325492859, 0.3154018521308899], [0.3637393116950989, 0.3224325478076935, 0.31382811069488525], [0.3666297495365143, 0.322282999753952, 0.3110872805118561]], [[0.29278162121772766, 0.2456580400466919, 0.4615603983402252], [0.3007065951824188, 0.2631177306175232, 0.43617570400238037], [0.2364572435617447, 0.18962113559246063, 0.5739216208457947]]], [[[0.3522157669067383, 0.38607487082481384, 0.2617093324661255], [0.35302257537841797, 0.38502076268196106, 0.26195669174194336], [0.3508422076702118, 0.3940827250480652, 0.2550751268863678]], [[0.3966042399406433, 0.43874138593673706, 0.16465437412261963], [0.4005272090435028, 0.4442807137966156, 0.1551920771598816], [0.38617753982543945, 0.4047837555408478, 0.20903874933719635]], [[0.39647823572158813, 0.29932400584220886, 0.304197758436203], [0.39662301540374756, 0.3026825189590454, 0.30069440603256226], [0.39092493057250977, 0.3007791340351105, 0.30829593539237976]], [[0.37629008293151855, 0.3183898627758026, 0.3053200840950012], [0.37829890847206116, 0.3228795528411865, 0.2988215684890747], [0.36081835627555847, 0.30432555079460144, 0.3348561227321625]], [[0.3017890155315399, 0.3281363546848297, 0.37007465958595276], [0.3069431781768799, 0.33980080485343933, 0.35325607657432556], [0.2617517411708832, 0.2794283926486969, 0.4588198661804199]], [[0.4181382358074188, 0.412860631942749, 0.16900113224983215], [0.41717323660850525, 0.41359493136405945, 0.16923180222511292], [0.4178922176361084, 0.40086138248443604, 0.18124638497829437]], [[0.3890640139579773, 0.4146845042705536, 0.19625143706798553], [0.3892058730125427, 0.4180864989757538, 0.1927076280117035], [0.3847435414791107, 0.4015745222568512, 0.21368199586868286]], [[0.3817938566207886, 0.43483006954193115, 0.1833759844303131], [0.38050782680511475, 0.43707725405693054, 0.1824149340391159], [0.3838479518890381, 0.4227553606033325, 0.1933967024087906]], [[0.40018385648727417, 0.4457247853279114, 0.15409140288829803], [0.4006531536579132, 0.45168039202690125, 0.1476665437221527], [0.38237443566322327, 0.3958766460418701, 0.22174891829490662]], [[0.38006216287612915, 0.32144707441329956, 0.2984907627105713], [0.38443446159362793, 0.325568288564682, 0.28999727964401245], [0.37000390887260437, 0.32018545269966125, 0.30981066823005676]], [[0.405587762594223, 0.41503140330314636, 0.179380863904953], [0.40546783804893494, 0.41606172919273376, 0.17847050726413727], [0.4022197127342224, 0.41678720712661743, 0.18099309504032135]], [[0.4222401976585388, 0.4907853901386261, 0.08697445690631866], [0.4217890799045563, 0.49412599205970764, 0.0840848907828331], [0.4142393469810486, 0.48672568798065186, 0.09903494268655777]], [[0.3999268710613251, 0.4220944941043854, 0.17797867953777313], [0.39991143345832825, 0.42204275727272034, 0.1780458241701126], [0.39745259284973145, 0.4180421531200409, 0.18450522422790527]], [[0.4310258626937866, 0.34521323442459106, 0.22376088798046112], [0.4312211573123932, 0.34596729278564453, 0.22281159460544586], [0.41856828331947327, 0.34200915694236755, 0.23942255973815918]], [[0.45014047622680664, 0.40958014130592346, 0.14027945697307587], [0.45180606842041016, 0.4123494029045105, 0.1358446329832077], [0.43307843804359436, 0.40037283301353455, 0.1665486842393875]], [[0.3964467942714691, 0.36926695704460144, 0.23428626358509064], [0.40205448865890503, 0.384359747171402, 0.2135857492685318], [0.33783066272735596, 0.2952425479888916, 0.3669268488883972]]], [[[0.3814028203487396, 0.442552775144577, 0.17604438960552216], [0.38059940934181213, 0.4409000873565674, 0.17850051820278168], [0.3787180781364441, 0.4403100907802582, 0.18097184598445892]], [[0.39361730217933655, 0.3621044158935547, 0.24427832663059235], [0.3940809369087219, 0.361783891916275, 0.24413520097732544], [0.38480740785598755, 0.35505643486976624, 0.2601361870765686]], [[0.34994322061538696, 0.3904501795768738, 0.25960657000541687], [0.3481379449367523, 0.384504109621048, 0.2673579454421997], [0.3592541515827179, 0.42014947533607483, 0.2205963134765625]], [[0.39985841512680054, 0.3832579255104065, 0.2168836146593094], [0.3956078886985779, 0.4094243049621582, 0.19496780633926392], [0.3606901466846466, 0.3148154616355896, 0.3244943916797638]], [[0.40329867601394653, 0.47521740198135376, 0.12148388475179672], [0.4015918970108032, 0.4902186691761017, 0.10818950086832047], [0.39505064487457275, 0.42420679330825806, 0.1807425320148468]], [[0.39712247252464294, 0.3938242793083191, 0.20905320346355438], [0.4005846679210663, 0.4100787937641144, 0.18933652341365814], [0.36885738372802734, 0.3238326609134674, 0.30730992555618286]], [[0.3471481502056122, 0.3951488435268402, 0.25770294666290283], [0.3503629267215729, 0.40227070450782776, 0.24736636877059937], [0.3278937041759491, 0.3554834723472595, 0.3166228234767914]], [[0.2683839201927185, 0.222311869263649, 0.5093041658401489], [0.2847568392753601, 0.23786243796348572, 0.47738075256347656], [0.235577791929245, 0.20547538995742798, 0.5589468479156494]], [[0.36432182788848877, 0.3183509111404419, 0.3173272907733917], [0.37801244854927063, 0.34144994616508484, 0.2805376350879669], [0.3178420066833496, 0.23581479489803314, 0.44634321331977844]], [[0.4901740252971649, 0.32299062609672546, 0.18683531880378723], [0.43812423944473267, 0.4465550482273102, 0.11532071232795715], [0.23935097455978394, 0.11646582186222076, 0.6441832184791565]], [[0.21302519738674164, 0.7514873743057251, 0.03548740968108177], [0.26566725969314575, 0.7013351321220398, 0.032997600734233856], [0.37610262632369995, 0.3147529661655426, 0.30914440751075745]], [[0.34918275475502014, 0.37644022703170776, 0.2743770480155945], [0.3481360375881195, 0.37143346667289734, 0.2804304361343384], [0.3567662537097931, 0.39835125207901, 0.2448825240135193]], [[0.3520248532295227, 0.39576199650764465, 0.25221312046051025], [0.35325291752815247, 0.39517518877983093, 0.25157198309898376], [0.35387417674064636, 0.4031192660331726, 0.24300654232501984]], [[0.3619880974292755, 0.5302952527999878, 0.10771669447422028], [0.35784122347831726, 0.5297598838806152, 0.11239884048700333], [0.3843673765659332, 0.4880344271659851, 0.12759818136692047]], [[0.29011932015419006, 0.6734497547149658, 0.036430902779102325], [0.301776260137558, 0.6614862680435181, 0.036737408488988876], [0.3496602177619934, 0.5241128206253052, 0.12622690200805664]], [[0.38880065083503723, 0.4894908368587494, 0.12170848995447159], [0.33285126090049744, 0.5549042224884033, 0.11224450916051865], [0.297566682100296, 0.37968364357948303, 0.32274970412254333]]], [[[0.5449239015579224, 0.30263766646385193, 0.15243837237358093], [0.23343364894390106, 0.7067563533782959, 0.059810008853673935], [0.008519265800714493, 0.01013049203902483, 0.9813501834869385]], [[0.4228980839252472, 0.4247962534427643, 0.15230561792850494], [0.3876385986804962, 0.46621352434158325, 0.14614790678024292], [0.31537917256355286, 0.25987303256988525, 0.4247478246688843]], [[0.35458990931510925, 0.5763872861862183, 0.06902278959751129], [0.3485172688961029, 0.5833160281181335, 0.06816674023866653], [0.38124069571495056, 0.4667140245437622, 0.15204530954360962]], [[0.3114032745361328, 0.32628685235977173, 0.36230987310409546], [0.329650342464447, 0.33272984623908997, 0.33761972188949585], [0.2744843661785126, 0.2488790899515152, 0.47663649916648865]], [[0.31675755977630615, 0.5080298185348511, 0.17521262168884277], [0.31734615564346313, 0.49858707189559937, 0.18406671285629272], [0.3187935948371887, 0.49789679050445557, 0.1833096295595169]], [[0.6240541338920593, 0.3246578574180603, 0.05128805339336395], [0.31836631894111633, 0.6387351155281067, 0.04289849475026131], [0.057047806680202484, 0.014146039262413979, 0.9288061857223511]], [[0.2875958979129791, 0.4136095941066742, 0.29879456758499146], [0.2836977541446686, 0.40513554215431213, 0.3111666142940521], [0.29265519976615906, 0.44190898537635803, 0.2654358148574829]], [[0.09875120222568512, 0.9012488722801208, 5.684167871632118e-13], [0.9785932302474976, 0.021406732499599457, 6.096123226443512e-15], [0.9996069073677063, 0.0003930656530428678, 2.667815968138143e-11]], [[0.2689809203147888, 0.26466959714889526, 0.46634945273399353], [0.27385857701301575, 0.2717120945453644, 0.45442935824394226], [0.2587764859199524, 0.2580851912498474, 0.4831382632255554]], [[0.38857975602149963, 0.3789037764072418, 0.23251646757125854], [0.36663368344306946, 0.4564836323261261, 0.17688274383544922], [0.278328537940979, 0.35397669672966003, 0.36769476532936096]], [[0.3732323944568634, 0.40967506170272827, 0.21709251403808594], [0.35372522473335266, 0.4440445899963379, 0.20223015546798706], [0.2888891100883484, 0.30553334951400757, 0.40557754039764404]], [[0.34407612681388855, 0.4646589457988739, 0.19126491248607635], [0.3420436382293701, 0.46042877435684204, 0.19752754271030426], [0.3472598195075989, 0.47800254821777344, 0.17473763227462769]], [[9.552298934067949e-07, 0.9999990463256836, 1.2530771559271514e-11], [0.04777104780077934, 0.9522290229797363, 2.0094993377628434e-12], [0.4584566354751587, 0.5415433049201965, 1.1334622129766103e-08]], [[0.2899401783943176, 0.5064102411270142, 0.2036495804786682], [0.36706414818763733, 0.484867662191391, 0.14806820452213287], [0.28151705861091614, 0.48653942346572876, 0.23194348812103271]], [[0.06197304278612137, 0.9380269646644592, 2.671944976384566e-08], [7.716422260273248e-06, 0.9999922513961792, 5.936721669819178e-10], [1.902096664707642e-05, 0.9999310970306396, 4.978413198841736e-05]], [[0.36201828718185425, 0.14545844495296478, 0.4925232529640198], [0.3030190169811249, 0.26470550894737244, 0.4322754740715027], [0.07515031844377518, 0.03821967914700508, 0.8866300582885742]]], [[[0.32154911756515503, 0.4038279056549072, 0.27462297677993774], [0.31615474820137024, 0.4157896637916565, 0.26805564761161804], [0.3307800590991974, 0.396141916513443, 0.2730780243873596]], [[0.41596102714538574, 0.4945145845413208, 0.08952439576387405], [0.31758108735084534, 0.6037312746047974, 0.07868761569261551], [0.20664045214653015, 0.2409665882587433, 0.5523928999900818]], [[0.21909989416599274, 0.7384544610977173, 0.04244562238454819], [0.3014868199825287, 0.6354865431785583, 0.06302666664123535], [0.3651942014694214, 0.6079055070877075, 0.02690025605261326]], [[0.35816454887390137, 0.545076310634613, 0.09675917029380798], [0.35733112692832947, 0.5362502932548523, 0.10641857236623764], [0.3618946373462677, 0.5136001110076904, 0.12450525164604187]], [[0.9944236874580383, 0.005576333496719599, 2.8737627388863984e-08], [0.0030527168419212103, 0.9969471096992493, 2.320466876426508e-07], [0.003932371735572815, 0.9717513918876648, 0.02431618608534336]], [[0.4455941915512085, 0.4586641788482666, 0.09574166685342789], [0.4437890350818634, 0.46068093180656433, 0.09553002566099167], [0.42313066124916077, 0.43327727913856506, 0.14359205961227417]], [[0.06658323109149933, 0.5211368799209595, 0.4122799336910248], [0.16795967519283295, 0.7107185125350952, 0.12132179737091064], [0.02686529979109764, 0.5276180505752563, 0.4455166757106781]], [[0.3124453127384186, 0.40196460485458374, 0.28559011220932007], [0.31220585107803345, 0.3992202877998352, 0.2885739207267761], [0.26771053671836853, 0.3609977662563324, 0.3712916970252991]], [[0.22228123247623444, 0.30897679924964905, 0.4687419533729553], [0.22367921471595764, 0.3067972660064697, 0.4695235788822174], [0.2112441211938858, 0.31655237078666687, 0.4722035229206085]], [[0.31134045124053955, 0.4985603094100952, 0.19009928405284882], [0.3098995089530945, 0.49610665440559387, 0.19399377703666687], [0.26584210991859436, 0.39457589387893677, 0.33958202600479126]], [[0.5394777655601501, 0.4605218470096588, 4.011646979051875e-07], [0.00033475199597887695, 0.9996647834777832, 4.40242502008914e-07], [0.001841037068516016, 0.987970769405365, 0.010188180953264236]], [[0.254192590713501, 0.4588545262813568, 0.2869528830051422], [0.24352875351905823, 0.4381365478038788, 0.3183346390724182], [0.2720123529434204, 0.439409464597702, 0.28857821226119995]], [[0.23595958948135376, 0.39001375436782837, 0.37402668595314026], [0.2452218383550644, 0.4965915381908417, 0.2581866383552551], [0.1396746039390564, 0.2656104862689972, 0.5947149395942688]], [[0.27934539318084717, 0.6483473181724548, 0.07230726629495621], [0.3005262017250061, 0.6441015601158142, 0.0553722009062767], [0.24339443445205688, 0.6788842678070068, 0.07772123068571091]], [[0.36954939365386963, 0.472439169883728, 0.15801145136356354], [0.17571386694908142, 0.6654558777809143, 0.15883025527000427], [0.0580858550965786, 0.12978029251098633, 0.8121339082717896]], [[0.1200203001499176, 0.5379131436347961, 0.3420664668083191], [0.07284430414438248, 0.5031230449676514, 0.42403265833854675], [0.029980093240737915, 0.05786910280585289, 0.9121508598327637]]], [[[0.3433211147785187, 0.5072196125984192, 0.14945930242538452], [0.27687835693359375, 0.5808987617492676, 0.14222292602062225], [0.24108418822288513, 0.3139958679676056, 0.4449199438095093]], [[0.3297569751739502, 0.3661729097366333, 0.3040701448917389], [0.323399156332016, 0.36549246311187744, 0.31110841035842896], [0.26413482427597046, 0.3082117438316345, 0.42765340209007263]], [[0.3855566084384918, 0.4640616774559021, 0.15038172900676727], [0.3771849572658539, 0.46984732151031494, 0.15296770632266998], [0.34400880336761475, 0.436265230178833, 0.21972598135471344]], [[0.36871224641799927, 0.36180180311203003, 0.2694859206676483], [0.3660586178302765, 0.3505750596523285, 0.283366322517395], [0.35216331481933594, 0.3964587152004242, 0.25137799978256226]], [[0.2615174353122711, 0.3540973663330078, 0.38438519835472107], [0.21999572217464447, 0.5477858185768127, 0.23221845924854279], [0.10130045562982559, 0.12179715186357498, 0.7769023776054382]], [[0.27700528502464294, 0.3688752055168152, 0.35411950945854187], [0.26837873458862305, 0.3706541657447815, 0.36096712946891785], [0.3336506485939026, 0.41683468222618103, 0.2495146244764328]], [[0.29206937551498413, 0.37669989466667175, 0.3312307894229889], [0.2870125472545624, 0.38601839542388916, 0.32696905732154846], [0.27878421545028687, 0.3594616651535034, 0.3617541193962097]], [[0.49868395924568176, 0.3396904468536377, 0.16162562370300293], [0.32138028740882874, 0.5696729421615601, 0.10894672572612762], [0.08348304778337479, 0.12409138679504395, 0.7924255132675171]], [[0.2068878412246704, 0.5611675977706909, 0.23194460570812225], [0.19059397280216217, 0.4422681927680969, 0.3671378195285797], [0.2921394109725952, 0.39899545907974243, 0.30886512994766235]], [[0.42445042729377747, 0.512531578540802, 0.0630180835723877], [0.35386213660240173, 0.60323566198349, 0.042902279645204544], [0.3215188682079315, 0.34596431255340576, 0.3325168192386627]], [[0.5010425448417664, 0.40771275758743286, 0.09124462306499481], [0.48885294795036316, 0.42297014594078064, 0.08817686885595322], [0.5128914713859558, 0.39535069465637207, 0.09175778180360794]], [[0.15589796006679535, 0.6170719265937805, 0.22703014314174652], [0.15690331161022186, 0.4746766984462738, 0.3684200048446655], [0.21866989135742188, 0.1918879598379135, 0.5894421339035034]], [[0.22770176827907562, 0.2083330750465393, 0.5639651417732239], [0.25653693079948425, 0.3896128833293915, 0.3538501560688019], [0.09026999771595001, 0.10241835564374924, 0.8073116540908813]], [[0.3514445722103119, 0.41366612911224365, 0.23488934338092804], [0.3480646014213562, 0.4345066547393799, 0.2174287885427475], [0.29583540558815, 0.36845341324806213, 0.3357112407684326]], [[0.8622604012489319, 0.13773751258850098, 2.035308853010065e-06], [0.07600182294845581, 0.9239969849586487, 1.2212040019221604e-06], [0.15616628527641296, 0.8394949436187744, 0.004338763188570738]], [[0.6726966500282288, 0.32622188329696655, 0.0010814281413331628], [0.08637486398220062, 0.9119181036949158, 0.0017071132315322757], [0.05950102582573891, 0.21026456356048584, 0.7302343249320984]]], [[[0.2253398448228836, 0.3262437880039215, 0.4484162926673889], [0.2342788279056549, 0.34288010001182556, 0.4228411316871643], [0.20215308666229248, 0.3086199164390564, 0.4892270565032959]], [[0.2179807424545288, 0.2561410665512085, 0.5258781909942627], [0.26696985960006714, 0.4591950476169586, 0.2738351821899414], [0.05793309211730957, 0.15521274507045746, 0.7868541479110718]], [[0.3224397599697113, 0.4144000709056854, 0.2631601393222809], [0.3256737291812897, 0.41536492109298706, 0.2589612901210785], [0.28301864862442017, 0.3593139350414276, 0.3576674461364746]], [[0.5895566344261169, 0.22269971668720245, 0.1877436637878418], [0.30660930275917053, 0.43669140338897705, 0.25669926404953003], [0.13616910576820374, 0.04102141410112381, 0.8228095173835754]], [[0.3832859694957733, 0.4218953251838684, 0.19481869041919708], [0.2768869400024414, 0.4709457457065582, 0.25216734409332275], [0.2396506518125534, 0.1668766885995865, 0.5934725999832153]], [[0.37259790301322937, 0.3646462559700012, 0.262755811214447], [0.37364649772644043, 0.3689076006412506, 0.25744593143463135], [0.38619133830070496, 0.35720741748809814, 0.2566012442111969]], [[0.45983579754829407, 0.38135433197021484, 0.1588098555803299], [0.256929486989975, 0.536157488822937, 0.206913024187088], [0.05659123882651329, 0.07991946488618851, 0.8634892106056213]], [[0.3282848298549652, 0.39747458696365356, 0.2742405831813812], [0.34128421545028687, 0.39578261971473694, 0.2629331946372986], [0.32089439034461975, 0.3756565451622009, 0.3034490942955017]], [[0.33441853523254395, 0.44066062569618225, 0.22492088377475739], [0.3098421096801758, 0.5186434984207153, 0.1715143620967865], [0.2558507025241852, 0.4195428788661957, 0.32460644841194153]], [[0.5034048557281494, 0.42121484875679016, 0.07538033276796341], [0.3599061965942383, 0.5072855949401855, 0.1328081637620926], [0.4242982864379883, 0.19854965806007385, 0.3771520256996155]], [[0.28322315216064453, 0.5273501873016357, 0.18942667543888092], [0.33494317531585693, 0.4459497332572937, 0.21910709142684937], [0.37766602635383606, 0.49697640538215637, 0.125357523560524]], [[0.5723404884338379, 0.3467459976673126, 0.0809134766459465], [0.3592786490917206, 0.5474804043769836, 0.09324094653129578], [0.31806179881095886, 0.19034931063652039, 0.49158892035484314]], [[0.3003138303756714, 0.31421157717704773, 0.3854745626449585], [0.27543091773986816, 0.46633103489875793, 0.2582380473613739], [0.09137348085641861, 0.18110592663288116, 0.7275205850601196]], [[0.3994690477848053, 0.37605172395706177, 0.22447924315929413], [0.15603673458099365, 0.6434462666511536, 0.20051702857017517], [0.0077108596451580524, 0.03650495037436485, 0.9557841420173645]], [[0.33436352014541626, 0.4030210077762604, 0.2626155614852905], [0.277534544467926, 0.4640069901943207, 0.2584584951400757], [0.18348480761051178, 0.22968007624149323, 0.5868350863456726]], [[0.20185096561908722, 0.17743633687496185, 0.6207126975059509], [0.2274196892976761, 0.22952359914779663, 0.5430567264556885], [0.17306220531463623, 0.14851833879947662, 0.6784194111824036]]], [[[0.31735849380493164, 0.12422604858875275, 0.558415412902832], [0.14240224659442902, 0.5308939218521118, 0.32670390605926514], [0.020963700488209724, 0.03645129129290581, 0.9425850510597229]], [[0.5747912526130676, 0.0008973685908131301, 0.42431142926216125], [3.0553659598808736e-05, 0.999725878238678, 0.00024364252749364823], [9.718761795340924e-09, 2.5244457901862916e-07, 0.9999997615814209]], [[0.3840460777282715, 0.31918951869010925, 0.29676440358161926], [0.3790552616119385, 0.3120894432067871, 0.308855265378952], [0.40062353014945984, 0.36625194549560547, 0.2331245094537735]], [[0.9999997615814209, 5.8319916007576467e-08, 2.463992530010728e-07], [1.451723619538825e-06, 0.9999899864196777, 8.541314855392557e-06], [2.5445851292715815e-07, 1.0921971771438166e-08, 0.9999997615814209]], [[0.3205699324607849, 0.49775055050849915, 0.18167948722839355], [0.31832951307296753, 0.5004230737686157, 0.18124736845493317], [0.31311407685279846, 0.4976964592933655, 0.18918947875499725]], [[0.29668277502059937, 0.29992103576660156, 0.40339621901512146], [0.29512250423431396, 0.29374295473098755, 0.4111345708370209], [0.2668116092681885, 0.31228309869766235, 0.4209052622318268]], [[0.37528789043426514, 0.1731632798910141, 0.4515487849712372], [0.3714979588985443, 0.1929774135351181, 0.4355246424674988], [0.33518186211586, 0.1428365856409073, 0.5219814777374268]], [[0.999976396560669, 1.2905663879791973e-06, 2.2257356249610893e-05], [0.0005552198272198439, 0.6429135203361511, 0.3565313220024109], [0.0008001358364708722, 3.801530468194869e-08, 0.9991998076438904]], [[0.31797802448272705, 0.4352802634239197, 0.24674172699451447], [0.28009894490242004, 0.46245911717414856, 0.2574419379234314], [0.27504652738571167, 0.28817319869995117, 0.43678033351898193]], [[0.9999208450317383, 5.446671025310934e-07, 7.85687007009983e-05], [8.946259185904637e-05, 0.9621672630310059, 0.03774329647421837], [0.00022682137205265462, 3.1369271624726025e-08, 0.9997732043266296]], [[0.30128732323646545, 0.451220840215683, 0.24749183654785156], [0.3001601994037628, 0.4638259708881378, 0.23601379990577698], [0.2853184938430786, 0.41445279121398926, 0.3002287447452545]], [[0.3837476670742035, 0.185055211186409, 0.43119707703590393], [0.09950606524944305, 0.8687499761581421, 0.031743962317705154], [0.010408224537968636, 0.1083085909485817, 0.8812832236289978]], [[0.5069061517715454, 0.24711160361766815, 0.24598228931427002], [0.2853076457977295, 0.5744863152503967, 0.14020603895187378], [0.16612613201141357, 0.15982350707054138, 0.6740503907203674]], [[0.8175063729286194, 0.1302172839641571, 0.052276384085416794], [0.196916863322258, 0.6968159079551697, 0.10626719146966934], [0.13527852296829224, 0.03552781045436859, 0.829193651676178]], [[0.3133009970188141, 0.35735899209976196, 0.32933998107910156], [0.3026679754257202, 0.4136154353618622, 0.28371661901474], [0.3040466606616974, 0.2731914520263672, 0.4227619469165802]], [[0.9996095299720764, 2.369244384681224e-06, 0.000388084416044876], [1.2147327197453706e-06, 0.9999889135360718, 9.87755811365787e-06], [5.65797075857688e-10, 4.5859707142881234e-09, 1.0]]], [[[0.25739485025405884, 0.4359573721885681, 0.30664774775505066], [0.2586795389652252, 0.4503666162490845, 0.2909538745880127], [0.22776426374912262, 0.40809935331344604, 0.36413636803627014]], [[0.36665159463882446, 0.31493058800697327, 0.31841781735420227], [0.3475903868675232, 0.3783542513847351, 0.2740553319454193], [0.2512652575969696, 0.26117604970932007, 0.4875587522983551]], [[0.3163203001022339, 0.3970908522605896, 0.2865888178348541], [0.306765615940094, 0.39504358172416687, 0.2981908321380615], [0.32482659816741943, 0.38798871636390686, 0.28718462586402893]], [[0.3117928206920624, 0.45373308658599854, 0.23447413742542267], [0.363988995552063, 0.3975752592086792, 0.238435760140419], [0.36958378553390503, 0.4358625113964081, 0.1945536881685257]], [[0.40120938420295715, 0.21151001751422882, 0.38728055357933044], [0.4278866946697235, 0.26721760630607605, 0.30489569902420044], [0.23274320363998413, 0.0835067480802536, 0.6837500333786011]], [[0.31994956731796265, 0.4180929660797119, 0.26195746660232544], [0.32012441754341125, 0.42333292961120605, 0.2565426230430603], [0.31370824575424194, 0.4542582929134369, 0.23203346133232117]], [[0.541875958442688, 0.22735661268234253, 0.23076742887496948], [0.36399292945861816, 0.4093124568462372, 0.22669470310211182], [0.22336114943027496, 0.1154724583029747, 0.6611663699150085]], [[0.22205336391925812, 0.12961532175540924, 0.6483312845230103], [0.23587654531002045, 0.18121962249279022, 0.5829038023948669], [0.11546602100133896, 0.07328370213508606, 0.8112502098083496]], [[0.5132110118865967, 0.2885519862174988, 0.19823698699474335], [0.31286314129829407, 0.4392513036727905, 0.2478855550289154], [0.2747862935066223, 0.14170750975608826, 0.583506166934967]], [[0.4618600904941559, 0.20010994374752045, 0.33802998065948486], [0.3213258683681488, 0.4157593548297882, 0.2629147469997406], [0.1193208321928978, 0.07629486173391342, 0.8043843507766724]], [[0.9373046159744263, 0.04500102251768112, 0.017694400623440742], [0.13145038485527039, 0.7131512761116028, 0.15539832413196564], [0.02648194320499897, 0.000690709741320461, 0.9728273749351501]], [[0.3643404245376587, 0.32984083890914917, 0.30581873655319214], [0.30934083461761475, 0.5216934084892273, 0.16896575689315796], [0.17126131057739258, 0.360249787569046, 0.4684889316558838]], [[0.7810376286506653, 0.031848497688770294, 0.18711388111114502], [0.26164233684539795, 0.7144821286201477, 0.023875555023550987], [0.004297445993870497, 0.005531794857233763, 0.9901707768440247]], [[0.3834720849990845, 0.332515150308609, 0.2840127646923065], [0.30260103940963745, 0.4140312671661377, 0.28336772322654724], [0.26197904348373413, 0.2581173777580261, 0.47990357875823975]], [[0.6802992224693298, 0.21598905324935913, 0.10371167212724686], [0.283952921628952, 0.44268882274627686, 0.2733582556247711], [0.24039073288440704, 0.037598200142383575, 0.7220110893249512]], [[0.522792398929596, 0.20148561894893646, 0.2757219672203064], [0.3260928988456726, 0.46749913692474365, 0.20640797913074493], [0.13773220777511597, 0.11572775989770889, 0.7465400099754333]]], [[[0.6461239457130432, 0.11816354840993881, 0.23571251332759857], [0.39986708760261536, 0.4239606261253357, 0.17617230117321014], [0.05039680004119873, 0.030680375173687935, 0.9189229011535645]], [[0.7423405647277832, 0.25112050771713257, 0.006538914050906897], [0.27995312213897705, 0.37583625316619873, 0.3442106544971466], [0.6787365674972534, 0.005435648374259472, 0.31582775712013245]], [[0.6219817996025085, 0.03720877319574356, 0.3408094644546509], [0.2944868206977844, 0.558271050453186, 0.14724208414554596], [0.002367881592363119, 0.0023658298887312412, 0.995266318321228]], [[0.5807023644447327, 0.21556304395198822, 0.20373453199863434], [0.31035321950912476, 0.47835177183151245, 0.211295023560524], [0.11872140318155289, 0.08327995240688324, 0.7979986667633057]], [[0.05726216360926628, 0.8689139485359192, 0.0738239511847496], [0.516867458820343, 0.4638908803462982, 0.019241608679294586], [0.023028604686260223, 0.974808931350708, 0.002162471879273653]], [[0.41558244824409485, 0.3417203724384308, 0.24269717931747437], [0.398366242647171, 0.35817471146583557, 0.2434590458869934], [0.39633840322494507, 0.3637844920158386, 0.23987704515457153]], [[0.11128046363592148, 0.15450234711170197, 0.7342172265052795], [0.37717124819755554, 0.603878378868103, 0.01895039901137352], [0.0036553307436406612, 0.8645383715629578, 0.13180623948574066]], [[0.941997766494751, 0.03819818049669266, 0.019803961738944054], [0.13892318308353424, 0.5586323142051697, 0.30244454741477966], [0.010992242954671383, 0.0002410438610240817, 0.9887667298316956]], [[0.6556257605552673, 0.0914006233215332, 0.25297364592552185], [0.3716084361076355, 0.4614903926849365, 0.1669011116027832], [0.03162746503949165, 0.02216627635061741, 0.946206271648407]], [[0.8954280614852905, 0.06136765703558922, 0.043204355984926224], [0.27198341488838196, 0.33104056119918823, 0.3969759941101074], [0.05376487225294113, 0.0013206714065745473, 0.9449145197868347]], [[0.4124520719051361, 0.33631443977355957, 0.25123342871665955], [0.37342047691345215, 0.38225892186164856, 0.2443205714225769], [0.3524300158023834, 0.3352113664150238, 0.31235867738723755]], [[0.3493190109729767, 0.3421696424484253, 0.30851131677627563], [0.35600078105926514, 0.33420222997665405, 0.3097970187664032], [0.32868286967277527, 0.3235282003879547, 0.34778892993927]], [[0.33464279770851135, 0.6338448524475098, 0.03151234611868858], [0.533180832862854, 0.3451869785785675, 0.12163224816322327], [0.7784702181816101, 0.19666588306427002, 0.02486395463347435]], [[0.58567214012146, 0.09180125594139099, 0.3225265145301819], [0.3678755760192871, 0.2843625247478485, 0.3477618992328644], [0.059726182371377945, 0.016895117238163948, 0.9233786463737488]], [[0.6295467019081116, 0.19150002300739288, 0.17895324528217316], [0.43799805641174316, 0.3468979299068451, 0.21510396897792816], [0.24623137712478638, 0.10527535527944565, 0.6484932899475098]], [[0.03540902957320213, 0.002190667437389493, 0.9624002575874329], [0.10872577130794525, 0.8671218752861023, 0.024152331054210663], [3.95646702600061e-06, 0.002137899398803711, 0.9978581070899963]]], [[[0.7541118264198303, 0.18748533725738525, 0.05840284749865532], [0.19648273289203644, 0.3231991231441498, 0.480318158864975], [0.33997076749801636, 0.014807886444032192, 0.6452213525772095]], [[0.46893811225891113, 0.2983485162258148, 0.23271331191062927], [0.4185466766357422, 0.43704351782798767, 0.14440974593162537], [0.2662602365016937, 0.35394757986068726, 0.3797922432422638]], [[0.5348363518714905, 0.27691590785980225, 0.18824775516986847], [0.36875638365745544, 0.4595887064933777, 0.1716548651456833], [0.32810676097869873, 0.22460025548934937, 0.44729289412498474]], [[0.3400937616825104, 0.48654478788375854, 0.17336149513721466], [0.37747079133987427, 0.4485163688659668, 0.17401278018951416], [0.3904619514942169, 0.44624271988868713, 0.16329535841941833]], [[0.2686919569969177, 0.5327016115188599, 0.1986064612865448], [0.3782426416873932, 0.40250590443611145, 0.21925145387649536], [0.38077178597450256, 0.4774700403213501, 0.14175823330879211]], [[0.5029515624046326, 0.3320099413394928, 0.16503851115703583], [0.36585599184036255, 0.43516844511032104, 0.19897563755512238], [0.34779930114746094, 0.21699893474578857, 0.4352017045021057]], [[0.3111909329891205, 0.11699233949184418, 0.5718166828155518], [0.36703574657440186, 0.5302318334579468, 0.10273240506649017], [0.03396092727780342, 0.23257948458194733, 0.7334595918655396]], [[0.5118850469589233, 0.1880083829164505, 0.30010661482810974], [0.3570534586906433, 0.35414040088653564, 0.2888062298297882], [0.2314860224723816, 0.09357377141714096, 0.6749402284622192]], [[0.39208829402923584, 0.4193015992641449, 0.18861016631126404], [0.3805043697357178, 0.43117350339889526, 0.18832211196422577], [0.3795612156391144, 0.38971400260925293, 0.2307247668504715]], [[0.6236265897750854, 0.28701284527778625, 0.08936058729887009], [0.3666781187057495, 0.42778390645980835, 0.20553797483444214], [0.5160266160964966, 0.11671531200408936, 0.3672580420970917]], [[0.33794644474983215, 0.5266925096511841, 0.13536106050014496], [0.3016437590122223, 0.28000208735466003, 0.4183541536331177], [0.6504011750221252, 0.1712356060743332, 0.17836320400238037]], [[0.371948778629303, 0.40948015451431274, 0.21857108175754547], [0.3701328635215759, 0.43066489696502686, 0.199202299118042], [0.3454553782939911, 0.3821476399898529, 0.27239692211151123]], [[0.30754444003105164, 0.48574429750442505, 0.20671121776103973], [0.39610791206359863, 0.4654845595359802, 0.13840755820274353], [0.266154944896698, 0.5821025371551514, 0.15174251794815063]], [[0.19005799293518066, 0.3117826581001282, 0.4981592893600464], [0.39544913172721863, 0.42781248688697815, 0.1767384260892868], [0.11999879032373428, 0.6539984941482544, 0.22600269317626953]], [[0.33194220066070557, 0.33025193214416504, 0.337805837392807], [0.3352786600589752, 0.34389665722846985, 0.32082462310791016], [0.3131408989429474, 0.29694923758506775, 0.3899097740650177]], [[0.35045117139816284, 0.5012829303741455, 0.14826588332653046], [0.34439074993133545, 0.5070357322692871, 0.14857347309589386], [0.34599143266677856, 0.49312520027160645, 0.16088330745697021]]], [[[0.3346306383609772, 0.42954888939857483, 0.2358204871416092], [0.33130931854248047, 0.44263193011283875, 0.2260587364435196], [0.3352110683917999, 0.40143775939941406, 0.263351172208786]], [[0.36544889211654663, 0.4447213411331177, 0.1898297518491745], [0.36592337489128113, 0.46005621552467346, 0.17402032017707825], [0.3665962815284729, 0.4097820818424225, 0.2236216515302658]], [[0.34267598390579224, 0.3769432306289673, 0.2803807258605957], [0.345351904630661, 0.4009251892566681, 0.2537229359149933], [0.3210052251815796, 0.33961021900177, 0.3393845558166504]], [[0.37163129448890686, 0.3727893829345703, 0.2555793821811676], [0.36795535683631897, 0.3817667067050934, 0.25027787685394287], [0.3649475574493408, 0.3540792465209961, 0.2809731364250183]], [[0.3532242774963379, 0.3842947781085968, 0.2624809741973877], [0.35557541251182556, 0.3935793340206146, 0.250845342874527], [0.3414008617401123, 0.3516966700553894, 0.3069024682044983]], [[0.3328667879104614, 0.4078023135662079, 0.2593308687210083], [0.3323579728603363, 0.42331311106681824, 0.24432890117168427], [0.32156699895858765, 0.3797236680984497, 0.29870927333831787]], [[0.3750351667404175, 0.3104744553565979, 0.31449034810066223], [0.38276705145835876, 0.32259032130241394, 0.2946425974369049], [0.35863620042800903, 0.2830333113670349, 0.35833054780960083]], [[0.34802889823913574, 0.4568266272544861, 0.1951444298028946], [0.3441636264324188, 0.46075886487960815, 0.19507747888565063], [0.34313681721687317, 0.43826258182525635, 0.21860060095787048]], [[0.32131287455558777, 0.4735877215862274, 0.20509937405586243], [0.31750330328941345, 0.47953546047210693, 0.20296116173267365], [0.3174212872982025, 0.4781636893749237, 0.20441506803035736]], [[0.33043262362480164, 0.4798513650894165, 0.18971604108810425], [0.32574695348739624, 0.49936363101005554, 0.17488935589790344], [0.3294754922389984, 0.458077073097229, 0.2124474197626114]], [[0.36102715134620667, 0.39849525690078735, 0.2404775619506836], [0.3662036657333374, 0.39667150378227234, 0.23712486028671265], [0.35447749495506287, 0.3812335431575775, 0.26428893208503723]], [[0.34296807646751404, 0.4385327696800232, 0.21849915385246277], [0.3433704674243927, 0.4528467655181885, 0.2037827968597412], [0.3302530348300934, 0.42571380734443665, 0.24403315782546997]], [[0.3747512698173523, 0.5464123487472534, 0.07883641868829727], [0.3631379306316376, 0.5656190514564514, 0.07124301046133041], [0.38704290986061096, 0.5043155550956726, 0.108641617000103]], [[0.3456275165081024, 0.3779936134815216, 0.276378870010376], [0.35064807534217834, 0.38824307918548584, 0.2611088752746582], [0.3248353600502014, 0.3449113368988037, 0.3302533030509949]], [[0.35554060339927673, 0.35571831464767456, 0.2887411415576935], [0.3611774146556854, 0.3732541799545288, 0.2655683755874634], [0.3521308898925781, 0.3425474762916565, 0.305321604013443]], [[0.38912633061408997, 0.41181617975234985, 0.19905754923820496], [0.3806181252002716, 0.42193612456321716, 0.19744578003883362], [0.3913067579269409, 0.3904576003551483, 0.21823568642139435]]], [[[0.32650917768478394, 0.43928778171539307, 0.234203040599823], [0.3246498107910156, 0.44196057319641113, 0.23338955640792847], [0.32717838883399963, 0.41598227620124817, 0.2568393051624298]], [[0.3187329173088074, 0.4051969647407532, 0.27607008814811707], [0.31813833117485046, 0.41449278593063354, 0.2673688530921936], [0.3134424388408661, 0.3889225423336029, 0.2976349890232086]], [[0.32727470993995667, 0.44629260897636414, 0.22643263638019562], [0.32601696252822876, 0.45071226358413696, 0.22327083349227905], [0.32833102345466614, 0.4291309416294098, 0.2425379604101181]], [[0.328628271818161, 0.4340055286884308, 0.2373661994934082], [0.32260391116142273, 0.44302913546562195, 0.23436696827411652], [0.3347981572151184, 0.41505545377731323, 0.25014638900756836]], [[0.3012637794017792, 0.35666197538375854, 0.34207433462142944], [0.299507200717926, 0.36584988236427307, 0.3346429169178009], [0.2955773174762726, 0.3367653787136078, 0.36765727400779724]], [[0.3438011705875397, 0.46951979398727417, 0.18667899072170258], [0.3447190225124359, 0.47444045543670654, 0.18084055185317993], [0.336835116147995, 0.4615054726600647, 0.2016593962907791]], [[0.29740068316459656, 0.41806021332740784, 0.284539133310318], [0.29817578196525574, 0.4236716032028198, 0.27815258502960205], [0.2900090217590332, 0.3922235369682312, 0.3177674412727356]], [[0.3436415493488312, 0.4333305060863495, 0.22302794456481934], [0.34211575984954834, 0.44333043694496155, 0.2145538330078125], [0.34770113229751587, 0.4116632342338562, 0.2406356930732727]], [[0.32967451214790344, 0.4335143268108368, 0.23681111633777618], [0.32971248030662537, 0.4372379779815674, 0.23304951190948486], [0.32651326060295105, 0.4102238416671753, 0.26326295733451843]], [[0.3123670816421509, 0.3870196044445038, 0.3006134033203125], [0.3137579560279846, 0.39020878076553345, 0.29603320360183716], [0.31046101450920105, 0.3775419592857361, 0.3119969964027405]], [[0.36615145206451416, 0.4138505756855011, 0.21999800205230713], [0.36465561389923096, 0.41910165548324585, 0.21624277532100677], [0.368883341550827, 0.4096761643886566, 0.22144043445587158]], [[0.3476114273071289, 0.4709165096282959, 0.18147209286689758], [0.3473949134349823, 0.47515058517456055, 0.17745447158813477], [0.3454587459564209, 0.46714699268341064, 0.18739426136016846]], [[0.36888715624809265, 0.4041089415550232, 0.22700388729572296], [0.36846694350242615, 0.4087945818901062, 0.22273847460746765], [0.3695334792137146, 0.3905348777770996, 0.23993167281150818]], [[0.3314164876937866, 0.48284271359443665, 0.1857408583164215], [0.33116716146469116, 0.4862988293170929, 0.18253397941589355], [0.3324563503265381, 0.4729878008365631, 0.19455590844154358]], [[0.35532906651496887, 0.4260048568248749, 0.2186661809682846], [0.35149940848350525, 0.43558764457702637, 0.2129129320383072], [0.36117860674858093, 0.4056375324726105, 0.2331838607788086]], [[0.34869131445884705, 0.3750930428504944, 0.27621567249298096], [0.35052868723869324, 0.3822031319141388, 0.26726824045181274], [0.34857165813446045, 0.3671956956386566, 0.28423258662223816]]], [[[0.3136599659919739, 0.3926953971385956, 0.2936446964740753], [0.3143194019794464, 0.3939041495323181, 0.2917764186859131], [0.30885249376296997, 0.38367947936058044, 0.3074679970741272]], [[0.33745670318603516, 0.4696270525455475, 0.19291622936725616], [0.3371710181236267, 0.47075921297073364, 0.19206973910331726], [0.3353315591812134, 0.47272732853889465, 0.19194114208221436]], [[0.33678150177001953, 0.38458701968193054, 0.2786315083503723], [0.33743900060653687, 0.3915180265903473, 0.27104300260543823], [0.33815011382102966, 0.3723832666873932, 0.28946664929389954]], [[0.36805593967437744, 0.4141365885734558, 0.21780747175216675], [0.3682499825954437, 0.41887593269348145, 0.2128741443157196], [0.36230725049972534, 0.3982044458389282, 0.23948830366134644]], [[0.33390116691589355, 0.35225194692611694, 0.3138469159603119], [0.3354474604129791, 0.3619310259819031, 0.3026215136051178], [0.32914960384368896, 0.33568376302719116, 0.33516666293144226]], [[0.3328826427459717, 0.42678335309028625, 0.24033400416374207], [0.33527061343193054, 0.43132197856903076, 0.2334073781967163], [0.330116868019104, 0.41085198521614075, 0.25903117656707764]], [[0.3341379463672638, 0.4212169349193573, 0.24464502930641174], [0.3343277871608734, 0.4305571913719177, 0.23511502146720886], [0.3313327133655548, 0.41108590364456177, 0.2575814127922058]], [[0.3303365409374237, 0.39655300974845886, 0.27311044931411743], [0.33261048793792725, 0.4040960967540741, 0.2632935047149658], [0.32609474658966064, 0.3961029350757599, 0.2778022885322571]], [[0.3491361737251282, 0.40952634811401367, 0.24133752286434174], [0.3473370671272278, 0.4175778925418854, 0.23508501052856445], [0.34589505195617676, 0.4054190516471863, 0.24868592619895935]], [[0.3299033045768738, 0.4028073847293854, 0.26728934049606323], [0.3291739225387573, 0.40574103593826294, 0.26508504152297974], [0.3302302062511444, 0.3956873416900635, 0.27408239245414734]], [[0.33022186160087585, 0.43139567971229553, 0.2383825033903122], [0.33012551069259644, 0.4377900958061218, 0.23208442330360413], [0.33003100752830505, 0.4140562415122986, 0.255912721157074]], [[0.3051542043685913, 0.3829093873500824, 0.3119364380836487], [0.3044479787349701, 0.3953602612018585, 0.3001917898654938], [0.29547202587127686, 0.38199126720428467, 0.3225366771221161]], [[0.35970667004585266, 0.3123469352722168, 0.32794639468193054], [0.358530730009079, 0.3174998164176941, 0.3239694833755493], [0.35777750611305237, 0.30471542477607727, 0.33750706911087036]], [[0.3093706965446472, 0.4174598753452301, 0.27316945791244507], [0.30891427397727966, 0.4215996265411377, 0.26948609948158264], [0.3071618974208832, 0.4078589379787445, 0.2849791944026947]], [[0.3456296920776367, 0.33739641308784485, 0.3169739544391632], [0.3441883623600006, 0.3363116383552551, 0.3194999694824219], [0.34539806842803955, 0.32825881242752075, 0.32634320855140686]], [[0.347947359085083, 0.3452099859714508, 0.3068426251411438], [0.3500838279724121, 0.35501232743263245, 0.29490387439727783], [0.3382062017917633, 0.334575355052948, 0.32721850275993347]]], [[[0.35048332810401917, 0.4320206940174103, 0.21749596297740936], [0.34991562366485596, 0.4367145001888275, 0.21336981654167175], [0.34959930181503296, 0.4210241734981537, 0.22937649488449097]], [[0.32254892587661743, 0.32428494095802307, 0.3531661927700043], [0.3217836618423462, 0.3298713266849518, 0.34834495186805725], [0.31979650259017944, 0.31674274802207947, 0.3634607493877411]], [[0.3226032853126526, 0.4660952389240265, 0.21130141615867615], [0.32047730684280396, 0.47447746992111206, 0.20504522323608398], [0.32279253005981445, 0.4512671232223511, 0.2259403020143509]], [[0.33366599678993225, 0.35156235098838806, 0.31477171182632446], [0.33676403760910034, 0.3553624451160431, 0.3078734874725342], [0.3334346413612366, 0.3567144274711609, 0.30985090136528015]], [[0.35066062211990356, 0.3585277795791626, 0.29081159830093384], [0.35003453493118286, 0.3580912947654724, 0.29187411069869995], [0.3511526882648468, 0.3521997630596161, 0.2966475486755371]], [[0.33618175983428955, 0.30272188782691956, 0.36109644174575806], [0.33514276146888733, 0.31219741702079773, 0.35265979170799255], [0.330728143453598, 0.28873786330223083, 0.38053399324417114]], [[0.330878347158432, 0.3651813566684723, 0.3039403259754181], [0.3312263786792755, 0.36653050780296326, 0.30224311351776123], [0.32786181569099426, 0.35612353682518005, 0.3160146176815033]], [[0.3248259425163269, 0.3905164897441864, 0.2846575975418091], [0.3266264796257019, 0.3896568715572357, 0.2837165892124176], [0.32458576560020447, 0.3881268799304962, 0.28728732466697693]], [[0.3361555337905884, 0.36063072085380554, 0.3032137155532837], [0.33736297488212585, 0.3676769435405731, 0.2949601113796234], [0.3350115716457367, 0.34990766644477844, 0.31508079171180725]], [[0.3295140564441681, 0.36220353841781616, 0.30828240513801575], [0.32920241355895996, 0.368567556142807, 0.30222997069358826], [0.32613834738731384, 0.3582482635974884, 0.31561344861984253]], [[0.3411118686199188, 0.4194413423538208, 0.2394467443227768], [0.34042710065841675, 0.42458271980285645, 0.2349901646375656], [0.34235015511512756, 0.4095275402069092, 0.24812228977680206]], [[0.33337143063545227, 0.3233373761177063, 0.34329116344451904], [0.33582037687301636, 0.33183643221855164, 0.3323431611061096], [0.3313896059989929, 0.31231769919395447, 0.3562926650047302]], [[0.36504927277565, 0.42210739850997925, 0.21284325420856476], [0.365070104598999, 0.422136127948761, 0.21279379725456238], [0.3631727397441864, 0.4079086482524872, 0.22891861200332642]], [[0.32003387808799744, 0.3364632725715637, 0.343502938747406], [0.3236062526702881, 0.3434491753578186, 0.3329445719718933], [0.31783556938171387, 0.3218787908554077, 0.36028558015823364]], [[0.31345808506011963, 0.39285528659820557, 0.2936866581439972], [0.3140559494495392, 0.3962215185165405, 0.2897225320339203], [0.3111562132835388, 0.3963935971260071, 0.2924501597881317]], [[0.3065253794193268, 0.439474880695343, 0.2539997398853302], [0.30661097168922424, 0.43995076417922974, 0.25343823432922363], [0.30480214953422546, 0.4285142123699188, 0.2666836380958557]]], [[[0.3777219355106354, 0.3995143175125122, 0.22276371717453003], [0.3761460781097412, 0.40819719433784485, 0.21565672755241394], [0.36874812841415405, 0.38352879881858826, 0.2477230578660965]], [[0.32737278938293457, 0.39123034477233887, 0.2813968062400818], [0.32624536752700806, 0.39430689811706543, 0.2794477641582489], [0.32761120796203613, 0.3879321813583374, 0.28445661067962646]], [[0.35010427236557007, 0.4395607113838196, 0.21033509075641632], [0.34935063123703003, 0.44676893949508667, 0.20388035476207733], [0.3466753661632538, 0.4236278831958771, 0.22969678044319153]], [[0.34874439239501953, 0.3016020655632019, 0.34965354204177856], [0.3481582999229431, 0.3024473786354065, 0.3493943214416504], [0.3438261151313782, 0.3066764771938324, 0.3494974672794342]], [[0.3557596206665039, 0.3909398019313812, 0.25330060720443726], [0.3534362316131592, 0.39239582419395447, 0.25416800379753113], [0.36199450492858887, 0.3851778507232666, 0.25282764434814453]], [[0.38140878081321716, 0.3180607855319977, 0.30053043365478516], [0.3818050026893616, 0.326794296503067, 0.2914007008075714], [0.3839401304721832, 0.3154348134994507, 0.3006250858306885]], [[0.32650044560432434, 0.3770500421524048, 0.2964495122432709], [0.32541966438293457, 0.378043532371521, 0.2965368330478668], [0.3204479515552521, 0.3619365096092224, 0.3176155388355255]], [[0.3255603611469269, 0.40492844581604004, 0.2695111334323883], [0.3275398015975952, 0.4142564535140991, 0.2582037150859833], [0.3178041875362396, 0.39739546179771423, 0.2848004400730133]], [[0.2965434789657593, 0.28445008397102356, 0.41900649666786194], [0.30138811469078064, 0.29252320528030396, 0.40608859062194824], [0.2960313856601715, 0.2816150486469269, 0.42235350608825684]], [[0.34981799125671387, 0.3882519006729126, 0.2619301378726959], [0.34766170382499695, 0.3895195424556732, 0.2628187835216522], [0.34604740142822266, 0.3834090530872345, 0.27054363489151]], [[0.3188698887825012, 0.39114126563072205, 0.2899888753890991], [0.3189550042152405, 0.3948303461074829, 0.2862147092819214], [0.3188718855381012, 0.3839523494243622, 0.297175794839859]], [[0.33534806966781616, 0.3395822048187256, 0.32506972551345825], [0.33582955598831177, 0.34091857075691223, 0.3232519030570984], [0.3284705877304077, 0.32715925574302673, 0.34437015652656555]], [[0.33109867572784424, 0.4554044306278229, 0.21349689364433289], [0.3292596638202667, 0.4634300768375397, 0.2073102444410324], [0.3318624198436737, 0.43963366746902466, 0.22850392758846283]], [[0.3211207985877991, 0.327565997838974, 0.3513132333755493], [0.3246801197528839, 0.33474496006965637, 0.3405749499797821], [0.31755995750427246, 0.3242064118385315, 0.35823360085487366]], [[0.32507023215293884, 0.39595258235931396, 0.2789772152900696], [0.3260895907878876, 0.4002338945865631, 0.2736765444278717], [0.3240605294704437, 0.39050522446632385, 0.28543421626091003]], [[0.312595009803772, 0.40308040380477905, 0.284324586391449], [0.3103433847427368, 0.4087212085723877, 0.2809354066848755], [0.3108559846878052, 0.39759427309036255, 0.2915496528148651]]], [[[0.35942769050598145, 0.39137887954711914, 0.2491934597492218], [0.3546545207500458, 0.39606472849845886, 0.24928073585033417], [0.3572407066822052, 0.38621753454208374, 0.2565416991710663]], [[0.31771308183670044, 0.3864085376262665, 0.2958783507347107], [0.32107624411582947, 0.39741864800453186, 0.28150513768196106], [0.3122212588787079, 0.36437514424324036, 0.32340365648269653]], [[0.35903897881507874, 0.3320387303829193, 0.30892235040664673], [0.35919955372810364, 0.3402276635169983, 0.3005727529525757], [0.36026835441589355, 0.32103005051612854, 0.3187016248703003]], [[0.34287071228027344, 0.33386170864105225, 0.32326754927635193], [0.34132540225982666, 0.34343764185905457, 0.3152369558811188], [0.33667895197868347, 0.3316657245159149, 0.33165526390075684]], [[0.3250907361507416, 0.3999645709991455, 0.2749447226524353], [0.32426249980926514, 0.40531614422798157, 0.2704213559627533], [0.3240501284599304, 0.386540025472641, 0.2894098460674286]], [[0.33923840522766113, 0.3172866702079773, 0.34347495436668396], [0.3387303948402405, 0.3213629424571991, 0.3399066627025604], [0.3339771032333374, 0.30937597155570984, 0.35664692521095276]], [[0.3424905836582184, 0.43514713644981384, 0.22236227989196777], [0.3406108617782593, 0.4384806156158447, 0.2209085375070572], [0.3373081684112549, 0.43592265248298645, 0.22676920890808105]], [[0.34955894947052, 0.3831513226032257, 0.2672896981239319], [0.3502718210220337, 0.38826245069503784, 0.26146578788757324], [0.3406010568141937, 0.3772246241569519, 0.28217437863349915]], [[0.23033247888088226, 0.2778133451938629, 0.49185416102409363], [0.2323436290025711, 0.29759347438812256, 0.47006285190582275], [0.22077389061450958, 0.24581754207611084, 0.5334086418151855]], [[0.37895268201828003, 0.3969496786594391, 0.2240976244211197], [0.37514448165893555, 0.40076228976249695, 0.22409319877624512], [0.38117870688438416, 0.3821578323841095, 0.23666344583034515]], [[0.3484833836555481, 0.43505871295928955, 0.21645791828632355], [0.3501753509044647, 0.4384511709213257, 0.2113734781742096], [0.34237393736839294, 0.4284100830554962, 0.22921594977378845]], [[0.3139674961566925, 0.2829262912273407, 0.40310612320899963], [0.31841883063316345, 0.2996672987937927, 0.3819138705730438], [0.3058739900588989, 0.2637123167514801, 0.43041375279426575]], [[0.33969926834106445, 0.3843483030796051, 0.27595239877700806], [0.3391452133655548, 0.4032755196094513, 0.25757932662963867], [0.33324387669563293, 0.3766685128211975, 0.2900876998901367]], [[0.3324469029903412, 0.36678239703178406, 0.30077072978019714], [0.3382132053375244, 0.3714102506637573, 0.29037660360336304], [0.32757997512817383, 0.3651403486728668, 0.30727967619895935]], [[0.3187388479709625, 0.3660295307636261, 0.315231591463089], [0.31663602590560913, 0.37109485268592834, 0.3122691810131073], [0.3127295672893524, 0.3570932149887085, 0.3301772475242615]], [[0.3307991027832031, 0.31630462408065796, 0.3528962731361389], [0.3336632549762726, 0.3407387137413025, 0.3255980908870697], [0.3173922896385193, 0.2845154106616974, 0.3980922996997833]]], [[[0.3528255224227905, 0.39682257175445557, 0.2503518760204315], [0.34950098395347595, 0.38636013865470886, 0.2641389071941376], [0.3527924418449402, 0.39564836025238037, 0.25155919790267944]], [[0.36642470955848694, 0.3665030002593994, 0.26707229018211365], [0.363584965467453, 0.3816509246826172, 0.2547641396522522], [0.3654493987560272, 0.3507544696331024, 0.28379619121551514]], [[0.40036913752555847, 0.37380164861679077, 0.22582919895648956], [0.4028068482875824, 0.37279951572418213, 0.22439363598823547], [0.38149556517601013, 0.3682839572429657, 0.25022047758102417]], [[0.3536784052848816, 0.30576133728027344, 0.3405602276325226], [0.35910236835479736, 0.31250184774398804, 0.3283957839012146], [0.3477410078048706, 0.3098830580711365, 0.34237590432167053]], [[0.36155396699905396, 0.3808249533176422, 0.25762107968330383], [0.3645704388618469, 0.38453322649002075, 0.25089630484580994], [0.35882577300071716, 0.3667847812175751, 0.2743894159793854]], [[0.3352246880531311, 0.5385991930961609, 0.126176118850708], [0.34457680583000183, 0.5325475335121155, 0.1228756457567215], [0.32820865511894226, 0.5227606296539307, 0.1490306854248047]], [[0.35833483934402466, 0.45674991607666016, 0.1849151998758316], [0.3635566234588623, 0.4588761329650879, 0.17756731808185577], [0.35279572010040283, 0.4451911151409149, 0.20201319456100464]], [[0.3520934283733368, 0.37149307131767273, 0.2764134705066681], [0.34728968143463135, 0.3614349067211151, 0.2912754416465759], [0.34803199768066406, 0.3576664924621582, 0.2943015992641449]], [[0.3822755813598633, 0.4631052017211914, 0.1546192318201065], [0.35961732268333435, 0.5042375326156616, 0.13614509999752045], [0.386003315448761, 0.4085126519203186, 0.20548398792743683]], [[0.15992970764636993, 0.2469157725572586, 0.5931544899940491], [0.15970972180366516, 0.265229195356369, 0.5750610828399658], [0.15449701249599457, 0.1829499453306198, 0.662553071975708]], [[0.3716108798980713, 0.45309674739837646, 0.17529229819774628], [0.35997307300567627, 0.46291112899780273, 0.1771157681941986], [0.376726895570755, 0.4226301312446594, 0.20064297318458557]], [[0.3756551444530487, 0.42176711559295654, 0.20257771015167236], [0.37756583094596863, 0.422152578830719, 0.20028156042099], [0.37347468733787537, 0.41333335638046265, 0.2131918966770172]], [[0.2943588197231293, 0.55634605884552, 0.14929504692554474], [0.27613869309425354, 0.5893537998199463, 0.13450753688812256], [0.3002334237098694, 0.5156385898590088, 0.18412788212299347]], [[0.4127751886844635, 0.4163944721221924, 0.17083042860031128], [0.41335394978523254, 0.42322736978530884, 0.16341863572597504], [0.3989216387271881, 0.4033677279949188, 0.19771061837673187]], [[0.3696049451828003, 0.3880895674228668, 0.24230548739433289], [0.36574918031692505, 0.3897399306297302, 0.24451085925102234], [0.36558082699775696, 0.3711661696434021, 0.26325294375419617]], [[0.3629741966724396, 0.5021234750747681, 0.13490235805511475], [0.35425031185150146, 0.5191740989685059, 0.12657567858695984], [0.3670054078102112, 0.47920700907707214, 0.15378756821155548]]], [[[0.36798620223999023, 0.3702320158481598, 0.26178178191185], [0.36240315437316895, 0.37561437487602234, 0.26198238134384155], [0.3714686930179596, 0.3496887981891632, 0.2788424789905548]], [[0.2830834686756134, 0.5620822906494141, 0.15483422577381134], [0.2880305349826813, 0.5631334781646729, 0.14883606135845184], [0.28301188349723816, 0.5411133766174316, 0.1758747696876526]], [[0.3499719500541687, 0.4164915382862091, 0.23353655636310577], [0.34979763627052307, 0.42764443159103394, 0.2225579023361206], [0.3539748787879944, 0.3978438675403595, 0.2481813281774521]], [[0.1863984316587448, 0.31683865189552307, 0.4967629909515381], [0.19587473571300507, 0.38757577538490295, 0.4165495038032532], [0.13675150275230408, 0.20817144215106964, 0.6550770998001099]], [[0.358310341835022, 0.3845505714416504, 0.25713908672332764], [0.35571521520614624, 0.38753074407577515, 0.2567541003227234], [0.3587104082107544, 0.37095221877098083, 0.27033740282058716]], [[0.2331303507089615, 0.6637675762176514, 0.10310211032629013], [0.22793565690517426, 0.6753652095794678, 0.09669911861419678], [0.24334703385829926, 0.6404154300689697, 0.1162375658750534]], [[0.2892671823501587, 0.4122104048728943, 0.29852235317230225], [0.29166001081466675, 0.43690839409828186, 0.27143165469169617], [0.2854679524898529, 0.3754173815250397, 0.3391147553920746]], [[0.314479798078537, 0.3740021586418152, 0.3115181028842926], [0.3085736334323883, 0.385042279958725, 0.30638405680656433], [0.31373757123947144, 0.344502329826355, 0.3417600989341736]], [[0.3841431438922882, 0.4710437059402466, 0.1448131948709488], [0.37832456827163696, 0.4828919768333435, 0.1387835144996643], [0.37772631645202637, 0.4634704291820526, 0.1588032841682434]], [[0.3561285734176636, 0.22982341051101685, 0.4140480160713196], [0.3589569628238678, 0.26561489701271057, 0.375428169965744], [0.32232898473739624, 0.17768912017345428, 0.4999818801879883]], [[0.3311132788658142, 0.39214545488357544, 0.27674126625061035], [0.33214572072029114, 0.42733851075172424, 0.24051573872566223], [0.3162883520126343, 0.35612910985946655, 0.32758253812789917]], [[0.3330729305744171, 0.5229748487472534, 0.1439521610736847], [0.32921817898750305, 0.5216069221496582, 0.14917491376399994], [0.3394193649291992, 0.5025621056556702, 0.15801846981048584]], [[0.40882807970046997, 0.14651291072368622, 0.444659024477005], [0.41179490089416504, 0.16029386222362518, 0.4279111623764038], [0.3877369165420532, 0.14203177392482758, 0.47023138403892517]], [[0.34113433957099915, 0.36685243248939514, 0.29201313853263855], [0.3396960198879242, 0.38087204098701477, 0.27943193912506104], [0.33844682574272156, 0.3624842166900635, 0.29906901717185974]], [[0.25409790873527527, 0.6639387011528015, 0.08196339756250381], [0.24488358199596405, 0.676716148853302, 0.07840023189783096], [0.2684241235256195, 0.6272636651992798, 0.10431219637393951]], [[0.3345051407814026, 0.49061712622642517, 0.17487770318984985], [0.3374589681625366, 0.4926997721195221, 0.1698412448167801], [0.3317704200744629, 0.4684351980686188, 0.19979439675807953]]], [[[0.2555921971797943, 0.5411655902862549, 0.20324213802814484], [0.25392693281173706, 0.5579681396484375, 0.18810488283634186], [0.26060211658477783, 0.5238745212554932, 0.21552340686321259]], [[0.29476431012153625, 0.6627215147018433, 0.04251418262720108], [0.2715160548686981, 0.6926136016845703, 0.03587036579847336], [0.31018945574760437, 0.6228797435760498, 0.06693083047866821]], [[0.32508009672164917, 0.43488577008247375, 0.24003414809703827], [0.32805755734443665, 0.44017213582992554, 0.23177021741867065], [0.3154270052909851, 0.4318346679210663, 0.25273823738098145]], [[0.3394636809825897, 0.4879548251628876, 0.17258146405220032], [0.3310815393924713, 0.5136412382125854, 0.15527723729610443], [0.3436230421066284, 0.45774757862091064, 0.19862940907478333]], [[0.2957213521003723, 0.46474894881248474, 0.23952971398830414], [0.28698137402534485, 0.4910011887550354, 0.22201742231845856], [0.30302131175994873, 0.44162142276763916, 0.25535720586776733]], [[0.3708668351173401, 0.4853423833847046, 0.14379087090492249], [0.3698580861091614, 0.4848399758338928, 0.14530198276042938], [0.36813977360725403, 0.49273446202278137, 0.1391257494688034]], [[0.37798282504081726, 0.5456808805465698, 0.0763363167643547], [0.3481637239456177, 0.5896652340888977, 0.062171004712581635], [0.4010917842388153, 0.4807596504688263, 0.11814849078655243]], [[0.3037753999233246, 0.5637247562408447, 0.1324998438358307], [0.3006599247455597, 0.5754095315933228, 0.12393059581518173], [0.31209975481033325, 0.5263954401016235, 0.1615048348903656]], [[0.3499120771884918, 0.5036096572875977, 0.14647828042507172], [0.3526851534843445, 0.5091696977615356, 0.1381451040506363], [0.32563233375549316, 0.5094390511512756, 0.16492867469787598]], [[0.3379673659801483, 0.5007028579711914, 0.16132986545562744], [0.3283054530620575, 0.510489821434021, 0.16120471060276031], [0.35337042808532715, 0.49008113145828247, 0.1565483957529068]], [[0.3420875072479248, 0.40209585428237915, 0.25581666827201843], [0.3327334523200989, 0.445212185382843, 0.22205428779125214], [0.32680416107177734, 0.3245431184768677, 0.34865278005599976]], [[0.40430960059165955, 0.5597801208496094, 0.03591025993227959], [0.3400985598564148, 0.6361456513404846, 0.023755785077810287], [0.48500534892082214, 0.42192521691322327, 0.09306944161653519]], [[0.40968140959739685, 0.23470894992351532, 0.35560962557792664], [0.4058450758457184, 0.3138599097728729, 0.2802950441837311], [0.34973371028900146, 0.166886106133461, 0.48338013887405396]], [[0.3024826645851135, 0.5124942660331726, 0.1850230097770691], [0.3036435544490814, 0.5317601561546326, 0.16459624469280243], [0.30284449458122253, 0.5015453696250916, 0.1956101804971695]], [[0.24768875539302826, 0.21294739842414856, 0.5393638014793396], [0.2586386799812317, 0.2533460855484009, 0.48801517486572266], [0.2124975025653839, 0.1652788668870926, 0.6222236752510071]], [[0.3176666796207428, 0.4114677608013153, 0.2708655893802643], [0.3203437328338623, 0.424358993768692, 0.25529730319976807], [0.3085275888442993, 0.38787922263145447, 0.30359312891960144]]], [[[0.31929972767829895, 0.468839168548584, 0.21186114847660065], [0.2977236807346344, 0.5620707273483276, 0.14020565152168274], [0.29272177815437317, 0.3641147315502167, 0.3431634306907654]], [[0.46520039439201355, 0.4530946612358093, 0.0817049890756607], [0.4334813058376312, 0.4883415400981903, 0.07817719876766205], [0.46686026453971863, 0.4235042333602905, 0.10963550209999084]], [[0.25136566162109375, 0.7100945115089417, 0.038539819419384], [0.23992690443992615, 0.7273147106170654, 0.032758310437202454], [0.27976542711257935, 0.6478303670883179, 0.0724041685461998]], [[0.39917051792144775, 0.43694716691970825, 0.16388222575187683], [0.3871585428714752, 0.4653755724430084, 0.14746585488319397], [0.37701159715652466, 0.42177173495292664, 0.2012166976928711]], [[0.42447343468666077, 0.3018265962600708, 0.27369993925094604], [0.3677673637866974, 0.45995521545410156, 0.17227739095687866], [0.3264400064945221, 0.15339967608451843, 0.5201603174209595]], [[0.4248952269554138, 0.38565054535865784, 0.18945418298244476], [0.3848114609718323, 0.47672584652900696, 0.13846264779567719], [0.3797606825828552, 0.2627347707748413, 0.3575045168399811]], [[0.3830537497997284, 0.3250060975551605, 0.2919401526451111], [0.376049280166626, 0.40529611706733704, 0.21865461766719818], [0.353598952293396, 0.2421017736196518, 0.4042993485927582]], [[0.3503827452659607, 0.4878845512866974, 0.1617327332496643], [0.32354193925857544, 0.5244937539100647, 0.15196433663368225], [0.36495256423950195, 0.4750179052352905, 0.1600296050310135]], [[0.09202022850513458, 0.844821035861969, 0.0631588026881218], [0.09341761469841003, 0.8418581485748291, 0.06472422182559967], [0.09130499511957169, 0.8348137736320496, 0.07388120144605637]], [[0.2235175520181656, 0.7246818542480469, 0.05180055648088455], [0.22982457280158997, 0.7181521654129028, 0.05202328786253929], [0.252455472946167, 0.6709591150283813, 0.07658538222312927]], [[0.24642731249332428, 0.46984022855758667, 0.28373241424560547], [0.2428896427154541, 0.5197780132293701, 0.23733234405517578], [0.2274504154920578, 0.39816969633102417, 0.37437984347343445]], [[0.1298067420721054, 0.06916848570108414, 0.8010247945785522], [0.16271308064460754, 0.12144763022661209, 0.7158392667770386], [0.09955316036939621, 0.04336262866854668, 0.8570842146873474]], [[0.18801355361938477, 0.7933880090713501, 0.01859845407307148], [0.18367727100849152, 0.7975389361381531, 0.018783777952194214], [0.1952487975358963, 0.7816509008407593, 0.02310023456811905]], [[0.6963401436805725, 0.20301096141338348, 0.10064888000488281], [0.636603832244873, 0.30490976572036743, 0.05848636478185654], [0.6912350058555603, 0.13746121525764465, 0.17130376398563385]], [[0.19497571885585785, 0.03624480217695236, 0.768779456615448], [0.27829912304878235, 0.09229782968759537, 0.6294030547142029], [0.11540388315916061, 0.014369937591254711, 0.8702262043952942]], [[0.3521045446395874, 0.560350239276886, 0.08754532784223557], [0.31705647706985474, 0.6111109256744385, 0.07183258980512619], [0.3722597360610962, 0.5073577761650085, 0.12038248777389526]]], [[[0.45347651839256287, 0.4596680998802185, 0.08685542643070221], [0.17946697771549225, 0.8031907081604004, 0.017342301085591316], [0.33101558685302734, 0.14960207045078278, 0.5193822979927063]], [[0.2938528060913086, 0.2865200638771057, 0.4196271300315857], [0.16872690618038177, 0.6972086429595947, 0.1340644359588623], [0.1924428790807724, 0.06458356976509094, 0.7429735064506531]], [[0.5865452289581299, 0.10735867917537689, 0.3060961365699768], [0.4115411937236786, 0.5044260621070862, 0.08403277397155762], [0.16426758468151093, 0.012342006899416447, 0.8233903646469116]], [[0.36223047971725464, 0.5050464868545532, 0.13272306323051453], [0.20997579395771027, 0.7378119230270386, 0.05221225321292877], [0.3866261839866638, 0.2807442843914032, 0.33262959122657776]], [[0.6981940269470215, 0.18143440783023834, 0.12037158012390137], [0.3727148473262787, 0.5925666689872742, 0.034718502312898636], [0.5194113850593567, 0.06733427196741104, 0.41325438022613525]], [[0.4342621862888336, 0.3113201856613159, 0.25441762804985046], [0.2469053715467453, 0.7099162340164185, 0.043178483843803406], [0.16262187063694, 0.05917908251285553, 0.7781990170478821]], [[0.16585184633731842, 0.5737007856369019, 0.26044735312461853], [0.097163625061512, 0.7870272397994995, 0.11580908298492432], [0.14529074728488922, 0.4414762258529663, 0.41323304176330566]], [[0.4059620499610901, 0.1181357204914093, 0.4759021997451782], [0.40929386019706726, 0.332645982503891, 0.25806012749671936], [0.24751056730747223, 0.04183207079768181, 0.7106573581695557]], [[0.21213875710964203, 0.191571906208992, 0.596289336681366], [0.22081343829631805, 0.5184513330459595, 0.26073524355888367], [0.08793552219867706, 0.045615170150995255, 0.8664493560791016]], [[0.23980139195919037, 0.680018424987793, 0.08018021285533905], [0.11414917558431625, 0.8592663407325745, 0.02658454142510891], [0.297411173582077, 0.47088101506233215, 0.23170779645442963]], [[0.1394248902797699, 0.7792182564735413, 0.08135684579610825], [0.08650286495685577, 0.8758569955825806, 0.03764009848237038], [0.13920244574546814, 0.6767465472221375, 0.18405099213123322]], [[0.3420895040035248, 0.4656638205051422, 0.1922466903924942], [0.13593290746212006, 0.8316940069198608, 0.032373011112213135], [0.1838565170764923, 0.10068324953317642, 0.7154602408409119]], [[0.23241692781448364, 0.22274838387966156, 0.5448347330093384], [0.15940597653388977, 0.6096754670143127, 0.23091863095760345], [0.16992658376693726, 0.09075750410556793, 0.739315927028656]], [[0.3225296437740326, 0.5479224324226379, 0.12954792380332947], [0.2249469757080078, 0.7162161469459534, 0.05883687734603882], [0.33819785714149475, 0.3591245412826538, 0.30267763137817383]], [[0.18492303788661957, 0.7185749411582947, 0.09650205075740814], [0.06438934803009033, 0.9158281087875366, 0.019782565534114838], [0.23832759261131287, 0.47133228182792664, 0.2903400659561157]], [[0.11977066099643707, 0.6656873822212219, 0.2145419865846634], [0.036960210651159286, 0.9333382248878479, 0.02970159240067005], [0.0761510506272316, 0.23134973645210266, 0.6924991607666016]]]], \"left_text\": [\"[CLS]\", \"[UNK]\", \"[SEP]\"], \"right_text\": [\"[CLS]\", \"[UNK]\", \"[SEP]\"]}], \"default_filter\": \"0\", \"root_div_id\": \"bertviz-936e4147cb134406a91bf3c1dc40c8be\", \"layer\": null, \"heads\": null, \"include_layers\": [0, 1, 2, 3, 4, 5, 6, 7, 8, 9, 10, 11, 12, 13, 14, 15, 16, 17, 18, 19, 20, 21, 22, 23, 24, 25, 26, 27, 28, 29]} is a template marker that is replaced by actual params.\n",
              "    const TEXT_SIZE = 15;\n",
              "    const BOXWIDTH = 110;\n",
              "    const BOXHEIGHT = 22.5;\n",
              "    const MATRIX_WIDTH = 115;\n",
              "    const CHECKBOX_SIZE = 20;\n",
              "    const TEXT_TOP = 30;\n",
              "\n",
              "    console.log(\"d3 version\", d3.version)\n",
              "    let headColors;\n",
              "    try {\n",
              "        headColors = d3.scaleOrdinal(d3.schemeCategory10);\n",
              "    } catch (err) {\n",
              "        console.log('Older d3 version')\n",
              "        headColors = d3.scale.category10();\n",
              "    }\n",
              "    let config = {};\n",
              "    initialize();\n",
              "    renderVis();\n",
              "\n",
              "    function initialize() {\n",
              "        config.attention = params['attention'];\n",
              "        config.filter = params['default_filter'];\n",
              "        config.rootDivId = params['root_div_id'];\n",
              "        config.nLayers = config.attention[config.filter]['attn'].length;\n",
              "        config.nHeads = config.attention[config.filter]['attn'][0].length;\n",
              "        config.layers = params['include_layers']\n",
              "\n",
              "        if (params['heads']) {\n",
              "            config.headVis = new Array(config.nHeads).fill(false);\n",
              "            params['heads'].forEach(x => config.headVis[x] = true);\n",
              "        } else {\n",
              "            config.headVis = new Array(config.nHeads).fill(true);\n",
              "        }\n",
              "        config.initialTextLength = config.attention[config.filter].right_text.length;\n",
              "        config.layer_seq = (params['layer'] == null ? 0 : config.layers.findIndex(layer => params['layer'] === layer));\n",
              "        config.layer = config.layers[config.layer_seq]\n",
              "\n",
              "        let layerEl = $(`#${config.rootDivId} #layer`);\n",
              "        for (const layer of config.layers) {\n",
              "            layerEl.append($(\"<option />\").val(layer).text(layer));\n",
              "        }\n",
              "        layerEl.val(config.layer).change();\n",
              "        layerEl.on('change', function (e) {\n",
              "            config.layer = +e.currentTarget.value;\n",
              "            config.layer_seq = config.layers.findIndex(layer => config.layer === layer);\n",
              "            renderVis();\n",
              "        });\n",
              "\n",
              "        $(`#${config.rootDivId} #filter`).on('change', function (e) {\n",
              "            config.filter = e.currentTarget.value;\n",
              "            renderVis();\n",
              "        });\n",
              "    }\n",
              "\n",
              "    function renderVis() {\n",
              "\n",
              "        // Load parameters\n",
              "        const attnData = config.attention[config.filter];\n",
              "        const leftText = attnData.left_text;\n",
              "        const rightText = attnData.right_text;\n",
              "\n",
              "        // Select attention for given layer\n",
              "        const layerAttention = attnData.attn[config.layer_seq];\n",
              "\n",
              "        // Clear vis\n",
              "        $(`#${config.rootDivId} #vis`).empty();\n",
              "\n",
              "        // Determine size of visualization\n",
              "        const height = Math.max(leftText.length, rightText.length) * BOXHEIGHT + TEXT_TOP;\n",
              "        const svg = d3.select(`#${config.rootDivId} #vis`)\n",
              "            .append('svg')\n",
              "            .attr(\"width\", \"100%\")\n",
              "            .attr(\"height\", height + \"px\");\n",
              "\n",
              "        // Display tokens on left and right side of visualization\n",
              "        renderText(svg, leftText, true, layerAttention, 0);\n",
              "        renderText(svg, rightText, false, layerAttention, MATRIX_WIDTH + BOXWIDTH);\n",
              "\n",
              "        // Render attention arcs\n",
              "        renderAttention(svg, layerAttention);\n",
              "\n",
              "        // Draw squares at top of visualization, one for each head\n",
              "        drawCheckboxes(0, svg, layerAttention);\n",
              "    }\n",
              "\n",
              "    function renderText(svg, text, isLeft, attention, leftPos) {\n",
              "\n",
              "        const textContainer = svg.append(\"svg:g\")\n",
              "            .attr(\"id\", isLeft ? \"left\" : \"right\");\n",
              "\n",
              "        // Add attention highlights superimposed over words\n",
              "        textContainer.append(\"g\")\n",
              "            .classed(\"attentionBoxes\", true)\n",
              "            .selectAll(\"g\")\n",
              "            .data(attention)\n",
              "            .enter()\n",
              "            .append(\"g\")\n",
              "            .attr(\"head-index\", (d, i) => i)\n",
              "            .selectAll(\"rect\")\n",
              "            .data(d => isLeft ? d : transpose(d)) // if right text, transpose attention to get right-to-left weights\n",
              "            .enter()\n",
              "            .append(\"rect\")\n",
              "            .attr(\"x\", function () {\n",
              "                var headIndex = +this.parentNode.getAttribute(\"head-index\");\n",
              "                return leftPos + boxOffsets(headIndex);\n",
              "            })\n",
              "            .attr(\"y\", (+1) * BOXHEIGHT)\n",
              "            .attr(\"width\", BOXWIDTH / activeHeads())\n",
              "            .attr(\"height\", BOXHEIGHT)\n",
              "            .attr(\"fill\", function () {\n",
              "                return headColors(+this.parentNode.getAttribute(\"head-index\"))\n",
              "            })\n",
              "            .style(\"opacity\", 0.0);\n",
              "\n",
              "        const tokenContainer = textContainer.append(\"g\").selectAll(\"g\")\n",
              "            .data(text)\n",
              "            .enter()\n",
              "            .append(\"g\");\n",
              "\n",
              "        // Add gray background that appears when hovering over text\n",
              "        tokenContainer.append(\"rect\")\n",
              "            .classed(\"background\", true)\n",
              "            .style(\"opacity\", 0.0)\n",
              "            .attr(\"fill\", \"lightgray\")\n",
              "            .attr(\"x\", leftPos)\n",
              "            .attr(\"y\", (d, i) => TEXT_TOP + i * BOXHEIGHT)\n",
              "            .attr(\"width\", BOXWIDTH)\n",
              "            .attr(\"height\", BOXHEIGHT);\n",
              "\n",
              "        // Add token text\n",
              "        const textEl = tokenContainer.append(\"text\")\n",
              "            .text(d => d)\n",
              "            .attr(\"font-size\", TEXT_SIZE + \"px\")\n",
              "            .style(\"cursor\", \"default\")\n",
              "            .style(\"-webkit-user-select\", \"none\")\n",
              "            .attr(\"x\", leftPos)\n",
              "            .attr(\"y\", (d, i) => TEXT_TOP + i * BOXHEIGHT);\n",
              "\n",
              "        if (isLeft) {\n",
              "            textEl.style(\"text-anchor\", \"end\")\n",
              "                .attr(\"dx\", BOXWIDTH - 0.5 * TEXT_SIZE)\n",
              "                .attr(\"dy\", TEXT_SIZE);\n",
              "        } else {\n",
              "            textEl.style(\"text-anchor\", \"start\")\n",
              "                .attr(\"dx\", +0.5 * TEXT_SIZE)\n",
              "                .attr(\"dy\", TEXT_SIZE);\n",
              "        }\n",
              "\n",
              "        tokenContainer.on(\"mouseover\", function (d, index) {\n",
              "\n",
              "            // Show gray background for moused-over token\n",
              "            textContainer.selectAll(\".background\")\n",
              "                .style(\"opacity\", (d, i) => i === index ? 1.0 : 0.0)\n",
              "\n",
              "            // Reset visibility attribute for any previously highlighted attention arcs\n",
              "            svg.select(\"#attention\")\n",
              "                .selectAll(\"line[visibility='visible']\")\n",
              "                .attr(\"visibility\", null)\n",
              "\n",
              "            // Hide group containing attention arcs\n",
              "            svg.select(\"#attention\").attr(\"visibility\", \"hidden\");\n",
              "\n",
              "            // Set to visible appropriate attention arcs to be highlighted\n",
              "            if (isLeft) {\n",
              "                svg.select(\"#attention\").selectAll(\"line[left-token-index='\" + index + \"']\").attr(\"visibility\", \"visible\");\n",
              "            } else {\n",
              "                svg.select(\"#attention\").selectAll(\"line[right-token-index='\" + index + \"']\").attr(\"visibility\", \"visible\");\n",
              "            }\n",
              "\n",
              "            // Update color boxes superimposed over tokens\n",
              "            const id = isLeft ? \"right\" : \"left\";\n",
              "            const leftPos = isLeft ? MATRIX_WIDTH + BOXWIDTH : 0;\n",
              "            svg.select(\"#\" + id)\n",
              "                .selectAll(\".attentionBoxes\")\n",
              "                .selectAll(\"g\")\n",
              "                .attr(\"head-index\", (d, i) => i)\n",
              "                .selectAll(\"rect\")\n",
              "                .attr(\"x\", function () {\n",
              "                    const headIndex = +this.parentNode.getAttribute(\"head-index\");\n",
              "                    return leftPos + boxOffsets(headIndex);\n",
              "                })\n",
              "                .attr(\"y\", (d, i) => TEXT_TOP + i * BOXHEIGHT)\n",
              "                .attr(\"width\", BOXWIDTH / activeHeads())\n",
              "                .attr(\"height\", BOXHEIGHT)\n",
              "                .style(\"opacity\", function (d) {\n",
              "                    const headIndex = +this.parentNode.getAttribute(\"head-index\");\n",
              "                    if (config.headVis[headIndex])\n",
              "                        if (d) {\n",
              "                            return d[index];\n",
              "                        } else {\n",
              "                            return 0.0;\n",
              "                        }\n",
              "                    else\n",
              "                        return 0.0;\n",
              "                });\n",
              "        });\n",
              "\n",
              "        textContainer.on(\"mouseleave\", function () {\n",
              "\n",
              "            // Unhighlight selected token\n",
              "            d3.select(this).selectAll(\".background\")\n",
              "                .style(\"opacity\", 0.0);\n",
              "\n",
              "            // Reset visibility attributes for previously selected lines\n",
              "            svg.select(\"#attention\")\n",
              "                .selectAll(\"line[visibility='visible']\")\n",
              "                .attr(\"visibility\", null) ;\n",
              "            svg.select(\"#attention\").attr(\"visibility\", \"visible\");\n",
              "\n",
              "            // Reset highlights superimposed over tokens\n",
              "            svg.selectAll(\".attentionBoxes\")\n",
              "                .selectAll(\"g\")\n",
              "                .selectAll(\"rect\")\n",
              "                .style(\"opacity\", 0.0);\n",
              "        });\n",
              "    }\n",
              "\n",
              "    function renderAttention(svg, attention) {\n",
              "\n",
              "        // Remove previous dom elements\n",
              "        svg.select(\"#attention\").remove();\n",
              "\n",
              "        // Add new elements\n",
              "        svg.append(\"g\")\n",
              "            .attr(\"id\", \"attention\") // Container for all attention arcs\n",
              "            .selectAll(\".headAttention\")\n",
              "            .data(attention)\n",
              "            .enter()\n",
              "            .append(\"g\")\n",
              "            .classed(\"headAttention\", true) // Group attention arcs by head\n",
              "            .attr(\"head-index\", (d, i) => i)\n",
              "            .selectAll(\".tokenAttention\")\n",
              "            .data(d => d)\n",
              "            .enter()\n",
              "            .append(\"g\")\n",
              "            .classed(\"tokenAttention\", true) // Group attention arcs by left token\n",
              "            .attr(\"left-token-index\", (d, i) => i)\n",
              "            .selectAll(\"line\")\n",
              "            .data(d => d)\n",
              "            .enter()\n",
              "            .append(\"line\")\n",
              "            .attr(\"x1\", BOXWIDTH)\n",
              "            .attr(\"y1\", function () {\n",
              "                const leftTokenIndex = +this.parentNode.getAttribute(\"left-token-index\")\n",
              "                return TEXT_TOP + leftTokenIndex * BOXHEIGHT + (BOXHEIGHT / 2)\n",
              "            })\n",
              "            .attr(\"x2\", BOXWIDTH + MATRIX_WIDTH)\n",
              "            .attr(\"y2\", (d, rightTokenIndex) => TEXT_TOP + rightTokenIndex * BOXHEIGHT + (BOXHEIGHT / 2))\n",
              "            .attr(\"stroke-width\", 2)\n",
              "            .attr(\"stroke\", function () {\n",
              "                const headIndex = +this.parentNode.parentNode.getAttribute(\"head-index\");\n",
              "                return headColors(headIndex)\n",
              "            })\n",
              "            .attr(\"left-token-index\", function () {\n",
              "                return +this.parentNode.getAttribute(\"left-token-index\")\n",
              "            })\n",
              "            .attr(\"right-token-index\", (d, i) => i)\n",
              "        ;\n",
              "        updateAttention(svg)\n",
              "    }\n",
              "\n",
              "    function updateAttention(svg) {\n",
              "        svg.select(\"#attention\")\n",
              "            .selectAll(\"line\")\n",
              "            .attr(\"stroke-opacity\", function (d) {\n",
              "                const headIndex = +this.parentNode.parentNode.getAttribute(\"head-index\");\n",
              "                // If head is selected\n",
              "                if (config.headVis[headIndex]) {\n",
              "                    // Set opacity to attention weight divided by number of active heads\n",
              "                    return d / activeHeads()\n",
              "                } else {\n",
              "                    return 0.0;\n",
              "                }\n",
              "            })\n",
              "    }\n",
              "\n",
              "    function boxOffsets(i) {\n",
              "        const numHeadsAbove = config.headVis.reduce(\n",
              "            function (acc, val, cur) {\n",
              "                return val && cur < i ? acc + 1 : acc;\n",
              "            }, 0);\n",
              "        return numHeadsAbove * (BOXWIDTH / activeHeads());\n",
              "    }\n",
              "\n",
              "    function activeHeads() {\n",
              "        return config.headVis.reduce(function (acc, val) {\n",
              "            return val ? acc + 1 : acc;\n",
              "        }, 0);\n",
              "    }\n",
              "\n",
              "    function drawCheckboxes(top, svg) {\n",
              "        const checkboxContainer = svg.append(\"g\");\n",
              "        const checkbox = checkboxContainer.selectAll(\"rect\")\n",
              "            .data(config.headVis)\n",
              "            .enter()\n",
              "            .append(\"rect\")\n",
              "            .attr(\"fill\", (d, i) => headColors(i))\n",
              "            .attr(\"x\", (d, i) => i * CHECKBOX_SIZE)\n",
              "            .attr(\"y\", top)\n",
              "            .attr(\"width\", CHECKBOX_SIZE)\n",
              "            .attr(\"height\", CHECKBOX_SIZE);\n",
              "\n",
              "        function updateCheckboxes() {\n",
              "            checkboxContainer.selectAll(\"rect\")\n",
              "                .data(config.headVis)\n",
              "                .attr(\"fill\", (d, i) => d ? headColors(i): lighten(headColors(i)));\n",
              "        }\n",
              "\n",
              "        updateCheckboxes();\n",
              "\n",
              "        checkbox.on(\"click\", function (d, i) {\n",
              "            if (config.headVis[i] && activeHeads() === 1) return;\n",
              "            config.headVis[i] = !config.headVis[i];\n",
              "            updateCheckboxes();\n",
              "            updateAttention(svg);\n",
              "        });\n",
              "\n",
              "        checkbox.on(\"dblclick\", function (d, i) {\n",
              "            // If we double click on the only active head then reset\n",
              "            if (config.headVis[i] && activeHeads() === 1) {\n",
              "                config.headVis = new Array(config.nHeads).fill(true);\n",
              "            } else {\n",
              "                config.headVis = new Array(config.nHeads).fill(false);\n",
              "                config.headVis[i] = true;\n",
              "            }\n",
              "            updateCheckboxes();\n",
              "            updateAttention(svg);\n",
              "        });\n",
              "    }\n",
              "\n",
              "    function lighten(color) {\n",
              "        const c = d3.hsl(color);\n",
              "        const increment = (1 - c.l) * 0.6;\n",
              "        c.l += increment;\n",
              "        c.s -= increment;\n",
              "        return c;\n",
              "    }\n",
              "\n",
              "    function transpose(mat) {\n",
              "        return mat[0].map(function (col, i) {\n",
              "            return mat.map(function (row) {\n",
              "                return row[i];\n",
              "            });\n",
              "        });\n",
              "    }\n",
              "\n",
              "});"
            ],
            "text/plain": [
              "<IPython.core.display.Javascript object>"
            ]
          },
          "metadata": {
            "tags": []
          }
        }
      ]
    },
    {
      "cell_type": "code",
      "metadata": {
        "id": "lqV_iKgCuI4q"
      },
      "source": [
        "##tokenizing\n",
        "def tokenize_function(examples):\n",
        "  for seq in examples['seq']:\n",
        "    examples['seq']=examples['seq'].replace(\"\", \" \")[1: -1]\n",
        "  return tokenizer(examples)\n",
        "#train['seq'] = train['seq'].map(tokenize_function)\n",
        "#train"
      ],
      "execution_count": null,
      "outputs": []
    },
    {
      "cell_type": "code",
      "metadata": {
        "id": "YB3eKjwApavm",
        "colab": {
          "base_uri": "https://localhost:8080/",
          "height": 169
        },
        "outputId": "d86775e8-b7f0-427a-cd52-90a3f37fa169"
      },
      "source": [
        "print(tokenized_datasets.get('train','validation')['seq'].replace(\"\", \" \")[1: -1])"
      ],
      "execution_count": null,
      "outputs": [
        {
          "output_type": "error",
          "ename": "AttributeError",
          "evalue": "ignored",
          "traceback": [
            "\u001b[0;31m---------------------------------------------------------------------------\u001b[0m",
            "\u001b[0;31mAttributeError\u001b[0m                            Traceback (most recent call last)",
            "\u001b[0;32m<ipython-input-37-d86be68aac0f>\u001b[0m in \u001b[0;36m<module>\u001b[0;34m()\u001b[0m\n\u001b[0;32m----> 1\u001b[0;31m \u001b[0mprint\u001b[0m\u001b[0;34m(\u001b[0m\u001b[0mtokenized_datasets\u001b[0m\u001b[0;34m.\u001b[0m\u001b[0mget\u001b[0m\u001b[0;34m(\u001b[0m\u001b[0;34m'train'\u001b[0m\u001b[0;34m,\u001b[0m\u001b[0;34m'validation'\u001b[0m\u001b[0;34m)\u001b[0m\u001b[0;34m[\u001b[0m\u001b[0;34m'seq'\u001b[0m\u001b[0;34m]\u001b[0m\u001b[0;34m.\u001b[0m\u001b[0mreplace\u001b[0m\u001b[0;34m(\u001b[0m\u001b[0;34m\"\"\u001b[0m\u001b[0;34m,\u001b[0m \u001b[0;34m\" \"\u001b[0m\u001b[0;34m)\u001b[0m\u001b[0;34m[\u001b[0m\u001b[0;36m1\u001b[0m\u001b[0;34m:\u001b[0m \u001b[0;34m-\u001b[0m\u001b[0;36m1\u001b[0m\u001b[0;34m]\u001b[0m\u001b[0;34m)\u001b[0m\u001b[0;34m\u001b[0m\u001b[0;34m\u001b[0m\u001b[0m\n\u001b[0m",
            "\u001b[0;31mAttributeError\u001b[0m: 'list' object has no attribute 'replace'"
          ]
        }
      ]
    },
    {
      "cell_type": "code",
      "metadata": {
        "colab": {
          "base_uri": "https://localhost:8080/",
          "height": 526
        },
        "id": "re0XzpkBj_HP",
        "outputId": "1c6f6359-658e-4487-f14c-ed00486c9047"
      },
      "source": [
        "validation['seq'] = validation['seq'].map(tokenize_function)\n",
        "validation"
      ],
      "execution_count": null,
      "outputs": [
        {
          "output_type": "stream",
          "text": [
            "/usr/local/lib/python3.7/dist-packages/ipykernel_launcher.py:1: SettingWithCopyWarning: \n",
            "A value is trying to be set on a copy of a slice from a DataFrame.\n",
            "Try using .loc[row_indexer,col_indexer] = value instead\n",
            "\n",
            "See the caveats in the documentation: https://pandas.pydata.org/pandas-docs/stable/user_guide/indexing.html#returning-a-view-versus-a-copy\n",
            "  \"\"\"Entry point for launching an IPython kernel.\n"
          ],
          "name": "stderr"
        },
        {
          "output_type": "execute_result",
          "data": {
            "text/html": [
              "<div>\n",
              "<style scoped>\n",
              "    .dataframe tbody tr th:only-of-type {\n",
              "        vertical-align: middle;\n",
              "    }\n",
              "\n",
              "    .dataframe tbody tr th {\n",
              "        vertical-align: top;\n",
              "    }\n",
              "\n",
              "    .dataframe thead th {\n",
              "        text-align: right;\n",
              "    }\n",
              "</style>\n",
              "<table border=\"1\" class=\"dataframe\">\n",
              "  <thead>\n",
              "    <tr style=\"text-align: right;\">\n",
              "      <th></th>\n",
              "      <th>seq</th>\n",
              "      <th>dp</th>\n",
              "    </tr>\n",
              "  </thead>\n",
              "  <tbody>\n",
              "    <tr>\n",
              "      <th>4020</th>\n",
              "      <td>[input_ids, token_type_ids, attention_mask]</td>\n",
              "      <td>0.0</td>\n",
              "    </tr>\n",
              "    <tr>\n",
              "      <th>1410</th>\n",
              "      <td>[input_ids, token_type_ids, attention_mask]</td>\n",
              "      <td>0.0</td>\n",
              "    </tr>\n",
              "    <tr>\n",
              "      <th>151</th>\n",
              "      <td>[input_ids, token_type_ids, attention_mask]</td>\n",
              "      <td>1.0</td>\n",
              "    </tr>\n",
              "    <tr>\n",
              "      <th>2628</th>\n",
              "      <td>[input_ids, token_type_ids, attention_mask]</td>\n",
              "      <td>0.0</td>\n",
              "    </tr>\n",
              "    <tr>\n",
              "      <th>1827</th>\n",
              "      <td>[input_ids, token_type_ids, attention_mask]</td>\n",
              "      <td>0.0</td>\n",
              "    </tr>\n",
              "    <tr>\n",
              "      <th>...</th>\n",
              "      <td>...</td>\n",
              "      <td>...</td>\n",
              "    </tr>\n",
              "    <tr>\n",
              "      <th>198</th>\n",
              "      <td>[input_ids, token_type_ids, attention_mask]</td>\n",
              "      <td>1.0</td>\n",
              "    </tr>\n",
              "    <tr>\n",
              "      <th>2539</th>\n",
              "      <td>[input_ids, token_type_ids, attention_mask]</td>\n",
              "      <td>0.0</td>\n",
              "    </tr>\n",
              "    <tr>\n",
              "      <th>54</th>\n",
              "      <td>[input_ids, token_type_ids, attention_mask]</td>\n",
              "      <td>1.0</td>\n",
              "    </tr>\n",
              "    <tr>\n",
              "      <th>19</th>\n",
              "      <td>[input_ids, token_type_ids, attention_mask]</td>\n",
              "      <td>1.0</td>\n",
              "    </tr>\n",
              "    <tr>\n",
              "      <th>85</th>\n",
              "      <td>[input_ids, token_type_ids, attention_mask]</td>\n",
              "      <td>1.0</td>\n",
              "    </tr>\n",
              "  </tbody>\n",
              "</table>\n",
              "<p>80 rows × 2 columns</p>\n",
              "</div>"
            ],
            "text/plain": [
              "                                              seq   dp\n",
              "4020  [input_ids, token_type_ids, attention_mask]  0.0\n",
              "1410  [input_ids, token_type_ids, attention_mask]  0.0\n",
              "151   [input_ids, token_type_ids, attention_mask]  1.0\n",
              "2628  [input_ids, token_type_ids, attention_mask]  0.0\n",
              "1827  [input_ids, token_type_ids, attention_mask]  0.0\n",
              "...                                           ...  ...\n",
              "198   [input_ids, token_type_ids, attention_mask]  1.0\n",
              "2539  [input_ids, token_type_ids, attention_mask]  0.0\n",
              "54    [input_ids, token_type_ids, attention_mask]  1.0\n",
              "19    [input_ids, token_type_ids, attention_mask]  1.0\n",
              "85    [input_ids, token_type_ids, attention_mask]  1.0\n",
              "\n",
              "[80 rows x 2 columns]"
            ]
          },
          "metadata": {
            "tags": []
          },
          "execution_count": 54
        }
      ]
    },
    {
      "cell_type": "code",
      "metadata": {
        "colab": {
          "base_uri": "https://localhost:8080/",
          "height": 419
        },
        "id": "WyZCLGKztJSq",
        "outputId": "99b9a608-ad25-4e08-d814-306d15783675"
      },
      "source": [
        "input_ids=[]\n",
        "token_type_ids=[]\n",
        "attention_mask=[]\n",
        "for row in train['seq']:\n",
        "  #print(row)\n",
        "  input_ids.append(row['input_ids'])\n",
        "  token_type_ids.append(row['token_type_ids'])\n",
        "  attention_mask.append(row['attention_mask'])\n",
        "train=train.assign(input_ids=input_ids)\n",
        "train=train.assign(token_type_ids=token_type_ids)\n",
        "train=train.assign(attention_mask=attention_mask)\n",
        "train"
      ],
      "execution_count": null,
      "outputs": [
        {
          "output_type": "execute_result",
          "data": {
            "text/html": [
              "<div>\n",
              "<style scoped>\n",
              "    .dataframe tbody tr th:only-of-type {\n",
              "        vertical-align: middle;\n",
              "    }\n",
              "\n",
              "    .dataframe tbody tr th {\n",
              "        vertical-align: top;\n",
              "    }\n",
              "\n",
              "    .dataframe thead th {\n",
              "        text-align: right;\n",
              "    }\n",
              "</style>\n",
              "<table border=\"1\" class=\"dataframe\">\n",
              "  <thead>\n",
              "    <tr style=\"text-align: right;\">\n",
              "      <th></th>\n",
              "      <th>seq</th>\n",
              "      <th>dp</th>\n",
              "      <th>input_ids</th>\n",
              "      <th>token_type_ids</th>\n",
              "      <th>attention_mask</th>\n",
              "    </tr>\n",
              "  </thead>\n",
              "  <tbody>\n",
              "    <tr>\n",
              "      <th>624</th>\n",
              "      <td>[input_ids, token_type_ids, attention_mask]</td>\n",
              "      <td>0.0</td>\n",
              "      <td>[2, 7, 10, 22, 21, 15, 9, 18, 9, 14, 8, 5, 6, ...</td>\n",
              "      <td>[0, 0, 0, 0, 0, 0, 0, 0, 0, 0, 0, 0, 0, 0, 0, ...</td>\n",
              "      <td>[1, 1, 1, 1, 1, 1, 1, 1, 1, 1, 1, 1, 1, 1, 1, ...</td>\n",
              "    </tr>\n",
              "    <tr>\n",
              "      <th>1772</th>\n",
              "      <td>[input_ids, token_type_ids, attention_mask]</td>\n",
              "      <td>0.0</td>\n",
              "      <td>[2, 21, 10, 22, 22, 24, 7, 20, 7, 12, 22, 17, ...</td>\n",
              "      <td>[0, 0, 0, 0, 0, 0, 0, 0, 0, 0, 0, 0, 0, 0, 0, ...</td>\n",
              "      <td>[1, 1, 1, 1, 1, 1, 1, 1, 1, 1, 1, 1, 1, 1, 1, ...</td>\n",
              "    </tr>\n",
              "    <tr>\n",
              "      <th>751</th>\n",
              "      <td>[input_ids, token_type_ids, attention_mask]</td>\n",
              "      <td>0.0</td>\n",
              "      <td>[2, 10, 11, 18, 12, 11, 24, 6, 13, 9, 11, 5, 1...</td>\n",
              "      <td>[0, 0, 0, 0, 0, 0, 0, 0, 0, 0, 0, 0, 0, 0, 0, ...</td>\n",
              "      <td>[1, 1, 1, 1, 1, 1, 1, 1, 1, 1, 1, 1, 1, 1, 1, ...</td>\n",
              "    </tr>\n",
              "    <tr>\n",
              "      <th>4</th>\n",
              "      <td>[input_ids, token_type_ids, attention_mask]</td>\n",
              "      <td>0.0</td>\n",
              "      <td>[2, 22, 21, 15, 8, 19, 13, 18, 9, 17, 8, 14, 1...</td>\n",
              "      <td>[0, 0, 0, 0, 0, 0, 0, 0, 0, 0, 0, 0, 0, 0, 0, ...</td>\n",
              "      <td>[1, 1, 1, 1, 1, 1, 1, 1, 1, 1, 1, 1, 1, 1, 1, ...</td>\n",
              "    </tr>\n",
              "    <tr>\n",
              "      <th>2368</th>\n",
              "      <td>[input_ids, token_type_ids, attention_mask]</td>\n",
              "      <td>0.0</td>\n",
              "      <td>[2, 7, 16, 5, 7, 10, 16, 9, 19, 21, 9, 17, 19,...</td>\n",
              "      <td>[0, 0, 0, 0, 0, 0, 0, 0, 0, 0, 0, 0, 0, 0, 0, ...</td>\n",
              "      <td>[1, 1, 1, 1, 1, 1, 1, 1, 1, 1, 1, 1, 1, 1, 1, ...</td>\n",
              "    </tr>\n",
              "    <tr>\n",
              "      <th>...</th>\n",
              "      <td>...</td>\n",
              "      <td>...</td>\n",
              "      <td>...</td>\n",
              "      <td>...</td>\n",
              "      <td>...</td>\n",
              "    </tr>\n",
              "    <tr>\n",
              "      <th>56</th>\n",
              "      <td>[input_ids, token_type_ids, attention_mask]</td>\n",
              "      <td>1.0</td>\n",
              "      <td>[2, 21, 6, 10, 9, 7, 16, 13, 9, 16, 9, 10, 9, ...</td>\n",
              "      <td>[0, 0, 0, 0, 0, 0, 0, 0, 0, 0, 0, 0, 0, 0, 0, ...</td>\n",
              "      <td>[1, 1, 1, 1, 1, 1, 1, 1, 1, 1, 1, 1, 1, 1, 1, ...</td>\n",
              "    </tr>\n",
              "    <tr>\n",
              "      <th>13</th>\n",
              "      <td>[input_ids, token_type_ids, attention_mask]</td>\n",
              "      <td>1.0</td>\n",
              "      <td>[2, 21, 9, 18, 13, 7, 18, 17, 6, 16, 6, 6, 10,...</td>\n",
              "      <td>[0, 0, 0, 0, 0, 0, 0, 0, 0, 0, 0, 0, 0, 0, 0, ...</td>\n",
              "      <td>[1, 1, 1, 1, 1, 1, 1, 1, 1, 1, 1, 1, 1, 1, 1, ...</td>\n",
              "    </tr>\n",
              "    <tr>\n",
              "      <th>110</th>\n",
              "      <td>[input_ids, token_type_ids, attention_mask]</td>\n",
              "      <td>1.0</td>\n",
              "      <td>[2, 21, 12, 9, 17, 8, 6, 10, 6, 15, 8, 19, 15,...</td>\n",
              "      <td>[0, 0, 0, 0, 0, 0, 0, 0, 0, 0, 0, 0, 0, 0, 0, ...</td>\n",
              "      <td>[1, 1, 1, 1, 1, 1, 1, 1, 1, 1, 1, 1, 1, 1, 1, ...</td>\n",
              "    </tr>\n",
              "    <tr>\n",
              "      <th>2073</th>\n",
              "      <td>[input_ids, token_type_ids, attention_mask]</td>\n",
              "      <td>0.0</td>\n",
              "      <td>[2, 21, 7, 10, 10, 22, 22, 22, 22, 22, 22, 10,...</td>\n",
              "      <td>[0, 0, 0, 0, 0, 0, 0, 0, 0, 0, 0, 0, 0, 0, 0, ...</td>\n",
              "      <td>[1, 1, 1, 1, 1, 1, 1, 1, 1, 1, 1, 1, 1, 1, 1, ...</td>\n",
              "    </tr>\n",
              "    <tr>\n",
              "      <th>3218</th>\n",
              "      <td>[input_ids, token_type_ids, attention_mask]</td>\n",
              "      <td>0.0</td>\n",
              "      <td>[2, 7, 10, 18, 9, 13, 16, 15, 19, 20, 13, 18, ...</td>\n",
              "      <td>[0, 0, 0, 0, 0, 0, 0, 0, 0, 0, 0, 0, 0, 0, 0, ...</td>\n",
              "      <td>[1, 1, 1, 1, 1, 1, 1, 1, 1, 1, 1, 1, 1, 1, 1, ...</td>\n",
              "    </tr>\n",
              "  </tbody>\n",
              "</table>\n",
              "<p>319 rows × 5 columns</p>\n",
              "</div>"
            ],
            "text/plain": [
              "                                              seq  ...                                     attention_mask\n",
              "624   [input_ids, token_type_ids, attention_mask]  ...  [1, 1, 1, 1, 1, 1, 1, 1, 1, 1, 1, 1, 1, 1, 1, ...\n",
              "1772  [input_ids, token_type_ids, attention_mask]  ...  [1, 1, 1, 1, 1, 1, 1, 1, 1, 1, 1, 1, 1, 1, 1, ...\n",
              "751   [input_ids, token_type_ids, attention_mask]  ...  [1, 1, 1, 1, 1, 1, 1, 1, 1, 1, 1, 1, 1, 1, 1, ...\n",
              "4     [input_ids, token_type_ids, attention_mask]  ...  [1, 1, 1, 1, 1, 1, 1, 1, 1, 1, 1, 1, 1, 1, 1, ...\n",
              "2368  [input_ids, token_type_ids, attention_mask]  ...  [1, 1, 1, 1, 1, 1, 1, 1, 1, 1, 1, 1, 1, 1, 1, ...\n",
              "...                                           ...  ...                                                ...\n",
              "56    [input_ids, token_type_ids, attention_mask]  ...  [1, 1, 1, 1, 1, 1, 1, 1, 1, 1, 1, 1, 1, 1, 1, ...\n",
              "13    [input_ids, token_type_ids, attention_mask]  ...  [1, 1, 1, 1, 1, 1, 1, 1, 1, 1, 1, 1, 1, 1, 1, ...\n",
              "110   [input_ids, token_type_ids, attention_mask]  ...  [1, 1, 1, 1, 1, 1, 1, 1, 1, 1, 1, 1, 1, 1, 1, ...\n",
              "2073  [input_ids, token_type_ids, attention_mask]  ...  [1, 1, 1, 1, 1, 1, 1, 1, 1, 1, 1, 1, 1, 1, 1, ...\n",
              "3218  [input_ids, token_type_ids, attention_mask]  ...  [1, 1, 1, 1, 1, 1, 1, 1, 1, 1, 1, 1, 1, 1, 1, ...\n",
              "\n",
              "[319 rows x 5 columns]"
            ]
          },
          "metadata": {
            "tags": []
          },
          "execution_count": 80
        }
      ]
    },
    {
      "cell_type": "code",
      "metadata": {
        "colab": {
          "base_uri": "https://localhost:8080/",
          "height": 419
        },
        "id": "shFiluXIxReN",
        "outputId": "eecbe63d-aef8-4698-c2f1-ed3cfb76f04a"
      },
      "source": [
        "input_ids=[]\n",
        "token_type_ids=[]\n",
        "attention_mask=[]\n",
        "for row in validation['seq']:\n",
        "  #print(row)\n",
        "  input_ids.append(row['input_ids'])\n",
        "  token_type_ids.append(row['token_type_ids'])\n",
        "  attention_mask.append(row['attention_mask'])\n",
        "validation=validation.assign(input_ids=input_ids)\n",
        "validation=validation.assign(token_type_ids=token_type_ids)\n",
        "validation=validation.assign(attention_mask=attention_mask)\n"
      ],
      "execution_count": null,
      "outputs": [
        {
          "output_type": "execute_result",
          "data": {
            "text/html": [
              "<div>\n",
              "<style scoped>\n",
              "    .dataframe tbody tr th:only-of-type {\n",
              "        vertical-align: middle;\n",
              "    }\n",
              "\n",
              "    .dataframe tbody tr th {\n",
              "        vertical-align: top;\n",
              "    }\n",
              "\n",
              "    .dataframe thead th {\n",
              "        text-align: right;\n",
              "    }\n",
              "</style>\n",
              "<table border=\"1\" class=\"dataframe\">\n",
              "  <thead>\n",
              "    <tr style=\"text-align: right;\">\n",
              "      <th></th>\n",
              "      <th>seq</th>\n",
              "      <th>dp</th>\n",
              "      <th>input_ids</th>\n",
              "      <th>token_type_ids</th>\n",
              "      <th>attention_mask</th>\n",
              "    </tr>\n",
              "  </thead>\n",
              "  <tbody>\n",
              "    <tr>\n",
              "      <th>4020</th>\n",
              "      <td>[input_ids, token_type_ids, attention_mask]</td>\n",
              "      <td>0.0</td>\n",
              "      <td>[2, 7, 16, 15, 7, 15, 7, 9, 10, 12, 23, 16, 5,...</td>\n",
              "      <td>[0, 0, 0, 0, 0, 0, 0, 0, 0, 0, 0, 0, 0, 0, 0, ...</td>\n",
              "      <td>[1, 1, 1, 1, 1, 1, 1, 1, 1, 1, 1, 1, 1, 1, 1, ...</td>\n",
              "    </tr>\n",
              "    <tr>\n",
              "      <th>1410</th>\n",
              "      <td>[input_ids, token_type_ids, attention_mask]</td>\n",
              "      <td>0.0</td>\n",
              "      <td>[2, 10, 21, 10, 8, 12, 12, 16, 12, 13, 14, 14,...</td>\n",
              "      <td>[0, 0, 0, 0, 0, 0, 0, 0, 0, 0, 0, 0, 0, 0, 0, ...</td>\n",
              "      <td>[1, 1, 1, 1, 1, 1, 1, 1, 1, 1, 1, 1, 1, 1, 1, ...</td>\n",
              "    </tr>\n",
              "    <tr>\n",
              "      <th>151</th>\n",
              "      <td>[input_ids, token_type_ids, attention_mask]</td>\n",
              "      <td>1.0</td>\n",
              "      <td>[2, 21, 15, 9, 5, 12, 6, 12, 7, 16, 13, 6, 16,...</td>\n",
              "      <td>[0, 0, 0, 0, 0, 0, 0, 0, 0, 0, 0, 0, 0, 0, 0, ...</td>\n",
              "      <td>[1, 1, 1, 1, 1, 1, 1, 1, 1, 1, 1, 1, 1, 1, 1, ...</td>\n",
              "    </tr>\n",
              "    <tr>\n",
              "      <th>2628</th>\n",
              "      <td>[input_ids, token_type_ids, attention_mask]</td>\n",
              "      <td>0.0</td>\n",
              "      <td>[2, 10, 21, 17, 16, 16, 16, 16, 9, 15, 10, 17,...</td>\n",
              "      <td>[0, 0, 0, 0, 0, 0, 0, 0, 0, 0, 0, 0, 0, 0, 0, ...</td>\n",
              "      <td>[1, 1, 1, 1, 1, 1, 1, 1, 1, 1, 1, 1, 1, 1, 1, ...</td>\n",
              "    </tr>\n",
              "    <tr>\n",
              "      <th>1827</th>\n",
              "      <td>[input_ids, token_type_ids, attention_mask]</td>\n",
              "      <td>0.0</td>\n",
              "      <td>[2, 21, 6, 14, 9, 9, 12, 5, 16, 16, 7, 24, 9, ...</td>\n",
              "      <td>[0, 0, 0, 0, 0, 0, 0, 0, 0, 0, 0, 0, 0, 0, 0, ...</td>\n",
              "      <td>[1, 1, 1, 1, 1, 1, 1, 1, 1, 1, 1, 1, 1, 1, 1, ...</td>\n",
              "    </tr>\n",
              "    <tr>\n",
              "      <th>...</th>\n",
              "      <td>...</td>\n",
              "      <td>...</td>\n",
              "      <td>...</td>\n",
              "      <td>...</td>\n",
              "      <td>...</td>\n",
              "    </tr>\n",
              "    <tr>\n",
              "      <th>198</th>\n",
              "      <td>[input_ids, token_type_ids, attention_mask]</td>\n",
              "      <td>1.0</td>\n",
              "      <td>[2, 21, 7, 11, 9, 5, 5, 23, 5, 19, 19, 5, 19, ...</td>\n",
              "      <td>[0, 0, 0, 0, 0, 0, 0, 0, 0, 0, 0, 0, 0, 0, 0, ...</td>\n",
              "      <td>[1, 1, 1, 1, 1, 1, 1, 1, 1, 1, 1, 1, 1, 1, 1, ...</td>\n",
              "    </tr>\n",
              "    <tr>\n",
              "      <th>2539</th>\n",
              "      <td>[input_ids, token_type_ids, attention_mask]</td>\n",
              "      <td>0.0</td>\n",
              "      <td>[2, 15, 13, 12, 15, 20, 15, 5, 15, 14, 20, 5, ...</td>\n",
              "      <td>[0, 0, 0, 0, 0, 0, 0, 0, 0, 0, 0, 0, 0, 0, 0, ...</td>\n",
              "      <td>[1, 1, 1, 1, 1, 1, 1, 1, 1, 1, 1, 1, 1, 1, 1, ...</td>\n",
              "    </tr>\n",
              "    <tr>\n",
              "      <th>54</th>\n",
              "      <td>[input_ids, token_type_ids, attention_mask]</td>\n",
              "      <td>1.0</td>\n",
              "      <td>[2, 21, 12, 6, 12, 13, 10, 22, 18, 6, 8, 11, 2...</td>\n",
              "      <td>[0, 0, 0, 0, 0, 0, 0, 0, 0, 0, 0, 0, 0, 0, 0, ...</td>\n",
              "      <td>[1, 1, 1, 1, 1, 1, 1, 1, 1, 1, 1, 1, 1, 1, 1, ...</td>\n",
              "    </tr>\n",
              "    <tr>\n",
              "      <th>19</th>\n",
              "      <td>[input_ids, token_type_ids, attention_mask]</td>\n",
              "      <td>1.0</td>\n",
              "      <td>[2, 21, 14, 5, 24, 18, 5, 5, 5, 15, 5, 6, 5, 6...</td>\n",
              "      <td>[0, 0, 0, 0, 0, 0, 0, 0, 0, 0, 0, 0, 0, 0, 0, ...</td>\n",
              "      <td>[1, 1, 1, 1, 1, 1, 1, 1, 1, 1, 1, 1, 1, 1, 1, ...</td>\n",
              "    </tr>\n",
              "    <tr>\n",
              "      <th>85</th>\n",
              "      <td>[input_ids, token_type_ids, attention_mask]</td>\n",
              "      <td>1.0</td>\n",
              "      <td>[2, 21, 9, 6, 9, 17, 6, 7, 10, 20, 10, 5, 18, ...</td>\n",
              "      <td>[0, 0, 0, 0, 0, 0, 0, 0, 0, 0, 0, 0, 0, 0, 0, ...</td>\n",
              "      <td>[1, 1, 1, 1, 1, 1, 1, 1, 1, 1, 1, 1, 1, 1, 1, ...</td>\n",
              "    </tr>\n",
              "  </tbody>\n",
              "</table>\n",
              "<p>80 rows × 5 columns</p>\n",
              "</div>"
            ],
            "text/plain": [
              "                                              seq  ...                                     attention_mask\n",
              "4020  [input_ids, token_type_ids, attention_mask]  ...  [1, 1, 1, 1, 1, 1, 1, 1, 1, 1, 1, 1, 1, 1, 1, ...\n",
              "1410  [input_ids, token_type_ids, attention_mask]  ...  [1, 1, 1, 1, 1, 1, 1, 1, 1, 1, 1, 1, 1, 1, 1, ...\n",
              "151   [input_ids, token_type_ids, attention_mask]  ...  [1, 1, 1, 1, 1, 1, 1, 1, 1, 1, 1, 1, 1, 1, 1, ...\n",
              "2628  [input_ids, token_type_ids, attention_mask]  ...  [1, 1, 1, 1, 1, 1, 1, 1, 1, 1, 1, 1, 1, 1, 1, ...\n",
              "1827  [input_ids, token_type_ids, attention_mask]  ...  [1, 1, 1, 1, 1, 1, 1, 1, 1, 1, 1, 1, 1, 1, 1, ...\n",
              "...                                           ...  ...                                                ...\n",
              "198   [input_ids, token_type_ids, attention_mask]  ...  [1, 1, 1, 1, 1, 1, 1, 1, 1, 1, 1, 1, 1, 1, 1, ...\n",
              "2539  [input_ids, token_type_ids, attention_mask]  ...  [1, 1, 1, 1, 1, 1, 1, 1, 1, 1, 1, 1, 1, 1, 1, ...\n",
              "54    [input_ids, token_type_ids, attention_mask]  ...  [1, 1, 1, 1, 1, 1, 1, 1, 1, 1, 1, 1, 1, 1, 1, ...\n",
              "19    [input_ids, token_type_ids, attention_mask]  ...  [1, 1, 1, 1, 1, 1, 1, 1, 1, 1, 1, 1, 1, 1, 1, ...\n",
              "85    [input_ids, token_type_ids, attention_mask]  ...  [1, 1, 1, 1, 1, 1, 1, 1, 1, 1, 1, 1, 1, 1, 1, ...\n",
              "\n",
              "[80 rows x 5 columns]"
            ]
          },
          "metadata": {
            "tags": []
          },
          "execution_count": 82
        }
      ]
    },
    {
      "cell_type": "code",
      "metadata": {
        "id": "WKiHdNS3wlQO"
      },
      "source": [
        "validation=validation.drop(columns=['seq'])\n",
        "\n",
        "train=train.drop(columns=['seq'])"
      ],
      "execution_count": null,
      "outputs": []
    },
    {
      "cell_type": "code",
      "metadata": {
        "id": "hF-t0MvmmA4k"
      },
      "source": [
        "train.to_csv('/content/drive/My Drive/idp_pttrain_data.csv')\n",
        "validation.to_csv('/content/drive/My Drive/idp_ptvalid_data.csv')"
      ],
      "execution_count": null,
      "outputs": []
    },
    {
      "cell_type": "code",
      "metadata": {
        "colab": {
          "base_uri": "https://localhost:8080/"
        },
        "id": "OC_0GQU-v7NI",
        "outputId": "baf4663e-ba0c-4213-839b-1917474c51a8"
      },
      "source": [
        "block_size = tokenizer.model_max_length\n",
        "block_size"
      ],
      "execution_count": null,
      "outputs": [
        {
          "output_type": "execute_result",
          "data": {
            "text/plain": [
              "1000000000000000019884624838656"
            ]
          },
          "metadata": {
            "tags": []
          },
          "execution_count": 12
        }
      ]
    },
    {
      "cell_type": "code",
      "metadata": {
        "colab": {
          "base_uri": "https://localhost:8080/",
          "height": 89,
          "referenced_widgets": [
            "66c3e16383c7405a837df2f85f4829a2",
            "fc5b284324d04cd0885061ca5d22eecb",
            "e57083c242454dd9a132adc186c4172a",
            "614e3c5dc1d14e2492475e8eab647d13",
            "368da2644efa4f62b6726950f3baf50b",
            "c7e8d1f15a7d4fa3ae24acf996ddb511",
            "6b552448223846fcb4744e3399f669d7",
            "08cdbcbb959c4d0a960167a5e44dfae2",
            "b94303c408f94a088955b37c10f46627",
            "63d1bd253cc44380b6a33a69d8589edd",
            "3e88e15d952c453cbf401eb7bc9dc976",
            "e342c3ef4f8245e58d8506dff6476ea4",
            "1df20c489cb74030ab85f773254e46ad",
            "084f58ee47e648e296acf188e5717988",
            "7af4e90ed8404a749877b47d05704320",
            "62dd358e20d8426ab7649f58c003255a"
          ]
        },
        "id": "V6k-aModk5iU",
        "outputId": "b9e554a6-33e2-4c2e-95a1-0921fb7808c5"
      },
      "source": [
        "from datasets import load_dataset\n",
        "tokenized_datasets = load_dataset(\"csv\", data_files={\"train\":'/content/drive/My Drive/idp_pttrain_data.csv', \"validation\": '/content/drive/My Drive/idp_ptvalid_data.csv'})"
      ],
      "execution_count": null,
      "outputs": [
        {
          "output_type": "stream",
          "text": [
            "Using custom data configuration default-6ca2034700bcb19c\n"
          ],
          "name": "stderr"
        },
        {
          "output_type": "stream",
          "text": [
            "Downloading and preparing dataset csv/default (download: Unknown size, generated: Unknown size, post-processed: Unknown size, total: Unknown size) to /root/.cache/huggingface/datasets/csv/default-6ca2034700bcb19c/0.0.0/9144e0a4e8435090117cea53e6c7537173ef2304525df4a077c435d8ee7828ff...\n"
          ],
          "name": "stdout"
        },
        {
          "output_type": "display_data",
          "data": {
            "application/vnd.jupyter.widget-view+json": {
              "model_id": "66c3e16383c7405a837df2f85f4829a2",
              "version_minor": 0,
              "version_major": 2
            },
            "text/plain": [
              "HBox(children=(FloatProgress(value=1.0, bar_style='info', max=1.0), HTML(value='')))"
            ]
          },
          "metadata": {
            "tags": []
          }
        },
        {
          "output_type": "display_data",
          "data": {
            "application/vnd.jupyter.widget-view+json": {
              "model_id": "b94303c408f94a088955b37c10f46627",
              "version_minor": 0,
              "version_major": 2
            },
            "text/plain": [
              "HBox(children=(FloatProgress(value=1.0, bar_style='info', max=1.0), HTML(value='')))"
            ]
          },
          "metadata": {
            "tags": []
          }
        },
        {
          "output_type": "stream",
          "text": [
            "Dataset csv downloaded and prepared to /root/.cache/huggingface/datasets/csv/default-6ca2034700bcb19c/0.0.0/9144e0a4e8435090117cea53e6c7537173ef2304525df4a077c435d8ee7828ff. Subsequent calls will reuse this data.\n"
          ],
          "name": "stdout"
        }
      ]
    },
    {
      "cell_type": "code",
      "metadata": {
        "colab": {
          "base_uri": "https://localhost:8080/"
        },
        "id": "h0vKUjUyz9cN",
        "outputId": "95c7bf6b-c56b-48a3-9763-d3e4e52a4ced"
      },
      "source": [
        "tokenized_datasets.get('train','validation')[0]"
      ],
      "execution_count": null,
      "outputs": [
        {
          "output_type": "execute_result",
          "data": {
            "text/plain": [
              "{'Unnamed: 0': 94,\n",
              " 'Unnamed: 0.1': 94,\n",
              " 'dp': 1.0,\n",
              " 'seq': ' M A A S T A S H R P I K G I L K N K T S T T S S M V A S A E Q P R G N V D E E L S K K S Q K W D E M N I L A T Y H P A D K D Y G L M K I D E P S T P Y H S M M G D D E D A C S D T E A T E A M A P D I L A R K L A A A E G L E P K Y R I Q E Q E S S G E E D S D L S P E E R E K K R Q F E M K R K L H Y N E G L N I K L A R Q L I S K D L H D D D E D E E M L E T A D G E S M N T E E S N Q G S T P S D Q Q Q N K L R S S '}"
            ]
          },
          "metadata": {
            "tags": []
          },
          "execution_count": 71
        }
      ]
    },
    {
      "cell_type": "code",
      "metadata": {
        "id": "2ryckySZm6GG"
      },
      "source": [
        "from transformers import LineByLineTextDataset"
      ],
      "execution_count": null,
      "outputs": []
    },
    {
      "cell_type": "code",
      "metadata": {
        "id": "xajO7SIxnMaA"
      },
      "source": [
        "def tokenize_function(examples):\n",
        "    return tokenizer(examples[\"seq\"],truncation=True,padding=\"max_length\")"
      ],
      "execution_count": null,
      "outputs": []
    },
    {
      "cell_type": "code",
      "metadata": {
        "colab": {
          "base_uri": "https://localhost:8080/",
          "height": 587,
          "referenced_widgets": [
            "59de12381df04d5f83218d05df339bb8",
            "8befa5fef9474e4d94ca4a7afaee14ac",
            "94d6d131cdf94bada5b3ac83fd5fa333",
            "42a0afdd29624071a1997997e6213bf5",
            "052327e84e3947b2bcc178e5fa1f7c6d",
            "af53007f96b047eda238511e54b810b0",
            "6596dbb064e44fc2a3cbb82e0f633bd1",
            "b681ed6c45034a5f81be7d926cb6a044",
            "72fc4c31d3514af39c71ef3f8ae4072a",
            "0cfaf39749024ecd84da9228b432b327",
            "1ff9a370f84546e1b9e82a30ec5b5e9f",
            "add78aacdb674540b5fc1bdce3c0378a",
            "5af0cdf98be741fa8c1ba7d0d10b11d9",
            "dcc9c729e0b24cd4a54b923ac08c9ee5",
            "38134334a2784feaa2eecc7d943ba4aa",
            "1b6b6751242b4ce2ac818027796f509d",
            "d6eaf5de97eb4a51b7feeaa1872c5517",
            "506742063f0a4993bc35c97de55534ef",
            "d12fad3d1cb445538f24ea749eebb98a",
            "f647e340ea1b481fb0cf233bee59c322",
            "0437326d95cb4f738eda2b7551aa8cc9",
            "f1449c36ef624be48942e70e80629e5f",
            "04fea7076b4b4dd1af29b66e96739c62",
            "03ee24afd25b4d4dab145d06ad2dbbf8",
            "2fe6e270c43f401aa74ec8e57ff4b269",
            "a006ef01e04c4a699b6f60903c7148fa",
            "e5617550d0d74428906bbe8234bd2269",
            "3ca47c42be384f94886de44a79bb4037",
            "a3dfc203dbd74bb9b216f4a69e2f5009",
            "aca0c5ceac0c4443a7199f959bf40537",
            "4bbe98e1629a427ab4f214f83dffcddb",
            "f38be6135ae3433ba317585b522389e4",
            "14234af1b63146db8ec7b088861694cd",
            "8779023127ef40e28acd2cad75d93cc7",
            "f4b5d5e5c6f84d828558fc3c1d1b2e9d",
            "805b70d39b61450baccd2c9f3809fc89",
            "903556347cc440388d8453951cad3792",
            "de6314f6229c4022b779325ba7288747",
            "6536d5b6fe0f4f618222786b686ceebb",
            "ec52e9996d8c4df99dca5551646e8215",
            "6d17a1a8a0e14e918aca9ed18766f14d",
            "4e9346c11caf4495b15e41e6d8b7c533",
            "b205f1848d7a46f599d30204335e008f",
            "834c90d1ad3041729559c965321341ed",
            "87a9de939a9a4112aac7292168b4be14",
            "72c70cd793164cdca338ecea785bfadf",
            "101b6b53bc61476b9a949eabaab60c1b",
            "84948139154f4a3cb6134d6c1e053578",
            "6d79712ac8b64e8f920727935a7cc50c",
            "0430de105f454b32a891e8c0d3db6fa0",
            "61898c90fddd4221a74ab1ecf6037ebf",
            "f4868d8dddad4190a0f6857cccc9e831",
            "b91e2a386fc54000ac3284245fcd5bf7",
            "792c1d2a7fc0448ab7bd925ece350bfd",
            "750fc1b23e8943ffb4c1258ab5043ed3",
            "2034a629901a4871ae4e44ec7929005c",
            "2b791712054a4e45803d1f73bf24b08a",
            "02c46dcc524840c7aa8c38ae70d265de",
            "ecd7b786577d48078e1e4794a9525d39",
            "b856176f1dfb48f8a484ea55dcb0ffee",
            "d52e8e60a03949eaae99420f351e3bd7",
            "2044d17d17204b91a6c7fa9bce5d1543",
            "86f88b58a90b4608b46c1a4fe3e1aa24",
            "8e8203425fa647d08a2c6547872a44d5"
          ]
        },
        "id": "Ff3jH7WuQPf3",
        "outputId": "c50a96fd-d264-4e1a-ae17-3c7fc050d117"
      },
      "source": [
        "tok_datasets = tokenized_datasets.map(\n",
        "    tokenize_function,\n",
        "    batched=True,\n",
        "    batch_size=1000,\n",
        "    num_proc=4,\n",
        "    load_from_cache_file=False\n",
        ")"
      ],
      "execution_count": null,
      "outputs": [
        {
          "output_type": "stream",
          "text": [
            "    "
          ],
          "name": "stdout"
        },
        {
          "output_type": "display_data",
          "data": {
            "application/vnd.jupyter.widget-view+json": {
              "model_id": "59de12381df04d5f83218d05df339bb8",
              "version_minor": 0,
              "version_major": 2
            },
            "text/plain": [
              "HBox(children=(FloatProgress(value=0.0, description=' #0', max=1.0, style=ProgressStyle(description_width='ini…"
            ]
          },
          "metadata": {
            "tags": []
          }
        },
        {
          "output_type": "stream",
          "text": [
            "Asking to truncate to max_length but no maximum length is provided and the model has no predefined maximum length. Default to no truncation.\n"
          ],
          "name": "stderr"
        },
        {
          "output_type": "display_data",
          "data": {
            "application/vnd.jupyter.widget-view+json": {
              "model_id": "72fc4c31d3514af39c71ef3f8ae4072a",
              "version_minor": 0,
              "version_major": 2
            },
            "text/plain": [
              "HBox(children=(FloatProgress(value=0.0, description=' #2', max=1.0, style=ProgressStyle(description_width='ini…"
            ]
          },
          "metadata": {
            "tags": []
          }
        },
        {
          "output_type": "display_data",
          "data": {
            "application/vnd.jupyter.widget-view+json": {
              "model_id": "d6eaf5de97eb4a51b7feeaa1872c5517",
              "version_minor": 0,
              "version_major": 2
            },
            "text/plain": [
              "HBox(children=(FloatProgress(value=0.0, description=' #1', max=1.0, style=ProgressStyle(description_width='ini…"
            ]
          },
          "metadata": {
            "tags": []
          }
        },
        {
          "output_type": "stream",
          "text": [
            "Asking to truncate to max_length but no maximum length is provided and the model has no predefined maximum length. Default to no truncation.\n",
            "Asking to truncate to max_length but no maximum length is provided and the model has no predefined maximum length. Default to no truncation.\n"
          ],
          "name": "stderr"
        },
        {
          "output_type": "display_data",
          "data": {
            "application/vnd.jupyter.widget-view+json": {
              "model_id": "2fe6e270c43f401aa74ec8e57ff4b269",
              "version_minor": 0,
              "version_major": 2
            },
            "text/plain": [
              "HBox(children=(FloatProgress(value=0.0, description=' #3', max=1.0, style=ProgressStyle(description_width='ini…"
            ]
          },
          "metadata": {
            "tags": []
          }
        },
        {
          "output_type": "stream",
          "text": [
            "Asking to truncate to max_length but no maximum length is provided and the model has no predefined maximum length. Default to no truncation.\n"
          ],
          "name": "stderr"
        },
        {
          "output_type": "stream",
          "text": [
            "\n",
            "\n",
            "\n",
            "\n",
            "    "
          ],
          "name": "stdout"
        },
        {
          "output_type": "display_data",
          "data": {
            "application/vnd.jupyter.widget-view+json": {
              "model_id": "14234af1b63146db8ec7b088861694cd",
              "version_minor": 0,
              "version_major": 2
            },
            "text/plain": [
              "HBox(children=(FloatProgress(value=0.0, description=' #0', max=1.0, style=ProgressStyle(description_width='ini…"
            ]
          },
          "metadata": {
            "tags": []
          }
        },
        {
          "output_type": "display_data",
          "data": {
            "application/vnd.jupyter.widget-view+json": {
              "model_id": "6d17a1a8a0e14e918aca9ed18766f14d",
              "version_minor": 0,
              "version_major": 2
            },
            "text/plain": [
              "HBox(children=(FloatProgress(value=0.0, description=' #1', max=1.0, style=ProgressStyle(description_width='ini…"
            ]
          },
          "metadata": {
            "tags": []
          }
        },
        {
          "output_type": "stream",
          "text": [
            "Asking to truncate to max_length but no maximum length is provided and the model has no predefined maximum length. Default to no truncation.\n",
            "Asking to truncate to max_length but no maximum length is provided and the model has no predefined maximum length. Default to no truncation.\n"
          ],
          "name": "stderr"
        },
        {
          "output_type": "display_data",
          "data": {
            "application/vnd.jupyter.widget-view+json": {
              "model_id": "6d79712ac8b64e8f920727935a7cc50c",
              "version_minor": 0,
              "version_major": 2
            },
            "text/plain": [
              "HBox(children=(FloatProgress(value=0.0, description=' #2', max=1.0, style=ProgressStyle(description_width='ini…"
            ]
          },
          "metadata": {
            "tags": []
          }
        },
        {
          "output_type": "display_data",
          "data": {
            "application/vnd.jupyter.widget-view+json": {
              "model_id": "2b791712054a4e45803d1f73bf24b08a",
              "version_minor": 0,
              "version_major": 2
            },
            "text/plain": [
              "HBox(children=(FloatProgress(value=0.0, description=' #3', max=1.0, style=ProgressStyle(description_width='ini…"
            ]
          },
          "metadata": {
            "tags": []
          }
        },
        {
          "output_type": "stream",
          "text": [
            "Asking to truncate to max_length but no maximum length is provided and the model has no predefined maximum length. Default to no truncation.\n",
            "Asking to truncate to max_length but no maximum length is provided and the model has no predefined maximum length. Default to no truncation.\n"
          ],
          "name": "stderr"
        },
        {
          "output_type": "stream",
          "text": [
            "\n",
            "\n",
            "\n",
            "\n"
          ],
          "name": "stdout"
        }
      ]
    },
    {
      "cell_type": "code",
      "metadata": {
        "id": "PJk3ys16wMBt"
      },
      "source": [
        "def group_texts(examples):\n",
        "    # Concatenate all texts.\n",
        "    #print (examples)\n",
        "    concatenated_examples = {k: sum(examples[k], []) for k in ['attention_mask','input_ids','token_type_ids']}\n",
        "    print(concatenated_examples)\n",
        "    total_length = len(concatenated_examples['attention_mask'])\n",
        "    # We drop the small remainder, we could add padding if the model supported it instead of this drop, you can\n",
        "        # customize this part to your needs.\n",
        "    total_length = (total_length // block_size) * block_size\n",
        "    # Split by chunks of max_len.\n",
        "    result = {\n",
        "        k: [t[i : i + block_size] for i in range(0, total_length, block_size)]\n",
        "        for k, t in concatenated_examples.items()\n",
        "    }\n",
        "    result[\"labels\"] = result[\"input_ids\"].copy()\n",
        "    return result"
      ],
      "execution_count": null,
      "outputs": []
    },
    {
      "cell_type": "code",
      "metadata": {
        "colab": {
          "base_uri": "https://localhost:8080/"
        },
        "id": "A4nmjaf7ofUn",
        "outputId": "dea8ba2e-e7bb-4ac5-ba0e-2b33e5c4b608"
      },
      "source": [
        "print(tok_datasets['train'][0])"
      ],
      "execution_count": null,
      "outputs": [
        {
          "output_type": "stream",
          "text": [
            "{'Unnamed: 0': 94, 'Unnamed: 0.1': 94, 'attention_mask': [1, 1, 1, 1, 1, 1, 1, 1, 1, 1, 1, 1, 1, 1, 1, 1, 1, 1, 1, 1, 1, 1, 1, 1, 1, 1, 1, 1, 1, 1, 1, 1, 1, 1, 1, 1, 1, 1, 1, 1, 1, 1, 1, 1, 1, 1, 1, 1, 1, 1, 1, 1, 1, 1, 1, 1, 1, 1, 1, 1, 1, 1, 1, 1, 1, 1, 1, 1, 1, 1, 1, 1, 1, 1, 1, 1, 1, 1, 1, 1, 1, 1, 1, 1, 1, 1, 1, 1, 1, 1, 1, 1, 1, 1, 1, 1, 1, 1, 1, 1, 1, 1, 1, 1, 1, 1, 1, 1, 1, 1, 1, 1, 1, 1, 1, 1, 1, 1, 1, 1, 1, 1, 1, 1, 1, 1, 1, 1, 1, 1, 1, 1, 1, 1, 1, 1, 1, 1, 1, 1, 1, 1, 1, 1, 1, 1, 1, 1, 1, 1, 1, 1, 1, 1, 1, 1, 1, 1, 1, 1, 1, 1, 1, 1, 1, 1, 1, 1, 1, 1, 1, 1, 1, 1, 1, 1, 1, 1, 1, 1, 1, 1, 1, 1, 1, 1, 1, 1, 1, 1, 1, 1, 1, 1, 1, 1, 1, 1, 1, 1, 1, 1, 1, 1, 1, 1, 1], 'dp': 1.0, 'input_ids': [2, 21, 6, 6, 10, 15, 6, 10, 22, 13, 16, 11, 12, 7, 11, 5, 12, 17, 12, 15, 10, 15, 15, 10, 10, 21, 8, 6, 10, 6, 9, 18, 16, 13, 7, 17, 8, 14, 9, 9, 5, 10, 12, 12, 10, 18, 12, 24, 14, 9, 21, 17, 11, 5, 6, 15, 20, 22, 16, 6, 14, 12, 14, 20, 7, 5, 21, 12, 11, 14, 9, 16, 10, 15, 16, 20, 22, 10, 21, 21, 7, 14, 14, 9, 14, 6, 23, 10, 14, 15, 9, 6, 15, 9, 6, 21, 6, 16, 14, 11, 5, 6, 13, 12, 5, 6, 6, 6, 9, 7, 5, 9, 16, 12, 20, 13, 11, 18, 9, 18, 9, 10, 10, 7, 9, 9, 14, 10, 14, 5, 10, 16, 9, 9, 13, 9, 12, 12, 13, 18, 19, 9, 21, 12, 13, 12, 5, 22, 20, 17, 9, 7, 5, 17, 11, 12, 5, 6, 13, 18, 5, 11, 10, 12, 14, 5, 22, 14, 14, 14, 9, 14, 9, 9, 21, 5, 9, 15, 6, 14, 7, 9, 10, 21, 17, 15, 9, 9, 10, 17, 18, 7, 10, 15, 16, 10, 14, 18, 18, 18, 17, 12, 5, 13, 10, 10, 3], 'seq': ' M A A S T A S H R P I K G I L K N K T S T T S S M V A S A E Q P R G N V D E E L S K K S Q K W D E M N I L A T Y H P A D K D Y G L M K I D E P S T P Y H S M M G D D E D A C S D T E A T E A M A P D I L A R K L A A A E G L E P K Y R I Q E Q E S S G E E D S D L S P E E R E K K R Q F E M K R K L H Y N E G L N I K L A R Q L I S K D L H D D D E D E E M L E T A D G E S M N T E E S N Q G S T P S D Q Q Q N K L R S S ', 'token_type_ids': [0, 0, 0, 0, 0, 0, 0, 0, 0, 0, 0, 0, 0, 0, 0, 0, 0, 0, 0, 0, 0, 0, 0, 0, 0, 0, 0, 0, 0, 0, 0, 0, 0, 0, 0, 0, 0, 0, 0, 0, 0, 0, 0, 0, 0, 0, 0, 0, 0, 0, 0, 0, 0, 0, 0, 0, 0, 0, 0, 0, 0, 0, 0, 0, 0, 0, 0, 0, 0, 0, 0, 0, 0, 0, 0, 0, 0, 0, 0, 0, 0, 0, 0, 0, 0, 0, 0, 0, 0, 0, 0, 0, 0, 0, 0, 0, 0, 0, 0, 0, 0, 0, 0, 0, 0, 0, 0, 0, 0, 0, 0, 0, 0, 0, 0, 0, 0, 0, 0, 0, 0, 0, 0, 0, 0, 0, 0, 0, 0, 0, 0, 0, 0, 0, 0, 0, 0, 0, 0, 0, 0, 0, 0, 0, 0, 0, 0, 0, 0, 0, 0, 0, 0, 0, 0, 0, 0, 0, 0, 0, 0, 0, 0, 0, 0, 0, 0, 0, 0, 0, 0, 0, 0, 0, 0, 0, 0, 0, 0, 0, 0, 0, 0, 0, 0, 0, 0, 0, 0, 0, 0, 0, 0, 0, 0, 0, 0, 0, 0, 0, 0, 0, 0, 0, 0, 0, 0]}\n"
          ],
          "name": "stdout"
        }
      ]
    },
    {
      "cell_type": "code",
      "metadata": {
        "id": "lZc7biY-wWl-"
      },
      "source": [
        "lm_datasets = tok_datasets.map(\n",
        "    group_texts,\n",
        "    batched=True,\n",
        "    batch_size=1000,\n",
        "    num_proc=4,\n",
        ")"
      ],
      "execution_count": null,
      "outputs": []
    },
    {
      "cell_type": "code",
      "metadata": {
        "id": "DgfKtPFczQ3E"
      },
      "source": [
        "lm_datasets = tokenized_datasets"
      ],
      "execution_count": null,
      "outputs": []
    },
    {
      "cell_type": "code",
      "metadata": {
        "id": "pZdSZ98sxbJi"
      },
      "source": [
        "from transformers import DataCollatorForLanguageModeling\n",
        "data_collator = DataCollatorForLanguageModeling(tokenizer=tokenizer, mlm_probability=0.15)"
      ],
      "execution_count": null,
      "outputs": []
    },
    {
      "cell_type": "code",
      "metadata": {
        "colab": {
          "base_uri": "https://localhost:8080/"
        },
        "id": "Ay0zWJ0HwffR",
        "outputId": "40fc1d10-f046-4ccd-8e5c-a5d2d50939f8"
      },
      "source": [
        "# train for 2 epochs to get the final layer warmed-up\n",
        "from transformers import Trainer, TrainingArguments\n",
        "run_dir = \"/content/model_dir\"\n",
        "warmup_dir = os.path.join(run_dir, \"warmup/\")\n",
        "warmup_model_dir = os.path.join(warmup_dir, \"warmed_up\")\n",
        "warmup_training_args = TrainingArguments(\n",
        "    evaluation_strategy=\"steps\",\n",
        "    num_train_epochs=2,\n",
        "    output_dir=warmup_dir,\n",
        "    overwrite_output_dir=True,\n",
        "    per_device_eval_batch_size=8,\n",
        "    load_best_model_at_end=True,\n",
        "    report_to=None,\n",
        ")\n"
      ],
      "execution_count": null,
      "outputs": [
        {
          "output_type": "stream",
          "text": [
            "using `logging_steps` to initialize `eval_steps` to 500\n",
            "PyTorch: setting up devices\n",
            "The default value for the training argument `--report_to` will change in v5 (from all installed integrations to none). In v5, you will need to use `--report_to all` to get the same behavior as now. You should start updating your code and make this info disappear :-).\n"
          ],
          "name": "stderr"
        }
      ]
    },
    {
      "cell_type": "code",
      "metadata": {
        "id": "255DjzE-x3pl"
      },
      "source": [
        "from transformers.trainer_callback import EarlyStoppingCallback\n",
        "\n",
        "warmup_trainer = Trainer(\n",
        "    model=model,\n",
        "    args=warmup_training_args,\n",
        "    train_dataset=tok_datasets[\"train\"],\n",
        "    eval_dataset=tok_datasets[\"validation\"],\n",
        "    data_collator=data_collator,\n",
        "    callbacks=[\n",
        "        EarlyStoppingCallback(early_stopping_patience=5)\n",
        "    ],\n",
        ")\n"
      ],
      "execution_count": null,
      "outputs": []
    },
    {
      "cell_type": "code",
      "metadata": {
        "id": "M3GPAASHye1k"
      },
      "source": [
        "warmup_trainer.train()\n",
        "warmup_trainer.save_model(warmup_model_dir)\n"
      ],
      "execution_count": null,
      "outputs": []
    },
    {
      "cell_type": "code",
      "metadata": {
        "colab": {
          "base_uri": "https://localhost:8080/",
          "height": 105
        },
        "id": "cJ0nGTMVzK-O",
        "outputId": "3510963e-da54-4aab-9662-e85f9a2da4a8"
      },
      "source": [
        "import math\n",
        "eval_results = warmup_trainer.evaluate()\n",
        "print(f\"Perplexity: {math.exp(eval_results['eval_loss']):.2f}\")"
      ],
      "execution_count": null,
      "outputs": [
        {
          "output_type": "stream",
          "text": [
            "***** Running Evaluation *****\n",
            "  Num examples = 16\n",
            "  Batch size = 8\n"
          ],
          "name": "stderr"
        },
        {
          "output_type": "display_data",
          "data": {
            "text/html": [
              "\n",
              "    <div>\n",
              "      \n",
              "      <progress value='2' max='2' style='width:300px; height:20px; vertical-align: middle;'></progress>\n",
              "      [2/2 00:00]\n",
              "    </div>\n",
              "    "
            ],
            "text/plain": [
              "<IPython.core.display.HTML object>"
            ]
          },
          "metadata": {
            "tags": []
          }
        },
        {
          "output_type": "stream",
          "text": [
            "Perplexity: 16.58\n"
          ],
          "name": "stdout"
        }
      ]
    },
    {
      "cell_type": "code",
      "metadata": {
        "colab": {
          "base_uri": "https://localhost:8080/"
        },
        "id": "sqE2U2ur0t0_",
        "outputId": "936c659f-aabd-4866-c989-ddbe0b1bce03"
      },
      "source": [
        "model = AutoModelForMaskedLM.from_pretrained(warmup_model_dir)"
      ],
      "execution_count": null,
      "outputs": [
        {
          "output_type": "stream",
          "text": [
            "loading configuration file /content/model_dir/warmup/warmed_up/config.json\n",
            "Model config RobertaConfig {\n",
            "  \"_name_or_path\": \"seyonec/ChemBERTa_zinc250k_v2_40k\",\n",
            "  \"architectures\": [\n",
            "    \"RobertaForMaskedLM\"\n",
            "  ],\n",
            "  \"attention_probs_dropout_prob\": 0.1,\n",
            "  \"bos_token_id\": 0,\n",
            "  \"eos_token_id\": 2,\n",
            "  \"gradient_checkpointing\": false,\n",
            "  \"hidden_act\": \"gelu\",\n",
            "  \"hidden_dropout_prob\": 0.1,\n",
            "  \"hidden_size\": 768,\n",
            "  \"initializer_range\": 0.02,\n",
            "  \"intermediate_size\": 3072,\n",
            "  \"layer_norm_eps\": 1e-12,\n",
            "  \"max_position_embeddings\": 514,\n",
            "  \"model_type\": \"roberta\",\n",
            "  \"num_attention_heads\": 12,\n",
            "  \"num_hidden_layers\": 6,\n",
            "  \"pad_token_id\": 1,\n",
            "  \"position_embedding_type\": \"absolute\",\n",
            "  \"torch_dtype\": \"float32\",\n",
            "  \"transformers_version\": \"4.9.1\",\n",
            "  \"type_vocab_size\": 1,\n",
            "  \"use_cache\": true,\n",
            "  \"vocab_size\": 52000\n",
            "}\n",
            "\n",
            "loading weights file /content/model_dir/warmup/warmed_up/pytorch_model.bin\n",
            "All model checkpoint weights were used when initializing RobertaForMaskedLM.\n",
            "\n",
            "All the weights of RobertaForMaskedLM were initialized from the model checkpoint at /content/model_dir/warmup/warmed_up.\n",
            "If your task is similar to the task the model of the checkpoint was trained on, you can already use RobertaForMaskedLM for predictions without further training.\n"
          ],
          "name": "stderr"
        }
      ]
    },
    {
      "cell_type": "code",
      "metadata": {
        "id": "8u4yqt2V0Xom"
      },
      "source": [
        "## Unfreeze the model \n",
        "for name, param in model.base_model.named_parameters():\n",
        "  param.requires_grad = True"
      ],
      "execution_count": null,
      "outputs": []
    },
    {
      "cell_type": "code",
      "metadata": {
        "colab": {
          "base_uri": "https://localhost:8080/"
        },
        "id": "DHziIf-G1B9D",
        "outputId": "fcef9380-76d7-4d80-accf-8bc1ce157aaa"
      },
      "source": [
        "final_training_args = TrainingArguments(\n",
        "    evaluation_strategy=\"steps\",\n",
        "    num_train_epochs=100,\n",
        "    output_dir=run_dir,\n",
        "    overwrite_output_dir=True,\n",
        "    per_device_eval_batch_size=8,\n",
        "    load_best_model_at_end=True,\n",
        "    report_to=None,\n",
        ")\n"
      ],
      "execution_count": null,
      "outputs": [
        {
          "output_type": "stream",
          "text": [
            "using `logging_steps` to initialize `eval_steps` to 500\n",
            "PyTorch: setting up devices\n",
            "The default value for the training argument `--report_to` will change in v5 (from all installed integrations to none). In v5, you will need to use `--report_to all` to get the same behavior as now. You should start updating your code and make this info disappear :-).\n"
          ],
          "name": "stderr"
        }
      ]
    },
    {
      "cell_type": "code",
      "metadata": {
        "id": "3hxJ9khQ3pcO"
      },
      "source": [
        "def final_model_init():\n",
        "  return model"
      ],
      "execution_count": null,
      "outputs": []
    },
    {
      "cell_type": "code",
      "metadata": {
        "id": "fiOXJV-21gl0"
      },
      "source": [
        "final_trainer = Trainer(\n",
        "    model_init=final_model_init,\n",
        "    args=final_training_args,\n",
        "    train_dataset=lm_datasets[\"train\"],\n",
        "    eval_dataset=lm_datasets[\"validation\"],\n",
        "    data_collator=data_collator,\n",
        "    callbacks=[\n",
        "        EarlyStoppingCallback(early_stopping_patience=5)\n",
        "    ],\n",
        ")\n"
      ],
      "execution_count": null,
      "outputs": []
    },
    {
      "cell_type": "code",
      "metadata": {
        "id": "sawO8sRx4JR5"
      },
      "source": [
        "# def custom_hp_space_optuna(trial):\n",
        "#   return {\n",
        "#       \"learning_rate\": trial.suggest_float(\"learning_rate\", 1e-7, 1e-4, log=True),\n",
        "#       # \"num_train_epochs\": trial.suggest_int(\n",
        "#       #     \"num_train_epochs\", 1, FLAGS.num_train_epochs_max\n",
        "#       # ),\n",
        "#       \"seed\": trial.suggest_int(\"seed\", 1, 40),\n",
        "#       \"per_device_train_batch_size\": trial.suggest_categorical(\n",
        "#           \"per_device_train_batch_size\", [8]\n",
        "#       ),\n",
        "#   }"
      ],
      "execution_count": null,
      "outputs": []
    },
    {
      "cell_type": "code",
      "metadata": {
        "id": "--ceGxG_2Wul"
      },
      "source": [
        "# best_trial = final_trainer.hyperparameter_search(\n",
        "#     backend=\"optuna\",\n",
        "#     direction=\"minimize\",\n",
        "#     hp_space=custom_hp_space_optuna,\n",
        "#     n_trials=5\n",
        "# )"
      ],
      "execution_count": null,
      "outputs": []
    },
    {
      "cell_type": "code",
      "metadata": {
        "colab": {
          "base_uri": "https://localhost:8080/"
        },
        "id": "E7eGNwrp4ff2",
        "outputId": "71a40cb7-3eb4-4fbe-de55-2c4d5a35a469"
      },
      "source": [
        "best_trial"
      ],
      "execution_count": null,
      "outputs": [
        {
          "output_type": "execute_result",
          "data": {
            "text/plain": [
              "BestRun(run_id='2', objective=1.336127519607544, hyperparameters={'learning_rate': 4.218795208100535e-07, 'seed': 38, 'per_device_train_batch_size': 8})"
            ]
          },
          "metadata": {
            "tags": []
          },
          "execution_count": 75
        }
      ]
    },
    {
      "cell_type": "code",
      "metadata": {
        "colab": {
          "base_uri": "https://localhost:8080/",
          "height": 330
        },
        "id": "B843Tt15102w",
        "outputId": "922fc1ae-3ebc-48a1-e6be-542a2f11f610"
      },
      "source": [
        "final_trainer.train()\n",
        "final_trainer.save_model(run_dir)"
      ],
      "execution_count": null,
      "outputs": [
        {
          "output_type": "stream",
          "text": [
            "***** Running training *****\n",
            "  Num examples = 14\n",
            "  Num Epochs = 100\n",
            "  Instantaneous batch size per device = 8\n",
            "  Total train batch size (w. parallel, distributed & accumulation) = 8\n",
            "  Gradient Accumulation steps = 1\n",
            "  Total optimization steps = 200\n"
          ],
          "name": "stderr"
        },
        {
          "output_type": "display_data",
          "data": {
            "text/html": [
              "\n",
              "    <div>\n",
              "      \n",
              "      <progress value='200' max='200' style='width:300px; height:20px; vertical-align: middle;'></progress>\n",
              "      [200/200 00:10, Epoch 100/100]\n",
              "    </div>\n",
              "    <table border=\"1\" class=\"dataframe\">\n",
              "  <thead>\n",
              "    <tr style=\"text-align: left;\">\n",
              "      <th>Step</th>\n",
              "      <th>Training Loss</th>\n",
              "      <th>Validation Loss</th>\n",
              "    </tr>\n",
              "  </thead>\n",
              "  <tbody>\n",
              "  </tbody>\n",
              "</table><p>"
            ],
            "text/plain": [
              "<IPython.core.display.HTML object>"
            ]
          },
          "metadata": {
            "tags": []
          }
        },
        {
          "output_type": "stream",
          "text": [
            "\n",
            "\n",
            "Training completed. Do not forget to share your model on huggingface.co/models =)\n",
            "\n",
            "\n",
            "Saving model checkpoint to /content/model_dir\n",
            "Configuration saved in /content/model_dir/config.json\n",
            "Model weights saved in /content/model_dir/pytorch_model.bin\n"
          ],
          "name": "stderr"
        }
      ]
    },
    {
      "cell_type": "code",
      "metadata": {
        "colab": {
          "base_uri": "https://localhost:8080/",
          "height": 105
        },
        "id": "GhnLEXO75EJs",
        "outputId": "ed927fe8-de4a-4d04-86bc-895d41a1a801"
      },
      "source": [
        "import math\n",
        "eval_results = warmup_trainer.evaluate()\n",
        "print(f\"Perplexity: {math.exp(eval_results['eval_loss']):.2f}\")"
      ],
      "execution_count": null,
      "outputs": [
        {
          "output_type": "stream",
          "text": [
            "***** Running Evaluation *****\n",
            "  Num examples = 16\n",
            "  Batch size = 8\n"
          ],
          "name": "stderr"
        },
        {
          "output_type": "display_data",
          "data": {
            "text/html": [
              "\n",
              "    <div>\n",
              "      \n",
              "      <progress value='4' max='2' style='width:300px; height:20px; vertical-align: middle;'></progress>\n",
              "      [2/2 22:07]\n",
              "    </div>\n",
              "    "
            ],
            "text/plain": [
              "<IPython.core.display.HTML object>"
            ]
          },
          "metadata": {
            "tags": []
          }
        },
        {
          "output_type": "stream",
          "text": [
            "Perplexity: 13.45\n"
          ],
          "name": "stdout"
        }
      ]
    },
    {
      "cell_type": "code",
      "metadata": {
        "id": "69MT4RAF5e0B"
      },
      "source": [
        ""
      ],
      "execution_count": null,
      "outputs": []
    }
  ]
}